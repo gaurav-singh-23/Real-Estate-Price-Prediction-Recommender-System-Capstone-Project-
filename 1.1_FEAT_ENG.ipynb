{
 "cells": [
  {
   "cell_type": "markdown",
   "metadata": {},
   "source": [
    "### I am taking help of CampusX SIR's notebook help in this. [Notebook](https://github.com/campusx-official/dsmp-capstone-project/blob/master/feature-engineering.ipynb)"
   ]
  },
  {
   "cell_type": "code",
   "execution_count": 1,
   "metadata": {},
   "outputs": [],
   "source": [
    "from ast import literal_eval\n",
    "import re\n",
    "\n",
    "import pandas as pd\n",
    "import numpy as np\n",
    "from matplotlib import pyplot as plt\n",
    "\n",
    "from sklearn.cluster import KMeans\n",
    "from sklearn.preprocessing import StandardScaler"
   ]
  },
  {
   "cell_type": "code",
   "execution_count": 2,
   "metadata": {},
   "outputs": [],
   "source": [
    "pd.set_option('display.max_colwidth', 100)"
   ]
  },
  {
   "cell_type": "code",
   "execution_count": 3,
   "metadata": {},
   "outputs": [
    {
     "name": "stdout",
     "output_type": "stream",
     "text": [
      "(2785, 28)\n"
     ]
    }
   ],
   "source": [
    "df = pd.read_csv('data/processed/flats.csv')\n",
    "print(df.shape)"
   ]
  },
  {
   "cell_type": "code",
   "execution_count": 4,
   "metadata": {},
   "outputs": [
    {
     "name": "stdout",
     "output_type": "stream",
     "text": [
      "<class 'pandas.core.frame.DataFrame'>\n",
      "RangeIndex: 2785 entries, 0 to 2784\n",
      "Data columns (total 28 columns):\n",
      " #   Column           Non-Null Count  Dtype  \n",
      "---  ------           --------------  -----  \n",
      " 0   property_name    2785 non-null   object \n",
      " 1   link             2785 non-null   object \n",
      " 2   society          2785 non-null   object \n",
      " 3   price            2785 non-null   float64\n",
      " 4   area             2785 non-null   object \n",
      " 5   areaWithType     2785 non-null   object \n",
      " 6   bedRoom          2785 non-null   int64  \n",
      " 7   bathroom         2785 non-null   int64  \n",
      " 8   balcony          2785 non-null   int64  \n",
      " 9   additionalRoom   2785 non-null   object \n",
      " 10  address          2782 non-null   object \n",
      " 11  facing           2037 non-null   object \n",
      " 12  agePossession    2784 non-null   object \n",
      " 13  nearbyLocations  2785 non-null   object \n",
      " 14  description      2785 non-null   object \n",
      " 15  furnishDetails   2785 non-null   object \n",
      " 16  features         2785 non-null   object \n",
      " 17  property_id      2785 non-null   object \n",
      " 18  nthFloor         2784 non-null   float64\n",
      " 19  totalFloor       2784 non-null   float64\n",
      " 20  Transportation   2785 non-null   int64  \n",
      " 21  Education        2785 non-null   int64  \n",
      " 22  Healthcare       2785 non-null   int64  \n",
      " 23  Shopping         2785 non-null   int64  \n",
      " 24  Dining           2785 non-null   int64  \n",
      " 25  Accommodation    2785 non-null   int64  \n",
      " 26  Entertainment    2785 non-null   int64  \n",
      " 27  Service          2785 non-null   int64  \n",
      "dtypes: float64(3), int64(11), object(14)\n",
      "memory usage: 609.3+ KB\n"
     ]
    }
   ],
   "source": [
    "df.info()"
   ]
  },
  {
   "cell_type": "code",
   "execution_count": 5,
   "metadata": {},
   "outputs": [
    {
     "data": {
      "text/plain": [
       "property_name        0\n",
       "link                 0\n",
       "society              0\n",
       "price                0\n",
       "area                 0\n",
       "areaWithType         0\n",
       "bedRoom              0\n",
       "bathroom             0\n",
       "balcony              0\n",
       "additionalRoom       0\n",
       "address              3\n",
       "facing             748\n",
       "agePossession        1\n",
       "nearbyLocations      0\n",
       "description          0\n",
       "furnishDetails       0\n",
       "features             0\n",
       "property_id          0\n",
       "nthFloor             1\n",
       "totalFloor           1\n",
       "Transportation       0\n",
       "Education            0\n",
       "Healthcare           0\n",
       "Shopping             0\n",
       "Dining               0\n",
       "Accommodation        0\n",
       "Entertainment        0\n",
       "Service              0\n",
       "dtype: int64"
      ]
     },
     "execution_count": 5,
     "metadata": {},
     "output_type": "execute_result"
    }
   ],
   "source": [
    "df.isnull().sum()"
   ]
  },
  {
   "cell_type": "markdown",
   "metadata": {},
   "source": [
    "## society `>>` sector"
   ]
  },
  {
   "cell_type": "markdown",
   "metadata": {},
   "source": [
    "1. Extract sector number from this column.\n",
    "2. There are many properties which are **not labeled with sector number**. So I need to hard code it."
   ]
  },
  {
   "cell_type": "code",
   "execution_count": 6,
   "metadata": {},
   "outputs": [],
   "source": [
    "# Sir's method of extracting sectors\n",
    "\n",
    "df['sector_by_sir'] = (\n",
    "    df['address']\n",
    "    .str.split(',')\n",
    "    .str.get(0)\n",
    "    .str.replace(r'sector.*', '', regex=True)\n",
    "    .str.strip()\n",
    "    .apply(lambda x: x if x else np.nan)\n",
    ")"
   ]
  },
  {
   "cell_type": "code",
   "execution_count": 7,
   "metadata": {},
   "outputs": [
    {
     "data": {
      "text/plain": [
       "707"
      ]
     },
     "execution_count": 7,
     "metadata": {},
     "output_type": "execute_result"
    }
   ],
   "source": [
    "df['sector_by_sir'].nunique()"
   ]
  },
  {
   "cell_type": "code",
   "execution_count": 8,
   "metadata": {},
   "outputs": [
    {
     "data": {
      "text/plain": [
       "array(['krishna colony', '46b', 'sohna', nan, 'dwarka expressway gurgaon',\n",
       "       'h 23', 'flat no. :- 301', 'senate court', 'g04', 'godrej habitat',\n",
       "       'new palam vihar', 'tower a-4', 't 3', '101', 'c 488', '609',\n",
       "       'flat no 201', 'tower 5', 'dlf phase 4', 'a253', 'plot no. 833',\n",
       "       '1422 bahadurgarh', 'h1202', 'tower 6', '802/b5', '#1101', 'near',\n",
       "       '3bhk', 'laxman vihar', 'f 150/b', 'godrej oasis', '401',\n",
       "       'emaar palm premier', 'tower 2 floor 4th', '4302', '621/622',\n",
       "       'tower 18', 's-68/3', 'sushant lok phase 1', 'tower - k',\n",
       "       'bhagwati sadan', 'n54c', 'sohna road', 'ashok vihar phase 2',\n",
       "       'rajiv colony', 'garauli kalan', 'bhawani enclave', 'j002',\n",
       "       'iffco chowk', 'b33', '1057', 'b1101', 'tower a', '104', '604',\n",
       "       'a5-3102', 'gwal pahari', 'plot 833 flat 202',\n",
       "       'central park flower valley', 'malibu town',\n",
       "       'golf course extension road', 'chakkarpur', 'tower 6 402',\n",
       "       's-70/1', 'flat no. c-014', 'flat no. 002', 'block b', 'pc02',\n",
       "       'mid floor', 'south city 1 floors', '102',\n",
       "       'near royal public school', 'tower -3', 'gurgaon', '302', '202',\n",
       "       '144', 'tower15 flat no 302', '2nd floor',\n",
       "       '35/2690 ashok vihar phase 2'], dtype=object)"
      ]
     },
     "execution_count": 8,
     "metadata": {},
     "output_type": "execute_result"
    }
   ],
   "source": [
    "df['sector_by_sir'].unique()[:80]"
   ]
  },
  {
   "cell_type": "code",
   "execution_count": 9,
   "metadata": {},
   "outputs": [
    {
     "data": {
      "text/plain": [
       "1375"
      ]
     },
     "execution_count": 9,
     "metadata": {},
     "output_type": "execute_result"
    }
   ],
   "source": [
    "df['sector_by_sir'].isnull().sum()"
   ]
  },
  {
   "cell_type": "code",
   "execution_count": 10,
   "metadata": {},
   "outputs": [],
   "source": [
    "def zfill_(match: re.Match[str]):\n",
    "    return match.group(1).zfill(3)"
   ]
  },
  {
   "cell_type": "code",
   "execution_count": 11,
   "metadata": {},
   "outputs": [],
   "source": [
    "# My method of extracting sectors\n",
    "\n",
    "df['sector_by_me'] = (\n",
    "    df['address']\n",
    "    .astype(str)\n",
    "    .add(' ')\n",
    "    .add(df['property_name'])\n",
    "    .add(' ')\n",
    "    .add(df['description'].str.lower().astype(str))\n",
    "    .str.lower()\n",
    "    .str.replace(r'\\W+', ' ', regex=True)\n",
    "    .str.extract(r'(sector \\d+\\w?)')[0]\n",
    ")"
   ]
  },
  {
   "cell_type": "code",
   "execution_count": 12,
   "metadata": {},
   "outputs": [
    {
     "data": {
      "text/plain": [
       "99"
      ]
     },
     "execution_count": 12,
     "metadata": {},
     "output_type": "execute_result"
    }
   ],
   "source": [
    "df['sector_by_me'].nunique()"
   ]
  },
  {
   "cell_type": "code",
   "execution_count": 13,
   "metadata": {},
   "outputs": [
    {
     "data": {
      "text/plain": [
       "(309,)"
      ]
     },
     "execution_count": 13,
     "metadata": {},
     "output_type": "execute_result"
    }
   ],
   "source": [
    "df[\n",
    "    df['address']\n",
    "    .astype(str)\n",
    "    .add(' ')\n",
    "    .add(df['description'].str.lower().astype(str))\n",
    "    .str.contains('sector')\n",
    "    == False\n",
    "]['address'].shape"
   ]
  },
  {
   "cell_type": "code",
   "execution_count": 14,
   "metadata": {},
   "outputs": [
    {
     "data": {
      "text/plain": [
       "array([nan, 'sector 61', 'sector 92', 'sector 36', 'sector 104',\n",
       "       'sector 88b', 'sector 78', 'sector 81', 'sector 79', 'sector 33',\n",
       "       'sector 90', 'sector 108', 'sector 62', 'sector 102', 'sector 89',\n",
       "       'sector 113', 'sector 65', 'sector 48', 'sector 37c', 'sector 3',\n",
       "       'sector 43', 'sector 88a', 'sector 68', 'sector 109', 'sector 106',\n",
       "       'sector 82', 'sector 85', 'sector 82a', 'sector 10a', 'sector 1a',\n",
       "       'sector 4', 'sector 84', 'sector 71', 'sector 7', 'sector 77',\n",
       "       'sector 37d', 'sector 67a', 'sector 57', 'sector 95', 'sector 99a',\n",
       "       'sector 103', 'sector 49', 'sector 30', 'sector 86', 'sector 66',\n",
       "       'sector 15', 'sector 93', 'sector 22', 'sector 63a', 'sector 95a',\n",
       "       'sector 52', 'sector 67', 'sector 107', 'sector 12a', 'sector 2',\n",
       "       'sector 99', 'sector 91', 'sector 1', 'sector 70', 'sector 70a',\n",
       "       'sector 54', 'sector 111', 'sector 41', 'sector 12', 'sector 73',\n",
       "       'sector 56', 'sector 83', 'sector 53', 'sector 72', 'sector 69',\n",
       "       'sector 47', 'sector 63', 'sector 110', 'sector 11', 'sector 9a',\n",
       "       'sector 28', 'sector 14', 'sector 5', 'sector 59', 'sector 38',\n",
       "       'sector 112', 'sector 45', 'sector 74', 'sector 60', 'sector 51',\n",
       "       'sector 50', 'sector 39', 'sector 58', 'sector 80', 'sector 55',\n",
       "       'sector 23a', 'sector 36a', 'sector 76', 'sector 31', 'sector 6',\n",
       "       'sector 32', 'sector 37a', 'sector 21', 'sector 02', 'sector 24'],\n",
       "      dtype=object)"
      ]
     },
     "execution_count": 14,
     "metadata": {},
     "output_type": "execute_result"
    }
   ],
   "source": [
    "df['sector_by_me'].unique()"
   ]
  },
  {
   "cell_type": "code",
   "execution_count": 15,
   "metadata": {},
   "outputs": [
    {
     "data": {
      "text/plain": [
       "310"
      ]
     },
     "execution_count": 15,
     "metadata": {},
     "output_type": "execute_result"
    }
   ],
   "source": [
    "df['sector_by_me'].isnull().sum()"
   ]
  },
  {
   "cell_type": "code",
   "execution_count": 16,
   "metadata": {},
   "outputs": [],
   "source": [
    "# Merge sector_by_sir and sector_by_me columns and then do the extra works\n",
    "\n",
    "df['sector'] = (\n",
    "    df['sector_by_me']\n",
    "    .fillna('')\n",
    "    .add(' ')\n",
    "    .add(df['sector_by_sir'].fillna(''))\n",
    "    .str.replace(r'(sector \\d+\\w?)( .*)', r'\\1', regex=True)\n",
    "    .str.strip()\n",
    "    .apply(lambda x: x if x else np.nan)\n",
    ")"
   ]
  },
  {
   "cell_type": "code",
   "execution_count": 17,
   "metadata": {},
   "outputs": [
    {
     "data": {
      "text/plain": [
       "0"
      ]
     },
     "execution_count": 17,
     "metadata": {},
     "output_type": "execute_result"
    }
   ],
   "source": [
    "df['sector'].isnull().sum()"
   ]
  },
  {
   "cell_type": "code",
   "execution_count": 18,
   "metadata": {},
   "outputs": [
    {
     "data": {
      "text/plain": [
       "235"
      ]
     },
     "execution_count": 18,
     "metadata": {},
     "output_type": "execute_result"
    }
   ],
   "source": [
    "df['sector'].nunique()"
   ]
  },
  {
   "cell_type": "code",
   "execution_count": 19,
   "metadata": {},
   "outputs": [
    {
     "data": {
      "text/plain": [
       "array(['krishna colony', '46b', 'sohna', 'sector 61', 'sector 92',\n",
       "       'sector 36', 'dwarka expressway gurgaon', 'sector 104',\n",
       "       'sector 88b', 'sector 78', 'sector 81', 'sector 79', 'sector 33',\n",
       "       'sector 90', 'sector 108', 'sector 62', 'sector 102', 'sector 89',\n",
       "       'sector 113', 'sector 65', 'sector 48', 'sector 37c', 'sector 3',\n",
       "       'new palam vihar', 'sector 43', 'sector 88a', 'sector 68',\n",
       "       'sector 109', 't 3', 'sector 106', 'sector 82', 'flat no 201',\n",
       "       'sector 85', 'sector 82a', 'dlf phase 4', 'a253', 'sector 10a',\n",
       "       'sector 1a', 'sector 4', 'sector 84', 'sector 71', 'sector 7',\n",
       "       'h1202', 'sector 77', 'sector 37d', 'sector 67a', 'sector 57',\n",
       "       'sector 95', 'sector 99a', 'sector 103', 'sector 49', 'sector 30',\n",
       "       'sector 86', 'sector 66', 'sector 15', 'laxman vihar', 'f 150/b',\n",
       "       'sector 93', 'sector 22', 'sector 63a', 'sector 95a', '621/622',\n",
       "       'tower 18', 'sector 52', 'sector 67', 'sushant lok phase 1',\n",
       "       'sector 107', 'sector 12a', 'sohna road', 'ashok vihar phase 2',\n",
       "       'rajiv colony', 'sector 2', 'garauli kalan', 'bhawani enclave',\n",
       "       'sector 99', 'iffco chowk', '1057', 'sector 91', 'sector 1',\n",
       "       'sector 70'], dtype=object)"
      ]
     },
     "execution_count": 19,
     "metadata": {},
     "output_type": "execute_result"
    }
   ],
   "source": [
    "df['sector'].unique()[:80]"
   ]
  },
  {
   "cell_type": "code",
   "execution_count": 20,
   "metadata": {},
   "outputs": [],
   "source": [
    "extra_sectors_naming = {\n",
    "    '46b': 'sector 46b',\n",
    "    'dharam colony': 'sector 12',\n",
    "    'krishna colony': 'sector 7',\n",
    "    'suncity': 'sector 54',\n",
    "    'prem nagar': 'sector 13',\n",
    "    'mg road': 'sector 28',\n",
    "    'gandhi nagar': 'sector 28',\n",
    "    'laxmi garden': 'sector 11',\n",
    "    'shakti nagar': 'sector 11',\n",
    "    'baldev nagar': 'sector 7',\n",
    "    'shivpuri': 'sector 7',\n",
    "    'garhi harsaru': 'sector 17',\n",
    "    'imt manesar': 'sector 4',\n",
    "    'adarsh nagar': 'sector 12',\n",
    "    'shivaji nagar': 'sector 11',\n",
    "    'bhim nagar': 'sector 6',\n",
    "    'madanpuri': 'sector 7',\n",
    "    'saraswati vihar': 'sector 28',\n",
    "    'arjun nagar': 'sector 8',\n",
    "    'ravi nagar': 'sector 9',\n",
    "    'vishnu garden': 'sector 105',\n",
    "    'bhondsi': 'sector 11',\n",
    "    'surya vihar': 'sector 21',\n",
    "    'devilal colony': 'sector 9',\n",
    "    'valley view estate': 'sector 54',\n",
    "    'mehrauli  road': 'sector 14',\n",
    "    'jyoti park': 'sector 7',\n",
    "    'ansal plaza': 'sector 23',\n",
    "    'dayanand colony': 'sector 6',\n",
    "    'sushant lok phase 2': 'sector 55',\n",
    "    'chakkarpur': 'sector 28',\n",
    "    'greenwood city': 'sector 45',\n",
    "    'subhash nagar': 'sector 12',\n",
    "    'malibu town': 'sector 47',\n",
    "    'surat nagar 1': 'sector 104',\n",
    "    'mianwali colony': 'sector 12',\n",
    "    'jacobpura': 'sector 12',\n",
    "    'rajiv nagar': 'sector 13',\n",
    "    'rajiv colony': 'sector 33',\n",
    "    'ashok vihar': 'sector 3',\n",
    "    'dlf phase 1': 'sector 26',\n",
    "    'metro station': 'sector 26',\n",
    "    'nirvana country': 'sector 50',\n",
    "    'new palam vihar': 'sector 110',\n",
    "    'palam vihar': 'sector 2',\n",
    "    'dlf phase 2': 'sector 25',\n",
    "    'sushant lok phase 1': 'sector 43',\n",
    "    'laxman vihar': 'sector 4',\n",
    "    'dlf phase 4': 'sector 28',\n",
    "    'dlf phase 3': 'sector 24',\n",
    "    'sushant lok phase 3': 'sector 57',\n",
    "    'dlf phase 5': 'sector 43',\n",
    "    'rajendra park': 'sector 105',\n",
    "    'uppals southend': 'sector 49',\n",
    "    'sohna': 'sector 33',\n",
    "    'ashok vihar phase 3 extension': 'sector 5',\n",
    "    'south city 1': 'sector 41',\n",
    "    'ashok vihar phase 2': 'sector 5',\n",
    "    \"garauli kalan\": 'sector 45',\n",
    "    \"bhawani enclave\": 'sector 56',\n",
    "    \"iffco chowk\": 'sector 29',\n",
    "    'sai kunj': 'sector 110a',\n",
    "    'manesar': 'sector 4',\n",
    "    'shankar vihar': 'sector 104',\n",
    "    'patel nagar': 'sector 15',\n",
    "    'dwarka expressway': 'sector 88a',\n",
    "    'gwal pahari': 'sector 2',\n",
    "    'paras quartier': 'sector 29',\n",
    "    'ambience island': 'sector 24',\n",
    "    'lajpat nagar': 'sector 29',\n",
    "    'mehrauli': 'sector 29',\n",
    "    'central park flower valley': 'sector 32',\n",
    "}"
   ]
  },
  {
   "cell_type": "code",
   "execution_count": 21,
   "metadata": {},
   "outputs": [],
   "source": [
    "def handle_sector(x: str) -> str | float:\n",
    "    if isinstance(x, float):\n",
    "        return np.nan\n",
    "\n",
    "    for k, v in extra_sectors_naming.items():\n",
    "        if k in x:\n",
    "            return v\n",
    "    else:\n",
    "        return x"
   ]
  },
  {
   "cell_type": "code",
   "execution_count": 22,
   "metadata": {},
   "outputs": [],
   "source": [
    "df['sector'] = df['sector'].apply(handle_sector).str.replace(r'(\\d+)', zfill_, regex=True)"
   ]
  },
  {
   "cell_type": "code",
   "execution_count": 23,
   "metadata": {},
   "outputs": [
    {
     "data": {
      "text/plain": [
       "array(['sector 007', 'sector 046b', 'sector 033', 'sector 061',\n",
       "       'sector 092', 'sector 036', 'sector 088a', 'sector 104',\n",
       "       'sector 088b', 'sector 078', 'sector 081', 'sector 079',\n",
       "       'sector 090', 'sector 108', 'sector 062', 'sector 102',\n",
       "       'sector 089', 'sector 113', 'sector 065', 'sector 048',\n",
       "       'sector 037c', 'sector 003', 'sector 110', 'sector 043',\n",
       "       'sector 068', 'sector 109', 't 003', 'sector 106', 'sector 082',\n",
       "       'flat no 201', 'sector 085', 'sector 082a', 'sector 028', 'a253',\n",
       "       'sector 010a', 'sector 001a', 'sector 004', 'sector 084',\n",
       "       'sector 071', 'h1202', 'sector 077', 'sector 037d', 'sector 067a',\n",
       "       'sector 057', 'sector 095', 'sector 099a', 'sector 103',\n",
       "       'sector 049', 'sector 030', 'sector 086', 'sector 066',\n",
       "       'sector 015', 'f 150/b', 'sector 093', 'sector 022', 'sector 063a',\n",
       "       'sector 095a', '621/622', 'tower 018', 'sector 052', 'sector 067',\n",
       "       'sector 107', 'sector 012a', 'sector 002', 'sector 045',\n",
       "       'sector 056', 'sector 099', 'sector 029', '1057', 'sector 091',\n",
       "       'sector 001', 'sector 070', 'sector 070a', 'sector 032',\n",
       "       'sector 047', 'golf course extension road', 'sector 054',\n",
       "       'sector 111', 'sector 041', 'sector 012', 'sector 073', '202',\n",
       "       'sector 083', 'sector 053', 'sector 072', 'sector 069',\n",
       "       'sector 063', 'gurgaon. 122001', 'sector 011', 'j-026',\n",
       "       'sector 009a', 'sector 014', 'sector 050', 'sector 025',\n",
       "       'sector 005', 'sector 059', 'park view residency', '164',\n",
       "       't008-003', 'heritage city', 'sector 038', '1234', '194',\n",
       "       'sector 024', 'sector 112', 'sector 074', 'sector 060',\n",
       "       'sector 051', '008', '016floor', 'h tower', 'sector 026', '254',\n",
       "       'sector 039', 'sector 110a', 'dlf the icon', 'sector 058', '1902',\n",
       "       '501', 'p-405', 'pc-1403', 'middle floor', 'lower floor', '0001',\n",
       "       'd014/010', '801', '002', 'the icon', '603', '602', '1402', '1501',\n",
       "       'tower q', '008/009', '004th', 'tower 003-601', 'sector 080',\n",
       "       '000', '001', 'sector 055', 'sultanpur', '1002', 'higher floor',\n",
       "       '221', '101', '111', 'sector 023a', 'sector 036a',\n",
       "       'p010 003rd floor', '003rd floor', 'a004 101', 'sector 076',\n",
       "       'sector 031', '047', 'new gurgaon', 'dlf city phase 005', 'k 308',\n",
       "       't-003 1002', 'sector 006', 'm003 fourth floor',\n",
       "       'penthouse no. 209-a', 'sector 021', 'near pataudi chowk', 'm018',\n",
       "       'u 027/007', 'new colony', '0002', 'ats marigold',\n",
       "       'flat t002 -1801', 'flat no 007', '145/012', '1204', 'sector 037a',\n",
       "       'o-008', '605', '606', 'm914', '4719 c', '405', 'g-004',\n",
       "       'sushant lok', '012a004', 'faridabad gurgaon road', '1803',\n",
       "       'eden landmark', '106', '1905', 'm g road', '2690/030', '092',\n",
       "       'golf course ext road', '010/1204', 'f block', '502', 'tower 008',\n",
       "       'flat 002', 't011-301', 'tower 014'], dtype=object)"
      ]
     },
     "execution_count": 23,
     "metadata": {},
     "output_type": "execute_result"
    }
   ],
   "source": [
    "df['sector'].unique()"
   ]
  },
  {
   "cell_type": "code",
   "execution_count": 24,
   "metadata": {},
   "outputs": [
    {
     "data": {
      "text/plain": [
       "128"
      ]
     },
     "execution_count": 24,
     "metadata": {},
     "output_type": "execute_result"
    }
   ],
   "source": [
    "drop_rows = df[(df['sector'].str.contains('sector') == False)].index\n",
    "len(drop_rows)"
   ]
  },
  {
   "cell_type": "code",
   "execution_count": 25,
   "metadata": {},
   "outputs": [
    {
     "data": {
      "text/plain": [
       "2294                          m914\n",
       "1365                           000\n",
       "1104                         004th\n",
       "1445                          0001\n",
       "198     golf course extension road\n",
       "1451                           001\n",
       "374                       t008-003\n",
       "2609                      2690/030\n",
       "2620                           092\n",
       "2745                      flat 002\n",
       "2524                      010/1204\n",
       "2210               flat t002 -1801\n",
       "2594                      m g road\n",
       "2343                       012a004\n",
       "297                          j-026\n",
       "Name: sector, dtype: object"
      ]
     },
     "execution_count": 25,
     "metadata": {},
     "output_type": "execute_result"
    }
   ],
   "source": [
    "df.loc[drop_rows, 'sector'].sample(15)"
   ]
  },
  {
   "cell_type": "code",
   "execution_count": 26,
   "metadata": {},
   "outputs": [
    {
     "data": {
      "text/plain": [
       "(2657, 31)"
      ]
     },
     "execution_count": 26,
     "metadata": {},
     "output_type": "execute_result"
    }
   ],
   "source": [
    "# I am going to drop the extra rows which are not labeled with sector number\n",
    "df.drop(index=drop_rows, inplace=True)\n",
    "df.shape"
   ]
  },
  {
   "cell_type": "markdown",
   "metadata": {},
   "source": [
    "## area"
   ]
  },
  {
   "cell_type": "code",
   "execution_count": 27,
   "metadata": {},
   "outputs": [
    {
     "data": {
      "text/plain": [
       "2350    ₹ 26,875/sq.ft.\n",
       "2324     ₹ 8,432/sq.ft.\n",
       "813     ₹ 10,489/sq.ft.\n",
       "617      ₹ 6,580/sq.ft.\n",
       "2444     ₹ 9,615/sq.ft.\n",
       "438      ₹ 6,921/sq.ft.\n",
       "1139     ₹ 8,445/sq.ft.\n",
       "Name: area, dtype: object"
      ]
     },
     "execution_count": 27,
     "metadata": {},
     "output_type": "execute_result"
    }
   ],
   "source": [
    "df['area'].sample(7)"
   ]
  },
  {
   "cell_type": "code",
   "execution_count": 28,
   "metadata": {},
   "outputs": [
    {
     "data": {
      "text/plain": [
       "Series([], Name: area, dtype: object)"
      ]
     },
     "execution_count": 28,
     "metadata": {},
     "output_type": "execute_result"
    }
   ],
   "source": [
    "df['area'][df['area'].str.contains('sq.ft.') == False]"
   ]
  },
  {
   "cell_type": "code",
   "execution_count": 29,
   "metadata": {},
   "outputs": [],
   "source": [
    "df['area'] = df['area'].str.replace(',', '').str.extract(r'(\\d+)/sq.ft.').astype('float')"
   ]
  },
  {
   "cell_type": "code",
   "execution_count": 30,
   "metadata": {},
   "outputs": [
    {
     "data": {
      "text/plain": [
       "0"
      ]
     },
     "execution_count": 30,
     "metadata": {},
     "output_type": "execute_result"
    }
   ],
   "source": [
    "df['area'].isnull().sum()"
   ]
  },
  {
   "cell_type": "code",
   "execution_count": 31,
   "metadata": {},
   "outputs": [],
   "source": [
    "df['price_per_sqft'] = df['price'].mul(1_00_000).div(df['area']).astype('int')"
   ]
  },
  {
   "cell_type": "markdown",
   "metadata": {},
   "source": [
    "## areaWithType"
   ]
  },
  {
   "cell_type": "code",
   "execution_count": 32,
   "metadata": {},
   "outputs": [
    {
     "data": {
      "text/plain": [
       "1131    Super Built up area 1970(183.02 sq.m.)\n",
       "2492          Carpet area: 1350 (125.42 sq.m.)\n",
       "870     Super Built up area 1717(159.51 sq.m.)\n",
       "714      Super Built up area 2072(192.5 sq.m.)\n",
       "442         Built Up area: 1650 (153.29 sq.m.)\n",
       "Name: areaWithType, dtype: object"
      ]
     },
     "execution_count": 32,
     "metadata": {},
     "output_type": "execute_result"
    }
   ],
   "source": [
    "df['areaWithType'].sample(5)"
   ]
  },
  {
   "cell_type": "code",
   "execution_count": 33,
   "metadata": {},
   "outputs": [
    {
     "name": "stdout",
     "output_type": "stream",
     "text": [
      "Super Built up area - 1751\n",
      "Built up area - 850\n",
      "Carpet area - 1619\n"
     ]
    }
   ],
   "source": [
    "print(\n",
    "    'Super Built up area -',\n",
    "    df[df['areaWithType'].str.contains('Super Built up area')].shape[0],\n",
    ")\n",
    "print(\n",
    "    'Built up area -',\n",
    "    df[df['areaWithType'].str.contains('Built Up area')].shape[0],\n",
    ")\n",
    "print('Carpet area -', df[df['areaWithType'].str.contains('Carpet area')].shape[0])"
   ]
  },
  {
   "cell_type": "code",
   "execution_count": 34,
   "metadata": {},
   "outputs": [],
   "source": [
    "df['built_up_area'] = df['areaWithType'].str.extract(r'Built Up area: (\\d+.?\\d+?)').astype(float)\n",
    "df['carpet_area'] = df['areaWithType'].str.extract(r'Carpet area: (\\d+.?\\d+?)').astype(float)\n",
    "df['super_built_up_area'] = (\n",
    "    df['areaWithType'].str.replace('(', ' ').str.extract(r'Super Built up area (\\d+)').astype(float)\n",
    ")"
   ]
  },
  {
   "cell_type": "code",
   "execution_count": 35,
   "metadata": {},
   "outputs": [
    {
     "data": {
      "text/html": [
       "<div>\n",
       "<style scoped>\n",
       "    .dataframe tbody tr th:only-of-type {\n",
       "        vertical-align: middle;\n",
       "    }\n",
       "\n",
       "    .dataframe tbody tr th {\n",
       "        vertical-align: top;\n",
       "    }\n",
       "\n",
       "    .dataframe thead th {\n",
       "        text-align: right;\n",
       "    }\n",
       "</style>\n",
       "<table border=\"1\" class=\"dataframe\">\n",
       "  <thead>\n",
       "    <tr style=\"text-align: right;\">\n",
       "      <th></th>\n",
       "      <th>area</th>\n",
       "      <th>super_built_up_area</th>\n",
       "      <th>built_up_area</th>\n",
       "      <th>carpet_area</th>\n",
       "    </tr>\n",
       "  </thead>\n",
       "  <tbody>\n",
       "    <tr>\n",
       "      <th>922</th>\n",
       "      <td>8818.0</td>\n",
       "      <td>1385.0</td>\n",
       "      <td>1200.0</td>\n",
       "      <td>1100.0</td>\n",
       "    </tr>\n",
       "    <tr>\n",
       "      <th>2679</th>\n",
       "      <td>7097.0</td>\n",
       "      <td>2325.0</td>\n",
       "      <td>NaN</td>\n",
       "      <td>NaN</td>\n",
       "    </tr>\n",
       "    <tr>\n",
       "      <th>2473</th>\n",
       "      <td>8290.0</td>\n",
       "      <td>NaN</td>\n",
       "      <td>NaN</td>\n",
       "      <td>361.8</td>\n",
       "    </tr>\n",
       "    <tr>\n",
       "      <th>854</th>\n",
       "      <td>10799.0</td>\n",
       "      <td>1852.0</td>\n",
       "      <td>NaN</td>\n",
       "      <td>NaN</td>\n",
       "    </tr>\n",
       "    <tr>\n",
       "      <th>46</th>\n",
       "      <td>10005.0</td>\n",
       "      <td>NaN</td>\n",
       "      <td>NaN</td>\n",
       "      <td>1829.0</td>\n",
       "    </tr>\n",
       "    <tr>\n",
       "      <th>2746</th>\n",
       "      <td>8571.0</td>\n",
       "      <td>NaN</td>\n",
       "      <td>3150.0</td>\n",
       "      <td>NaN</td>\n",
       "    </tr>\n",
       "    <tr>\n",
       "      <th>1271</th>\n",
       "      <td>16858.0</td>\n",
       "      <td>2343.0</td>\n",
       "      <td>NaN</td>\n",
       "      <td>1512.0</td>\n",
       "    </tr>\n",
       "    <tr>\n",
       "      <th>1055</th>\n",
       "      <td>12802.0</td>\n",
       "      <td>NaN</td>\n",
       "      <td>NaN</td>\n",
       "      <td>2109.0</td>\n",
       "    </tr>\n",
       "    <tr>\n",
       "      <th>1352</th>\n",
       "      <td>11333.0</td>\n",
       "      <td>1942.0</td>\n",
       "      <td>1700.0</td>\n",
       "      <td>1500.0</td>\n",
       "    </tr>\n",
       "    <tr>\n",
       "      <th>2500</th>\n",
       "      <td>7302.0</td>\n",
       "      <td>NaN</td>\n",
       "      <td>NaN</td>\n",
       "      <td>301.2</td>\n",
       "    </tr>\n",
       "  </tbody>\n",
       "</table>\n",
       "</div>"
      ],
      "text/plain": [
       "         area  super_built_up_area  built_up_area  carpet_area\n",
       "922    8818.0               1385.0         1200.0       1100.0\n",
       "2679   7097.0               2325.0            NaN          NaN\n",
       "2473   8290.0                  NaN            NaN        361.8\n",
       "854   10799.0               1852.0            NaN          NaN\n",
       "46    10005.0                  NaN            NaN       1829.0\n",
       "2746   8571.0                  NaN         3150.0          NaN\n",
       "1271  16858.0               2343.0            NaN       1512.0\n",
       "1055  12802.0                  NaN            NaN       2109.0\n",
       "1352  11333.0               1942.0         1700.0       1500.0\n",
       "2500   7302.0                  NaN            NaN        301.2"
      ]
     },
     "execution_count": 35,
     "metadata": {},
     "output_type": "execute_result"
    }
   ],
   "source": [
    "df[['area', 'super_built_up_area', 'built_up_area', 'carpet_area']].sample(10)"
   ]
  },
  {
   "cell_type": "markdown",
   "metadata": {},
   "source": [
    "## additionalRoom"
   ]
  },
  {
   "cell_type": "code",
   "execution_count": 36,
   "metadata": {},
   "outputs": [],
   "source": [
    "df['additionalRoom'] = df['additionalRoom'].str.lower()"
   ]
  },
  {
   "cell_type": "code",
   "execution_count": 37,
   "metadata": {},
   "outputs": [],
   "source": [
    "additionalRooms = ['study room', 'servant room', 'store room', 'pooja room', 'others']\n",
    "\n",
    "for col in additionalRooms:\n",
    "    df[col] = df['additionalRoom'].str.contains(col).astype(int)"
   ]
  },
  {
   "cell_type": "code",
   "execution_count": 38,
   "metadata": {},
   "outputs": [
    {
     "data": {
      "text/html": [
       "<div>\n",
       "<style scoped>\n",
       "    .dataframe tbody tr th:only-of-type {\n",
       "        vertical-align: middle;\n",
       "    }\n",
       "\n",
       "    .dataframe tbody tr th {\n",
       "        vertical-align: top;\n",
       "    }\n",
       "\n",
       "    .dataframe thead th {\n",
       "        text-align: right;\n",
       "    }\n",
       "</style>\n",
       "<table border=\"1\" class=\"dataframe\">\n",
       "  <thead>\n",
       "    <tr style=\"text-align: right;\">\n",
       "      <th></th>\n",
       "      <th>additionalRoom</th>\n",
       "      <th>study room</th>\n",
       "      <th>servant room</th>\n",
       "      <th>store room</th>\n",
       "      <th>pooja room</th>\n",
       "      <th>others</th>\n",
       "    </tr>\n",
       "  </thead>\n",
       "  <tbody>\n",
       "    <tr>\n",
       "      <th>1148</th>\n",
       "      <td>pooja room</td>\n",
       "      <td>0</td>\n",
       "      <td>0</td>\n",
       "      <td>0</td>\n",
       "      <td>1</td>\n",
       "      <td>0</td>\n",
       "    </tr>\n",
       "    <tr>\n",
       "      <th>1842</th>\n",
       "      <td>servant room,others</td>\n",
       "      <td>0</td>\n",
       "      <td>1</td>\n",
       "      <td>0</td>\n",
       "      <td>0</td>\n",
       "      <td>1</td>\n",
       "    </tr>\n",
       "    <tr>\n",
       "      <th>892</th>\n",
       "      <td>servant room</td>\n",
       "      <td>0</td>\n",
       "      <td>1</td>\n",
       "      <td>0</td>\n",
       "      <td>0</td>\n",
       "      <td>0</td>\n",
       "    </tr>\n",
       "    <tr>\n",
       "      <th>2214</th>\n",
       "      <td>not available</td>\n",
       "      <td>0</td>\n",
       "      <td>0</td>\n",
       "      <td>0</td>\n",
       "      <td>0</td>\n",
       "      <td>0</td>\n",
       "    </tr>\n",
       "    <tr>\n",
       "      <th>1824</th>\n",
       "      <td>study room</td>\n",
       "      <td>1</td>\n",
       "      <td>0</td>\n",
       "      <td>0</td>\n",
       "      <td>0</td>\n",
       "      <td>0</td>\n",
       "    </tr>\n",
       "  </tbody>\n",
       "</table>\n",
       "</div>"
      ],
      "text/plain": [
       "           additionalRoom  study room  servant room  store room  pooja room  \\\n",
       "1148           pooja room           0             0           0           1   \n",
       "1842  servant room,others           0             1           0           0   \n",
       "892          servant room           0             1           0           0   \n",
       "2214        not available           0             0           0           0   \n",
       "1824           study room           1             0           0           0   \n",
       "\n",
       "      others  \n",
       "1148       0  \n",
       "1842       1  \n",
       "892        0  \n",
       "2214       0  \n",
       "1824       0  "
      ]
     },
     "execution_count": 38,
     "metadata": {},
     "output_type": "execute_result"
    }
   ],
   "source": [
    "df.sample(5)[['additionalRoom', 'study room', 'servant room', 'store room', 'pooja room', 'others']]"
   ]
  },
  {
   "cell_type": "markdown",
   "metadata": {},
   "source": [
    "## agePossession"
   ]
  },
  {
   "cell_type": "code",
   "execution_count": 39,
   "metadata": {},
   "outputs": [
    {
     "data": {
      "text/plain": [
       "1"
      ]
     },
     "execution_count": 39,
     "metadata": {},
     "output_type": "execute_result"
    }
   ],
   "source": [
    "df['agePossession'].isnull().sum()"
   ]
  },
  {
   "cell_type": "code",
   "execution_count": 40,
   "metadata": {},
   "outputs": [
    {
     "data": {
      "text/plain": [
       "array(['1 to 5 Year Old', '10+ Year Old', '0 to 1 Year Old', 'Dec 2023',\n",
       "       'Under Construction', 'undefined', 'Jun 2024', 'Mar 2024',\n",
       "       'Dec 2025', 'By 2023', '5 to 10 Year Old', 'Sep 2025', 'Jan 2024',\n",
       "       'Within 6 months', 'Jan 2027', 'Dec 2024', 'Oct 2024', 'Nov 2023',\n",
       "       'Jul 2026', 'Feb 2024', 'Oct 2023', 'Jan 2025', 'Aug 2023', nan,\n",
       "       'By 2024', 'Apr 2024', 'Nov 2025', 'Dec 2026', 'Within 3 months',\n",
       "       'Apr 2026', 'By 2025', 'Jul 2027', 'Sep 2023', 'By 2027',\n",
       "       'Jan 2026', 'May 2024', 'Nov 2024', 'Aug 2024', 'Mar 2025',\n",
       "       'Jul 2024', 'Jul 2025', 'Sep 2027', 'Jun 2025', 'Jan 2028',\n",
       "       'Aug 2026', 'Mar 2026', 'Aug 2025', 'Oct 2025'], dtype=object)"
      ]
     },
     "execution_count": 40,
     "metadata": {},
     "output_type": "execute_result"
    }
   ],
   "source": [
    "df['agePossession'].unique()"
   ]
  },
  {
   "cell_type": "code",
   "execution_count": 41,
   "metadata": {},
   "outputs": [],
   "source": [
    "def categorize_age_possession(value: str) -> str:\n",
    "    if pd.isna(value):\n",
    "        return \"undefined\"\n",
    "    if \"0 to 1 Year Old\" == value or \"Within 6 months\" == value or \"Within 3 months\" == value:\n",
    "        return \"New Property\"\n",
    "    if \"1 to 5 Year Old\" == value:\n",
    "        return \"Relatively New\"\n",
    "    if \"5 to 10 Year Old\" == value:\n",
    "        return \"Moderately Old\"\n",
    "    if \"10+ Year Old\" == value:\n",
    "        return \"Old Property\"\n",
    "    if \"Under Construction\" == value or \"By\" in value:\n",
    "        return \"Under Construction\"\n",
    "    try:\n",
    "        # For entries like 'May 2024'\n",
    "        int(value.split(\" \")[-1])  # <<- Raises ValueError\n",
    "        return \"Under Construction\"\n",
    "    except ValueError:\n",
    "        return \"undefined\""
   ]
  },
  {
   "cell_type": "code",
   "execution_count": 42,
   "metadata": {},
   "outputs": [],
   "source": [
    "df['agePossession'] = df['agePossession'].apply(categorize_age_possession)"
   ]
  },
  {
   "cell_type": "code",
   "execution_count": 43,
   "metadata": {},
   "outputs": [
    {
     "data": {
      "text/plain": [
       "agePossession\n",
       "Relatively New        1375\n",
       "New Property           450\n",
       "Moderately Old         313\n",
       "Under Construction     220\n",
       "undefined              199\n",
       "Old Property           100\n",
       "Name: count, dtype: int64"
      ]
     },
     "execution_count": 43,
     "metadata": {},
     "output_type": "execute_result"
    }
   ],
   "source": [
    "df['agePossession'].value_counts()"
   ]
  },
  {
   "cell_type": "code",
   "execution_count": 44,
   "metadata": {},
   "outputs": [
    {
     "data": {
      "text/html": [
       "<div>\n",
       "<style scoped>\n",
       "    .dataframe tbody tr th:only-of-type {\n",
       "        vertical-align: middle;\n",
       "    }\n",
       "\n",
       "    .dataframe tbody tr th {\n",
       "        vertical-align: top;\n",
       "    }\n",
       "\n",
       "    .dataframe thead th {\n",
       "        text-align: right;\n",
       "    }\n",
       "</style>\n",
       "<table border=\"1\" class=\"dataframe\">\n",
       "  <thead>\n",
       "    <tr style=\"text-align: right;\">\n",
       "      <th></th>\n",
       "      <th>property_name</th>\n",
       "      <th>link</th>\n",
       "      <th>society</th>\n",
       "      <th>price</th>\n",
       "      <th>area</th>\n",
       "      <th>areaWithType</th>\n",
       "      <th>bedRoom</th>\n",
       "      <th>bathroom</th>\n",
       "      <th>balcony</th>\n",
       "      <th>additionalRoom</th>\n",
       "      <th>...</th>\n",
       "      <th>sector</th>\n",
       "      <th>price_per_sqft</th>\n",
       "      <th>built_up_area</th>\n",
       "      <th>carpet_area</th>\n",
       "      <th>super_built_up_area</th>\n",
       "      <th>study room</th>\n",
       "      <th>servant room</th>\n",
       "      <th>store room</th>\n",
       "      <th>pooja room</th>\n",
       "      <th>others</th>\n",
       "    </tr>\n",
       "  </thead>\n",
       "  <tbody>\n",
       "    <tr>\n",
       "      <th>2288</th>\n",
       "      <td>2 BHK Flat in Sector 95 Gurgaon</td>\n",
       "      <td>2-bhk-bedroom-apartment-flat-for-sale-in-sector-95-gurgaon-637-sq-ft-r1-spid-Z65720898</td>\n",
       "      <td>Ramsons Kshitij</td>\n",
       "      <td>35.0</td>\n",
       "      <td>5495.0</td>\n",
       "      <td>Built Up area: 637 (59.18 sq.m.)</td>\n",
       "      <td>2</td>\n",
       "      <td>2</td>\n",
       "      <td>0</td>\n",
       "      <td>not available</td>\n",
       "      <td>...</td>\n",
       "      <td>sector 095</td>\n",
       "      <td>636</td>\n",
       "      <td>637.0</td>\n",
       "      <td>NaN</td>\n",
       "      <td>NaN</td>\n",
       "      <td>0</td>\n",
       "      <td>0</td>\n",
       "      <td>0</td>\n",
       "      <td>0</td>\n",
       "      <td>0</td>\n",
       "    </tr>\n",
       "    <tr>\n",
       "      <th>196</th>\n",
       "      <td>2 BHK Flat in Sohna</td>\n",
       "      <td>2-bhk-bedroom-apartment-flat-for-sale-in-hcbs-sports-ville-sohna-gurgaon-743-sq-ft-spid-S68368426</td>\n",
       "      <td>HCBS Sports Ville</td>\n",
       "      <td>29.5</td>\n",
       "      <td>3970.0</td>\n",
       "      <td>Built Up area: 743 (69.03 sq.m.)Carpet area: 519 sq.ft. (48.22 sq.m.)</td>\n",
       "      <td>2</td>\n",
       "      <td>2</td>\n",
       "      <td>1</td>\n",
       "      <td>not available</td>\n",
       "      <td>...</td>\n",
       "      <td>sector 033</td>\n",
       "      <td>743</td>\n",
       "      <td>743.0</td>\n",
       "      <td>519.0</td>\n",
       "      <td>NaN</td>\n",
       "      <td>0</td>\n",
       "      <td>0</td>\n",
       "      <td>0</td>\n",
       "      <td>0</td>\n",
       "      <td>0</td>\n",
       "    </tr>\n",
       "    <tr>\n",
       "      <th>33</th>\n",
       "      <td>2 BHK Flat in Sector 90 Gurgaon</td>\n",
       "      <td>2-bhk-bedroom-apartment-flat-for-sale-in-shree-vardhman-flora-sector-90-gurgaon-1300-sq-ft-spid-...</td>\n",
       "      <td>Shree Vardhman Flora</td>\n",
       "      <td>75.0</td>\n",
       "      <td>5769.0</td>\n",
       "      <td>Carpet area: 1300 (120.77 sq.m.)</td>\n",
       "      <td>2</td>\n",
       "      <td>2</td>\n",
       "      <td>3</td>\n",
       "      <td>not available</td>\n",
       "      <td>...</td>\n",
       "      <td>sector 090</td>\n",
       "      <td>1300</td>\n",
       "      <td>NaN</td>\n",
       "      <td>1300.0</td>\n",
       "      <td>NaN</td>\n",
       "      <td>0</td>\n",
       "      <td>0</td>\n",
       "      <td>0</td>\n",
       "      <td>0</td>\n",
       "      <td>0</td>\n",
       "    </tr>\n",
       "  </tbody>\n",
       "</table>\n",
       "<p>3 rows × 40 columns</p>\n",
       "</div>"
      ],
      "text/plain": [
       "                        property_name  \\\n",
       "2288  2 BHK Flat in Sector 95 Gurgaon   \n",
       "196               2 BHK Flat in Sohna   \n",
       "33    2 BHK Flat in Sector 90 Gurgaon   \n",
       "\n",
       "                                                                                                     link  \\\n",
       "2288               2-bhk-bedroom-apartment-flat-for-sale-in-sector-95-gurgaon-637-sq-ft-r1-spid-Z65720898   \n",
       "196     2-bhk-bedroom-apartment-flat-for-sale-in-hcbs-sports-ville-sohna-gurgaon-743-sq-ft-spid-S68368426   \n",
       "33    2-bhk-bedroom-apartment-flat-for-sale-in-shree-vardhman-flora-sector-90-gurgaon-1300-sq-ft-spid-...   \n",
       "\n",
       "                   society  price    area  \\\n",
       "2288       Ramsons Kshitij   35.0  5495.0   \n",
       "196      HCBS Sports Ville   29.5  3970.0   \n",
       "33    Shree Vardhman Flora   75.0  5769.0   \n",
       "\n",
       "                                                               areaWithType  \\\n",
       "2288                                       Built Up area: 637 (59.18 sq.m.)   \n",
       "196   Built Up area: 743 (69.03 sq.m.)Carpet area: 519 sq.ft. (48.22 sq.m.)   \n",
       "33                                         Carpet area: 1300 (120.77 sq.m.)   \n",
       "\n",
       "      bedRoom  bathroom  balcony additionalRoom  ...      sector  \\\n",
       "2288        2         2        0  not available  ...  sector 095   \n",
       "196         2         2        1  not available  ...  sector 033   \n",
       "33          2         2        3  not available  ...  sector 090   \n",
       "\n",
       "     price_per_sqft built_up_area carpet_area super_built_up_area study room  \\\n",
       "2288            636         637.0         NaN                 NaN          0   \n",
       "196             743         743.0       519.0                 NaN          0   \n",
       "33             1300           NaN      1300.0                 NaN          0   \n",
       "\n",
       "     servant room store room  pooja room  others  \n",
       "2288            0          0           0       0  \n",
       "196             0          0           0       0  \n",
       "33              0          0           0       0  \n",
       "\n",
       "[3 rows x 40 columns]"
      ]
     },
     "execution_count": 44,
     "metadata": {},
     "output_type": "execute_result"
    }
   ],
   "source": [
    "df[df['agePossession'].str.contains('undefined') == True].sample(3)"
   ]
  },
  {
   "cell_type": "markdown",
   "metadata": {},
   "source": [
    "For now, I found a relation between `ageposession` and `additionalRoom` columns is that wherever **additionalRoom** is `'not available` the **ageposession** is `'undefined'`."
   ]
  },
  {
   "cell_type": "markdown",
   "metadata": {},
   "source": [
    "## furnishDetails"
   ]
  },
  {
   "cell_type": "code",
   "execution_count": 45,
   "metadata": {},
   "outputs": [],
   "source": [
    "df['furnishDetails'] = df['furnishDetails'].apply(literal_eval)"
   ]
  },
  {
   "cell_type": "code",
   "execution_count": 46,
   "metadata": {},
   "outputs": [
    {
     "data": {
      "text/plain": [
       "981     [4 Wardrobe, 7 Fan, 1 Exhaust Fan, 3 Geyser, 7 Light, 1 Modular Kitchen, 1 Chimney, 1 Curtains, ...\n",
       "582     [4 Fan, 1 Exhaust Fan, 1 Geyser, 5 Light, 1 Curtains, 1 Modular Kitchen, 3 Wardrobe, No AC, No B...\n",
       "2312    [2 Wardrobe, No AC, No Bed, No Chimney, No Curtains, No Dining Table, No Exhaust Fan, No Fan, No...\n",
       "1340    [3 Fan, 1 Exhaust Fan, 10 Light, 2 AC, No Bed, No Chimney, No Curtains, No Dining Table, No Geys...\n",
       "1228                                                                                                     []\n",
       "1395    [4 Fan, 1 Exhaust Fan, 10 Light, 2 AC, 1 Modular Kitchen, No Bed, No Chimney, No Curtains, No Di...\n",
       "1503                                                                                                     []\n",
       "Name: furnishDetails, dtype: object"
      ]
     },
     "execution_count": 46,
     "metadata": {},
     "output_type": "execute_result"
    }
   ],
   "source": [
    "df['furnishDetails'].sample(7)"
   ]
  },
  {
   "cell_type": "code",
   "execution_count": 47,
   "metadata": {},
   "outputs": [
    {
     "data": {
      "text/plain": [
       "18"
      ]
     },
     "execution_count": 47,
     "metadata": {},
     "output_type": "execute_result"
    }
   ],
   "source": [
    "distinct_furnish = df['furnishDetails'].explode().str.split(' ', n=1).str.get(-1).unique().tolist()\n",
    "distinct_furnish = [i for i in distinct_furnish if isinstance(i, str)]\n",
    "len(distinct_furnish)"
   ]
  },
  {
   "cell_type": "code",
   "execution_count": 48,
   "metadata": {},
   "outputs": [
    {
     "data": {
      "text/plain": [
       "['Fan',\n",
       " 'Light',\n",
       " 'Wardrobe',\n",
       " 'AC',\n",
       " 'Bed',\n",
       " 'Chimney',\n",
       " 'Curtains',\n",
       " 'Dining Table',\n",
       " 'Exhaust Fan',\n",
       " 'Geyser',\n",
       " 'Modular Kitchen',\n",
       " 'Microwave',\n",
       " 'Fridge',\n",
       " 'Sofa',\n",
       " 'Stove',\n",
       " 'TV',\n",
       " 'Washing Machine',\n",
       " 'Water Purifier']"
      ]
     },
     "execution_count": 48,
     "metadata": {},
     "output_type": "execute_result"
    }
   ],
   "source": [
    "distinct_furnish"
   ]
  },
  {
   "cell_type": "code",
   "execution_count": 49,
   "metadata": {},
   "outputs": [],
   "source": [
    "df['furnishDetails'] = df['furnishDetails'].astype(str)\n",
    "furnish_df = pd.DataFrame()\n",
    "\n",
    "for furnish in distinct_furnish:\n",
    "    furnish_df[furnish] = (\n",
    "        df['furnishDetails'].str.extract(fr'(\\d+) {furnish}').fillna(0).astype(int)\n",
    "    )"
   ]
  },
  {
   "cell_type": "code",
   "execution_count": 50,
   "metadata": {},
   "outputs": [
    {
     "data": {
      "text/html": [
       "<div>\n",
       "<style scoped>\n",
       "    .dataframe tbody tr th:only-of-type {\n",
       "        vertical-align: middle;\n",
       "    }\n",
       "\n",
       "    .dataframe tbody tr th {\n",
       "        vertical-align: top;\n",
       "    }\n",
       "\n",
       "    .dataframe thead th {\n",
       "        text-align: right;\n",
       "    }\n",
       "</style>\n",
       "<table border=\"1\" class=\"dataframe\">\n",
       "  <thead>\n",
       "    <tr style=\"text-align: right;\">\n",
       "      <th></th>\n",
       "      <th>Fan</th>\n",
       "      <th>Light</th>\n",
       "      <th>Wardrobe</th>\n",
       "      <th>AC</th>\n",
       "      <th>Bed</th>\n",
       "      <th>Chimney</th>\n",
       "      <th>Curtains</th>\n",
       "      <th>Dining Table</th>\n",
       "      <th>Exhaust Fan</th>\n",
       "      <th>Geyser</th>\n",
       "      <th>Modular Kitchen</th>\n",
       "      <th>Microwave</th>\n",
       "      <th>Fridge</th>\n",
       "      <th>Sofa</th>\n",
       "      <th>Stove</th>\n",
       "      <th>TV</th>\n",
       "      <th>Washing Machine</th>\n",
       "      <th>Water Purifier</th>\n",
       "    </tr>\n",
       "  </thead>\n",
       "  <tbody>\n",
       "    <tr>\n",
       "      <th>505</th>\n",
       "      <td>10</td>\n",
       "      <td>22</td>\n",
       "      <td>6</td>\n",
       "      <td>6</td>\n",
       "      <td>0</td>\n",
       "      <td>1</td>\n",
       "      <td>0</td>\n",
       "      <td>0</td>\n",
       "      <td>1</td>\n",
       "      <td>6</td>\n",
       "      <td>1</td>\n",
       "      <td>0</td>\n",
       "      <td>0</td>\n",
       "      <td>1</td>\n",
       "      <td>0</td>\n",
       "      <td>0</td>\n",
       "      <td>0</td>\n",
       "      <td>1</td>\n",
       "    </tr>\n",
       "    <tr>\n",
       "      <th>1928</th>\n",
       "      <td>0</td>\n",
       "      <td>0</td>\n",
       "      <td>0</td>\n",
       "      <td>0</td>\n",
       "      <td>0</td>\n",
       "      <td>0</td>\n",
       "      <td>0</td>\n",
       "      <td>0</td>\n",
       "      <td>0</td>\n",
       "      <td>0</td>\n",
       "      <td>0</td>\n",
       "      <td>0</td>\n",
       "      <td>0</td>\n",
       "      <td>0</td>\n",
       "      <td>0</td>\n",
       "      <td>0</td>\n",
       "      <td>0</td>\n",
       "      <td>0</td>\n",
       "    </tr>\n",
       "    <tr>\n",
       "      <th>2048</th>\n",
       "      <td>0</td>\n",
       "      <td>0</td>\n",
       "      <td>0</td>\n",
       "      <td>0</td>\n",
       "      <td>0</td>\n",
       "      <td>0</td>\n",
       "      <td>0</td>\n",
       "      <td>0</td>\n",
       "      <td>0</td>\n",
       "      <td>0</td>\n",
       "      <td>0</td>\n",
       "      <td>0</td>\n",
       "      <td>0</td>\n",
       "      <td>0</td>\n",
       "      <td>0</td>\n",
       "      <td>0</td>\n",
       "      <td>0</td>\n",
       "      <td>0</td>\n",
       "    </tr>\n",
       "    <tr>\n",
       "      <th>1182</th>\n",
       "      <td>0</td>\n",
       "      <td>0</td>\n",
       "      <td>0</td>\n",
       "      <td>0</td>\n",
       "      <td>0</td>\n",
       "      <td>0</td>\n",
       "      <td>0</td>\n",
       "      <td>0</td>\n",
       "      <td>0</td>\n",
       "      <td>0</td>\n",
       "      <td>0</td>\n",
       "      <td>0</td>\n",
       "      <td>0</td>\n",
       "      <td>0</td>\n",
       "      <td>0</td>\n",
       "      <td>0</td>\n",
       "      <td>0</td>\n",
       "      <td>0</td>\n",
       "    </tr>\n",
       "    <tr>\n",
       "      <th>742</th>\n",
       "      <td>5</td>\n",
       "      <td>9</td>\n",
       "      <td>3</td>\n",
       "      <td>0</td>\n",
       "      <td>0</td>\n",
       "      <td>1</td>\n",
       "      <td>1</td>\n",
       "      <td>0</td>\n",
       "      <td>1</td>\n",
       "      <td>3</td>\n",
       "      <td>1</td>\n",
       "      <td>0</td>\n",
       "      <td>0</td>\n",
       "      <td>0</td>\n",
       "      <td>1</td>\n",
       "      <td>0</td>\n",
       "      <td>0</td>\n",
       "      <td>0</td>\n",
       "    </tr>\n",
       "    <tr>\n",
       "      <th>310</th>\n",
       "      <td>0</td>\n",
       "      <td>0</td>\n",
       "      <td>0</td>\n",
       "      <td>0</td>\n",
       "      <td>0</td>\n",
       "      <td>0</td>\n",
       "      <td>0</td>\n",
       "      <td>0</td>\n",
       "      <td>0</td>\n",
       "      <td>0</td>\n",
       "      <td>1</td>\n",
       "      <td>0</td>\n",
       "      <td>0</td>\n",
       "      <td>0</td>\n",
       "      <td>0</td>\n",
       "      <td>0</td>\n",
       "      <td>0</td>\n",
       "      <td>0</td>\n",
       "    </tr>\n",
       "    <tr>\n",
       "      <th>485</th>\n",
       "      <td>0</td>\n",
       "      <td>0</td>\n",
       "      <td>0</td>\n",
       "      <td>0</td>\n",
       "      <td>0</td>\n",
       "      <td>0</td>\n",
       "      <td>0</td>\n",
       "      <td>0</td>\n",
       "      <td>0</td>\n",
       "      <td>0</td>\n",
       "      <td>0</td>\n",
       "      <td>0</td>\n",
       "      <td>0</td>\n",
       "      <td>0</td>\n",
       "      <td>0</td>\n",
       "      <td>0</td>\n",
       "      <td>0</td>\n",
       "      <td>0</td>\n",
       "    </tr>\n",
       "    <tr>\n",
       "      <th>1621</th>\n",
       "      <td>5</td>\n",
       "      <td>6</td>\n",
       "      <td>0</td>\n",
       "      <td>6</td>\n",
       "      <td>0</td>\n",
       "      <td>1</td>\n",
       "      <td>0</td>\n",
       "      <td>0</td>\n",
       "      <td>0</td>\n",
       "      <td>0</td>\n",
       "      <td>1</td>\n",
       "      <td>0</td>\n",
       "      <td>0</td>\n",
       "      <td>0</td>\n",
       "      <td>1</td>\n",
       "      <td>0</td>\n",
       "      <td>0</td>\n",
       "      <td>0</td>\n",
       "    </tr>\n",
       "    <tr>\n",
       "      <th>100</th>\n",
       "      <td>3</td>\n",
       "      <td>3</td>\n",
       "      <td>0</td>\n",
       "      <td>3</td>\n",
       "      <td>0</td>\n",
       "      <td>1</td>\n",
       "      <td>0</td>\n",
       "      <td>0</td>\n",
       "      <td>1</td>\n",
       "      <td>2</td>\n",
       "      <td>1</td>\n",
       "      <td>0</td>\n",
       "      <td>0</td>\n",
       "      <td>0</td>\n",
       "      <td>0</td>\n",
       "      <td>0</td>\n",
       "      <td>0</td>\n",
       "      <td>0</td>\n",
       "    </tr>\n",
       "    <tr>\n",
       "      <th>95</th>\n",
       "      <td>0</td>\n",
       "      <td>0</td>\n",
       "      <td>0</td>\n",
       "      <td>0</td>\n",
       "      <td>0</td>\n",
       "      <td>0</td>\n",
       "      <td>0</td>\n",
       "      <td>0</td>\n",
       "      <td>0</td>\n",
       "      <td>0</td>\n",
       "      <td>0</td>\n",
       "      <td>0</td>\n",
       "      <td>0</td>\n",
       "      <td>0</td>\n",
       "      <td>0</td>\n",
       "      <td>0</td>\n",
       "      <td>0</td>\n",
       "      <td>0</td>\n",
       "    </tr>\n",
       "  </tbody>\n",
       "</table>\n",
       "</div>"
      ],
      "text/plain": [
       "      Fan  Light  Wardrobe  AC  Bed  Chimney  Curtains  Dining Table  \\\n",
       "505    10     22         6   6    0        1         0             0   \n",
       "1928    0      0         0   0    0        0         0             0   \n",
       "2048    0      0         0   0    0        0         0             0   \n",
       "1182    0      0         0   0    0        0         0             0   \n",
       "742     5      9         3   0    0        1         1             0   \n",
       "310     0      0         0   0    0        0         0             0   \n",
       "485     0      0         0   0    0        0         0             0   \n",
       "1621    5      6         0   6    0        1         0             0   \n",
       "100     3      3         0   3    0        1         0             0   \n",
       "95      0      0         0   0    0        0         0             0   \n",
       "\n",
       "      Exhaust Fan  Geyser  Modular Kitchen  Microwave  Fridge  Sofa  Stove  \\\n",
       "505             1       6                1          0       0     1      0   \n",
       "1928            0       0                0          0       0     0      0   \n",
       "2048            0       0                0          0       0     0      0   \n",
       "1182            0       0                0          0       0     0      0   \n",
       "742             1       3                1          0       0     0      1   \n",
       "310             0       0                1          0       0     0      0   \n",
       "485             0       0                0          0       0     0      0   \n",
       "1621            0       0                1          0       0     0      1   \n",
       "100             1       2                1          0       0     0      0   \n",
       "95              0       0                0          0       0     0      0   \n",
       "\n",
       "      TV  Washing Machine  Water Purifier  \n",
       "505    0                0               1  \n",
       "1928   0                0               0  \n",
       "2048   0                0               0  \n",
       "1182   0                0               0  \n",
       "742    0                0               0  \n",
       "310    0                0               0  \n",
       "485    0                0               0  \n",
       "1621   0                0               0  \n",
       "100    0                0               0  \n",
       "95     0                0               0  "
      ]
     },
     "execution_count": 50,
     "metadata": {},
     "output_type": "execute_result"
    }
   ],
   "source": [
    "furnish_df.sample(10)"
   ]
  },
  {
   "cell_type": "code",
   "execution_count": 51,
   "metadata": {},
   "outputs": [],
   "source": [
    "scaler = StandardScaler()\n",
    "furnish_scaled = scaler.fit_transform(furnish_df)"
   ]
  },
  {
   "cell_type": "code",
   "execution_count": 52,
   "metadata": {},
   "outputs": [],
   "source": [
    "cluster_range = range(1, 11)\n",
    "wcss_reduced = []\n",
    "\n",
    "for i in cluster_range:\n",
    "    kmeans = KMeans(n_clusters=i, init='k-means++', n_init=10, random_state=42)\n",
    "    kmeans.fit(furnish_scaled)\n",
    "    wcss_reduced.append(kmeans.inertia_)"
   ]
  },
  {
   "cell_type": "code",
   "execution_count": 53,
   "metadata": {},
   "outputs": [
    {
     "data": {
      "image/png": "[encoded data removed]",
      "text/plain": [
       "<Figure size 1500x500 with 1 Axes>"
      ]
     },
     "metadata": {},
     "output_type": "display_data"
    }
   ],
   "source": [
    "# Plot the results\n",
    "plt.figure(figsize=(15, 5))\n",
    "plt.plot(cluster_range, wcss_reduced, marker='o', linestyle='--')\n",
    "\n",
    "plt.title('Elbow Method for Optimal Number of Clusters (Reduced Range)')\n",
    "plt.xlabel('Number of Clusters')\n",
    "plt.ylabel('WCSS')\n",
    "plt.grid(True)\n",
    "plt.show()"
   ]
  },
  {
   "cell_type": "code",
   "execution_count": 54,
   "metadata": {},
   "outputs": [],
   "source": [
    "best_n_clusters = 3\n",
    "\n",
    "# Fit the KMeans model\n",
    "kmeans = KMeans(n_clusters=best_n_clusters, init='k-means++', n_init=10, random_state=42)\n",
    "kmeans.fit(furnish_scaled)\n",
    "\n",
    "# Predict the cluster assignments for each row\n",
    "cluster_assignments = kmeans.predict(furnish_scaled)"
   ]
  },
  {
   "cell_type": "code",
   "execution_count": 55,
   "metadata": {},
   "outputs": [],
   "source": [
    "df['furnish_type'] = cluster_assignments"
   ]
  },
  {
   "cell_type": "code",
   "execution_count": 56,
   "metadata": {},
   "outputs": [
    {
     "data": {
      "text/html": [
       "<div>\n",
       "<style scoped>\n",
       "    .dataframe tbody tr th:only-of-type {\n",
       "        vertical-align: middle;\n",
       "    }\n",
       "\n",
       "    .dataframe tbody tr th {\n",
       "        vertical-align: top;\n",
       "    }\n",
       "\n",
       "    .dataframe thead th {\n",
       "        text-align: right;\n",
       "    }\n",
       "</style>\n",
       "<table border=\"1\" class=\"dataframe\">\n",
       "  <thead>\n",
       "    <tr style=\"text-align: right;\">\n",
       "      <th></th>\n",
       "      <th>furnishDetails</th>\n",
       "      <th>furnish_type</th>\n",
       "    </tr>\n",
       "  </thead>\n",
       "  <tbody>\n",
       "    <tr>\n",
       "      <th>0</th>\n",
       "      <td>['3 Fan', '4 Light', '1 Wardrobe', 'No AC', 'No Bed', 'No Chimney', 'No Curtains', 'No Dining Ta...</td>\n",
       "      <td>1</td>\n",
       "    </tr>\n",
       "    <tr>\n",
       "      <th>1</th>\n",
       "      <td>['3 Wardrobe', '4 Fan', '1 Exhaust Fan', '1 Geyser', '3 Light', '1 Curtains', '1 Chimney', '1 Mo...</td>\n",
       "      <td>2</td>\n",
       "    </tr>\n",
       "    <tr>\n",
       "      <th>2</th>\n",
       "      <td>[]</td>\n",
       "      <td>1</td>\n",
       "    </tr>\n",
       "    <tr>\n",
       "      <th>3</th>\n",
       "      <td>[]</td>\n",
       "      <td>1</td>\n",
       "    </tr>\n",
       "    <tr>\n",
       "      <th>4</th>\n",
       "      <td>[]</td>\n",
       "      <td>1</td>\n",
       "    </tr>\n",
       "    <tr>\n",
       "      <th>...</th>\n",
       "      <td>...</td>\n",
       "      <td>...</td>\n",
       "    </tr>\n",
       "    <tr>\n",
       "      <th>2780</th>\n",
       "      <td>['3 Fan', '4 Light', '1 Wardrobe', 'No AC', 'No Bed', 'No Chimney', 'No Curtains', 'No Dining Ta...</td>\n",
       "      <td>1</td>\n",
       "    </tr>\n",
       "    <tr>\n",
       "      <th>2781</th>\n",
       "      <td>['3 Wardrobe', '4 Fan', '1 Exhaust Fan', '1 Geyser', '3 Light', '1 Curtains', '1 Chimney', '1 Mo...</td>\n",
       "      <td>2</td>\n",
       "    </tr>\n",
       "    <tr>\n",
       "      <th>2782</th>\n",
       "      <td>[]</td>\n",
       "      <td>1</td>\n",
       "    </tr>\n",
       "    <tr>\n",
       "      <th>2783</th>\n",
       "      <td>[]</td>\n",
       "      <td>1</td>\n",
       "    </tr>\n",
       "    <tr>\n",
       "      <th>2784</th>\n",
       "      <td>[]</td>\n",
       "      <td>1</td>\n",
       "    </tr>\n",
       "  </tbody>\n",
       "</table>\n",
       "<p>2657 rows × 2 columns</p>\n",
       "</div>"
      ],
      "text/plain": [
       "                                                                                           furnishDetails  \\\n",
       "0     ['3 Fan', '4 Light', '1 Wardrobe', 'No AC', 'No Bed', 'No Chimney', 'No Curtains', 'No Dining Ta...   \n",
       "1     ['3 Wardrobe', '4 Fan', '1 Exhaust Fan', '1 Geyser', '3 Light', '1 Curtains', '1 Chimney', '1 Mo...   \n",
       "2                                                                                                      []   \n",
       "3                                                                                                      []   \n",
       "4                                                                                                      []   \n",
       "...                                                                                                   ...   \n",
       "2780  ['3 Fan', '4 Light', '1 Wardrobe', 'No AC', 'No Bed', 'No Chimney', 'No Curtains', 'No Dining Ta...   \n",
       "2781  ['3 Wardrobe', '4 Fan', '1 Exhaust Fan', '1 Geyser', '3 Light', '1 Curtains', '1 Chimney', '1 Mo...   \n",
       "2782                                                                                                   []   \n",
       "2783                                                                                                   []   \n",
       "2784                                                                                                   []   \n",
       "\n",
       "      furnish_type  \n",
       "0                1  \n",
       "1                2  \n",
       "2                1  \n",
       "3                1  \n",
       "4                1  \n",
       "...            ...  \n",
       "2780             1  \n",
       "2781             2  \n",
       "2782             1  \n",
       "2783             1  \n",
       "2784             1  \n",
       "\n",
       "[2657 rows x 2 columns]"
      ]
     },
     "execution_count": 56,
     "metadata": {},
     "output_type": "execute_result"
    }
   ],
   "source": [
    "df[['furnishDetails', 'furnish_type']]"
   ]
  },
  {
   "cell_type": "markdown",
   "metadata": {},
   "source": [
    "**furnish_type**\n",
    "\n",
    "- `0` -> **unfurnished**\n",
    "- `1` -> **semifurnished**\n",
    "- `2` -> **furnished**"
   ]
  },
  {
   "cell_type": "markdown",
   "metadata": {},
   "source": [
    "## features"
   ]
  },
  {
   "cell_type": "markdown",
   "metadata": {},
   "source": [
    "In the feature engineering session of the course Sir's method got failed becuse the newly created feature `luxury_score` of flats has not a signoficant co-relation with `price` target feature.\n",
    "\n",
    "**That's why I am not going to follow the Sir's method. I am goning to find my way to deal with this column.**"
   ]
  },
  {
   "cell_type": "code",
   "execution_count": 57,
   "metadata": {},
   "outputs": [],
   "source": [
    "df['features'] = df['features'].apply(literal_eval)"
   ]
  },
  {
   "cell_type": "code",
   "execution_count": 58,
   "metadata": {},
   "outputs": [
    {
     "data": {
      "text/plain": [
       "array(['Feng Shui / Vaastu Compliant', 'Security / Fire Alarm', 'Lift(s)',\n",
       "       'Water Storage', 'Visitor Parking', 'Maintenance Staff', 'Park',\n",
       "       'Power Back-up', 'Intercom Facility', 'Swimming Pool',\n",
       "       'Fitness Centre / GYM', 'Club house / Community Center',\n",
       "       'Private Garden / Terrace', 'False Ceiling Lighting',\n",
       "       'Natural Light', 'Airy Rooms', 'Water softening plant', nan,\n",
       "       'Security Personnel', 'Internet/wi-fi connectivity',\n",
       "       'Rain Water Harvesting', 'Separate entry for servant room',\n",
       "       'Spacious Interiors', 'Waste Disposal', 'Piped-gas',\n",
       "       'Shopping Centre', 'Water purifier', 'No open drainage around',\n",
       "       'Low Density Society', 'Bank Attached Property',\n",
       "       'High Ceiling Height', 'Centrally Air Conditioned',\n",
       "       'Recently Renovated'], dtype=object)"
      ]
     },
     "execution_count": 58,
     "metadata": {},
     "output_type": "execute_result"
    }
   ],
   "source": [
    "df['features'].explode().unique()"
   ]
  },
  {
   "cell_type": "code",
   "execution_count": 59,
   "metadata": {},
   "outputs": [
    {
     "name": "stdout",
     "output_type": "stream",
     "text": [
      "(247, 2)\n"
     ]
    },
    {
     "data": {
      "text/html": [
       "<div>\n",
       "<style scoped>\n",
       "    .dataframe tbody tr th:only-of-type {\n",
       "        vertical-align: middle;\n",
       "    }\n",
       "\n",
       "    .dataframe tbody tr th {\n",
       "        vertical-align: top;\n",
       "    }\n",
       "\n",
       "    .dataframe thead th {\n",
       "        text-align: right;\n",
       "    }\n",
       "</style>\n",
       "<table border=\"1\" class=\"dataframe\">\n",
       "  <thead>\n",
       "    <tr style=\"text-align: right;\">\n",
       "      <th></th>\n",
       "      <th>PropertyName</th>\n",
       "      <th>TopFacilities</th>\n",
       "    </tr>\n",
       "  </thead>\n",
       "  <tbody>\n",
       "    <tr>\n",
       "      <th>0</th>\n",
       "      <td>Smartworld One DXP</td>\n",
       "      <td>['Swimming Pool', 'Salon', 'Restaurant', 'Spa', 'Cafeteria', 'Sun Deck', '24x7 Security', 'Club ...</td>\n",
       "    </tr>\n",
       "    <tr>\n",
       "      <th>1</th>\n",
       "      <td>M3M Crown</td>\n",
       "      <td>['Bowling Alley', 'Mini Theatre', 'Manicured Garden', 'Swimming Pool', 'Flower Garden', 'Reading...</td>\n",
       "    </tr>\n",
       "  </tbody>\n",
       "</table>\n",
       "</div>"
      ],
      "text/plain": [
       "         PropertyName  \\\n",
       "0  Smartworld One DXP   \n",
       "1           M3M Crown   \n",
       "\n",
       "                                                                                         TopFacilities  \n",
       "0  ['Swimming Pool', 'Salon', 'Restaurant', 'Spa', 'Cafeteria', 'Sun Deck', '24x7 Security', 'Club ...  \n",
       "1  ['Bowling Alley', 'Mini Theatre', 'Manicured Garden', 'Swimming Pool', 'Flower Garden', 'Reading...  "
      ]
     },
     "execution_count": 59,
     "metadata": {},
     "output_type": "execute_result"
    }
   ],
   "source": [
    "apartments = pd.read_csv('data/appartments.csv', usecols=['PropertyName', 'TopFacilities'])\n",
    "print(apartments.shape)\n",
    "apartments.head(2)"
   ]
  },
  {
   "cell_type": "code",
   "execution_count": 60,
   "metadata": {},
   "outputs": [
    {
     "data": {
      "text/plain": [
       "0"
      ]
     },
     "execution_count": 60,
     "metadata": {},
     "output_type": "execute_result"
    }
   ],
   "source": [
    "apartments['TopFacilities'].isnull().sum()"
   ]
  },
  {
   "cell_type": "code",
   "execution_count": 61,
   "metadata": {},
   "outputs": [
    {
     "name": "stdout",
     "output_type": "stream",
     "text": [
      "No. of rows dropped: 1\n"
     ]
    }
   ],
   "source": [
    "drop_rows = apartments[apartments['TopFacilities'].str.startswith('[') == False].index\n",
    "apartments.drop(index=drop_rows, inplace=True)\n",
    "print('No. of rows dropped:', len(drop_rows))"
   ]
  },
  {
   "cell_type": "code",
   "execution_count": 62,
   "metadata": {},
   "outputs": [],
   "source": [
    "apartments['TopFacilities'] = apartments['TopFacilities'].apply(literal_eval)"
   ]
  },
  {
   "cell_type": "code",
   "execution_count": 63,
   "metadata": {},
   "outputs": [
    {
     "data": {
      "text/html": [
       "<div>\n",
       "<style scoped>\n",
       "    .dataframe tbody tr th:only-of-type {\n",
       "        vertical-align: middle;\n",
       "    }\n",
       "\n",
       "    .dataframe tbody tr th {\n",
       "        vertical-align: top;\n",
       "    }\n",
       "\n",
       "    .dataframe thead th {\n",
       "        text-align: right;\n",
       "    }\n",
       "</style>\n",
       "<table border=\"1\" class=\"dataframe\">\n",
       "  <thead>\n",
       "    <tr style=\"text-align: right;\">\n",
       "      <th></th>\n",
       "      <th>society</th>\n",
       "      <th>features</th>\n",
       "    </tr>\n",
       "  </thead>\n",
       "  <tbody>\n",
       "    <tr>\n",
       "      <th>4</th>\n",
       "      <td>parkwood westend</td>\n",
       "      <td>[]</td>\n",
       "    </tr>\n",
       "    <tr>\n",
       "      <th>5</th>\n",
       "      <td>signature global infinity mall</td>\n",
       "      <td>[]</td>\n",
       "    </tr>\n",
       "    <tr>\n",
       "      <th>6</th>\n",
       "      <td>the cocoon</td>\n",
       "      <td>[]</td>\n",
       "    </tr>\n",
       "    <tr>\n",
       "      <th>12</th>\n",
       "      <td>supertech araville</td>\n",
       "      <td>[]</td>\n",
       "    </tr>\n",
       "    <tr>\n",
       "      <th>13</th>\n",
       "      <td>godrej</td>\n",
       "      <td>[]</td>\n",
       "    </tr>\n",
       "  </tbody>\n",
       "</table>\n",
       "</div>"
      ],
      "text/plain": [
       "                           society features\n",
       "4                 parkwood westend       []\n",
       "5   signature global infinity mall       []\n",
       "6                       the cocoon       []\n",
       "12              supertech araville       []\n",
       "13                          godrej       []"
      ]
     },
     "execution_count": 63,
     "metadata": {},
     "output_type": "execute_result"
    }
   ],
   "source": [
    "null_features_df = df[['society', 'features']][\n",
    "    df['features'].apply(lambda x: x if x else np.nan).isnull()\n",
    "].copy()\n",
    "null_features_df['society'] = null_features_df['society'].str.lower()\n",
    "\n",
    "null_features_df.head()"
   ]
  },
  {
   "cell_type": "code",
   "execution_count": 64,
   "metadata": {},
   "outputs": [],
   "source": [
    "apartments['PropertyName'] = apartments['PropertyName'].str.lower()"
   ]
  },
  {
   "cell_type": "code",
   "execution_count": 65,
   "metadata": {},
   "outputs": [],
   "source": [
    "temp_df = null_features_df.merge(\n",
    "    apartments,\n",
    "    left_on='society',\n",
    "    right_on='PropertyName',\n",
    "    how='left',\n",
    ")"
   ]
  },
  {
   "cell_type": "code",
   "execution_count": 66,
   "metadata": {},
   "outputs": [],
   "source": [
    "df.loc[null_features_df.index, 'features'] = temp_df['TopFacilities'].values"
   ]
  },
  {
   "cell_type": "code",
   "execution_count": 67,
   "metadata": {},
   "outputs": [
    {
     "data": {
      "text/plain": [
       "209"
      ]
     },
     "execution_count": 67,
     "metadata": {},
     "output_type": "execute_result"
    }
   ],
   "source": [
    "df['features'].isnull().sum()"
   ]
  },
  {
   "cell_type": "markdown",
   "metadata": {},
   "source": [
    "## General Step"
   ]
  },
  {
   "cell_type": "code",
   "execution_count": 68,
   "metadata": {},
   "outputs": [
    {
     "data": {
      "text/plain": [
       "Index(['property_name', 'link', 'society', 'price', 'area', 'areaWithType',\n",
       "       'bedRoom', 'bathroom', 'balcony', 'additionalRoom', 'address', 'facing',\n",
       "       'agePossession', 'nearbyLocations', 'description', 'furnishDetails',\n",
       "       'features', 'property_id', 'nthFloor', 'totalFloor', 'Transportation',\n",
       "       'Education', 'Healthcare', 'Shopping', 'Dining', 'Accommodation',\n",
       "       'Entertainment', 'Service', 'sector_by_sir', 'sector_by_me', 'sector',\n",
       "       'price_per_sqft', 'built_up_area', 'carpet_area', 'super_built_up_area',\n",
       "       'study room', 'servant room', 'store room', 'pooja room', 'others',\n",
       "       'furnish_type'],\n",
       "      dtype='object')"
      ]
     },
     "execution_count": 68,
     "metadata": {},
     "output_type": "execute_result"
    }
   ],
   "source": [
    "df.columns"
   ]
  },
  {
   "cell_type": "code",
   "execution_count": 69,
   "metadata": {},
   "outputs": [
    {
     "data": {
      "text/plain": [
       "property_name             0\n",
       "link                      0\n",
       "society                   0\n",
       "price                     0\n",
       "area                      0\n",
       "areaWithType              0\n",
       "bedRoom                   0\n",
       "bathroom                  0\n",
       "balcony                   0\n",
       "additionalRoom            0\n",
       "address                   3\n",
       "facing                  707\n",
       "agePossession             0\n",
       "nearbyLocations           0\n",
       "description               0\n",
       "furnishDetails            0\n",
       "features                209\n",
       "property_id               0\n",
       "nthFloor                  1\n",
       "totalFloor                1\n",
       "Transportation            0\n",
       "Education                 0\n",
       "Healthcare                0\n",
       "Shopping                  0\n",
       "Dining                    0\n",
       "Accommodation             0\n",
       "Entertainment             0\n",
       "Service                   0\n",
       "sector_by_sir          1375\n",
       "sector_by_me            182\n",
       "sector                    0\n",
       "price_per_sqft            0\n",
       "built_up_area          1807\n",
       "carpet_area            1038\n",
       "super_built_up_area     906\n",
       "study room                0\n",
       "servant room              0\n",
       "store room                0\n",
       "pooja room                0\n",
       "others                    0\n",
       "furnish_type              0\n",
       "dtype: int64"
      ]
     },
     "execution_count": 69,
     "metadata": {},
     "output_type": "execute_result"
    }
   ],
   "source": [
    "df.isnull().sum()"
   ]
  },
  {
   "cell_type": "code",
   "execution_count": 70,
   "metadata": {},
   "outputs": [],
   "source": [
    "df.drop(\n",
    "    columns=[\n",
    "        'areaWithType',\n",
    "        'additionalRoom',\n",
    "        'address',\n",
    "        'furnishDetails',\n",
    "        'sector_by_sir',\n",
    "        'sector_by_me',\n",
    "    ],\n",
    "    inplace=True,\n",
    ")"
   ]
  },
  {
   "cell_type": "code",
   "execution_count": 71,
   "metadata": {},
   "outputs": [
    {
     "data": {
      "text/html": [
       "<div>\n",
       "<style scoped>\n",
       "    .dataframe tbody tr th:only-of-type {\n",
       "        vertical-align: middle;\n",
       "    }\n",
       "\n",
       "    .dataframe tbody tr th {\n",
       "        vertical-align: top;\n",
       "    }\n",
       "\n",
       "    .dataframe thead th {\n",
       "        text-align: right;\n",
       "    }\n",
       "</style>\n",
       "<table border=\"1\" class=\"dataframe\">\n",
       "  <thead>\n",
       "    <tr style=\"text-align: right;\">\n",
       "      <th></th>\n",
       "      <th>property_name</th>\n",
       "      <th>link</th>\n",
       "      <th>society</th>\n",
       "      <th>price</th>\n",
       "      <th>area</th>\n",
       "      <th>bedRoom</th>\n",
       "      <th>bathroom</th>\n",
       "      <th>balcony</th>\n",
       "      <th>facing</th>\n",
       "      <th>agePossession</th>\n",
       "      <th>nearbyLocations</th>\n",
       "      <th>description</th>\n",
       "      <th>features</th>\n",
       "      <th>property_id</th>\n",
       "      <th>nthFloor</th>\n",
       "      <th>totalFloor</th>\n",
       "      <th>Transportation</th>\n",
       "      <th>Education</th>\n",
       "      <th>Healthcare</th>\n",
       "      <th>Shopping</th>\n",
       "      <th>Dining</th>\n",
       "      <th>Accommodation</th>\n",
       "      <th>Entertainment</th>\n",
       "      <th>Service</th>\n",
       "      <th>sector</th>\n",
       "      <th>price_per_sqft</th>\n",
       "      <th>built_up_area</th>\n",
       "      <th>carpet_area</th>\n",
       "      <th>super_built_up_area</th>\n",
       "      <th>study room</th>\n",
       "      <th>servant room</th>\n",
       "      <th>store room</th>\n",
       "      <th>pooja room</th>\n",
       "      <th>others</th>\n",
       "      <th>furnish_type</th>\n",
       "    </tr>\n",
       "  </thead>\n",
       "  <tbody>\n",
       "    <tr>\n",
       "      <th>1800</th>\n",
       "      <td>2 BHK Flat in Sector 86 Gurgaon</td>\n",
       "      <td>2-bhk-bedroom-apartment-flat-for-sale-in-microtek-greenburg-sector-86-gurgaon-850-sq-ft-spid-Z70...</td>\n",
       "      <td>Microtek Greenburg</td>\n",
       "      <td>130.0</td>\n",
       "      <td>15294.0</td>\n",
       "      <td>2</td>\n",
       "      <td>3</td>\n",
       "      <td>3</td>\n",
       "      <td>North-East</td>\n",
       "      <td>Relatively New</td>\n",
       "      <td>['SS Omnia Mall', 'National Highway 8', 'Dwarka Expressway', 'Sidheshwar School', 'Dronacharya C...</td>\n",
       "      <td>This 2 bhk flat is located in microtek greenburg, which houses some of the most spacious flats i...</td>\n",
       "      <td>[Intercom Facility, Lift(s), Swimming Pool, Park, Piped-gas, Shopping Centre, Fitness Centre / G...</td>\n",
       "      <td>Z70028220</td>\n",
       "      <td>5.0</td>\n",
       "      <td>21.0</td>\n",
       "      <td>3</td>\n",
       "      <td>3</td>\n",
       "      <td>1</td>\n",
       "      <td>1</td>\n",
       "      <td>0</td>\n",
       "      <td>1</td>\n",
       "      <td>0</td>\n",
       "      <td>0</td>\n",
       "      <td>sector 086</td>\n",
       "      <td>850</td>\n",
       "      <td>NaN</td>\n",
       "      <td>850.0</td>\n",
       "      <td>NaN</td>\n",
       "      <td>1</td>\n",
       "      <td>0</td>\n",
       "      <td>0</td>\n",
       "      <td>0</td>\n",
       "      <td>0</td>\n",
       "      <td>2</td>\n",
       "    </tr>\n",
       "    <tr>\n",
       "      <th>1323</th>\n",
       "      <td>4 BHK Flat in Sector 85 Gurgaon</td>\n",
       "      <td>4-bhk-bedroom-apartment-flat-for-sale-in-ss-the-leaf-sector-85-gurgaon-2812-sq-ft-spid-T69980168</td>\n",
       "      <td>SS The Leaf</td>\n",
       "      <td>205.0</td>\n",
       "      <td>7290.0</td>\n",
       "      <td>4</td>\n",
       "      <td>4</td>\n",
       "      <td>-1</td>\n",
       "      <td>North-East</td>\n",
       "      <td>Relatively New</td>\n",
       "      <td>['Sapphire 83 Mall', 'Dwarka Expressway', 'Central Peripheral Road', 'NH 08', 'Pataudi Road', 'D...</td>\n",
       "      <td>This lovely 4 bhk apartment/flat in sector 85 gurgaon is available for sale in one of gurgaon's ...</td>\n",
       "      <td>[Feng Shui / Vaastu Compliant, Security / Fire Alarm, Intercom Facility, Lift(s), Maintenance St...</td>\n",
       "      <td>T69980168</td>\n",
       "      <td>4.0</td>\n",
       "      <td>15.0</td>\n",
       "      <td>5</td>\n",
       "      <td>2</td>\n",
       "      <td>1</td>\n",
       "      <td>1</td>\n",
       "      <td>0</td>\n",
       "      <td>1</td>\n",
       "      <td>2</td>\n",
       "      <td>0</td>\n",
       "      <td>sector 085</td>\n",
       "      <td>2812</td>\n",
       "      <td>2500.0</td>\n",
       "      <td>2250.0</td>\n",
       "      <td>2812.0</td>\n",
       "      <td>0</td>\n",
       "      <td>1</td>\n",
       "      <td>0</td>\n",
       "      <td>0</td>\n",
       "      <td>0</td>\n",
       "      <td>2</td>\n",
       "    </tr>\n",
       "    <tr>\n",
       "      <th>824</th>\n",
       "      <td>3 BHK Flat in Sector 69 Gurgaon</td>\n",
       "      <td>3-bhk-bedroom-apartment-flat-for-sale-in-tulip-violet-sector-69-gurgaon-1568-sq-ft-spid-F69429866</td>\n",
       "      <td>Tulip Violet</td>\n",
       "      <td>132.0</td>\n",
       "      <td>8411.0</td>\n",
       "      <td>3</td>\n",
       "      <td>3</td>\n",
       "      <td>1</td>\n",
       "      <td>South-East</td>\n",
       "      <td>Relatively New</td>\n",
       "      <td>['Airia Mall Sector 68', 'Southern Peripheral Road', 'Golf Course Extension Rd', 'Imperio School...</td>\n",
       "      <td>Park facing\\nSun facing\\nPool facing \\nBest price in the market.\\n Additional details :Piped gas...</td>\n",
       "      <td>[Power Back-up, Feng Shui / Vaastu Compliant, Intercom Facility, Lift(s), Maintenance Staff, Pip...</td>\n",
       "      <td>F69429866</td>\n",
       "      <td>12.0</td>\n",
       "      <td>14.0</td>\n",
       "      <td>3</td>\n",
       "      <td>2</td>\n",
       "      <td>1</td>\n",
       "      <td>1</td>\n",
       "      <td>0</td>\n",
       "      <td>1</td>\n",
       "      <td>1</td>\n",
       "      <td>0</td>\n",
       "      <td>sector 069</td>\n",
       "      <td>1569</td>\n",
       "      <td>NaN</td>\n",
       "      <td>NaN</td>\n",
       "      <td>1568.0</td>\n",
       "      <td>0</td>\n",
       "      <td>0</td>\n",
       "      <td>0</td>\n",
       "      <td>1</td>\n",
       "      <td>0</td>\n",
       "      <td>1</td>\n",
       "    </tr>\n",
       "    <tr>\n",
       "      <th>177</th>\n",
       "      <td>3 BHK Flat in Sector 70 Gurgaon</td>\n",
       "      <td>3-bhk-bedroom-apartment-flat-for-sale-in-krrish-florence-estate-sector-70-gurgaon-1865-sq-ft-r8-...</td>\n",
       "      <td>Krrish Florence Estate</td>\n",
       "      <td>125.0</td>\n",
       "      <td>6703.0</td>\n",
       "      <td>3</td>\n",
       "      <td>3</td>\n",
       "      <td>3</td>\n",
       "      <td>North-East</td>\n",
       "      <td>Under Construction</td>\n",
       "      <td>['Omaxe Gurgaon Mall', 'NH248A', 'The Vivekananda School', 'Suraj PG Degree College, Sec -75', '...</td>\n",
       "      <td>Residential apartment for sell.The property comes with a good construction quality which ages ju...</td>\n",
       "      <td>[Intercom Facility, Lift(s), Feng Shui / Vaastu Compliant, Swimming Pool, Security Personnel, Ma...</td>\n",
       "      <td>H33897213</td>\n",
       "      <td>18.0</td>\n",
       "      <td>25.0</td>\n",
       "      <td>2</td>\n",
       "      <td>2</td>\n",
       "      <td>2</td>\n",
       "      <td>1</td>\n",
       "      <td>0</td>\n",
       "      <td>0</td>\n",
       "      <td>0</td>\n",
       "      <td>0</td>\n",
       "      <td>sector 070</td>\n",
       "      <td>1864</td>\n",
       "      <td>NaN</td>\n",
       "      <td>NaN</td>\n",
       "      <td>1865.0</td>\n",
       "      <td>0</td>\n",
       "      <td>0</td>\n",
       "      <td>0</td>\n",
       "      <td>0</td>\n",
       "      <td>0</td>\n",
       "      <td>1</td>\n",
       "    </tr>\n",
       "    <tr>\n",
       "      <th>1538</th>\n",
       "      <td>5 BHK Flat in Sector 49 Gurgaon</td>\n",
       "      <td>5-bhk-bedroom-apartment-flat-for-sale-in-orchid-petals-sector-49-gurgaon-4115-sq-ft-spid-K69732128</td>\n",
       "      <td>Orchid Petals</td>\n",
       "      <td>452.0</td>\n",
       "      <td>10984.0</td>\n",
       "      <td>5</td>\n",
       "      <td>5</td>\n",
       "      <td>-1</td>\n",
       "      <td>West</td>\n",
       "      <td>Moderately Old</td>\n",
       "      <td>['Sapphire Mall', 'Omaxe City Centre', 'BigBazaar', 'Sohna Rd', 'Kinder Care Playschool', 'Kanga...</td>\n",
       "      <td>This beautiful 5 bhk penthouse sector 49 gurgaon is situated in orchid petals, one of the popula...</td>\n",
       "      <td>[Feng Shui / Vaastu Compliant, Security / Fire Alarm, Intercom Facility, Lift(s), Maintenance St...</td>\n",
       "      <td>K69732128</td>\n",
       "      <td>14.0</td>\n",
       "      <td>14.0</td>\n",
       "      <td>1</td>\n",
       "      <td>2</td>\n",
       "      <td>3</td>\n",
       "      <td>1</td>\n",
       "      <td>0</td>\n",
       "      <td>1</td>\n",
       "      <td>1</td>\n",
       "      <td>1</td>\n",
       "      <td>sector 049</td>\n",
       "      <td>4115</td>\n",
       "      <td>NaN</td>\n",
       "      <td>NaN</td>\n",
       "      <td>4115.0</td>\n",
       "      <td>1</td>\n",
       "      <td>1</td>\n",
       "      <td>0</td>\n",
       "      <td>1</td>\n",
       "      <td>0</td>\n",
       "      <td>1</td>\n",
       "    </tr>\n",
       "  </tbody>\n",
       "</table>\n",
       "</div>"
      ],
      "text/plain": [
       "                        property_name  \\\n",
       "1800  2 BHK Flat in Sector 86 Gurgaon   \n",
       "1323  4 BHK Flat in Sector 85 Gurgaon   \n",
       "824   3 BHK Flat in Sector 69 Gurgaon   \n",
       "177   3 BHK Flat in Sector 70 Gurgaon   \n",
       "1538  5 BHK Flat in Sector 49 Gurgaon   \n",
       "\n",
       "                                                                                                     link  \\\n",
       "1800  2-bhk-bedroom-apartment-flat-for-sale-in-microtek-greenburg-sector-86-gurgaon-850-sq-ft-spid-Z70...   \n",
       "1323     4-bhk-bedroom-apartment-flat-for-sale-in-ss-the-leaf-sector-85-gurgaon-2812-sq-ft-spid-T69980168   \n",
       "824     3-bhk-bedroom-apartment-flat-for-sale-in-tulip-violet-sector-69-gurgaon-1568-sq-ft-spid-F69429866   \n",
       "177   3-bhk-bedroom-apartment-flat-for-sale-in-krrish-florence-estate-sector-70-gurgaon-1865-sq-ft-r8-...   \n",
       "1538   5-bhk-bedroom-apartment-flat-for-sale-in-orchid-petals-sector-49-gurgaon-4115-sq-ft-spid-K69732128   \n",
       "\n",
       "                     society  price     area  bedRoom  bathroom  balcony  \\\n",
       "1800      Microtek Greenburg  130.0  15294.0        2         3        3   \n",
       "1323             SS The Leaf  205.0   7290.0        4         4       -1   \n",
       "824             Tulip Violet  132.0   8411.0        3         3        1   \n",
       "177   Krrish Florence Estate  125.0   6703.0        3         3        3   \n",
       "1538           Orchid Petals  452.0  10984.0        5         5       -1   \n",
       "\n",
       "          facing       agePossession  \\\n",
       "1800  North-East      Relatively New   \n",
       "1323  North-East      Relatively New   \n",
       "824   South-East      Relatively New   \n",
       "177   North-East  Under Construction   \n",
       "1538        West      Moderately Old   \n",
       "\n",
       "                                                                                          nearbyLocations  \\\n",
       "1800  ['SS Omnia Mall', 'National Highway 8', 'Dwarka Expressway', 'Sidheshwar School', 'Dronacharya C...   \n",
       "1323  ['Sapphire 83 Mall', 'Dwarka Expressway', 'Central Peripheral Road', 'NH 08', 'Pataudi Road', 'D...   \n",
       "824   ['Airia Mall Sector 68', 'Southern Peripheral Road', 'Golf Course Extension Rd', 'Imperio School...   \n",
       "177   ['Omaxe Gurgaon Mall', 'NH248A', 'The Vivekananda School', 'Suraj PG Degree College, Sec -75', '...   \n",
       "1538  ['Sapphire Mall', 'Omaxe City Centre', 'BigBazaar', 'Sohna Rd', 'Kinder Care Playschool', 'Kanga...   \n",
       "\n",
       "                                                                                              description  \\\n",
       "1800  This 2 bhk flat is located in microtek greenburg, which houses some of the most spacious flats i...   \n",
       "1323  This lovely 4 bhk apartment/flat in sector 85 gurgaon is available for sale in one of gurgaon's ...   \n",
       "824   Park facing\\nSun facing\\nPool facing \\nBest price in the market.\\n Additional details :Piped gas...   \n",
       "177   Residential apartment for sell.The property comes with a good construction quality which ages ju...   \n",
       "1538  This beautiful 5 bhk penthouse sector 49 gurgaon is situated in orchid petals, one of the popula...   \n",
       "\n",
       "                                                                                                 features  \\\n",
       "1800  [Intercom Facility, Lift(s), Swimming Pool, Park, Piped-gas, Shopping Centre, Fitness Centre / G...   \n",
       "1323  [Feng Shui / Vaastu Compliant, Security / Fire Alarm, Intercom Facility, Lift(s), Maintenance St...   \n",
       "824   [Power Back-up, Feng Shui / Vaastu Compliant, Intercom Facility, Lift(s), Maintenance Staff, Pip...   \n",
       "177   [Intercom Facility, Lift(s), Feng Shui / Vaastu Compliant, Swimming Pool, Security Personnel, Ma...   \n",
       "1538  [Feng Shui / Vaastu Compliant, Security / Fire Alarm, Intercom Facility, Lift(s), Maintenance St...   \n",
       "\n",
       "     property_id  nthFloor  totalFloor  Transportation  Education  Healthcare  \\\n",
       "1800   Z70028220       5.0        21.0               3          3           1   \n",
       "1323   T69980168       4.0        15.0               5          2           1   \n",
       "824    F69429866      12.0        14.0               3          2           1   \n",
       "177    H33897213      18.0        25.0               2          2           2   \n",
       "1538   K69732128      14.0        14.0               1          2           3   \n",
       "\n",
       "      Shopping  Dining  Accommodation  Entertainment  Service      sector  \\\n",
       "1800         1       0              1              0        0  sector 086   \n",
       "1323         1       0              1              2        0  sector 085   \n",
       "824          1       0              1              1        0  sector 069   \n",
       "177          1       0              0              0        0  sector 070   \n",
       "1538         1       0              1              1        1  sector 049   \n",
       "\n",
       "      price_per_sqft  built_up_area  carpet_area  super_built_up_area  \\\n",
       "1800             850            NaN        850.0                  NaN   \n",
       "1323            2812         2500.0       2250.0               2812.0   \n",
       "824             1569            NaN          NaN               1568.0   \n",
       "177             1864            NaN          NaN               1865.0   \n",
       "1538            4115            NaN          NaN               4115.0   \n",
       "\n",
       "      study room  servant room  store room  pooja room  others  furnish_type  \n",
       "1800           1             0           0           0       0             2  \n",
       "1323           0             1           0           0       0             2  \n",
       "824            0             0           0           1       0             1  \n",
       "177            0             0           0           0       0             1  \n",
       "1538           1             1           0           1       0             1  "
      ]
     },
     "execution_count": 71,
     "metadata": {},
     "output_type": "execute_result"
    }
   ],
   "source": [
    "pd.set_option('display.max_columns', None)\n",
    "df.sample(5)"
   ]
  },
  {
   "cell_type": "markdown",
   "metadata": {},
   "source": [
    "## Export dataset"
   ]
  },
  {
   "cell_type": "code",
   "execution_count": 72,
   "metadata": {},
   "outputs": [],
   "source": [
    "df.to_csv('data/processed/flats.csv', index=False)"
   ]
  }
 ],
 "metadata": {
  "kernelspec": {
   "display_name": "Python 3",
   "language": "python",
   "name": "python3"
  },
  "language_info": {
   "codemirror_mode": {
    "name": "ipython",
    "version": 3
   },
   "file_extension": ".py",
   "mimetype": "text/x-python",
   "name": "python",
   "nbconvert_exporter": "python",
   "pygments_lexer": "ipython3",
   "version": "3.11.0"
  },
  "orig_nbformat": 4
 },
 "nbformat": 4,
 "nbformat_minor": 2
}
