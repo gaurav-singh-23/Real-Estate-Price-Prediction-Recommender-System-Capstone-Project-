{
 "cells": [
  {
   "cell_type": "markdown",
   "metadata": {},
   "source": [
    "- This notebook is extension of [`1.0_PREPROCESSING.ipynb`](./1.0_PREPROCESSING.ipynb) notebook.\n",
    "- I am doing extra preprocessing on top of [`1.0_PRPROCESSING.csv`](../../data/processed/1.0_CLEANING_houses.csv)."
   ]
  },
  {
   "cell_type": "code",
   "execution_count": 2,
   "metadata": {},
   "outputs": [],
   "source": [
    "from ast import literal_eval\n",
    "\n",
    "import pandas as pd\n",
    "import numpy as np"
   ]
  },
  {
   "cell_type": "code",
   "execution_count": 20,
   "metadata": {},
   "outputs": [],
   "source": [
    "pd.set_option('display.max_columns', None)"
   ]
  },
  {
   "cell_type": "code",
   "execution_count": 3,
   "metadata": {},
   "outputs": [
    {
     "name": "stdout",
     "output_type": "stream",
     "text": [
      "(1034, 26)\n"
     ]
    },
    {
     "data": {
      "text/html": [
       "<div>\n",
       "<style scoped>\n",
       "    .dataframe tbody tr th:only-of-type {\n",
       "        vertical-align: middle;\n",
       "    }\n",
       "\n",
       "    .dataframe tbody tr th {\n",
       "        vertical-align: top;\n",
       "    }\n",
       "\n",
       "    .dataframe thead th {\n",
       "        text-align: right;\n",
       "    }\n",
       "</style>\n",
       "<table border=\"1\" class=\"dataframe\">\n",
       "  <thead>\n",
       "    <tr style=\"text-align: right;\">\n",
       "      <th></th>\n",
       "      <th>property_name</th>\n",
       "      <th>link</th>\n",
       "      <th>society</th>\n",
       "      <th>price</th>\n",
       "      <th>rate</th>\n",
       "      <th>area</th>\n",
       "      <th>bedRoom</th>\n",
       "      <th>bathroom</th>\n",
       "      <th>balcony</th>\n",
       "      <th>totalFloors</th>\n",
       "      <th>...</th>\n",
       "      <th>plot_area</th>\n",
       "      <th>built_up_area</th>\n",
       "      <th>carpet_area</th>\n",
       "      <th>study room</th>\n",
       "      <th>servant room</th>\n",
       "      <th>store room</th>\n",
       "      <th>pooja room</th>\n",
       "      <th>others</th>\n",
       "      <th>sector</th>\n",
       "      <th>furnish_type</th>\n",
       "    </tr>\n",
       "  </thead>\n",
       "  <tbody>\n",
       "    <tr>\n",
       "      <th>0</th>\n",
       "      <td>5 bedroom house for sale in sector 70a gurgaon</td>\n",
       "      <td>https://www.99acres.com/5-bhk-bedroom-independ...</td>\n",
       "      <td>bptp visionnaire</td>\n",
       "      <td>525.0</td>\n",
       "      <td>20115.0</td>\n",
       "      <td>2603.92</td>\n",
       "      <td>5.0</td>\n",
       "      <td>4.0</td>\n",
       "      <td>-1.0</td>\n",
       "      <td>3.0</td>\n",
       "      <td>...</td>\n",
       "      <td>290.0</td>\n",
       "      <td>NaN</td>\n",
       "      <td>NaN</td>\n",
       "      <td>0</td>\n",
       "      <td>1</td>\n",
       "      <td>0</td>\n",
       "      <td>0</td>\n",
       "      <td>0</td>\n",
       "      <td>sector 70a</td>\n",
       "      <td>0</td>\n",
       "    </tr>\n",
       "    <tr>\n",
       "      <th>1</th>\n",
       "      <td>5 bedroom house for sale in sector 21a faridabad</td>\n",
       "      <td>https://www.99acres.com/5-bhk-bedroom-independ...</td>\n",
       "      <td>NaN</td>\n",
       "      <td>570.0</td>\n",
       "      <td>105751.0</td>\n",
       "      <td>538.00</td>\n",
       "      <td>5.0</td>\n",
       "      <td>4.0</td>\n",
       "      <td>2.0</td>\n",
       "      <td>2.0</td>\n",
       "      <td>...</td>\n",
       "      <td>539.0</td>\n",
       "      <td>NaN</td>\n",
       "      <td>NaN</td>\n",
       "      <td>0</td>\n",
       "      <td>1</td>\n",
       "      <td>1</td>\n",
       "      <td>1</td>\n",
       "      <td>0</td>\n",
       "      <td>sector 21a</td>\n",
       "      <td>0</td>\n",
       "    </tr>\n",
       "    <tr>\n",
       "      <th>2</th>\n",
       "      <td>10 bedroom house for sale in sushant lok phase 1</td>\n",
       "      <td>https://www.99acres.com/10-bhk-bedroom-indepen...</td>\n",
       "      <td>NaN</td>\n",
       "      <td>210.0</td>\n",
       "      <td>38251.0</td>\n",
       "      <td>548.76</td>\n",
       "      <td>10.0</td>\n",
       "      <td>10.0</td>\n",
       "      <td>-1.0</td>\n",
       "      <td>5.0</td>\n",
       "      <td>...</td>\n",
       "      <td>61.0</td>\n",
       "      <td>NaN</td>\n",
       "      <td>NaN</td>\n",
       "      <td>0</td>\n",
       "      <td>1</td>\n",
       "      <td>0</td>\n",
       "      <td>0</td>\n",
       "      <td>0</td>\n",
       "      <td>sector 43</td>\n",
       "      <td>0</td>\n",
       "    </tr>\n",
       "  </tbody>\n",
       "</table>\n",
       "<p>3 rows × 26 columns</p>\n",
       "</div>"
      ],
      "text/plain": [
       "                                      property_name  \\\n",
       "0    5 bedroom house for sale in sector 70a gurgaon   \n",
       "1  5 bedroom house for sale in sector 21a faridabad   \n",
       "2  10 bedroom house for sale in sushant lok phase 1   \n",
       "\n",
       "                                                link           society  price  \\\n",
       "0  https://www.99acres.com/5-bhk-bedroom-independ...  bptp visionnaire  525.0   \n",
       "1  https://www.99acres.com/5-bhk-bedroom-independ...               NaN  570.0   \n",
       "2  https://www.99acres.com/10-bhk-bedroom-indepen...               NaN  210.0   \n",
       "\n",
       "       rate     area  bedRoom  bathroom  balcony  totalFloors  ... plot_area  \\\n",
       "0   20115.0  2603.92      5.0       4.0     -1.0          3.0  ...     290.0   \n",
       "1  105751.0   538.00      5.0       4.0      2.0          2.0  ...     539.0   \n",
       "2   38251.0   548.76     10.0      10.0     -1.0          5.0  ...      61.0   \n",
       "\n",
       "  built_up_area carpet_area study room servant room store room  pooja room  \\\n",
       "0           NaN         NaN          0            1          0           0   \n",
       "1           NaN         NaN          0            1          1           1   \n",
       "2           NaN         NaN          0            1          0           0   \n",
       "\n",
       "   others      sector  furnish_type  \n",
       "0       0  sector 70a             0  \n",
       "1       0  sector 21a             0  \n",
       "2       0   sector 43             0  \n",
       "\n",
       "[3 rows x 26 columns]"
      ]
     },
     "execution_count": 3,
     "metadata": {},
     "output_type": "execute_result"
    }
   ],
   "source": [
    "df = pd.read_csv('data/processed/houses.csv')\n",
    "print(df.shape)\n",
    "df.head(3)"
   ]
  },
  {
   "cell_type": "code",
   "execution_count": 4,
   "metadata": {},
   "outputs": [
    {
     "name": "stdout",
     "output_type": "stream",
     "text": [
      "<class 'pandas.core.frame.DataFrame'>\n",
      "RangeIndex: 1034 entries, 0 to 1033\n",
      "Data columns (total 26 columns):\n",
      " #   Column           Non-Null Count  Dtype  \n",
      "---  ------           --------------  -----  \n",
      " 0   property_name    1034 non-null   object \n",
      " 1   link             1034 non-null   object \n",
      " 2   society          453 non-null    object \n",
      " 3   price            958 non-null    float64\n",
      " 4   rate             1005 non-null   float64\n",
      " 5   area             1034 non-null   float64\n",
      " 6   bedRoom          977 non-null    float64\n",
      " 7   bathroom         977 non-null    float64\n",
      " 8   balcony          977 non-null    float64\n",
      " 9   totalFloors      957 non-null    float64\n",
      " 10  facing           673 non-null    object \n",
      " 11  agePossession    1034 non-null   object \n",
      " 12  nearbyLocations  1034 non-null   object \n",
      " 13  description      1026 non-null   object \n",
      " 14  features         674 non-null    object \n",
      " 15  property_id      1026 non-null   object \n",
      " 16  plot_area        779 non-null    float64\n",
      " 17  built_up_area    291 non-null    float64\n",
      " 18  carpet_area      184 non-null    float64\n",
      " 19  study room       1034 non-null   int64  \n",
      " 20  servant room     1034 non-null   int64  \n",
      " 21  store room       1034 non-null   int64  \n",
      " 22  pooja room       1034 non-null   int64  \n",
      " 23  others           1034 non-null   int64  \n",
      " 24  sector           904 non-null    object \n",
      " 25  furnish_type     1034 non-null   int64  \n",
      "dtypes: float64(10), int64(6), object(10)\n",
      "memory usage: 210.2+ KB\n"
     ]
    }
   ],
   "source": [
    "df.info()"
   ]
  },
  {
   "cell_type": "code",
   "execution_count": 5,
   "metadata": {},
   "outputs": [
    {
     "data": {
      "text/plain": [
       "property_name        0\n",
       "link                 0\n",
       "society            581\n",
       "price               76\n",
       "rate                29\n",
       "area                 0\n",
       "bedRoom             57\n",
       "bathroom            57\n",
       "balcony             57\n",
       "totalFloors         77\n",
       "facing             361\n",
       "agePossession        0\n",
       "nearbyLocations      0\n",
       "description          8\n",
       "features           360\n",
       "property_id          8\n",
       "plot_area          255\n",
       "built_up_area      743\n",
       "carpet_area        850\n",
       "study room           0\n",
       "servant room         0\n",
       "store room           0\n",
       "pooja room           0\n",
       "others               0\n",
       "sector             130\n",
       "furnish_type         0\n",
       "dtype: int64"
      ]
     },
     "execution_count": 5,
     "metadata": {},
     "output_type": "execute_result"
    }
   ],
   "source": [
    "df.isnull().sum()"
   ]
  },
  {
   "cell_type": "markdown",
   "metadata": {},
   "source": [
    "## society"
   ]
  },
  {
   "cell_type": "code",
   "execution_count": 6,
   "metadata": {},
   "outputs": [
    {
     "data": {
      "text/plain": [
       "184"
      ]
     },
     "execution_count": 6,
     "metadata": {},
     "output_type": "execute_result"
    }
   ],
   "source": [
    "df['society'].nunique()"
   ]
  },
  {
   "cell_type": "code",
   "execution_count": 7,
   "metadata": {},
   "outputs": [
    {
     "data": {
      "text/plain": [
       "array(['bptp visionnaire', nan, 'emaar mgf marbella',\n",
       "       'luxury dlf city floors', 'sushant lok 1 builder floors',\n",
       "       'dlf city plots phase 3', 'dlf city plots phase 2',\n",
       "       'unitech espace', 'vipul tatvam villa',\n",
       "       'ansal sushant lok plots4.1 ★', 'grover homes sec 4',\n",
       "       'ansal api esencia3.7 ★', 'floor wise designer kothi',\n",
       "       'suncity essel towers4.2 ★', 'sector 37', 'nul',\n",
       "       'experion windchants3.8 ★', 'uppal southend4.0 ★',\n",
       "       'dlf new town heights3.7 ★', 'dlf new town heights 24.0 ★'],\n",
       "      dtype=object)"
      ]
     },
     "execution_count": 7,
     "metadata": {},
     "output_type": "execute_result"
    }
   ],
   "source": [
    "df['society'].unique()[:20]"
   ]
  },
  {
   "cell_type": "code",
   "execution_count": 8,
   "metadata": {},
   "outputs": [
    {
     "data": {
      "text/plain": [
       "182"
      ]
     },
     "execution_count": 8,
     "metadata": {},
     "output_type": "execute_result"
    }
   ],
   "source": [
    "df['society'] = df['society'].str.replace(r'\\d+\\.?\\d+\\s?.', '', regex=True)\n",
    "df['society'].nunique()"
   ]
  },
  {
   "cell_type": "markdown",
   "metadata": {},
   "source": [
    "## rate >> price_per_sqft"
   ]
  },
  {
   "cell_type": "code",
   "execution_count": 9,
   "metadata": {},
   "outputs": [],
   "source": [
    "df.rename(columns={'rate': 'price_per_sqft'}, inplace=True)"
   ]
  },
  {
   "cell_type": "markdown",
   "metadata": {},
   "source": [
    "## price"
   ]
  },
  {
   "cell_type": "code",
   "execution_count": 10,
   "metadata": {},
   "outputs": [
    {
     "name": "stdout",
     "output_type": "stream",
     "text": [
      "(76, 26)\n"
     ]
    },
    {
     "data": {
      "text/html": [
       "<div>\n",
       "<style scoped>\n",
       "    .dataframe tbody tr th:only-of-type {\n",
       "        vertical-align: middle;\n",
       "    }\n",
       "\n",
       "    .dataframe tbody tr th {\n",
       "        vertical-align: top;\n",
       "    }\n",
       "\n",
       "    .dataframe thead th {\n",
       "        text-align: right;\n",
       "    }\n",
       "</style>\n",
       "<table border=\"1\" class=\"dataframe\">\n",
       "  <thead>\n",
       "    <tr style=\"text-align: right;\">\n",
       "      <th></th>\n",
       "      <th>property_name</th>\n",
       "      <th>link</th>\n",
       "      <th>society</th>\n",
       "      <th>price</th>\n",
       "      <th>price_per_sqft</th>\n",
       "      <th>area</th>\n",
       "      <th>bedRoom</th>\n",
       "      <th>bathroom</th>\n",
       "      <th>balcony</th>\n",
       "      <th>totalFloors</th>\n",
       "      <th>...</th>\n",
       "      <th>plot_area</th>\n",
       "      <th>built_up_area</th>\n",
       "      <th>carpet_area</th>\n",
       "      <th>study room</th>\n",
       "      <th>servant room</th>\n",
       "      <th>store room</th>\n",
       "      <th>pooja room</th>\n",
       "      <th>others</th>\n",
       "      <th>sector</th>\n",
       "      <th>furnish_type</th>\n",
       "    </tr>\n",
       "  </thead>\n",
       "  <tbody>\n",
       "    <tr>\n",
       "      <th>47</th>\n",
       "      <td>5 bedroom house for sale in sector 66 gurgaon</td>\n",
       "      <td>https://www.99acres.com/5-bhk-bedroom-independ...</td>\n",
       "      <td>emaar mgf marbella</td>\n",
       "      <td>NaN</td>\n",
       "      <td>NaN</td>\n",
       "      <td>3152.68</td>\n",
       "      <td>5.0</td>\n",
       "      <td>5.0</td>\n",
       "      <td>-1.0</td>\n",
       "      <td>3.0</td>\n",
       "      <td>...</td>\n",
       "      <td>350.0</td>\n",
       "      <td>NaN</td>\n",
       "      <td>NaN</td>\n",
       "      <td>1</td>\n",
       "      <td>1</td>\n",
       "      <td>0</td>\n",
       "      <td>1</td>\n",
       "      <td>0</td>\n",
       "      <td>sector 66</td>\n",
       "      <td>0</td>\n",
       "    </tr>\n",
       "    <tr>\n",
       "      <th>62</th>\n",
       "      <td>5 bedroom house for sale in sector 109 gurgaon</td>\n",
       "      <td>https://www.99acres.com/5-bhk-bedroom-independ...</td>\n",
       "      <td>international city by sobha phase 2</td>\n",
       "      <td>NaN</td>\n",
       "      <td>13622.0</td>\n",
       "      <td>7327.56</td>\n",
       "      <td>NaN</td>\n",
       "      <td>NaN</td>\n",
       "      <td>NaN</td>\n",
       "      <td>NaN</td>\n",
       "      <td>...</td>\n",
       "      <td>NaN</td>\n",
       "      <td>NaN</td>\n",
       "      <td>NaN</td>\n",
       "      <td>0</td>\n",
       "      <td>0</td>\n",
       "      <td>0</td>\n",
       "      <td>0</td>\n",
       "      <td>0</td>\n",
       "      <td>sector 109</td>\n",
       "      <td>0</td>\n",
       "    </tr>\n",
       "    <tr>\n",
       "      <th>63</th>\n",
       "      <td>4 bedroom house for sale in sector 109 gurgaon</td>\n",
       "      <td>https://www.99acres.com/4-bhk-bedroom-independ...</td>\n",
       "      <td>international city by sobha phase 2</td>\n",
       "      <td>NaN</td>\n",
       "      <td>13909.0</td>\n",
       "      <td>4217.92</td>\n",
       "      <td>NaN</td>\n",
       "      <td>NaN</td>\n",
       "      <td>NaN</td>\n",
       "      <td>NaN</td>\n",
       "      <td>...</td>\n",
       "      <td>NaN</td>\n",
       "      <td>NaN</td>\n",
       "      <td>NaN</td>\n",
       "      <td>0</td>\n",
       "      <td>0</td>\n",
       "      <td>0</td>\n",
       "      <td>0</td>\n",
       "      <td>0</td>\n",
       "      <td>sector 109</td>\n",
       "      <td>0</td>\n",
       "    </tr>\n",
       "  </tbody>\n",
       "</table>\n",
       "<p>3 rows × 26 columns</p>\n",
       "</div>"
      ],
      "text/plain": [
       "                                     property_name  \\\n",
       "47   5 bedroom house for sale in sector 66 gurgaon   \n",
       "62  5 bedroom house for sale in sector 109 gurgaon   \n",
       "63  4 bedroom house for sale in sector 109 gurgaon   \n",
       "\n",
       "                                                 link  \\\n",
       "47  https://www.99acres.com/5-bhk-bedroom-independ...   \n",
       "62  https://www.99acres.com/5-bhk-bedroom-independ...   \n",
       "63  https://www.99acres.com/4-bhk-bedroom-independ...   \n",
       "\n",
       "                                society  price  price_per_sqft     area  \\\n",
       "47                   emaar mgf marbella    NaN             NaN  3152.68   \n",
       "62  international city by sobha phase 2    NaN         13622.0  7327.56   \n",
       "63  international city by sobha phase 2    NaN         13909.0  4217.92   \n",
       "\n",
       "    bedRoom  bathroom  balcony  totalFloors  ... plot_area built_up_area  \\\n",
       "47      5.0       5.0     -1.0          3.0  ...     350.0           NaN   \n",
       "62      NaN       NaN      NaN          NaN  ...       NaN           NaN   \n",
       "63      NaN       NaN      NaN          NaN  ...       NaN           NaN   \n",
       "\n",
       "   carpet_area study room servant room store room  pooja room  others  \\\n",
       "47         NaN          1            1          0           1       0   \n",
       "62         NaN          0            0          0           0       0   \n",
       "63         NaN          0            0          0           0       0   \n",
       "\n",
       "        sector  furnish_type  \n",
       "47   sector 66             0  \n",
       "62  sector 109             0  \n",
       "63  sector 109             0  \n",
       "\n",
       "[3 rows x 26 columns]"
      ]
     },
     "execution_count": 10,
     "metadata": {},
     "output_type": "execute_result"
    }
   ],
   "source": [
    "null_price_df = df[df['price'].isnull()].copy()\n",
    "print(null_price_df.shape)\n",
    "null_price_df.head(3)"
   ]
  },
  {
   "cell_type": "code",
   "execution_count": 11,
   "metadata": {},
   "outputs": [
    {
     "data": {
      "text/plain": [
       "Index([  47,   62,   63,   66,   67,   68,   69,   70,   71,   72,   73,   74,\n",
       "         75,   76,   77,   78,   81,   82,   83,   84,   85,   86,   87,   88,\n",
       "         89,   92,   93,   94,   95,   96,   97,   98,   99,  100,  102,  103,\n",
       "        104,  105,  110,  111,  115,  250,  271,  275,  276,  282,  288,  289,\n",
       "        290,  291,  292,  295,  314,  315,  316,  317,  320,  321,  322,  366,\n",
       "        430,  438,  455,  575,  721,  729,  758,  785,  793,  810,  834,  837,\n",
       "        910,  993, 1013, 1014],\n",
       "      dtype='int64')"
      ]
     },
     "execution_count": 11,
     "metadata": {},
     "output_type": "execute_result"
    }
   ],
   "source": [
    "null_price_df.index"
   ]
  },
  {
   "cell_type": "code",
   "execution_count": 12,
   "metadata": {},
   "outputs": [],
   "source": [
    "null_price_df['price_per_sqft'].fillna(0, inplace=True)\n",
    "null_price_df['area'].fillna(0, inplace=True)"
   ]
  },
  {
   "cell_type": "code",
   "execution_count": 13,
   "metadata": {},
   "outputs": [],
   "source": [
    "null_price_df['price'] = (\n",
    "    null_price_df['price_per_sqft'].mul(null_price_df['area']).div(1_00_000).round(2)\n",
    ")"
   ]
  },
  {
   "cell_type": "code",
   "execution_count": 14,
   "metadata": {},
   "outputs": [],
   "source": [
    "null_price_df['price'] = null_price_df['price'].apply(lambda x: np.nan if x == 0 else x)"
   ]
  },
  {
   "cell_type": "code",
   "execution_count": 15,
   "metadata": {},
   "outputs": [],
   "source": [
    "df.loc[null_price_df.index, 'price'] = null_price_df['price']"
   ]
  },
  {
   "cell_type": "code",
   "execution_count": 16,
   "metadata": {},
   "outputs": [
    {
     "data": {
      "text/plain": [
       "29"
      ]
     },
     "execution_count": 16,
     "metadata": {},
     "output_type": "execute_result"
    }
   ],
   "source": [
    "df['price'].isnull().sum()"
   ]
  },
  {
   "cell_type": "markdown",
   "metadata": {},
   "source": [
    "## plot_area, built_up_area, carpet_area"
   ]
  },
  {
   "cell_type": "code",
   "execution_count": 17,
   "metadata": {},
   "outputs": [
    {
     "data": {
      "text/html": [
       "<div>\n",
       "<style scoped>\n",
       "    .dataframe tbody tr th:only-of-type {\n",
       "        vertical-align: middle;\n",
       "    }\n",
       "\n",
       "    .dataframe tbody tr th {\n",
       "        vertical-align: top;\n",
       "    }\n",
       "\n",
       "    .dataframe thead th {\n",
       "        text-align: right;\n",
       "    }\n",
       "</style>\n",
       "<table border=\"1\" class=\"dataframe\">\n",
       "  <thead>\n",
       "    <tr style=\"text-align: right;\">\n",
       "      <th></th>\n",
       "      <th>area</th>\n",
       "      <th>plot_area</th>\n",
       "      <th>built_up_area</th>\n",
       "      <th>carpet_area</th>\n",
       "    </tr>\n",
       "  </thead>\n",
       "  <tbody>\n",
       "    <tr>\n",
       "      <th>415</th>\n",
       "      <td>430.40</td>\n",
       "      <td>NaN</td>\n",
       "      <td>NaN</td>\n",
       "      <td>435.0</td>\n",
       "    </tr>\n",
       "    <tr>\n",
       "      <th>412</th>\n",
       "      <td>1463.36</td>\n",
       "      <td>1460.0</td>\n",
       "      <td>NaN</td>\n",
       "      <td>NaN</td>\n",
       "    </tr>\n",
       "    <tr>\n",
       "      <th>359</th>\n",
       "      <td>602.56</td>\n",
       "      <td>NaN</td>\n",
       "      <td>NaN</td>\n",
       "      <td>600.0</td>\n",
       "    </tr>\n",
       "    <tr>\n",
       "      <th>298</th>\n",
       "      <td>1796.92</td>\n",
       "      <td>200.0</td>\n",
       "      <td>NaN</td>\n",
       "      <td>NaN</td>\n",
       "    </tr>\n",
       "    <tr>\n",
       "      <th>681</th>\n",
       "      <td>903.84</td>\n",
       "      <td>900.0</td>\n",
       "      <td>NaN</td>\n",
       "      <td>NaN</td>\n",
       "    </tr>\n",
       "    <tr>\n",
       "      <th>839</th>\n",
       "      <td>3238.76</td>\n",
       "      <td>360.0</td>\n",
       "      <td>NaN</td>\n",
       "      <td>NaN</td>\n",
       "    </tr>\n",
       "    <tr>\n",
       "      <th>831</th>\n",
       "      <td>3238.76</td>\n",
       "      <td>360.0</td>\n",
       "      <td>NaN</td>\n",
       "      <td>NaN</td>\n",
       "    </tr>\n",
       "    <tr>\n",
       "      <th>959</th>\n",
       "      <td>236.72</td>\n",
       "      <td>232.0</td>\n",
       "      <td>NaN</td>\n",
       "      <td>NaN</td>\n",
       "    </tr>\n",
       "    <tr>\n",
       "      <th>566</th>\n",
       "      <td>742.44</td>\n",
       "      <td>745.0</td>\n",
       "      <td>745.0</td>\n",
       "      <td>NaN</td>\n",
       "    </tr>\n",
       "    <tr>\n",
       "      <th>352</th>\n",
       "      <td>1796.92</td>\n",
       "      <td>200.0</td>\n",
       "      <td>NaN</td>\n",
       "      <td>NaN</td>\n",
       "    </tr>\n",
       "    <tr>\n",
       "      <th>199</th>\n",
       "      <td>1345.00</td>\n",
       "      <td>150.0</td>\n",
       "      <td>NaN</td>\n",
       "      <td>NaN</td>\n",
       "    </tr>\n",
       "    <tr>\n",
       "      <th>539</th>\n",
       "      <td>2840.64</td>\n",
       "      <td>316.0</td>\n",
       "      <td>NaN</td>\n",
       "      <td>NaN</td>\n",
       "    </tr>\n",
       "    <tr>\n",
       "      <th>663</th>\n",
       "      <td>8995.36</td>\n",
       "      <td>1000.0</td>\n",
       "      <td>NaN</td>\n",
       "      <td>NaN</td>\n",
       "    </tr>\n",
       "    <tr>\n",
       "      <th>679</th>\n",
       "      <td>6994.00</td>\n",
       "      <td>7000.0</td>\n",
       "      <td>NaN</td>\n",
       "      <td>NaN</td>\n",
       "    </tr>\n",
       "    <tr>\n",
       "      <th>801</th>\n",
       "      <td>7198.44</td>\n",
       "      <td>800.0</td>\n",
       "      <td>NaN</td>\n",
       "      <td>NaN</td>\n",
       "    </tr>\n",
       "    <tr>\n",
       "      <th>261</th>\n",
       "      <td>1495.64</td>\n",
       "      <td>NaN</td>\n",
       "      <td>1500.0</td>\n",
       "      <td>NaN</td>\n",
       "    </tr>\n",
       "    <tr>\n",
       "      <th>695</th>\n",
       "      <td>1345.00</td>\n",
       "      <td>150.0</td>\n",
       "      <td>NaN</td>\n",
       "      <td>NaN</td>\n",
       "    </tr>\n",
       "    <tr>\n",
       "      <th>943</th>\n",
       "      <td>1700.08</td>\n",
       "      <td>1700.0</td>\n",
       "      <td>NaN</td>\n",
       "      <td>NaN</td>\n",
       "    </tr>\n",
       "    <tr>\n",
       "      <th>302</th>\n",
       "      <td>451.92</td>\n",
       "      <td>450.0</td>\n",
       "      <td>NaN</td>\n",
       "      <td>NaN</td>\n",
       "    </tr>\n",
       "    <tr>\n",
       "      <th>678</th>\n",
       "      <td>2001.36</td>\n",
       "      <td>2000.0</td>\n",
       "      <td>NaN</td>\n",
       "      <td>NaN</td>\n",
       "    </tr>\n",
       "  </tbody>\n",
       "</table>\n",
       "</div>"
      ],
      "text/plain": [
       "        area  plot_area  built_up_area  carpet_area\n",
       "415   430.40        NaN            NaN        435.0\n",
       "412  1463.36     1460.0            NaN          NaN\n",
       "359   602.56        NaN            NaN        600.0\n",
       "298  1796.92      200.0            NaN          NaN\n",
       "681   903.84      900.0            NaN          NaN\n",
       "839  3238.76      360.0            NaN          NaN\n",
       "831  3238.76      360.0            NaN          NaN\n",
       "959   236.72      232.0            NaN          NaN\n",
       "566   742.44      745.0          745.0          NaN\n",
       "352  1796.92      200.0            NaN          NaN\n",
       "199  1345.00      150.0            NaN          NaN\n",
       "539  2840.64      316.0            NaN          NaN\n",
       "663  8995.36     1000.0            NaN          NaN\n",
       "679  6994.00     7000.0            NaN          NaN\n",
       "801  7198.44      800.0            NaN          NaN\n",
       "261  1495.64        NaN         1500.0          NaN\n",
       "695  1345.00      150.0            NaN          NaN\n",
       "943  1700.08     1700.0            NaN          NaN\n",
       "302   451.92      450.0            NaN          NaN\n",
       "678  2001.36     2000.0            NaN          NaN"
      ]
     },
     "execution_count": 17,
     "metadata": {},
     "output_type": "execute_result"
    }
   ],
   "source": [
    "df[['area', 'plot_area', 'built_up_area', 'carpet_area']].sample(20)"
   ]
  },
  {
   "cell_type": "code",
   "execution_count": 21,
   "metadata": {},
   "outputs": [
    {
     "data": {
      "text/html": [
       "<div>\n",
       "<style scoped>\n",
       "    .dataframe tbody tr th:only-of-type {\n",
       "        vertical-align: middle;\n",
       "    }\n",
       "\n",
       "    .dataframe tbody tr th {\n",
       "        vertical-align: top;\n",
       "    }\n",
       "\n",
       "    .dataframe thead th {\n",
       "        text-align: right;\n",
       "    }\n",
       "</style>\n",
       "<table border=\"1\" class=\"dataframe\">\n",
       "  <thead>\n",
       "    <tr style=\"text-align: right;\">\n",
       "      <th></th>\n",
       "      <th>property_name</th>\n",
       "      <th>link</th>\n",
       "      <th>society</th>\n",
       "      <th>price</th>\n",
       "      <th>price_per_sqft</th>\n",
       "      <th>area</th>\n",
       "      <th>bedRoom</th>\n",
       "      <th>bathroom</th>\n",
       "      <th>balcony</th>\n",
       "      <th>totalFloors</th>\n",
       "      <th>facing</th>\n",
       "      <th>agePossession</th>\n",
       "      <th>nearbyLocations</th>\n",
       "      <th>description</th>\n",
       "      <th>features</th>\n",
       "      <th>property_id</th>\n",
       "      <th>plot_area</th>\n",
       "      <th>built_up_area</th>\n",
       "      <th>carpet_area</th>\n",
       "      <th>study room</th>\n",
       "      <th>servant room</th>\n",
       "      <th>store room</th>\n",
       "      <th>pooja room</th>\n",
       "      <th>others</th>\n",
       "      <th>sector</th>\n",
       "      <th>furnish_type</th>\n",
       "    </tr>\n",
       "  </thead>\n",
       "  <tbody>\n",
       "    <tr>\n",
       "      <th>585</th>\n",
       "      <td>3 bedroom house for sale in golf course road</td>\n",
       "      <td>https://www.99acres.com/3-bhk-bedroom-independ...</td>\n",
       "      <td>NaN</td>\n",
       "      <td>160.0</td>\n",
       "      <td>160000.0</td>\n",
       "      <td>96.84</td>\n",
       "      <td>3.0</td>\n",
       "      <td>2.0</td>\n",
       "      <td>2.0</td>\n",
       "      <td>41.0</td>\n",
       "      <td>NaN</td>\n",
       "      <td>Relatively New</td>\n",
       "      <td>['sector 42-43 metro station', 'sector 53-54 m...</td>\n",
       "      <td>we have a house/villa available for sale in go...</td>\n",
       "      <td>NaN</td>\n",
       "      <td>g66408912</td>\n",
       "      <td>100.0</td>\n",
       "      <td>NaN</td>\n",
       "      <td>NaN</td>\n",
       "      <td>0</td>\n",
       "      <td>0</td>\n",
       "      <td>0</td>\n",
       "      <td>0</td>\n",
       "      <td>0</td>\n",
       "      <td>NaN</td>\n",
       "      <td>0</td>\n",
       "    </tr>\n",
       "  </tbody>\n",
       "</table>\n",
       "</div>"
      ],
      "text/plain": [
       "                                    property_name  \\\n",
       "585  3 bedroom house for sale in golf course road   \n",
       "\n",
       "                                                  link society  price  \\\n",
       "585  https://www.99acres.com/3-bhk-bedroom-independ...     NaN  160.0   \n",
       "\n",
       "     price_per_sqft   area  bedRoom  bathroom  balcony  totalFloors facing  \\\n",
       "585        160000.0  96.84      3.0       2.0      2.0         41.0    NaN   \n",
       "\n",
       "      agePossession                                    nearbyLocations  \\\n",
       "585  Relatively New  ['sector 42-43 metro station', 'sector 53-54 m...   \n",
       "\n",
       "                                           description features property_id  \\\n",
       "585  we have a house/villa available for sale in go...      NaN   g66408912   \n",
       "\n",
       "     plot_area  built_up_area  carpet_area  study room  servant room  \\\n",
       "585      100.0            NaN          NaN           0             0   \n",
       "\n",
       "     store room  pooja room  others sector  furnish_type  \n",
       "585           0           0       0    NaN             0  "
      ]
     },
     "execution_count": 21,
     "metadata": {},
     "output_type": "execute_result"
    }
   ],
   "source": [
    "df.loc[[585]]"
   ]
  }
 ],
 "metadata": {
  "kernelspec": {
   "display_name": "Python 3",
   "language": "python",
   "name": "python3"
  },
  "language_info": {
   "codemirror_mode": {
    "name": "ipython",
    "version": 3
   },
   "file_extension": ".py",
   "mimetype": "text/x-python",
   "name": "python",
   "nbconvert_exporter": "python",
   "pygments_lexer": "ipython3",
   "version": "3.11.0"
  },
  "orig_nbformat": 4
 },
 "nbformat": 4,
 "nbformat_minor": 2
}
