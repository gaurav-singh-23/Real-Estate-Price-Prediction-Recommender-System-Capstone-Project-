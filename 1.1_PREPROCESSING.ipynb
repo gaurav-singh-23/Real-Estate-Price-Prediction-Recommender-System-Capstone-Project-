{
 "cells": [
  {
   "cell_type": "code",
   "execution_count": 1,
   "metadata": {},
   "outputs": [],
   "source": [
    "from ast import literal_eval\n",
    "\n",
    "import pandas as pd\n",
    "import matplotlib.pyplot as plt\n",
    "import seaborn as sns"
   ]
  },
  {
   "cell_type": "code",
   "execution_count": 2,
   "metadata": {},
   "outputs": [],
   "source": [
    "plt.style.use('ggplot')\n",
    "pd.set_option('display.max_columns', None)"
   ]
  },
  {
   "cell_type": "code",
   "execution_count": 3,
   "metadata": {},
   "outputs": [
    {
     "name": "stdout",
     "output_type": "stream",
     "text": [
      "(10205, 24)\n"
     ]
    },
    {
     "data": {
      "text/html": [
       "<div>\n",
       "<style scoped>\n",
       "    .dataframe tbody tr th:only-of-type {\n",
       "        vertical-align: middle;\n",
       "    }\n",
       "\n",
       "    .dataframe tbody tr th {\n",
       "        vertical-align: top;\n",
       "    }\n",
       "\n",
       "    .dataframe thead th {\n",
       "        text-align: right;\n",
       "    }\n",
       "</style>\n",
       "<table border=\"1\" class=\"dataframe\">\n",
       "  <thead>\n",
       "    <tr style=\"text-align: right;\">\n",
       "      <th></th>\n",
       "      <th>SPID</th>\n",
       "      <th>PROP_ID</th>\n",
       "      <th>CITY</th>\n",
       "      <th>PRICE</th>\n",
       "      <th>PRICE_SQFT</th>\n",
       "      <th>AREA</th>\n",
       "      <th>SECONDARY_TAGS</th>\n",
       "      <th>TOTAL_LANDMARK_COUNT</th>\n",
       "      <th>FORMATTED_LANDMARK_DETAILS</th>\n",
       "      <th>MAP_DETAILS</th>\n",
       "      <th>PROP_HEADING</th>\n",
       "      <th>DESCRIPTION</th>\n",
       "      <th>PROPERTY_TYPE</th>\n",
       "      <th>location</th>\n",
       "      <th>FURNISH</th>\n",
       "      <th>FACING</th>\n",
       "      <th>AGE</th>\n",
       "      <th>TOTAL_FLOOR</th>\n",
       "      <th>FEATURES</th>\n",
       "      <th>BEDROOM_NUM</th>\n",
       "      <th>AMENITIES</th>\n",
       "      <th>PROP_NAME</th>\n",
       "      <th>BALCONY_NUM</th>\n",
       "      <th>FLOOR_NUM</th>\n",
       "    </tr>\n",
       "  </thead>\n",
       "  <tbody>\n",
       "    <tr>\n",
       "      <th>0</th>\n",
       "      <td>70597758</td>\n",
       "      <td>h70597758</td>\n",
       "      <td>gurgaon</td>\n",
       "      <td>31900000.0</td>\n",
       "      <td>20202.0</td>\n",
       "      <td>1579.0</td>\n",
       "      <td>['under construction', 'new booking', 'rera']</td>\n",
       "      <td>9.0</td>\n",
       "      <td>[{'text': '1 metro station'}, {'text': '1 shop...</td>\n",
       "      <td>{'latitude': '28.532594', 'longitude': '77.020...</td>\n",
       "      <td>3 bhk flat in sector 113 gurgaon</td>\n",
       "      <td>there is a 3 bhk apartment in sector 113, gurg...</td>\n",
       "      <td>residential apartment</td>\n",
       "      <td>{'city': '8', 'city_name': 'gurgaon', 'buildin...</td>\n",
       "      <td>0</td>\n",
       "      <td>0</td>\n",
       "      <td>5</td>\n",
       "      <td>25.0</td>\n",
       "      <td>n</td>\n",
       "      <td>3.0</td>\n",
       "      <td>NaN</td>\n",
       "      <td>la vida by tata housing</td>\n",
       "      <td>NaN</td>\n",
       "      <td>1.0</td>\n",
       "    </tr>\n",
       "    <tr>\n",
       "      <th>1</th>\n",
       "      <td>70436188</td>\n",
       "      <td>h70436188</td>\n",
       "      <td>gurgaon</td>\n",
       "      <td>18500000.0</td>\n",
       "      <td>9135.0</td>\n",
       "      <td>2025.0</td>\n",
       "      <td>['ready to move', 'new booking', 'rera']</td>\n",
       "      <td>12.0</td>\n",
       "      <td>[{'text': '1 metro station'}, {'text': '1 shop...</td>\n",
       "      <td>{'latitude': '28.3855771', 'longitude': '76.97...</td>\n",
       "      <td>3 bhk flat in sector 77 gurgaon</td>\n",
       "      <td>let your dream of owning a flat come true with...</td>\n",
       "      <td>residential apartment</td>\n",
       "      <td>{'city': '8', 'city_name': 'gurgaon', 'buildin...</td>\n",
       "      <td>0</td>\n",
       "      <td>0</td>\n",
       "      <td>6</td>\n",
       "      <td>24.0</td>\n",
       "      <td>n</td>\n",
       "      <td>3.0</td>\n",
       "      <td>NaN</td>\n",
       "      <td>emaar palm heights</td>\n",
       "      <td>NaN</td>\n",
       "      <td>1.0</td>\n",
       "    </tr>\n",
       "    <tr>\n",
       "      <th>2</th>\n",
       "      <td>70217014</td>\n",
       "      <td>l70217014</td>\n",
       "      <td>gurgaon</td>\n",
       "      <td>120600000.0</td>\n",
       "      <td>42736.0</td>\n",
       "      <td>2822.0</td>\n",
       "      <td>['under construction', 'new booking', 'rera']</td>\n",
       "      <td>9.0</td>\n",
       "      <td>[{'text': '1 metro station'}, {'text': '1 shop...</td>\n",
       "      <td>{'latitude': '28.4350568', 'longitude': '77.10...</td>\n",
       "      <td>5 bhk flat in sector 53 gurgaon</td>\n",
       "      <td>tulip monsella offers 5 bhk flats in sector 53...</td>\n",
       "      <td>residential apartment</td>\n",
       "      <td>{'city': '8', 'city_name': 'gurgaon', 'buildin...</td>\n",
       "      <td>0</td>\n",
       "      <td>0</td>\n",
       "      <td>5</td>\n",
       "      <td>20.0</td>\n",
       "      <td>n</td>\n",
       "      <td>5.0</td>\n",
       "      <td>NaN</td>\n",
       "      <td>tulip monsella</td>\n",
       "      <td>NaN</td>\n",
       "      <td>1.0</td>\n",
       "    </tr>\n",
       "    <tr>\n",
       "      <th>3</th>\n",
       "      <td>70217012</td>\n",
       "      <td>x70217012</td>\n",
       "      <td>gurgaon</td>\n",
       "      <td>95300000.0</td>\n",
       "      <td>42736.0</td>\n",
       "      <td>2229.0</td>\n",
       "      <td>['under construction', 'new booking', 'rera']</td>\n",
       "      <td>9.0</td>\n",
       "      <td>[{'text': '1 metro station'}, {'text': '1 shop...</td>\n",
       "      <td>{'latitude': '28.4350568', 'longitude': '77.10...</td>\n",
       "      <td>4 bhk flat in sector 53 gurgaon</td>\n",
       "      <td>tulip monsella offers 4 bhk flats in sector 53...</td>\n",
       "      <td>residential apartment</td>\n",
       "      <td>{'city': '8', 'city_name': 'gurgaon', 'buildin...</td>\n",
       "      <td>0</td>\n",
       "      <td>0</td>\n",
       "      <td>5</td>\n",
       "      <td>20.0</td>\n",
       "      <td>n</td>\n",
       "      <td>4.0</td>\n",
       "      <td>NaN</td>\n",
       "      <td>tulip monsella</td>\n",
       "      <td>NaN</td>\n",
       "      <td>1.0</td>\n",
       "    </tr>\n",
       "    <tr>\n",
       "      <th>4</th>\n",
       "      <td>70217010</td>\n",
       "      <td>a70217010</td>\n",
       "      <td>gurgaon</td>\n",
       "      <td>72000000.0</td>\n",
       "      <td>43834.0</td>\n",
       "      <td>1642.0</td>\n",
       "      <td>['under construction', 'new booking', 'rera']</td>\n",
       "      <td>9.0</td>\n",
       "      <td>[{'text': '1 metro station'}, {'text': '1 shop...</td>\n",
       "      <td>{'latitude': '28.4350568', 'longitude': '77.10...</td>\n",
       "      <td>3 bhk flat in sector 53 gurgaon</td>\n",
       "      <td>tulip monsella offers 3 bhk apartments in sect...</td>\n",
       "      <td>residential apartment</td>\n",
       "      <td>{'city': '8', 'city_name': 'gurgaon', 'buildin...</td>\n",
       "      <td>0</td>\n",
       "      <td>0</td>\n",
       "      <td>5</td>\n",
       "      <td>20.0</td>\n",
       "      <td>n</td>\n",
       "      <td>3.0</td>\n",
       "      <td>NaN</td>\n",
       "      <td>tulip monsella</td>\n",
       "      <td>NaN</td>\n",
       "      <td>1.0</td>\n",
       "    </tr>\n",
       "  </tbody>\n",
       "</table>\n",
       "</div>"
      ],
      "text/plain": [
       "       SPID    PROP_ID     CITY        PRICE  PRICE_SQFT    AREA  \\\n",
       "0  70597758  h70597758  gurgaon   31900000.0     20202.0  1579.0   \n",
       "1  70436188  h70436188  gurgaon   18500000.0      9135.0  2025.0   \n",
       "2  70217014  l70217014  gurgaon  120600000.0     42736.0  2822.0   \n",
       "3  70217012  x70217012  gurgaon   95300000.0     42736.0  2229.0   \n",
       "4  70217010  a70217010  gurgaon   72000000.0     43834.0  1642.0   \n",
       "\n",
       "                                  SECONDARY_TAGS  TOTAL_LANDMARK_COUNT  \\\n",
       "0  ['under construction', 'new booking', 'rera']                   9.0   \n",
       "1       ['ready to move', 'new booking', 'rera']                  12.0   \n",
       "2  ['under construction', 'new booking', 'rera']                   9.0   \n",
       "3  ['under construction', 'new booking', 'rera']                   9.0   \n",
       "4  ['under construction', 'new booking', 'rera']                   9.0   \n",
       "\n",
       "                          FORMATTED_LANDMARK_DETAILS  \\\n",
       "0  [{'text': '1 metro station'}, {'text': '1 shop...   \n",
       "1  [{'text': '1 metro station'}, {'text': '1 shop...   \n",
       "2  [{'text': '1 metro station'}, {'text': '1 shop...   \n",
       "3  [{'text': '1 metro station'}, {'text': '1 shop...   \n",
       "4  [{'text': '1 metro station'}, {'text': '1 shop...   \n",
       "\n",
       "                                         MAP_DETAILS  \\\n",
       "0  {'latitude': '28.532594', 'longitude': '77.020...   \n",
       "1  {'latitude': '28.3855771', 'longitude': '76.97...   \n",
       "2  {'latitude': '28.4350568', 'longitude': '77.10...   \n",
       "3  {'latitude': '28.4350568', 'longitude': '77.10...   \n",
       "4  {'latitude': '28.4350568', 'longitude': '77.10...   \n",
       "\n",
       "                       PROP_HEADING  \\\n",
       "0  3 bhk flat in sector 113 gurgaon   \n",
       "1   3 bhk flat in sector 77 gurgaon   \n",
       "2   5 bhk flat in sector 53 gurgaon   \n",
       "3   4 bhk flat in sector 53 gurgaon   \n",
       "4   3 bhk flat in sector 53 gurgaon   \n",
       "\n",
       "                                         DESCRIPTION          PROPERTY_TYPE  \\\n",
       "0  there is a 3 bhk apartment in sector 113, gurg...  residential apartment   \n",
       "1  let your dream of owning a flat come true with...  residential apartment   \n",
       "2  tulip monsella offers 5 bhk flats in sector 53...  residential apartment   \n",
       "3  tulip monsella offers 4 bhk flats in sector 53...  residential apartment   \n",
       "4  tulip monsella offers 3 bhk apartments in sect...  residential apartment   \n",
       "\n",
       "                                            location  FURNISH  FACING  AGE  \\\n",
       "0  {'city': '8', 'city_name': 'gurgaon', 'buildin...        0       0    5   \n",
       "1  {'city': '8', 'city_name': 'gurgaon', 'buildin...        0       0    6   \n",
       "2  {'city': '8', 'city_name': 'gurgaon', 'buildin...        0       0    5   \n",
       "3  {'city': '8', 'city_name': 'gurgaon', 'buildin...        0       0    5   \n",
       "4  {'city': '8', 'city_name': 'gurgaon', 'buildin...        0       0    5   \n",
       "\n",
       "   TOTAL_FLOOR FEATURES  BEDROOM_NUM AMENITIES                PROP_NAME  \\\n",
       "0         25.0        n          3.0       NaN  la vida by tata housing   \n",
       "1         24.0        n          3.0       NaN       emaar palm heights   \n",
       "2         20.0        n          5.0       NaN           tulip monsella   \n",
       "3         20.0        n          4.0       NaN           tulip monsella   \n",
       "4         20.0        n          3.0       NaN           tulip monsella   \n",
       "\n",
       "   BALCONY_NUM FLOOR_NUM  \n",
       "0          NaN       1.0  \n",
       "1          NaN       1.0  \n",
       "2          NaN       1.0  \n",
       "3          NaN       1.0  \n",
       "4          NaN       1.0  "
      ]
     },
     "execution_count": 3,
     "metadata": {},
     "output_type": "execute_result"
    }
   ],
   "source": [
    "df = pd.read_csv('data/processed/gurgaon_10k.csv')\n",
    "print(df.shape)\n",
    "df.head()"
   ]
  },
  {
   "cell_type": "code",
   "execution_count": 4,
   "metadata": {},
   "outputs": [
    {
     "data": {
      "text/plain": [
       "Index(['SPID', 'PROP_ID', 'CITY', 'PRICE', 'PRICE_SQFT', 'AREA',\n",
       "       'SECONDARY_TAGS', 'TOTAL_LANDMARK_COUNT', 'FORMATTED_LANDMARK_DETAILS',\n",
       "       'MAP_DETAILS', 'PROP_HEADING', 'DESCRIPTION', 'PROPERTY_TYPE',\n",
       "       'location', 'FURNISH', 'FACING', 'AGE', 'TOTAL_FLOOR', 'FEATURES',\n",
       "       'BEDROOM_NUM', 'AMENITIES', 'PROP_NAME', 'BALCONY_NUM', 'FLOOR_NUM'],\n",
       "      dtype='object')"
      ]
     },
     "execution_count": 4,
     "metadata": {},
     "output_type": "execute_result"
    }
   ],
   "source": [
    "df.columns"
   ]
  },
  {
   "cell_type": "code",
   "execution_count": 5,
   "metadata": {},
   "outputs": [
    {
     "name": "stdout",
     "output_type": "stream",
     "text": [
      "<class 'pandas.core.frame.DataFrame'>\n",
      "RangeIndex: 10205 entries, 0 to 10204\n",
      "Data columns (total 24 columns):\n",
      " #   Column                      Non-Null Count  Dtype  \n",
      "---  ------                      --------------  -----  \n",
      " 0   SPID                        10205 non-null  int64  \n",
      " 1   PROP_ID                     10205 non-null  object \n",
      " 2   CITY                        10205 non-null  object \n",
      " 3   PRICE                       10205 non-null  float64\n",
      " 4   PRICE_SQFT                  10205 non-null  float64\n",
      " 5   AREA                        10205 non-null  float64\n",
      " 6   SECONDARY_TAGS              10205 non-null  object \n",
      " 7   TOTAL_LANDMARK_COUNT        10090 non-null  float64\n",
      " 8   FORMATTED_LANDMARK_DETAILS  10090 non-null  object \n",
      " 9   MAP_DETAILS                 10205 non-null  object \n",
      " 10  PROP_HEADING                10205 non-null  object \n",
      " 11  DESCRIPTION                 10205 non-null  object \n",
      " 12  PROPERTY_TYPE               10205 non-null  object \n",
      " 13  location                    10205 non-null  object \n",
      " 14  FURNISH                     10205 non-null  int64  \n",
      " 15  FACING                      10205 non-null  int64  \n",
      " 16  AGE                         10205 non-null  int64  \n",
      " 17  TOTAL_FLOOR                 10154 non-null  float64\n",
      " 18  FEATURES                    10205 non-null  object \n",
      " 19  BEDROOM_NUM                 9203 non-null   float64\n",
      " 20  AMENITIES                   9930 non-null   object \n",
      " 21  PROP_NAME                   8367 non-null   object \n",
      " 22  BALCONY_NUM                 9053 non-null   float64\n",
      " 23  FLOOR_NUM                   8474 non-null   object \n",
      "dtypes: float64(7), int64(4), object(13)\n",
      "memory usage: 1.9+ MB\n"
     ]
    }
   ],
   "source": [
    "df.info()"
   ]
  },
  {
   "cell_type": "code",
   "execution_count": 6,
   "metadata": {},
   "outputs": [
    {
     "data": {
      "text/plain": [
       "SPID                             0\n",
       "PROP_ID                          0\n",
       "CITY                             0\n",
       "PRICE                            0\n",
       "PRICE_SQFT                       0\n",
       "AREA                             0\n",
       "SECONDARY_TAGS                   0\n",
       "TOTAL_LANDMARK_COUNT           115\n",
       "FORMATTED_LANDMARK_DETAILS     115\n",
       "MAP_DETAILS                      0\n",
       "PROP_HEADING                     0\n",
       "DESCRIPTION                      0\n",
       "PROPERTY_TYPE                    0\n",
       "location                         0\n",
       "FURNISH                          0\n",
       "FACING                           0\n",
       "AGE                              0\n",
       "TOTAL_FLOOR                     51\n",
       "FEATURES                         0\n",
       "BEDROOM_NUM                   1002\n",
       "AMENITIES                      275\n",
       "PROP_NAME                     1838\n",
       "BALCONY_NUM                   1152\n",
       "FLOOR_NUM                     1731\n",
       "dtype: int64"
      ]
     },
     "execution_count": 6,
     "metadata": {},
     "output_type": "execute_result"
    }
   ],
   "source": [
    "df.isnull().sum()"
   ]
  },
  {
   "cell_type": "markdown",
   "metadata": {},
   "source": [
    "## CITY"
   ]
  },
  {
   "cell_type": "code",
   "execution_count": 7,
   "metadata": {},
   "outputs": [
    {
     "data": {
      "text/plain": [
       "CITY\n",
       "gurgaon    10205\n",
       "Name: count, dtype: int64"
      ]
     },
     "execution_count": 7,
     "metadata": {},
     "output_type": "execute_result"
    }
   ],
   "source": [
    "df['CITY'].value_counts()"
   ]
  },
  {
   "cell_type": "markdown",
   "metadata": {},
   "source": [
    "## SECONDARY_TAGS"
   ]
  },
  {
   "cell_type": "code",
   "execution_count": 8,
   "metadata": {},
   "outputs": [
    {
     "data": {
      "text/plain": [
       "8740    ['ready to move', 'resale', 'rera']\n",
       "7129            ['ready to move', 'resale']\n",
       "5787            ['ready to move', 'resale']\n",
       "5657            ['ready to move', 'resale']\n",
       "4541    ['ready to move', 'resale', 'rera']\n",
       "Name: SECONDARY_TAGS, dtype: object"
      ]
     },
     "execution_count": 8,
     "metadata": {},
     "output_type": "execute_result"
    }
   ],
   "source": [
    "df['SECONDARY_TAGS'].sample(5)"
   ]
  },
  {
   "cell_type": "code",
   "execution_count": 9,
   "metadata": {},
   "outputs": [],
   "source": [
    "df['SECONDARY_TAGS'] = df['SECONDARY_TAGS'].apply(literal_eval)"
   ]
  },
  {
   "cell_type": "code",
   "execution_count": 10,
   "metadata": {},
   "outputs": [
    {
     "data": {
      "text/plain": [
       "array(['under construction', 'new booking', 'rera', 'ready to move',\n",
       "       'resale', 'new launch', 'north facing', 'in gated community',\n",
       "       'huda approved', 'hsiidc approved', 'hhb approved',\n",
       "       'corner property', 'for single men', 'for single women', nan,\n",
       "       'furnished', 'east facing', 'north-east facing',\n",
       "       'authority approved'], dtype=object)"
      ]
     },
     "execution_count": 10,
     "metadata": {},
     "output_type": "execute_result"
    }
   ],
   "source": [
    "df['SECONDARY_TAGS'].explode().unique()"
   ]
  },
  {
   "cell_type": "markdown",
   "metadata": {},
   "source": [
    "I think `SECONDARY_TAGS` is not a important feature it contains diiferent values which already some feature in the dataset like _facing, furnished, approved, etc._"
   ]
  },
  {
   "cell_type": "markdown",
   "metadata": {},
   "source": [
    "## TOTAL_LANDMARK_COUNT"
   ]
  },
  {
   "cell_type": "code",
   "execution_count": 11,
   "metadata": {},
   "outputs": [
    {
     "data": {
      "text/plain": [
       "6080    10.0\n",
       "8544     9.0\n",
       "9662     7.0\n",
       "9912     6.0\n",
       "5502    12.0\n",
       "1227    15.0\n",
       "4785     5.0\n",
       "Name: TOTAL_LANDMARK_COUNT, dtype: float64"
      ]
     },
     "execution_count": 11,
     "metadata": {},
     "output_type": "execute_result"
    }
   ],
   "source": [
    "df['TOTAL_LANDMARK_COUNT'].sample(7)"
   ]
  },
  {
   "cell_type": "code",
   "execution_count": 12,
   "metadata": {},
   "outputs": [
    {
     "data": {
      "text/plain": [
       "115"
      ]
     },
     "execution_count": 12,
     "metadata": {},
     "output_type": "execute_result"
    }
   ],
   "source": [
    "df['TOTAL_LANDMARK_COUNT'].isnull().sum()"
   ]
  },
  {
   "cell_type": "code",
   "execution_count": 13,
   "metadata": {},
   "outputs": [
    {
     "data": {
      "text/html": [
       "<div>\n",
       "<style scoped>\n",
       "    .dataframe tbody tr th:only-of-type {\n",
       "        vertical-align: middle;\n",
       "    }\n",
       "\n",
       "    .dataframe tbody tr th {\n",
       "        vertical-align: top;\n",
       "    }\n",
       "\n",
       "    .dataframe thead th {\n",
       "        text-align: right;\n",
       "    }\n",
       "</style>\n",
       "<table border=\"1\" class=\"dataframe\">\n",
       "  <thead>\n",
       "    <tr style=\"text-align: right;\">\n",
       "      <th></th>\n",
       "      <th>SPID</th>\n",
       "      <th>PROP_ID</th>\n",
       "      <th>CITY</th>\n",
       "      <th>PRICE</th>\n",
       "      <th>PRICE_SQFT</th>\n",
       "      <th>AREA</th>\n",
       "      <th>SECONDARY_TAGS</th>\n",
       "      <th>TOTAL_LANDMARK_COUNT</th>\n",
       "      <th>FORMATTED_LANDMARK_DETAILS</th>\n",
       "      <th>MAP_DETAILS</th>\n",
       "      <th>PROP_HEADING</th>\n",
       "      <th>DESCRIPTION</th>\n",
       "      <th>PROPERTY_TYPE</th>\n",
       "      <th>location</th>\n",
       "      <th>FURNISH</th>\n",
       "      <th>FACING</th>\n",
       "      <th>AGE</th>\n",
       "      <th>TOTAL_FLOOR</th>\n",
       "      <th>FEATURES</th>\n",
       "      <th>BEDROOM_NUM</th>\n",
       "      <th>AMENITIES</th>\n",
       "      <th>PROP_NAME</th>\n",
       "      <th>BALCONY_NUM</th>\n",
       "      <th>FLOOR_NUM</th>\n",
       "    </tr>\n",
       "  </thead>\n",
       "  <tbody>\n",
       "    <tr>\n",
       "      <th>85</th>\n",
       "      <td>70362812</td>\n",
       "      <td>s70362812</td>\n",
       "      <td>gurgaon</td>\n",
       "      <td>58500000.0</td>\n",
       "      <td>32500000.0</td>\n",
       "      <td>87120.0</td>\n",
       "      <td>[ready to move, resale]</td>\n",
       "      <td>NaN</td>\n",
       "      <td>NaN</td>\n",
       "      <td>{'latitude': '28.237599', 'longitude': '77.149...</td>\n",
       "      <td>4 bedroom farm house in sohna</td>\n",
       "      <td>discover your dream farmhouse in sohna, haryan...</td>\n",
       "      <td>farm house</td>\n",
       "      <td>{'city': '8', 'city_name': 'gurgaon', 'buildin...</td>\n",
       "      <td>2</td>\n",
       "      <td>3</td>\n",
       "      <td>6</td>\n",
       "      <td>2.0</td>\n",
       "      <td>44,23,24,46,25,5,6,19,9,40,42</td>\n",
       "      <td>4.0</td>\n",
       "      <td>5,44,23,24,46,6,19,9,40,42,25</td>\n",
       "      <td>vatika westin sohna resort</td>\n",
       "      <td>2.0</td>\n",
       "      <td>NaN</td>\n",
       "    </tr>\n",
       "    <tr>\n",
       "      <th>191</th>\n",
       "      <td>64979146</td>\n",
       "      <td>b64979146</td>\n",
       "      <td>gurgaon</td>\n",
       "      <td>147500000.0</td>\n",
       "      <td>1354.0</td>\n",
       "      <td>108900.0</td>\n",
       "      <td>[ready to move, resale]</td>\n",
       "      <td>NaN</td>\n",
       "      <td>NaN</td>\n",
       "      <td>{'latitude': '28.237599', 'longitude': '77.149...</td>\n",
       "      <td>6 bedroom farm house in sohna</td>\n",
       "      <td>a fully developed farmhouse at prime location ...</td>\n",
       "      <td>farm house</td>\n",
       "      <td>{'city': '8', 'city_name': 'gurgaon', 'buildin...</td>\n",
       "      <td>1</td>\n",
       "      <td>5</td>\n",
       "      <td>1</td>\n",
       "      <td>1.0</td>\n",
       "      <td>1,24,26,6,19,9</td>\n",
       "      <td>6.0</td>\n",
       "      <td>1,24,6,19,9,26,101,102,103</td>\n",
       "      <td>vatika westin sohna resort</td>\n",
       "      <td>3.0</td>\n",
       "      <td>NaN</td>\n",
       "    </tr>\n",
       "    <tr>\n",
       "      <th>192</th>\n",
       "      <td>69367944</td>\n",
       "      <td>d69367944</td>\n",
       "      <td>gurgaon</td>\n",
       "      <td>29000000.0</td>\n",
       "      <td>29000000.0</td>\n",
       "      <td>43560.0</td>\n",
       "      <td>[ready to move, resale]</td>\n",
       "      <td>NaN</td>\n",
       "      <td>NaN</td>\n",
       "      <td>{'latitude': '28.237599', 'longitude': '77.149...</td>\n",
       "      <td>4 bedroom farm house in sohna</td>\n",
       "      <td>vatika westin resort sohna fram house sale 1 a...</td>\n",
       "      <td>farm house</td>\n",
       "      <td>{'city': '8', 'city_name': 'gurgaon', 'buildin...</td>\n",
       "      <td>4</td>\n",
       "      <td>5</td>\n",
       "      <td>6</td>\n",
       "      <td>1.0</td>\n",
       "      <td>23,1,24,26,5,6,19,9</td>\n",
       "      <td>4.0</td>\n",
       "      <td>5,23,1,24,6,19,9,26</td>\n",
       "      <td>vatika farm westin sohna resort</td>\n",
       "      <td>2.0</td>\n",
       "      <td>NaN</td>\n",
       "    </tr>\n",
       "    <tr>\n",
       "      <th>222</th>\n",
       "      <td>70248948</td>\n",
       "      <td>n70248948</td>\n",
       "      <td>gurgaon</td>\n",
       "      <td>5100000.0</td>\n",
       "      <td>41202.0</td>\n",
       "      <td>1114.0</td>\n",
       "      <td>[hsiidc approved, under construction, resale]</td>\n",
       "      <td>NaN</td>\n",
       "      <td>NaN</td>\n",
       "      <td>{'latitude': '28.513805', 'longitude': '76.858...</td>\n",
       "      <td>residential land / plot in badsa</td>\n",
       "      <td>check out this plot for sale in sector 99a gur...</td>\n",
       "      <td>residential land</td>\n",
       "      <td>{'city': '8', 'city_name': 'gurgaon', 'buildin...</td>\n",
       "      <td>0</td>\n",
       "      <td>0</td>\n",
       "      <td>0</td>\n",
       "      <td>4.0</td>\n",
       "      <td>n</td>\n",
       "      <td>NaN</td>\n",
       "      <td>NaN</td>\n",
       "      <td>NaN</td>\n",
       "      <td>NaN</td>\n",
       "      <td>NaN</td>\n",
       "    </tr>\n",
       "    <tr>\n",
       "      <th>238</th>\n",
       "      <td>69154818</td>\n",
       "      <td>j69154818</td>\n",
       "      <td>gurgaon</td>\n",
       "      <td>175000000.0</td>\n",
       "      <td>175000.0</td>\n",
       "      <td>9000.0</td>\n",
       "      <td>[corner property, north facing, in gated commu...</td>\n",
       "      <td>NaN</td>\n",
       "      <td>NaN</td>\n",
       "      <td>{'latitude': '77.02664', 'longitude': '28.4595'}</td>\n",
       "      <td>residential land / plot in ansal palam vihar</td>\n",
       "      <td>it is a three side open freehold plot in k blo...</td>\n",
       "      <td>residential land</td>\n",
       "      <td>{'city': '8', 'city_name': 'gurgaon', 'buildin...</td>\n",
       "      <td>0</td>\n",
       "      <td>1</td>\n",
       "      <td>0</td>\n",
       "      <td>0.0</td>\n",
       "      <td>23</td>\n",
       "      <td>NaN</td>\n",
       "      <td>23</td>\n",
       "      <td>NaN</td>\n",
       "      <td>NaN</td>\n",
       "      <td>NaN</td>\n",
       "    </tr>\n",
       "  </tbody>\n",
       "</table>\n",
       "</div>"
      ],
      "text/plain": [
       "         SPID    PROP_ID     CITY        PRICE  PRICE_SQFT      AREA  \\\n",
       "85   70362812  s70362812  gurgaon   58500000.0  32500000.0   87120.0   \n",
       "191  64979146  b64979146  gurgaon  147500000.0      1354.0  108900.0   \n",
       "192  69367944  d69367944  gurgaon   29000000.0  29000000.0   43560.0   \n",
       "222  70248948  n70248948  gurgaon    5100000.0     41202.0    1114.0   \n",
       "238  69154818  j69154818  gurgaon  175000000.0    175000.0    9000.0   \n",
       "\n",
       "                                        SECONDARY_TAGS  TOTAL_LANDMARK_COUNT  \\\n",
       "85                             [ready to move, resale]                   NaN   \n",
       "191                            [ready to move, resale]                   NaN   \n",
       "192                            [ready to move, resale]                   NaN   \n",
       "222      [hsiidc approved, under construction, resale]                   NaN   \n",
       "238  [corner property, north facing, in gated commu...                   NaN   \n",
       "\n",
       "    FORMATTED_LANDMARK_DETAILS  \\\n",
       "85                         NaN   \n",
       "191                        NaN   \n",
       "192                        NaN   \n",
       "222                        NaN   \n",
       "238                        NaN   \n",
       "\n",
       "                                           MAP_DETAILS  \\\n",
       "85   {'latitude': '28.237599', 'longitude': '77.149...   \n",
       "191  {'latitude': '28.237599', 'longitude': '77.149...   \n",
       "192  {'latitude': '28.237599', 'longitude': '77.149...   \n",
       "222  {'latitude': '28.513805', 'longitude': '76.858...   \n",
       "238   {'latitude': '77.02664', 'longitude': '28.4595'}   \n",
       "\n",
       "                                     PROP_HEADING  \\\n",
       "85                  4 bedroom farm house in sohna   \n",
       "191                 6 bedroom farm house in sohna   \n",
       "192                 4 bedroom farm house in sohna   \n",
       "222              residential land / plot in badsa   \n",
       "238  residential land / plot in ansal palam vihar   \n",
       "\n",
       "                                           DESCRIPTION     PROPERTY_TYPE  \\\n",
       "85   discover your dream farmhouse in sohna, haryan...        farm house   \n",
       "191  a fully developed farmhouse at prime location ...        farm house   \n",
       "192  vatika westin resort sohna fram house sale 1 a...        farm house   \n",
       "222  check out this plot for sale in sector 99a gur...  residential land   \n",
       "238  it is a three side open freehold plot in k blo...  residential land   \n",
       "\n",
       "                                              location  FURNISH  FACING  AGE  \\\n",
       "85   {'city': '8', 'city_name': 'gurgaon', 'buildin...        2       3    6   \n",
       "191  {'city': '8', 'city_name': 'gurgaon', 'buildin...        1       5    1   \n",
       "192  {'city': '8', 'city_name': 'gurgaon', 'buildin...        4       5    6   \n",
       "222  {'city': '8', 'city_name': 'gurgaon', 'buildin...        0       0    0   \n",
       "238  {'city': '8', 'city_name': 'gurgaon', 'buildin...        0       1    0   \n",
       "\n",
       "     TOTAL_FLOOR                       FEATURES  BEDROOM_NUM  \\\n",
       "85           2.0  44,23,24,46,25,5,6,19,9,40,42          4.0   \n",
       "191          1.0                 1,24,26,6,19,9          6.0   \n",
       "192          1.0            23,1,24,26,5,6,19,9          4.0   \n",
       "222          4.0                              n          NaN   \n",
       "238          0.0                             23          NaN   \n",
       "\n",
       "                         AMENITIES                        PROP_NAME  \\\n",
       "85   5,44,23,24,46,6,19,9,40,42,25       vatika westin sohna resort   \n",
       "191     1,24,6,19,9,26,101,102,103       vatika westin sohna resort   \n",
       "192            5,23,1,24,6,19,9,26  vatika farm westin sohna resort   \n",
       "222                            NaN                              NaN   \n",
       "238                             23                              NaN   \n",
       "\n",
       "     BALCONY_NUM FLOOR_NUM  \n",
       "85           2.0       NaN  \n",
       "191          3.0       NaN  \n",
       "192          2.0       NaN  \n",
       "222          NaN       NaN  \n",
       "238          NaN       NaN  "
      ]
     },
     "execution_count": 13,
     "metadata": {},
     "output_type": "execute_result"
    }
   ],
   "source": [
    "df[df['TOTAL_LANDMARK_COUNT'].isnull()].head()"
   ]
  },
  {
   "cell_type": "markdown",
   "metadata": {},
   "source": [
    "Maybe, `TOTAL_LANDMARK_COUNT` is not a better feature for the project because it just contains the count of important places near the property.\n",
    "\n",
    "Instead `FORMATTED_LANDMARK_DETAILS` is better because it contains the no. places type near the property."
   ]
  },
  {
   "cell_type": "markdown",
   "metadata": {},
   "source": [
    "## FORMATTED_LANDMARK_DETAILS"
   ]
  },
  {
   "cell_type": "code",
   "execution_count": 14,
   "metadata": {},
   "outputs": [
    {
     "data": {
      "text/plain": [
       "6216    [{'text': '2 shoppings'}, {'text': '6 educatio...\n",
       "1453    [{'text': '1 metro station'}, {'text': '1 shop...\n",
       "1238    [{'text': '1 shopping'}, {'text': '3 connectiv...\n",
       "3595    [{'text': '2 metro stations'}, {'text': '6 atm...\n",
       "2861    [{'text': '1 metro station'}, {'text': '1 shop...\n",
       "8254    [{'text': '1 metro station'}, {'text': '2 conn...\n",
       "7965    [{'text': '5 metro stations'}, {'text': '1 rel...\n",
       "Name: FORMATTED_LANDMARK_DETAILS, dtype: object"
      ]
     },
     "execution_count": 14,
     "metadata": {},
     "output_type": "execute_result"
    }
   ],
   "source": [
    "df['FORMATTED_LANDMARK_DETAILS'].sample(7)"
   ]
  },
  {
   "cell_type": "code",
   "execution_count": 15,
   "metadata": {},
   "outputs": [],
   "source": [
    "df['FORMATTED_LANDMARK_DETAILS'] = df['FORMATTED_LANDMARK_DETAILS'].fillna('[]').apply(literal_eval)"
   ]
  },
  {
   "cell_type": "code",
   "execution_count": 16,
   "metadata": {},
   "outputs": [],
   "source": [
    "df['FORMATTED_LANDMARK_DETAILS'] = df['FORMATTED_LANDMARK_DETAILS'].apply(\n",
    "    lambda x: [i['text'] for i in x]\n",
    ")"
   ]
  },
  {
   "cell_type": "code",
   "execution_count": 17,
   "metadata": {},
   "outputs": [
    {
     "data": {
      "text/plain": [
       "array([list(['1 metro station', '1 shopping', '1 connectivity', '2 educations', '1 hospital', '1 airport', '1 railway station', '1 office complex', '1 hotels', '1 amusement park', '1 golf course', '1 stadium']),\n",
       "       list(['1 religious place', '2 atms', '18 hospitals', '1 attraction', '3 pharmacys', '2 office complexes', '1 miscellaneous']),\n",
       "       list([]),\n",
       "       list(['2 atms', '17 hospitals', '1 attraction', '3 pharmacys', '1 office complex', '1 miscellaneous', '1 swimming pool']),\n",
       "       list(['1 metro station', '2 connectivities', '5 educations', '4 hospitals']),\n",
       "       list(['1 metro station', '1 shopping', '2 connectivities', '1 education', '1 hospital', '1 airport', '1 golf course']),\n",
       "       list(['1 religious place', '2 atms', '18 hospitals', '1 attraction', '3 pharmacys', '2 office complexes', '1 miscellaneous'])],\n",
       "      dtype=object)"
      ]
     },
     "execution_count": 17,
     "metadata": {},
     "output_type": "execute_result"
    }
   ],
   "source": [
    "df['FORMATTED_LANDMARK_DETAILS'].sample(7).values"
   ]
  },
  {
   "cell_type": "code",
   "execution_count": 18,
   "metadata": {},
   "outputs": [
    {
     "name": "stdout",
     "output_type": "stream",
     "text": [
      "28\n"
     ]
    },
    {
     "data": {
      "text/plain": [
       "['metro station',\n",
       " 'shopping',\n",
       " 'connectivitie',\n",
       " 'education',\n",
       " 'hospital',\n",
       " 'airport',\n",
       " 'railway station',\n",
       " 'connectivity',\n",
       " 'hotel',\n",
       " 'amusement park',\n",
       " 'golf course',\n",
       " 'stadium',\n",
       " 'club',\n",
       " 'office complex',\n",
       " 'atm',\n",
       " 'pharmacy',\n",
       " 'miscellaneou',\n",
       " 'library',\n",
       " 'religious place',\n",
       " 'office complexe',\n",
       " 'attraction',\n",
       " 'parking',\n",
       " 'swimming pool',\n",
       " 'bank',\n",
       " 'park',\n",
       " nan,\n",
       " 'bus stop',\n",
       " 'bus depot']"
      ]
     },
     "execution_count": 18,
     "metadata": {},
     "output_type": "execute_result"
    }
   ],
   "source": [
    "unique_landmarks = (\n",
    "    df['FORMATTED_LANDMARK_DETAILS']\n",
    "    .explode()\n",
    "    .str.split(' ', n=1)\n",
    "    .str.get(-1)\n",
    "    .str.replace('ss', 's')\n",
    "    .str.removesuffix('s')\n",
    "    .unique()\n",
    "    .tolist()\n",
    ")\n",
    "print(len(unique_landmarks))\n",
    "unique_landmarks"
   ]
  },
  {
   "cell_type": "code",
   "execution_count": 19,
   "metadata": {},
   "outputs": [],
   "source": [
    "landmark_groups = {\n",
    "    \"Transportation\": [\"station\", \"bus\", \"airport\"],\n",
    "    \"Accommodation\": [\"hotel\", \"office\"],\n",
    "    \"Leisure\": [\"park\", \"stadium\", \"club\", \"pool\", \"golf\"],\n",
    "    \"Shopping\": [\"shopping\", \"mall\"],\n",
    "    \"Education\": [\"education\", \"library\"],\n",
    "    \"Health\": [\"hospital\", \"pharmacy\"],\n",
    "    \"Other\": [\n",
    "        \"religious\",\n",
    "        \"connect\",\n",
    "        \"atm\",\n",
    "        \"bank\",\n",
    "        \"attraction\",\n",
    "        \"miscellaneou\",\n",
    "        \"parking\",\n",
    "    ],\n",
    "}"
   ]
  },
  {
   "cell_type": "markdown",
   "metadata": {},
   "source": [
    "Create different feature using `landmark_groups`'s `dict_keys()`."
   ]
  },
  {
   "cell_type": "markdown",
   "metadata": {},
   "source": [
    "## MAP_DETAILS"
   ]
  },
  {
   "cell_type": "code",
   "execution_count": 20,
   "metadata": {},
   "outputs": [
    {
     "data": {
      "text/plain": [
       "235     {'latitude': '28.4432913', 'longitude': '77.05...\n",
       "8295    {'latitude': '28.4489007', 'longitude': '77.05...\n",
       "8143    {'latitude': '28.450266', 'longitude': '77.049...\n",
       "5108    {'latitude': '28.4247815', 'longitude': '77.03...\n",
       "9792    {'latitude': '28.456103', 'longitude': '76.954...\n",
       "Name: MAP_DETAILS, dtype: object"
      ]
     },
     "execution_count": 20,
     "metadata": {},
     "output_type": "execute_result"
    }
   ],
   "source": [
    "df['MAP_DETAILS'].sample(5)"
   ]
  },
  {
   "cell_type": "code",
   "execution_count": 21,
   "metadata": {},
   "outputs": [],
   "source": [
    "df['MAP_DETAILS'] = df['MAP_DETAILS'].apply(literal_eval)"
   ]
  },
  {
   "cell_type": "code",
   "execution_count": 22,
   "metadata": {},
   "outputs": [],
   "source": [
    "df['LATITUDE'] = df['MAP_DETAILS'].str.get('latitude')  # type: ignore\n",
    "df['LONGITUDE'] = df['MAP_DETAILS'].str.get('longitude')  # type: ignore"
   ]
  },
  {
   "cell_type": "code",
   "execution_count": 23,
   "metadata": {},
   "outputs": [
    {
     "data": {
      "text/plain": [
       "LATITUDE     0\n",
       "LONGITUDE    0\n",
       "dtype: int64"
      ]
     },
     "execution_count": 23,
     "metadata": {},
     "output_type": "execute_result"
    }
   ],
   "source": [
    "df[['LATITUDE', 'LONGITUDE']].isnull().sum()"
   ]
  },
  {
   "cell_type": "code",
   "execution_count": 24,
   "metadata": {},
   "outputs": [
    {
     "data": {
      "text/html": [
       "<div>\n",
       "<style scoped>\n",
       "    .dataframe tbody tr th:only-of-type {\n",
       "        vertical-align: middle;\n",
       "    }\n",
       "\n",
       "    .dataframe tbody tr th {\n",
       "        vertical-align: top;\n",
       "    }\n",
       "\n",
       "    .dataframe thead th {\n",
       "        text-align: right;\n",
       "    }\n",
       "</style>\n",
       "<table border=\"1\" class=\"dataframe\">\n",
       "  <thead>\n",
       "    <tr style=\"text-align: right;\">\n",
       "      <th></th>\n",
       "      <th>LATITUDE</th>\n",
       "      <th>LONGITUDE</th>\n",
       "    </tr>\n",
       "  </thead>\n",
       "  <tbody>\n",
       "    <tr>\n",
       "      <th>859</th>\n",
       "      <td>28.4350568</td>\n",
       "      <td>77.1013666</td>\n",
       "    </tr>\n",
       "    <tr>\n",
       "      <th>9275</th>\n",
       "      <td>28.454279</td>\n",
       "      <td>77.085314</td>\n",
       "    </tr>\n",
       "    <tr>\n",
       "      <th>2602</th>\n",
       "      <td>28.478391</td>\n",
       "      <td>77.076817</td>\n",
       "    </tr>\n",
       "    <tr>\n",
       "      <th>869</th>\n",
       "      <td>28.40874</td>\n",
       "      <td>77.05731</td>\n",
       "    </tr>\n",
       "    <tr>\n",
       "      <th>7623</th>\n",
       "      <td>28.48041</td>\n",
       "      <td>77.079157</td>\n",
       "    </tr>\n",
       "  </tbody>\n",
       "</table>\n",
       "</div>"
      ],
      "text/plain": [
       "        LATITUDE   LONGITUDE\n",
       "859   28.4350568  77.1013666\n",
       "9275   28.454279   77.085314\n",
       "2602   28.478391   77.076817\n",
       "869     28.40874    77.05731\n",
       "7623    28.48041   77.079157"
      ]
     },
     "execution_count": 24,
     "metadata": {},
     "output_type": "execute_result"
    }
   ],
   "source": [
    "df[['LATITUDE', 'LONGITUDE']].sample(5)"
   ]
  },
  {
   "cell_type": "markdown",
   "metadata": {},
   "source": [
    "## PROP_HEADING"
   ]
  },
  {
   "cell_type": "code",
   "execution_count": 25,
   "metadata": {},
   "outputs": [
    {
     "data": {
      "text/plain": [
       "7119                      3 bhk flat in sector 83 gurgaon\n",
       "4009                3 bedroom house in sector 70a gurgaon\n",
       "1566                      4 bhk flat in sector 62 gurgaon\n",
       "6162                     3 bhk flat in sector 102 gurgaon\n",
       "5005    2 bhk independent builder floor in sector 92 g...\n",
       "1790                        4 bhk flat in nirvana country\n",
       "6883                     residential land / plot in sohna\n",
       "Name: PROP_HEADING, dtype: object"
      ]
     },
     "execution_count": 25,
     "metadata": {},
     "output_type": "execute_result"
    }
   ],
   "source": [
    "df['PROP_HEADING'].sample(7)"
   ]
  },
  {
   "cell_type": "code",
   "execution_count": 26,
   "metadata": {},
   "outputs": [
    {
     "data": {
      "text/plain": [
       "25          residential land / plot in sector-33 sohna\n",
       "34              residential land / plot in dlf phase 1\n",
       "74          residential land / plot in sector-33 sohna\n",
       "79              residential land / plot in palam vihar\n",
       "82       residential land / plot in sector 82a gurgaon\n",
       "                             ...                      \n",
       "10054     residential land / plot in sector 88 gurgaon\n",
       "10055     residential land / plot in sector 83 gurgaon\n",
       "10066     residential land / plot in sector 55 gurgaon\n",
       "10098     residential land / plot in sector 38 gurgaon\n",
       "10203           residential land / plot in palam vihar\n",
       "Name: PROP_HEADING, Length: 1041, dtype: object"
      ]
     },
     "execution_count": 26,
     "metadata": {},
     "output_type": "execute_result"
    }
   ],
   "source": [
    "df['PROP_HEADING'][df['PROP_HEADING'].str.contains('bhk|bed') == False]"
   ]
  },
  {
   "cell_type": "code",
   "execution_count": 27,
   "metadata": {},
   "outputs": [],
   "source": [
    "df['BHK_BED'] = df['PROP_HEADING'].str.extract(r'(\\d+) (?:bed|bhk)').astype(float)"
   ]
  },
  {
   "cell_type": "code",
   "execution_count": 28,
   "metadata": {},
   "outputs": [
    {
     "data": {
      "text/plain": [
       "BHK_BED\n",
       "3.0     4562\n",
       "4.0     2618\n",
       "2.0     1397\n",
       "5.0      263\n",
       "1.0      158\n",
       "6.0       56\n",
       "9.0       26\n",
       "10.0      16\n",
       "8.0       16\n",
       "7.0       13\n",
       "12.0      13\n",
       "13.0       4\n",
       "20.0       3\n",
       "18.0       3\n",
       "16.0       3\n",
       "11.0       3\n",
       "35.0       3\n",
       "36.0       2\n",
       "15.0       1\n",
       "24.0       1\n",
       "55.0       1\n",
       "34.0       1\n",
       "14.0       1\n",
       "Name: count, dtype: int64"
      ]
     },
     "execution_count": 28,
     "metadata": {},
     "output_type": "execute_result"
    }
   ],
   "source": [
    "df['BHK_BED'].value_counts()"
   ]
  },
  {
   "cell_type": "markdown",
   "metadata": {},
   "source": [
    "## DESCRIPTION"
   ]
  },
  {
   "cell_type": "code",
   "execution_count": 29,
   "metadata": {},
   "outputs": [
    {
     "data": {
      "text/plain": [
       "3607            floor for sale \\nin vipul world sector 48\n",
       "4925    trehan ashoka estate lowrise luxurious floors ...\n",
       "1345    park facing , best location \\nalso available \\...\n",
       "8693    check out this 3 bhk apartment for sale in ema...\n",
       "9647    ready to move in property. call for more detai...\n",
       "9811    pareena laxmi appartment \\navailable for sell ...\n",
       "1386    this is the fully furnished service apartment ...\n",
       "Name: DESCRIPTION, dtype: object"
      ]
     },
     "execution_count": 29,
     "metadata": {},
     "output_type": "execute_result"
    }
   ],
   "source": [
    "df['DESCRIPTION'].sample(7)"
   ]
  },
  {
   "cell_type": "code",
   "execution_count": 30,
   "metadata": {},
   "outputs": [],
   "source": [
    "df['DESCRIPTION'] = df['DESCRIPTION'].str.replace('\\n', ' ')"
   ]
  },
  {
   "cell_type": "markdown",
   "metadata": {},
   "source": [
    "## PROPERTY_TYPE"
   ]
  },
  {
   "cell_type": "code",
   "execution_count": 31,
   "metadata": {},
   "outputs": [
    {
     "data": {
      "text/plain": [
       "9812    independent/builder floor\n",
       "3442        residential apartment\n",
       "6094        residential apartment\n",
       "3343    independent/builder floor\n",
       "4196    independent/builder floor\n",
       "Name: PROPERTY_TYPE, dtype: object"
      ]
     },
     "execution_count": 31,
     "metadata": {},
     "output_type": "execute_result"
    }
   ],
   "source": [
    "df['PROPERTY_TYPE'].sample(5)"
   ]
  },
  {
   "cell_type": "code",
   "execution_count": 32,
   "metadata": {},
   "outputs": [
    {
     "data": {
      "text/plain": [
       "PROPERTY_TYPE\n",
       "residential apartment        5952\n",
       "independent/builder floor    2470\n",
       "residential land              989\n",
       "independent house/villa       621\n",
       "farm house                    120\n",
       "studio apartment               39\n",
       "serviced apartments            10\n",
       "other                           4\n",
       "Name: count, dtype: int64"
      ]
     },
     "execution_count": 32,
     "metadata": {},
     "output_type": "execute_result"
    }
   ],
   "source": [
    "df['PROPERTY_TYPE'].value_counts()"
   ]
  },
  {
   "cell_type": "code",
   "execution_count": 33,
   "metadata": {},
   "outputs": [
    {
     "data": {
      "text/plain": [
       "['residential apartment',\n",
       " 'independent/builder floor',\n",
       " 'independent house/villa',\n",
       " 'residential land',\n",
       " 'farm house',\n",
       " 'serviced apartments',\n",
       " 'studio apartment',\n",
       " 'other']"
      ]
     },
     "execution_count": 33,
     "metadata": {},
     "output_type": "execute_result"
    }
   ],
   "source": [
    "diff_prop_type = df['PROPERTY_TYPE'].unique().tolist()\n",
    "diff_prop_type"
   ]
  },
  {
   "cell_type": "code",
   "execution_count": 34,
   "metadata": {},
   "outputs": [
    {
     "data": {
      "image/png": "[encoded data removed]",
      "text/plain": [
       "<Figure size 640x480 with 1 Axes>"
      ]
     },
     "metadata": {},
     "output_type": "display_data"
    },
    {
     "data": {
      "image/png": "[encoded data removed]",
      "text/plain": [
       "<Figure size 640x480 with 1 Axes>"
      ]
     },
     "metadata": {},
     "output_type": "display_data"
    },
    {
     "data": {
      "image/png": "[encoded data removed]",
      "text/plain": [
       "<Figure size 640x480 with 1 Axes>"
      ]
     },
     "metadata": {},
     "output_type": "display_data"
    },
    {
     "data": {
      "image/png": "[encoded data removed]",
      "text/plain": [
       "<Figure size 640x480 with 1 Axes>"
      ]
     },
     "metadata": {},
     "output_type": "display_data"
    },
    {
     "data": {
      "image/png": "[encoded data removed]",
      "text/plain": [
       "<Figure size 640x480 with 1 Axes>"
      ]
     },
     "metadata": {},
     "output_type": "display_data"
    },
    {
     "data": {
      "image/png": "[encoded data removed]",
      "text/plain": [
       "<Figure size 640x480 with 1 Axes>"
      ]
     },
     "metadata": {},
     "output_type": "display_data"
    },
    {
     "data": {
      "image/png": "[encoded data removed]",
      "text/plain": [
       "<Figure size 640x480 with 1 Axes>"
      ]
     },
     "metadata": {},
     "output_type": "display_data"
    },
    {
     "data": {
      "image/png": "[encoded data removed]",
      "text/plain": [
       "<Figure size 640x480 with 1 Axes>"
      ]
     },
     "metadata": {},
     "output_type": "display_data"
    }
   ],
   "source": [
    "for prop_type in diff_prop_type:\n",
    "    plt.figure()\n",
    "    sns.scatterplot(df.query(\"PROPERTY_TYPE==@prop_type\"), x='AREA', y='PRICE')\n",
    "\n",
    "    plt.title(prop_type)"
   ]
  },
  {
   "cell_type": "markdown",
   "metadata": {},
   "source": [
    "We does not require the heavy properties like `\"studio apartment\", \"serviced apartment\"` because they are extremly expensive. So I am going to drop them.\n",
    "\n",
    "`\"farm house\"` is also costly but I leave it for now."
   ]
  },
  {
   "cell_type": "code",
   "execution_count": 35,
   "metadata": {},
   "outputs": [
    {
     "data": {
      "text/plain": [
       "(10162, 27)"
      ]
     },
     "execution_count": 35,
     "metadata": {},
     "output_type": "execute_result"
    }
   ],
   "source": [
    "temp = df[df['PROPERTY_TYPE'].isin([\"studio apartment\", \"serviced apartment\", \"other\"])]\n",
    "df.drop(index=temp.index, inplace=True)\n",
    "df.shape"
   ]
  },
  {
   "cell_type": "markdown",
   "metadata": {},
   "source": [
    "## location"
   ]
  },
  {
   "cell_type": "code",
   "execution_count": 36,
   "metadata": {},
   "outputs": [
    {
     "data": {
      "text/plain": [
       "909     {'city': '8', 'city_name': 'gurgaon', 'buildin...\n",
       "3846    {'city': '8', 'city_name': 'gurgaon', 'buildin...\n",
       "6361    {'city': '8', 'city_name': 'gurgaon', 'buildin...\n",
       "4479    {'city': '8', 'city_name': 'gurgaon', 'buildin...\n",
       "1084    {'city': '8', 'city_name': 'gurgaon', 'buildin...\n",
       "6910    {'city': '8', 'city_name': 'gurgaon', 'buildin...\n",
       "4561    {'city': '8', 'city_name': 'gurgaon', 'buildin...\n",
       "Name: location, dtype: object"
      ]
     },
     "execution_count": 36,
     "metadata": {},
     "output_type": "execute_result"
    }
   ],
   "source": [
    "df['location'].sample(7)"
   ]
  },
  {
   "cell_type": "code",
   "execution_count": 37,
   "metadata": {},
   "outputs": [],
   "source": [
    "df['location'] = df['location'].str.replace('none', 'None').apply(literal_eval)"
   ]
  },
  {
   "cell_type": "code",
   "execution_count": 38,
   "metadata": {},
   "outputs": [
    {
     "data": {
      "text/plain": [
       "array(['city', 'city_name', 'building_id', 'building_name',\n",
       "       'society_name', 'locality_id', 'locality_name', 'address'],\n",
       "      dtype=object)"
      ]
     },
     "execution_count": 38,
     "metadata": {},
     "output_type": "execute_result"
    }
   ],
   "source": [
    "df['location'].explode().unique()"
   ]
  },
  {
   "cell_type": "code",
   "execution_count": 39,
   "metadata": {},
   "outputs": [],
   "source": [
    "df['LOCALITY_NAME'] = df['location'].str.get('locality_name')  # type: ignore\n",
    "df['BUILDING_NAME'] = df['location'].str.get('building_name')  # type: ignore\n",
    "df['SOCIETY_NAME'] = df['location'].str.get('society_name')  # type: ignore\n",
    "df['ADDRESS'] = df['location'].str.get('address')  # type: ignore"
   ]
  },
  {
   "cell_type": "markdown",
   "metadata": {},
   "source": [
    "## FURNISH"
   ]
  },
  {
   "cell_type": "code",
   "execution_count": 40,
   "metadata": {},
   "outputs": [
    {
     "data": {
      "text/plain": [
       "8543    0\n",
       "1600    4\n",
       "8787    2\n",
       "5521    4\n",
       "7008    4\n",
       "Name: FURNISH, dtype: int64"
      ]
     },
     "execution_count": 40,
     "metadata": {},
     "output_type": "execute_result"
    }
   ],
   "source": [
    "df['FURNISH'].sample(5)"
   ]
  },
  {
   "cell_type": "code",
   "execution_count": 41,
   "metadata": {},
   "outputs": [
    {
     "data": {
      "text/plain": [
       "FURNISH\n",
       "4    6831\n",
       "0    1391\n",
       "1     979\n",
       "2     961\n",
       "Name: count, dtype: int64"
      ]
     },
     "execution_count": 41,
     "metadata": {},
     "output_type": "execute_result"
    }
   ],
   "source": [
    "df['FURNISH'].value_counts()"
   ]
  },
  {
   "cell_type": "code",
   "execution_count": 42,
   "metadata": {},
   "outputs": [
    {
     "name": "stdout",
     "output_type": "stream",
     "text": [
      "(3, 2)\n"
     ]
    },
    {
     "data": {
      "text/html": [
       "<div>\n",
       "<style scoped>\n",
       "    .dataframe tbody tr th:only-of-type {\n",
       "        vertical-align: middle;\n",
       "    }\n",
       "\n",
       "    .dataframe tbody tr th {\n",
       "        vertical-align: top;\n",
       "    }\n",
       "\n",
       "    .dataframe thead th {\n",
       "        text-align: right;\n",
       "    }\n",
       "</style>\n",
       "<table border=\"1\" class=\"dataframe\">\n",
       "  <thead>\n",
       "    <tr style=\"text-align: right;\">\n",
       "      <th></th>\n",
       "      <th>id</th>\n",
       "      <th>label</th>\n",
       "    </tr>\n",
       "  </thead>\n",
       "  <tbody>\n",
       "    <tr>\n",
       "      <th>0</th>\n",
       "      <td>1</td>\n",
       "      <td>Furnished</td>\n",
       "    </tr>\n",
       "    <tr>\n",
       "      <th>1</th>\n",
       "      <td>2</td>\n",
       "      <td>Unfurnished</td>\n",
       "    </tr>\n",
       "    <tr>\n",
       "      <th>2</th>\n",
       "      <td>4</td>\n",
       "      <td>Semifurnished</td>\n",
       "    </tr>\n",
       "  </tbody>\n",
       "</table>\n",
       "</div>"
      ],
      "text/plain": [
       "   id          label\n",
       "0   1      Furnished\n",
       "1   2    Unfurnished\n",
       "2   4  Semifurnished"
      ]
     },
     "execution_count": 42,
     "metadata": {},
     "output_type": "execute_result"
    }
   ],
   "source": [
    "furnish_df = pd.read_csv('data/facets/FURNISH.csv')\n",
    "print(furnish_df.shape)\n",
    "furnish_df.head()"
   ]
  },
  {
   "cell_type": "code",
   "execution_count": 43,
   "metadata": {},
   "outputs": [
    {
     "data": {
      "text/plain": [
       "{1: 'Furnished', 2: 'Unfurnished', 4: 'Semifurnished'}"
      ]
     },
     "execution_count": 43,
     "metadata": {},
     "output_type": "execute_result"
    }
   ],
   "source": [
    "furnish_dict = furnish_df.set_index('id').to_dict()['label']\n",
    "furnish_dict"
   ]
  },
  {
   "cell_type": "code",
   "execution_count": 44,
   "metadata": {},
   "outputs": [
    {
     "data": {
      "text/plain": [
       "FURNISH\n",
       "Semifurnished    6831\n",
       "not available    1391\n",
       "Furnished         979\n",
       "Unfurnished       961\n",
       "Name: count, dtype: int64"
      ]
     },
     "execution_count": 44,
     "metadata": {},
     "output_type": "execute_result"
    }
   ],
   "source": [
    "furnish_dict.update({0: 'not available'})\n",
    "df['FURNISH'] = df['FURNISH'].map(furnish_dict)\n",
    "df['FURNISH'].value_counts()"
   ]
  },
  {
   "cell_type": "markdown",
   "metadata": {},
   "source": [
    "## FACING"
   ]
  },
  {
   "cell_type": "code",
   "execution_count": 45,
   "metadata": {},
   "outputs": [
    {
     "data": {
      "text/plain": [
       "9503    5\n",
       "4742    5\n",
       "7181    5\n",
       "1098    5\n",
       "2215    3\n",
       "Name: FACING, dtype: int64"
      ]
     },
     "execution_count": 45,
     "metadata": {},
     "output_type": "execute_result"
    }
   ],
   "source": [
    "df['FACING'].sample(5)"
   ]
  },
  {
   "cell_type": "code",
   "execution_count": 46,
   "metadata": {},
   "outputs": [
    {
     "data": {
      "text/plain": [
       "FACING\n",
       "5    3560\n",
       "3    2317\n",
       "1    1366\n",
       "0    1036\n",
       "4     571\n",
       "7     424\n",
       "6     338\n",
       "2     314\n",
       "8     236\n",
       "Name: count, dtype: int64"
      ]
     },
     "execution_count": 46,
     "metadata": {},
     "output_type": "execute_result"
    }
   ],
   "source": [
    "df['FACING'].value_counts()"
   ]
  },
  {
   "cell_type": "code",
   "execution_count": 47,
   "metadata": {},
   "outputs": [
    {
     "name": "stdout",
     "output_type": "stream",
     "text": [
      "(8, 2)\n"
     ]
    },
    {
     "data": {
      "text/html": [
       "<div>\n",
       "<style scoped>\n",
       "    .dataframe tbody tr th:only-of-type {\n",
       "        vertical-align: middle;\n",
       "    }\n",
       "\n",
       "    .dataframe tbody tr th {\n",
       "        vertical-align: top;\n",
       "    }\n",
       "\n",
       "    .dataframe thead th {\n",
       "        text-align: right;\n",
       "    }\n",
       "</style>\n",
       "<table border=\"1\" class=\"dataframe\">\n",
       "  <thead>\n",
       "    <tr style=\"text-align: right;\">\n",
       "      <th></th>\n",
       "      <th>id</th>\n",
       "      <th>label</th>\n",
       "    </tr>\n",
       "  </thead>\n",
       "  <tbody>\n",
       "    <tr>\n",
       "      <th>0</th>\n",
       "      <td>1</td>\n",
       "      <td>North</td>\n",
       "    </tr>\n",
       "    <tr>\n",
       "      <th>1</th>\n",
       "      <td>2</td>\n",
       "      <td>South</td>\n",
       "    </tr>\n",
       "    <tr>\n",
       "      <th>2</th>\n",
       "      <td>3</td>\n",
       "      <td>East</td>\n",
       "    </tr>\n",
       "    <tr>\n",
       "      <th>3</th>\n",
       "      <td>4</td>\n",
       "      <td>West</td>\n",
       "    </tr>\n",
       "    <tr>\n",
       "      <th>4</th>\n",
       "      <td>5</td>\n",
       "      <td>North-East</td>\n",
       "    </tr>\n",
       "  </tbody>\n",
       "</table>\n",
       "</div>"
      ],
      "text/plain": [
       "   id       label\n",
       "0   1       North\n",
       "1   2       South\n",
       "2   3        East\n",
       "3   4        West\n",
       "4   5  North-East"
      ]
     },
     "execution_count": 47,
     "metadata": {},
     "output_type": "execute_result"
    }
   ],
   "source": [
    "facing_df = pd.read_csv('data/facets/FACING_DIRECTION.csv')\n",
    "print(facing_df.shape)\n",
    "facing_df.head()"
   ]
  },
  {
   "cell_type": "code",
   "execution_count": 48,
   "metadata": {},
   "outputs": [
    {
     "data": {
      "text/plain": [
       "{1: 'North',\n",
       " 2: 'South',\n",
       " 3: 'East',\n",
       " 4: 'West',\n",
       " 5: 'North-East',\n",
       " 6: 'North-West',\n",
       " 7: 'South-East',\n",
       " 8: 'South-West'}"
      ]
     },
     "execution_count": 48,
     "metadata": {},
     "output_type": "execute_result"
    }
   ],
   "source": [
    "facing_dict = facing_df.set_index('id').to_dict()['label']\n",
    "facing_dict"
   ]
  },
  {
   "cell_type": "code",
   "execution_count": 49,
   "metadata": {},
   "outputs": [
    {
     "data": {
      "text/plain": [
       "FACING\n",
       "North-East       3560\n",
       "East             2317\n",
       "North            1366\n",
       "not available    1036\n",
       "West              571\n",
       "South-East        424\n",
       "North-West        338\n",
       "South             314\n",
       "South-West        236\n",
       "Name: count, dtype: int64"
      ]
     },
     "execution_count": 49,
     "metadata": {},
     "output_type": "execute_result"
    }
   ],
   "source": [
    "facing_dict.update({0: 'not available'})\n",
    "df['FACING'] = df['FACING'].map(facing_dict)\n",
    "df['FACING'].value_counts()"
   ]
  },
  {
   "cell_type": "markdown",
   "metadata": {},
   "source": [
    "## AGE"
   ]
  },
  {
   "cell_type": "code",
   "execution_count": 50,
   "metadata": {},
   "outputs": [
    {
     "data": {
      "text/plain": [
       "9470    1\n",
       "2547    2\n",
       "133     1\n",
       "9519    5\n",
       "9975    6\n",
       "Name: AGE, dtype: int64"
      ]
     },
     "execution_count": 50,
     "metadata": {},
     "output_type": "execute_result"
    }
   ],
   "source": [
    "df['AGE'].sample(5)"
   ]
  },
  {
   "cell_type": "code",
   "execution_count": 51,
   "metadata": {},
   "outputs": [
    {
     "data": {
      "text/plain": [
       "AGE\n",
       "1    3757\n",
       "6    2243\n",
       "2    1551\n",
       "5    1013\n",
       "0     990\n",
       "3     608\n",
       "Name: count, dtype: int64"
      ]
     },
     "execution_count": 51,
     "metadata": {},
     "output_type": "execute_result"
    }
   ],
   "source": [
    "df['AGE'].value_counts()"
   ]
  },
  {
   "cell_type": "markdown",
   "metadata": {},
   "source": [
    "## TOTAL_FLOOR"
   ]
  },
  {
   "cell_type": "code",
   "execution_count": 52,
   "metadata": {},
   "outputs": [
    {
     "data": {
      "text/plain": [
       "5748    45.0\n",
       "1990    12.0\n",
       "7047     0.0\n",
       "5601    29.0\n",
       "9015    40.0\n",
       "Name: TOTAL_FLOOR, dtype: float64"
      ]
     },
     "execution_count": 52,
     "metadata": {},
     "output_type": "execute_result"
    }
   ],
   "source": [
    "df['TOTAL_FLOOR'].sample(5)"
   ]
  },
  {
   "cell_type": "code",
   "execution_count": 53,
   "metadata": {},
   "outputs": [
    {
     "data": {
      "text/plain": [
       "TOTAL_FLOOR\n",
       "4.0     2831\n",
       "3.0      743\n",
       "14.0     731\n",
       "2.0      574\n",
       "18.0     425\n",
       "19.0     413\n",
       "24.0     290\n",
       "20.0     255\n",
       "32.0     249\n",
       "26.0     247\n",
       "17.0     237\n",
       "30.0     232\n",
       "12.0     221\n",
       "29.0     217\n",
       "13.0     213\n",
       "15.0     187\n",
       "22.0     159\n",
       "1.0      155\n",
       "25.0     155\n",
       "40.0     155\n",
       "21.0     147\n",
       "16.0     133\n",
       "10.0      88\n",
       "27.0      88\n",
       "23.0      84\n",
       "35.0      81\n",
       "34.0      77\n",
       "8.0       70\n",
       "5.0       70\n",
       "39.0      67\n",
       "11.0      63\n",
       "28.0      58\n",
       "36.0      58\n",
       "33.0      54\n",
       "42.0      54\n",
       "9.0       47\n",
       "51.0      37\n",
       "0.0       33\n",
       "7.0       22\n",
       "38.0      21\n",
       "47.0      18\n",
       "6.0       18\n",
       "31.0      12\n",
       "43.0       8\n",
       "45.0       6\n",
       "41.0       5\n",
       "44.0       1\n",
       "50.0       1\n",
       "48.0       1\n",
       "Name: count, dtype: int64"
      ]
     },
     "execution_count": 53,
     "metadata": {},
     "output_type": "execute_result"
    }
   ],
   "source": [
    "df['TOTAL_FLOOR'].value_counts()"
   ]
  },
  {
   "cell_type": "markdown",
   "metadata": {},
   "source": [
    "## FEATURES"
   ]
  },
  {
   "cell_type": "code",
   "execution_count": 54,
   "metadata": {},
   "outputs": [
    {
     "data": {
      "text/plain": [
       "1618    44,23,45,24,46,47,25,26,28,29,30,31,10,32,33,1...\n",
       "3720    44,23,45,24,46,25,47,26,28,29,30,31,10,32,33,1...\n",
       "3808    44,23,12,45,24,46,25,26,17,39,29,19,1,2,3,5,6,...\n",
       "8563            33,12,23,24,47,28,19,1,2,6,40,41,20,31,21\n",
       "3020                             23,24,25,26,5,6,29,19,32\n",
       "Name: FEATURES, dtype: object"
      ]
     },
     "execution_count": 54,
     "metadata": {},
     "output_type": "execute_result"
    }
   ],
   "source": [
    "df['FEATURES'].sample(5)"
   ]
  },
  {
   "cell_type": "code",
   "execution_count": 55,
   "metadata": {},
   "outputs": [
    {
     "data": {
      "text/plain": [
       "4737    [44, 23, 45, 24, 46, 25, 47, 26, 28, 29, 30, 3...\n",
       "2545    [44, 23, 24, 46, 25, 47, 26, 28, 29, 30, 31, 1...\n",
       "9955                                      [23, 6, 20, 21]\n",
       "6624                       [23, 24, 5, 17, 6, 19, 20, 21]\n",
       "7135                         [23, 1, 24, 26, 5, 6, 19, 9]\n",
       "Name: FEATURES, dtype: object"
      ]
     },
     "execution_count": 55,
     "metadata": {},
     "output_type": "execute_result"
    }
   ],
   "source": [
    "df['FEATURES'] = df['FEATURES'].str.split(',')\n",
    "df['FEATURES'].sample(5)"
   ]
  },
  {
   "cell_type": "markdown",
   "metadata": {},
   "source": [
    "Need to scrape the `FEATURES.csv` to decode these values."
   ]
  },
  {
   "cell_type": "markdown",
   "metadata": {},
   "source": [
    "## BEDROOM_NUM"
   ]
  },
  {
   "cell_type": "code",
   "execution_count": 56,
   "metadata": {},
   "outputs": [
    {
     "data": {
      "text/plain": [
       "5223    4.0\n",
       "2411    3.0\n",
       "9233    3.0\n",
       "3250    3.0\n",
       "6011    4.0\n",
       "Name: BEDROOM_NUM, dtype: float64"
      ]
     },
     "execution_count": 56,
     "metadata": {},
     "output_type": "execute_result"
    }
   ],
   "source": [
    "df['BEDROOM_NUM'].sample(5)"
   ]
  },
  {
   "cell_type": "code",
   "execution_count": 57,
   "metadata": {},
   "outputs": [
    {
     "data": {
      "text/plain": [
       "998"
      ]
     },
     "execution_count": 57,
     "metadata": {},
     "output_type": "execute_result"
    }
   ],
   "source": [
    "df['BEDROOM_NUM'].isnull().sum()"
   ]
  },
  {
   "cell_type": "code",
   "execution_count": 58,
   "metadata": {},
   "outputs": [
    {
     "data": {
      "text/plain": [
       "998"
      ]
     },
     "execution_count": 58,
     "metadata": {},
     "output_type": "execute_result"
    }
   ],
   "source": [
    "df['BHK_BED'].isnull().sum()"
   ]
  },
  {
   "cell_type": "code",
   "execution_count": 59,
   "metadata": {},
   "outputs": [
    {
     "data": {
      "text/plain": [
       "BEDROOM_NUM\n",
       "3.0     4562\n",
       "4.0     2618\n",
       "2.0     1397\n",
       "5.0      263\n",
       "1.0      158\n",
       "6.0       56\n",
       "9.0       26\n",
       "10.0      16\n",
       "8.0       16\n",
       "7.0       13\n",
       "12.0      13\n",
       "13.0       4\n",
       "20.0       3\n",
       "18.0       3\n",
       "16.0       3\n",
       "11.0       3\n",
       "35.0       3\n",
       "36.0       2\n",
       "15.0       1\n",
       "24.0       1\n",
       "55.0       1\n",
       "34.0       1\n",
       "14.0       1\n",
       "Name: count, dtype: int64"
      ]
     },
     "execution_count": 59,
     "metadata": {},
     "output_type": "execute_result"
    }
   ],
   "source": [
    "df['BEDROOM_NUM'].value_counts()"
   ]
  },
  {
   "cell_type": "code",
   "execution_count": 60,
   "metadata": {},
   "outputs": [
    {
     "name": "stdout",
     "output_type": "stream",
     "text": [
      "Series([], Name: count, dtype: int64)\n",
      "\n",
      "Series([], Name: count, dtype: int64)\n"
     ]
    }
   ],
   "source": [
    "temp = df[(df['BEDROOM_NUM'] != df['BHK_BED']) & (df['BEDROOM_NUM'].notnull())]\n",
    "\n",
    "print(temp['BEDROOM_NUM'].value_counts(), end='\\n\\n')\n",
    "print(temp['BHK_BED'].value_counts())"
   ]
  },
  {
   "cell_type": "markdown",
   "metadata": {},
   "source": [
    "## AMENITIES"
   ]
  },
  {
   "cell_type": "code",
   "execution_count": 61,
   "metadata": {},
   "outputs": [
    {
     "data": {
      "text/plain": [
       "4788    17,5,21,23,24,46,47,19,1,6,9,33,12,25,26,3,31,103\n",
       "1100                             5,8,23,24,6,19,25,26,103\n",
       "4487                                               24,103\n",
       "4427                                                  NaN\n",
       "6262    10,32,17,5,8,20,21,44,23,45,24,46,47,28,29,30,...\n",
       "Name: AMENITIES, dtype: object"
      ]
     },
     "execution_count": 61,
     "metadata": {},
     "output_type": "execute_result"
    }
   ],
   "source": [
    "df['AMENITIES'].sample(5)"
   ]
  },
  {
   "cell_type": "code",
   "execution_count": 62,
   "metadata": {},
   "outputs": [],
   "source": [
    "df['AMENITIES'] = df['AMENITIES'].str.split(',')"
   ]
  },
  {
   "cell_type": "code",
   "execution_count": 63,
   "metadata": {},
   "outputs": [
    {
     "data": {
      "text/plain": [
       "5314                                         [24, 6, 103]\n",
       "5921    [10, 32, 17, 5, 8, 20, 21, 44, 23, 45, 24, 46,...\n",
       "2929                                      [5, 23, 24, 26]\n",
       "4177    [17, 8, 32, 44, 23, 45, 24, 46, 29, 19, 1, 6, ...\n",
       "5084    [10, 17, 5, 20, 21, 44, 23, 45, 24, 46, 47, 30...\n",
       "Name: AMENITIES, dtype: object"
      ]
     },
     "execution_count": 63,
     "metadata": {},
     "output_type": "execute_result"
    }
   ],
   "source": [
    "df['AMENITIES'].sample(5)"
   ]
  },
  {
   "cell_type": "markdown",
   "metadata": {},
   "source": [
    "In order to ddecode this feature we need to scrape the `AMENITIES` encodings from the website."
   ]
  },
  {
   "cell_type": "markdown",
   "metadata": {},
   "source": [
    "## PROP_NAME"
   ]
  },
  {
   "cell_type": "code",
   "execution_count": 64,
   "metadata": {},
   "outputs": [
    {
     "data": {
      "text/plain": [
       "2077                         NaN\n",
       "397       puri diplomatic greens\n",
       "9775    bestech park view city 2\n",
       "8518                 ss the leaf\n",
       "2331     vatika india next plots\n",
       "Name: PROP_NAME, dtype: object"
      ]
     },
     "execution_count": 64,
     "metadata": {},
     "output_type": "execute_result"
    }
   ],
   "source": [
    "df['PROP_NAME'].sample(5)"
   ]
  },
  {
   "cell_type": "code",
   "execution_count": 65,
   "metadata": {},
   "outputs": [
    {
     "data": {
      "text/plain": [
       "1836"
      ]
     },
     "execution_count": 65,
     "metadata": {},
     "output_type": "execute_result"
    }
   ],
   "source": [
    "df['PROP_NAME'].isnull().sum()"
   ]
  },
  {
   "cell_type": "code",
   "execution_count": 66,
   "metadata": {},
   "outputs": [
    {
     "data": {
      "text/plain": [
       "PROP_NAME\n",
       "emaar digihomes                         168\n",
       "ss the leaf                             110\n",
       "shapoorji pallonji joyville gurugram    108\n",
       "ireo skyon                               95\n",
       "ireo the corridors                       92\n",
       "tata primanti                            85\n",
       "sobha city                               80\n",
       "adani m2k oyster grande                  78\n",
       "dlf the ultima                           77\n",
       "bptp amstoria                            70\n",
       "Name: count, dtype: int64"
      ]
     },
     "execution_count": 66,
     "metadata": {},
     "output_type": "execute_result"
    }
   ],
   "source": [
    "df['PROP_NAME'].value_counts()[:10]"
   ]
  },
  {
   "cell_type": "markdown",
   "metadata": {},
   "source": [
    "## BALCONY_NUM"
   ]
  },
  {
   "cell_type": "code",
   "execution_count": 67,
   "metadata": {},
   "outputs": [
    {
     "data": {
      "text/plain": [
       "5545    2.0\n",
       "9041    2.0\n",
       "7444    4.0\n",
       "1717    3.0\n",
       "1558    2.0\n",
       "Name: BALCONY_NUM, dtype: float64"
      ]
     },
     "execution_count": 67,
     "metadata": {},
     "output_type": "execute_result"
    }
   ],
   "source": [
    "df['BALCONY_NUM'].sample(5)"
   ]
  },
  {
   "cell_type": "code",
   "execution_count": 68,
   "metadata": {},
   "outputs": [
    {
     "data": {
      "text/plain": [
       "BALCONY_NUM\n",
       "4.0    2913\n",
       "3.0    2809\n",
       "2.0    2746\n",
       "1.0     486\n",
       "0.0      61\n",
       "Name: count, dtype: int64"
      ]
     },
     "execution_count": 68,
     "metadata": {},
     "output_type": "execute_result"
    }
   ],
   "source": [
    "df['BALCONY_NUM'].value_counts()"
   ]
  },
  {
   "cell_type": "markdown",
   "metadata": {},
   "source": [
    "## FLOOR_NUM"
   ]
  },
  {
   "cell_type": "code",
   "execution_count": 69,
   "metadata": {},
   "outputs": [
    {
     "data": {
      "text/plain": [
       "9088      14\n",
       "7912      26\n",
       "10120      6\n",
       "4210       9\n",
       "994      NaN\n",
       "Name: FLOOR_NUM, dtype: object"
      ]
     },
     "execution_count": 69,
     "metadata": {},
     "output_type": "execute_result"
    }
   ],
   "source": [
    "df['FLOOR_NUM'].sample(5)"
   ]
  },
  {
   "cell_type": "code",
   "execution_count": 70,
   "metadata": {},
   "outputs": [
    {
     "data": {
      "text/plain": [
       "1730"
      ]
     },
     "execution_count": 70,
     "metadata": {},
     "output_type": "execute_result"
    }
   ],
   "source": [
    "df['FLOOR_NUM'].isnull().sum()"
   ]
  },
  {
   "cell_type": "code",
   "execution_count": 71,
   "metadata": {},
   "outputs": [
    {
     "data": {
      "text/plain": [
       "FLOOR_NUM\n",
       "2     1056\n",
       "1     1021\n",
       "3      674\n",
       "4      641\n",
       "7      488\n",
       "10     468\n",
       "6      466\n",
       "8      463\n",
       "5      454\n",
       "9      386\n",
       "Name: count, dtype: int64"
      ]
     },
     "execution_count": 71,
     "metadata": {},
     "output_type": "execute_result"
    }
   ],
   "source": [
    "df['FLOOR_NUM'].value_counts()[:10]"
   ]
  },
  {
   "cell_type": "markdown",
   "metadata": {},
   "source": [
    "# General Step - End"
   ]
  },
  {
   "cell_type": "code",
   "execution_count": 72,
   "metadata": {},
   "outputs": [
    {
     "data": {
      "text/plain": [
       "Index(['SPID', 'PROP_ID', 'CITY', 'PRICE', 'PRICE_SQFT', 'AREA',\n",
       "       'SECONDARY_TAGS', 'TOTAL_LANDMARK_COUNT', 'FORMATTED_LANDMARK_DETAILS',\n",
       "       'MAP_DETAILS', 'PROP_HEADING', 'DESCRIPTION', 'PROPERTY_TYPE',\n",
       "       'location', 'FURNISH', 'FACING', 'AGE', 'TOTAL_FLOOR', 'FEATURES',\n",
       "       'BEDROOM_NUM', 'AMENITIES', 'PROP_NAME', 'BALCONY_NUM', 'FLOOR_NUM',\n",
       "       'LATITUDE', 'LONGITUDE', 'BHK_BED', 'LOCALITY_NAME', 'BUILDING_NAME',\n",
       "       'SOCIETY_NAME', 'ADDRESS'],\n",
       "      dtype='object')"
      ]
     },
     "execution_count": 72,
     "metadata": {},
     "output_type": "execute_result"
    }
   ],
   "source": [
    "df.columns"
   ]
  },
  {
   "cell_type": "code",
   "execution_count": 73,
   "metadata": {},
   "outputs": [
    {
     "data": {
      "text/plain": [
       "0"
      ]
     },
     "execution_count": 73,
     "metadata": {},
     "output_type": "execute_result"
    }
   ],
   "source": [
    "df['SPID'].duplicated().sum()"
   ]
  },
  {
   "cell_type": "code",
   "execution_count": 74,
   "metadata": {},
   "outputs": [
    {
     "data": {
      "text/plain": [
       "0"
      ]
     },
     "execution_count": 74,
     "metadata": {},
     "output_type": "execute_result"
    }
   ],
   "source": [
    "df['PROP_ID'].duplicated().sum()"
   ]
  },
  {
   "cell_type": "code",
   "execution_count": 75,
   "metadata": {},
   "outputs": [
    {
     "data": {
      "text/plain": [
       "SPID                             0\n",
       "PROP_ID                          0\n",
       "CITY                             0\n",
       "PRICE                            0\n",
       "PRICE_SQFT                       0\n",
       "AREA                             0\n",
       "SECONDARY_TAGS                   0\n",
       "TOTAL_LANDMARK_COUNT           111\n",
       "FORMATTED_LANDMARK_DETAILS       0\n",
       "MAP_DETAILS                      0\n",
       "PROP_HEADING                     0\n",
       "DESCRIPTION                      0\n",
       "PROPERTY_TYPE                    0\n",
       "location                         0\n",
       "FURNISH                          0\n",
       "FACING                           0\n",
       "AGE                              0\n",
       "TOTAL_FLOOR                     51\n",
       "FEATURES                         0\n",
       "BEDROOM_NUM                    998\n",
       "AMENITIES                      275\n",
       "PROP_NAME                     1836\n",
       "BALCONY_NUM                   1147\n",
       "FLOOR_NUM                     1730\n",
       "LATITUDE                         0\n",
       "LONGITUDE                        0\n",
       "BHK_BED                        998\n",
       "LOCALITY_NAME                    0\n",
       "BUILDING_NAME                    0\n",
       "SOCIETY_NAME                     0\n",
       "ADDRESS                       4878\n",
       "dtype: int64"
      ]
     },
     "execution_count": 75,
     "metadata": {},
     "output_type": "execute_result"
    }
   ],
   "source": [
    "df.isnull().sum()"
   ]
  },
  {
   "cell_type": "code",
   "execution_count": 76,
   "metadata": {},
   "outputs": [],
   "source": [
    "drop_cols = 'SECONDARY_TAGS MAP_DETAILS location'.split(' ')\n",
    "df.drop(columns=drop_cols, inplace=True)"
   ]
  },
  {
   "cell_type": "code",
   "execution_count": 77,
   "metadata": {},
   "outputs": [
    {
     "data": {
      "text/html": [
       "<div>\n",
       "<style scoped>\n",
       "    .dataframe tbody tr th:only-of-type {\n",
       "        vertical-align: middle;\n",
       "    }\n",
       "\n",
       "    .dataframe tbody tr th {\n",
       "        vertical-align: top;\n",
       "    }\n",
       "\n",
       "    .dataframe thead th {\n",
       "        text-align: right;\n",
       "    }\n",
       "</style>\n",
       "<table border=\"1\" class=\"dataframe\">\n",
       "  <thead>\n",
       "    <tr style=\"text-align: right;\">\n",
       "      <th></th>\n",
       "      <th>SPID</th>\n",
       "      <th>PROP_ID</th>\n",
       "      <th>CITY</th>\n",
       "      <th>PRICE</th>\n",
       "      <th>PRICE_SQFT</th>\n",
       "      <th>AREA</th>\n",
       "      <th>TOTAL_LANDMARK_COUNT</th>\n",
       "      <th>FORMATTED_LANDMARK_DETAILS</th>\n",
       "      <th>PROP_HEADING</th>\n",
       "      <th>DESCRIPTION</th>\n",
       "      <th>PROPERTY_TYPE</th>\n",
       "      <th>FURNISH</th>\n",
       "      <th>FACING</th>\n",
       "      <th>AGE</th>\n",
       "      <th>TOTAL_FLOOR</th>\n",
       "      <th>FEATURES</th>\n",
       "      <th>BEDROOM_NUM</th>\n",
       "      <th>AMENITIES</th>\n",
       "      <th>PROP_NAME</th>\n",
       "      <th>BALCONY_NUM</th>\n",
       "      <th>FLOOR_NUM</th>\n",
       "      <th>LATITUDE</th>\n",
       "      <th>LONGITUDE</th>\n",
       "      <th>BHK_BED</th>\n",
       "      <th>LOCALITY_NAME</th>\n",
       "      <th>BUILDING_NAME</th>\n",
       "      <th>SOCIETY_NAME</th>\n",
       "      <th>ADDRESS</th>\n",
       "    </tr>\n",
       "  </thead>\n",
       "  <tbody>\n",
       "    <tr>\n",
       "      <th>2223</th>\n",
       "      <td>70480680</td>\n",
       "      <td>s70480680</td>\n",
       "      <td>gurgaon</td>\n",
       "      <td>60000.0</td>\n",
       "      <td>24.0</td>\n",
       "      <td>2500.0</td>\n",
       "      <td>46.0</td>\n",
       "      <td>[1 metro station, 2 religious places, 11 atms,...</td>\n",
       "      <td>4 bhk flat in sector 43 gurgaon</td>\n",
       "      <td>4bhk with power backup,security,lift,park,shop...</td>\n",
       "      <td>residential apartment</td>\n",
       "      <td>Semifurnished</td>\n",
       "      <td>East</td>\n",
       "      <td>3</td>\n",
       "      <td>10.0</td>\n",
       "      <td>[44, 33, 23, 46, 47, 25, 26, 17, 39, 29, 19, 1...</td>\n",
       "      <td>4.0</td>\n",
       "      <td>[17, 2, 5, 20, 21, 44, 23, 46, 47, 39, 29, 19,...</td>\n",
       "      <td>tarika apartments</td>\n",
       "      <td>4.0</td>\n",
       "      <td>6</td>\n",
       "      <td>28.451282</td>\n",
       "      <td>77.077569</td>\n",
       "      <td>4.0</td>\n",
       "      <td>sector 43 gurgaon</td>\n",
       "      <td>tarika apartments</td>\n",
       "      <td>tarika apartments</td>\n",
       "      <td>None</td>\n",
       "    </tr>\n",
       "    <tr>\n",
       "      <th>6253</th>\n",
       "      <td>70306202</td>\n",
       "      <td>x70306202</td>\n",
       "      <td>gurgaon</td>\n",
       "      <td>120000000.0</td>\n",
       "      <td>13333.0</td>\n",
       "      <td>9000.0</td>\n",
       "      <td>46.0</td>\n",
       "      <td>[6 metro stations, 2 religious places, 5 atms,...</td>\n",
       "      <td>independent builder floor in sector 26 gurgaon</td>\n",
       "      <td>1000 sq. yard luxury floor with: - personal li...</td>\n",
       "      <td>independent/builder floor</td>\n",
       "      <td>Semifurnished</td>\n",
       "      <td>North-East</td>\n",
       "      <td>6</td>\n",
       "      <td>4.0</td>\n",
       "      <td>[23, 26, 5, 6]</td>\n",
       "      <td>NaN</td>\n",
       "      <td>[5, 23, 6, 26, 101, 102, 103]</td>\n",
       "      <td>dlf city phase 1</td>\n",
       "      <td>3.0</td>\n",
       "      <td>2</td>\n",
       "      <td>28.478236</td>\n",
       "      <td>77.105306</td>\n",
       "      <td>NaN</td>\n",
       "      <td>sector 26 gurgaon</td>\n",
       "      <td>dlf city phase 1</td>\n",
       "      <td>dlf city phase 1</td>\n",
       "      <td>marg 39</td>\n",
       "    </tr>\n",
       "    <tr>\n",
       "      <th>6177</th>\n",
       "      <td>70873190</td>\n",
       "      <td>i70873190</td>\n",
       "      <td>gurgaon</td>\n",
       "      <td>23500000.0</td>\n",
       "      <td>19714.0</td>\n",
       "      <td>2086.0</td>\n",
       "      <td>7.0</td>\n",
       "      <td>[1 shopping, 1 connectivity, 1 education, 1 ho...</td>\n",
       "      <td>3 bhk flat in sector 82a gurgaon</td>\n",
       "      <td>some people want more from life and aren't apo...</td>\n",
       "      <td>residential apartment</td>\n",
       "      <td>Semifurnished</td>\n",
       "      <td>North-West</td>\n",
       "      <td>1</td>\n",
       "      <td>32.0</td>\n",
       "      <td>[44, 33, 23, 45, 12, 24, 46, 25, 47, 26, 17, 2...</td>\n",
       "      <td>3.0</td>\n",
       "      <td>[17, 5, 20, 21, 44, 23, 45, 24, 46, 47, 28, 19...</td>\n",
       "      <td>dlf the primus</td>\n",
       "      <td>3.0</td>\n",
       "      <td>b</td>\n",
       "      <td>28.386254</td>\n",
       "      <td>76.966492</td>\n",
       "      <td>3.0</td>\n",
       "      <td>sector 82a gurgaon</td>\n",
       "      <td>dlf the primus</td>\n",
       "      <td>dlf the primus</td>\n",
       "      <td>None</td>\n",
       "    </tr>\n",
       "    <tr>\n",
       "      <th>9851</th>\n",
       "      <td>70705302</td>\n",
       "      <td>u70705302</td>\n",
       "      <td>gurgaon</td>\n",
       "      <td>19500000.0</td>\n",
       "      <td>14233.0</td>\n",
       "      <td>1370.0</td>\n",
       "      <td>4.0</td>\n",
       "      <td>[1 metro station, 1 shopping, 1 amusement park...</td>\n",
       "      <td>3 bhk flat in dlf phase 4</td>\n",
       "      <td>dlf phase 4, gurgaon, haryana 3bhk, renovated ...</td>\n",
       "      <td>residential apartment</td>\n",
       "      <td>Semifurnished</td>\n",
       "      <td>North-East</td>\n",
       "      <td>2</td>\n",
       "      <td>14.0</td>\n",
       "      <td>[44, 23, 45, 24, 46, 25, 47, 26, 28, 29, 30, 3...</td>\n",
       "      <td>3.0</td>\n",
       "      <td>[32, 17, 2, 5, 20, 21, 44, 23, 45, 24, 46, 47,...</td>\n",
       "      <td>dlf ridgewood estate</td>\n",
       "      <td>1.0</td>\n",
       "      <td>6</td>\n",
       "      <td>28.464937</td>\n",
       "      <td>77.080879</td>\n",
       "      <td>3.0</td>\n",
       "      <td>dlf phase 4</td>\n",
       "      <td>dlf ridgewood estate</td>\n",
       "      <td>dlf ridgewood estate</td>\n",
       "      <td>dlf phase 4</td>\n",
       "    </tr>\n",
       "    <tr>\n",
       "      <th>10113</th>\n",
       "      <td>70518488</td>\n",
       "      <td>n70518488</td>\n",
       "      <td>gurgaon</td>\n",
       "      <td>22000.0</td>\n",
       "      <td>25.0</td>\n",
       "      <td>850.0</td>\n",
       "      <td>47.0</td>\n",
       "      <td>[3 metro stations, 2 religious places, 5 atms,...</td>\n",
       "      <td>1 bhk independent builder floor in sector 56 g...</td>\n",
       "      <td>property near by 55-56metro station and sector...</td>\n",
       "      <td>independent/builder floor</td>\n",
       "      <td>Furnished</td>\n",
       "      <td>North-East</td>\n",
       "      <td>1</td>\n",
       "      <td>4.0</td>\n",
       "      <td>[24, 6, 19]</td>\n",
       "      <td>1.0</td>\n",
       "      <td>[24, 6, 19, 102, 103]</td>\n",
       "      <td>NaN</td>\n",
       "      <td>1.0</td>\n",
       "      <td>4</td>\n",
       "      <td>28.4256506</td>\n",
       "      <td>77.099613</td>\n",
       "      <td>1.0</td>\n",
       "      <td>sector 56 gurgaon</td>\n",
       "      <td></td>\n",
       "      <td></td>\n",
       "      <td>None</td>\n",
       "    </tr>\n",
       "    <tr>\n",
       "      <th>8799</th>\n",
       "      <td>70629550</td>\n",
       "      <td>e70629550</td>\n",
       "      <td>gurgaon</td>\n",
       "      <td>50002.0</td>\n",
       "      <td>24.0</td>\n",
       "      <td>2003.0</td>\n",
       "      <td>12.0</td>\n",
       "      <td>[1 metro station, 1 shopping, 1 connectivity, ...</td>\n",
       "      <td>3 bhk flat in sector 108 gurgaon</td>\n",
       "      <td>find this 3 bhk apartment for rent in sector 1...</td>\n",
       "      <td>residential apartment</td>\n",
       "      <td>Semifurnished</td>\n",
       "      <td>North-East</td>\n",
       "      <td>1</td>\n",
       "      <td>24.0</td>\n",
       "      <td>[33, 44, 12, 23, 45, 24, 47, 25, 26, 17, 19, 1...</td>\n",
       "      <td>3.0</td>\n",
       "      <td>[17, 2, 5, 20, 21, 44, 23, 45, 24, 47, 19, 1, ...</td>\n",
       "      <td>sobha city</td>\n",
       "      <td>2.0</td>\n",
       "      <td>11</td>\n",
       "      <td>28.516331087497</td>\n",
       "      <td>76.995685046165</td>\n",
       "      <td>3.0</td>\n",
       "      <td>sector 108 gurgaon</td>\n",
       "      <td>sobha city</td>\n",
       "      <td>sobha city</td>\n",
       "      <td>n/a</td>\n",
       "    </tr>\n",
       "    <tr>\n",
       "      <th>2783</th>\n",
       "      <td>70501006</td>\n",
       "      <td>w70501006</td>\n",
       "      <td>gurgaon</td>\n",
       "      <td>140000.0</td>\n",
       "      <td>43.0</td>\n",
       "      <td>3200.0</td>\n",
       "      <td>47.0</td>\n",
       "      <td>[1 religious place, 2 atms, 20 hospitals, 1 at...</td>\n",
       "      <td>4 bhk independent builder floor in dlf phase 2</td>\n",
       "      <td>available for rent 4bhk builder floor dlf phas...</td>\n",
       "      <td>independent/builder floor</td>\n",
       "      <td>Semifurnished</td>\n",
       "      <td>West</td>\n",
       "      <td>1</td>\n",
       "      <td>4.0</td>\n",
       "      <td>[23, 24, 25, 26, 5, 19, 32]</td>\n",
       "      <td>4.0</td>\n",
       "      <td>[5, 32, 23, 24, 19, 25, 26, 103]</td>\n",
       "      <td>NaN</td>\n",
       "      <td>4.0</td>\n",
       "      <td>4</td>\n",
       "      <td>28.403982</td>\n",
       "      <td>77.04866</td>\n",
       "      <td>4.0</td>\n",
       "      <td>dlf phase 2</td>\n",
       "      <td></td>\n",
       "      <td></td>\n",
       "      <td>None</td>\n",
       "    </tr>\n",
       "  </tbody>\n",
       "</table>\n",
       "</div>"
      ],
      "text/plain": [
       "           SPID    PROP_ID     CITY        PRICE  PRICE_SQFT    AREA  \\\n",
       "2223   70480680  s70480680  gurgaon      60000.0        24.0  2500.0   \n",
       "6253   70306202  x70306202  gurgaon  120000000.0     13333.0  9000.0   \n",
       "6177   70873190  i70873190  gurgaon   23500000.0     19714.0  2086.0   \n",
       "9851   70705302  u70705302  gurgaon   19500000.0     14233.0  1370.0   \n",
       "10113  70518488  n70518488  gurgaon      22000.0        25.0   850.0   \n",
       "8799   70629550  e70629550  gurgaon      50002.0        24.0  2003.0   \n",
       "2783   70501006  w70501006  gurgaon     140000.0        43.0  3200.0   \n",
       "\n",
       "       TOTAL_LANDMARK_COUNT  \\\n",
       "2223                   46.0   \n",
       "6253                   46.0   \n",
       "6177                    7.0   \n",
       "9851                    4.0   \n",
       "10113                  47.0   \n",
       "8799                   12.0   \n",
       "2783                   47.0   \n",
       "\n",
       "                              FORMATTED_LANDMARK_DETAILS  \\\n",
       "2223   [1 metro station, 2 religious places, 11 atms,...   \n",
       "6253   [6 metro stations, 2 religious places, 5 atms,...   \n",
       "6177   [1 shopping, 1 connectivity, 1 education, 1 ho...   \n",
       "9851   [1 metro station, 1 shopping, 1 amusement park...   \n",
       "10113  [3 metro stations, 2 religious places, 5 atms,...   \n",
       "8799   [1 metro station, 1 shopping, 1 connectivity, ...   \n",
       "2783   [1 religious place, 2 atms, 20 hospitals, 1 at...   \n",
       "\n",
       "                                            PROP_HEADING  \\\n",
       "2223                     4 bhk flat in sector 43 gurgaon   \n",
       "6253      independent builder floor in sector 26 gurgaon   \n",
       "6177                    3 bhk flat in sector 82a gurgaon   \n",
       "9851                           3 bhk flat in dlf phase 4   \n",
       "10113  1 bhk independent builder floor in sector 56 g...   \n",
       "8799                    3 bhk flat in sector 108 gurgaon   \n",
       "2783      4 bhk independent builder floor in dlf phase 2   \n",
       "\n",
       "                                             DESCRIPTION  \\\n",
       "2223   4bhk with power backup,security,lift,park,shop...   \n",
       "6253   1000 sq. yard luxury floor with: - personal li...   \n",
       "6177   some people want more from life and aren't apo...   \n",
       "9851   dlf phase 4, gurgaon, haryana 3bhk, renovated ...   \n",
       "10113  property near by 55-56metro station and sector...   \n",
       "8799   find this 3 bhk apartment for rent in sector 1...   \n",
       "2783   available for rent 4bhk builder floor dlf phas...   \n",
       "\n",
       "                   PROPERTY_TYPE        FURNISH      FACING  AGE  TOTAL_FLOOR  \\\n",
       "2223       residential apartment  Semifurnished        East    3         10.0   \n",
       "6253   independent/builder floor  Semifurnished  North-East    6          4.0   \n",
       "6177       residential apartment  Semifurnished  North-West    1         32.0   \n",
       "9851       residential apartment  Semifurnished  North-East    2         14.0   \n",
       "10113  independent/builder floor      Furnished  North-East    1          4.0   \n",
       "8799       residential apartment  Semifurnished  North-East    1         24.0   \n",
       "2783   independent/builder floor  Semifurnished        West    1          4.0   \n",
       "\n",
       "                                                FEATURES  BEDROOM_NUM  \\\n",
       "2223   [44, 33, 23, 46, 47, 25, 26, 17, 39, 29, 19, 1...          4.0   \n",
       "6253                                      [23, 26, 5, 6]          NaN   \n",
       "6177   [44, 33, 23, 45, 12, 24, 46, 25, 47, 26, 17, 2...          3.0   \n",
       "9851   [44, 23, 45, 24, 46, 25, 47, 26, 28, 29, 30, 3...          3.0   \n",
       "10113                                        [24, 6, 19]          1.0   \n",
       "8799   [33, 44, 12, 23, 45, 24, 47, 25, 26, 17, 19, 1...          3.0   \n",
       "2783                         [23, 24, 25, 26, 5, 19, 32]          4.0   \n",
       "\n",
       "                                               AMENITIES  \\\n",
       "2223   [17, 2, 5, 20, 21, 44, 23, 46, 47, 39, 29, 19,...   \n",
       "6253                       [5, 23, 6, 26, 101, 102, 103]   \n",
       "6177   [17, 5, 20, 21, 44, 23, 45, 24, 46, 47, 28, 19...   \n",
       "9851   [32, 17, 2, 5, 20, 21, 44, 23, 45, 24, 46, 47,...   \n",
       "10113                              [24, 6, 19, 102, 103]   \n",
       "8799   [17, 2, 5, 20, 21, 44, 23, 45, 24, 47, 19, 1, ...   \n",
       "2783                    [5, 32, 23, 24, 19, 25, 26, 103]   \n",
       "\n",
       "                  PROP_NAME  BALCONY_NUM FLOOR_NUM         LATITUDE  \\\n",
       "2223      tarika apartments          4.0         6        28.451282   \n",
       "6253       dlf city phase 1          3.0         2        28.478236   \n",
       "6177         dlf the primus          3.0         b        28.386254   \n",
       "9851   dlf ridgewood estate          1.0         6        28.464937   \n",
       "10113                   NaN          1.0         4       28.4256506   \n",
       "8799             sobha city          2.0        11  28.516331087497   \n",
       "2783                    NaN          4.0         4        28.403982   \n",
       "\n",
       "             LONGITUDE  BHK_BED       LOCALITY_NAME         BUILDING_NAME  \\\n",
       "2223         77.077569      4.0   sector 43 gurgaon     tarika apartments   \n",
       "6253         77.105306      NaN   sector 26 gurgaon      dlf city phase 1   \n",
       "6177         76.966492      3.0  sector 82a gurgaon        dlf the primus   \n",
       "9851         77.080879      3.0         dlf phase 4  dlf ridgewood estate   \n",
       "10113        77.099613      1.0   sector 56 gurgaon                         \n",
       "8799   76.995685046165      3.0  sector 108 gurgaon            sobha city   \n",
       "2783          77.04866      4.0         dlf phase 2                         \n",
       "\n",
       "               SOCIETY_NAME      ADDRESS  \n",
       "2223      tarika apartments         None  \n",
       "6253       dlf city phase 1      marg 39  \n",
       "6177         dlf the primus         None  \n",
       "9851   dlf ridgewood estate  dlf phase 4  \n",
       "10113                               None  \n",
       "8799             sobha city          n/a  \n",
       "2783                                None  "
      ]
     },
     "execution_count": 77,
     "metadata": {},
     "output_type": "execute_result"
    }
   ],
   "source": [
    "df.sample(7)"
   ]
  },
  {
   "cell_type": "markdown",
   "metadata": {},
   "source": [
    "## Export Dataset"
   ]
  },
  {
   "cell_type": "code",
   "execution_count": 78,
   "metadata": {},
   "outputs": [],
   "source": [
    "df.to_csv('data/processed/gurgaon_10k.csv', index=False)"
   ]
  }
 ],
 "metadata": {
  "kernelspec": {
   "display_name": "Python 3",
   "language": "python",
   "name": "python3"
  },
  "language_info": {
   "codemirror_mode": {
    "name": "ipython",
    "version": 3
   },
   "file_extension": ".py",
   "mimetype": "text/x-python",
   "name": "python",
   "nbconvert_exporter": "python",
   "pygments_lexer": "ipython3",
   "version": "3.11.0"
  },
  "orig_nbformat": 4
 },
 "nbformat": 4,
 "nbformat_minor": 2
}
