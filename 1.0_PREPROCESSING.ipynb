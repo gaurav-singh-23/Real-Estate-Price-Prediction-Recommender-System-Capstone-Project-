{
 "cells": [
  {
   "cell_type": "markdown",
   "metadata": {},
   "source": [
    "In this notebook I am performing **DATA CLEANING & FEATURE ENGINEERING** on the [`houses`](../../data/houses.csv) dataset."
   ]
  },
  {
   "cell_type": "code",
   "execution_count": 1,
   "metadata": {},
   "outputs": [],
   "source": [
    "from ast import literal_eval\n",
    "\n",
    "import pandas as pd\n",
    "import numpy as np\n",
    "from matplotlib import pyplot as plt\n",
    "\n",
    "from sklearn.cluster import KMeans\n",
    "from sklearn.preprocessing import StandardScaler"
   ]
  },
  {
   "cell_type": "code",
   "execution_count": 2,
   "metadata": {},
   "outputs": [
    {
     "name": "stdout",
     "output_type": "stream",
     "text": [
      "(1044, 21)\n"
     ]
    },
    {
     "data": {
      "text/html": [
       "<div>\n",
       "<style scoped>\n",
       "    .dataframe tbody tr th:only-of-type {\n",
       "        vertical-align: middle;\n",
       "    }\n",
       "\n",
       "    .dataframe tbody tr th {\n",
       "        vertical-align: top;\n",
       "    }\n",
       "\n",
       "    .dataframe thead th {\n",
       "        text-align: right;\n",
       "    }\n",
       "</style>\n",
       "<table border=\"1\" class=\"dataframe\">\n",
       "  <thead>\n",
       "    <tr style=\"text-align: right;\">\n",
       "      <th></th>\n",
       "      <th>property_name</th>\n",
       "      <th>link</th>\n",
       "      <th>society</th>\n",
       "      <th>price</th>\n",
       "      <th>rate</th>\n",
       "      <th>area</th>\n",
       "      <th>areaWithType</th>\n",
       "      <th>bedRoom</th>\n",
       "      <th>bathroom</th>\n",
       "      <th>balcony</th>\n",
       "      <th>...</th>\n",
       "      <th>address</th>\n",
       "      <th>noOfFloor</th>\n",
       "      <th>facing</th>\n",
       "      <th>agePossession</th>\n",
       "      <th>nearbyLocations</th>\n",
       "      <th>description</th>\n",
       "      <th>furnishDetails</th>\n",
       "      <th>features</th>\n",
       "      <th>rating</th>\n",
       "      <th>property_id</th>\n",
       "    </tr>\n",
       "  </thead>\n",
       "  <tbody>\n",
       "    <tr>\n",
       "      <th>0</th>\n",
       "      <td>5 Bedroom House for sale in Sector 70A Gurgaon</td>\n",
       "      <td>https://www.99acres.com/5-bhk-bedroom-independ...</td>\n",
       "      <td>Bptp Visionnaire</td>\n",
       "      <td>5.25 Crore</td>\n",
       "      <td>₹ 20,115/sq.ft.</td>\n",
       "      <td>(242 sq.m.) Plot Area</td>\n",
       "      <td>Plot area 290(242.48 sq.m.)</td>\n",
       "      <td>5 Bedrooms</td>\n",
       "      <td>4 Bathrooms</td>\n",
       "      <td>3+ Balconies</td>\n",
       "      <td>...</td>\n",
       "      <td>29b, Sector 70A Gurgaon, Gurgaon, Haryana</td>\n",
       "      <td>3 Floors</td>\n",
       "      <td>North-East</td>\n",
       "      <td>0 to 1 Year Old</td>\n",
       "      <td>['Good Earth City Center 2', 'Kunskapsskolan I...</td>\n",
       "      <td>Do you wish to buy an independent house in sec...</td>\n",
       "      <td>['1 Wardrobe', '1 Fan', '1 Exhaust Fan', '1 Ge...</td>\n",
       "      <td>['Feng Shui / Vaastu Compliant', 'Private Gard...</td>\n",
       "      <td>['Environment5 out of 5', 'Lifestyle4 out of 5...</td>\n",
       "      <td>K70037724</td>\n",
       "    </tr>\n",
       "    <tr>\n",
       "      <th>1</th>\n",
       "      <td>5 Bedroom House for sale in Sector 21A Faridabad</td>\n",
       "      <td>https://www.99acres.com/5-bhk-bedroom-independ...</td>\n",
       "      <td>NaN</td>\n",
       "      <td>5.7 Crore</td>\n",
       "      <td>₹ 105,751/sq.ft.</td>\n",
       "      <td>(50 sq.m.) Plot Area</td>\n",
       "      <td>Plot area 539(50.07 sq.m.)</td>\n",
       "      <td>5 Bedrooms</td>\n",
       "      <td>4 Bathrooms</td>\n",
       "      <td>2 Balconies</td>\n",
       "      <td>...</td>\n",
       "      <td>Sector 21A Faridabad, Gurgaon, Haryana</td>\n",
       "      <td>2 Floors</td>\n",
       "      <td>NaN</td>\n",
       "      <td>5 to 10 Year Old</td>\n",
       "      <td>NaN</td>\n",
       "      <td>Hi, we have an independent house/villa availab...</td>\n",
       "      <td>['1 Water Purifier', '5 Fan', '1 Exhaust Fan',...</td>\n",
       "      <td>['Private Garden / Terrace', 'Park', 'Visitor ...</td>\n",
       "      <td>NaN</td>\n",
       "      <td>E69288322</td>\n",
       "    </tr>\n",
       "    <tr>\n",
       "      <th>2</th>\n",
       "      <td>10 Bedroom House for sale in Sushant Lok Phase 1</td>\n",
       "      <td>https://www.99acres.com/10-bhk-bedroom-indepen...</td>\n",
       "      <td>NaN</td>\n",
       "      <td>2.1 Crore</td>\n",
       "      <td>₹ 38,251/sq.ft.</td>\n",
       "      <td>(51 sq.m.) Plot Area</td>\n",
       "      <td>Plot area 61(51 sq.m.)</td>\n",
       "      <td>10 Bedrooms</td>\n",
       "      <td>10 Bathrooms</td>\n",
       "      <td>3+ Balconies</td>\n",
       "      <td>...</td>\n",
       "      <td>Sushant Lok Phase 1, Gurgaon, Haryana</td>\n",
       "      <td>5 Floors</td>\n",
       "      <td>West</td>\n",
       "      <td>0 to 1 Year Old</td>\n",
       "      <td>['Sector 42-43 metro station', 'Huda city cent...</td>\n",
       "      <td>Monthly rental income is rs1,40,000/- Best opt...</td>\n",
       "      <td>['10 Bed', '3 Fan', '10 Geyser', '2 Light', 'N...</td>\n",
       "      <td>['Maintenance Staff', 'Water Storage', 'Visito...</td>\n",
       "      <td>['Environment5 out of 5', 'Lifestyle5 out of 5...</td>\n",
       "      <td>F69536898</td>\n",
       "    </tr>\n",
       "  </tbody>\n",
       "</table>\n",
       "<p>3 rows × 21 columns</p>\n",
       "</div>"
      ],
      "text/plain": [
       "                                      property_name  \\\n",
       "0    5 Bedroom House for sale in Sector 70A Gurgaon   \n",
       "1  5 Bedroom House for sale in Sector 21A Faridabad   \n",
       "2  10 Bedroom House for sale in Sushant Lok Phase 1   \n",
       "\n",
       "                                                link           society  \\\n",
       "0  https://www.99acres.com/5-bhk-bedroom-independ...  Bptp Visionnaire   \n",
       "1  https://www.99acres.com/5-bhk-bedroom-independ...               NaN   \n",
       "2  https://www.99acres.com/10-bhk-bedroom-indepen...               NaN   \n",
       "\n",
       "        price              rate                   area  \\\n",
       "0  5.25 Crore   ₹ 20,115/sq.ft.  (242 sq.m.) Plot Area   \n",
       "1   5.7 Crore  ₹ 105,751/sq.ft.   (50 sq.m.) Plot Area   \n",
       "2   2.1 Crore   ₹ 38,251/sq.ft.   (51 sq.m.) Plot Area   \n",
       "\n",
       "                  areaWithType      bedRoom      bathroom       balcony  ...  \\\n",
       "0  Plot area 290(242.48 sq.m.)   5 Bedrooms   4 Bathrooms  3+ Balconies  ...   \n",
       "1   Plot area 539(50.07 sq.m.)   5 Bedrooms   4 Bathrooms   2 Balconies  ...   \n",
       "2       Plot area 61(51 sq.m.)  10 Bedrooms  10 Bathrooms  3+ Balconies  ...   \n",
       "\n",
       "                                     address noOfFloor      facing  \\\n",
       "0  29b, Sector 70A Gurgaon, Gurgaon, Haryana  3 Floors  North-East   \n",
       "1     Sector 21A Faridabad, Gurgaon, Haryana  2 Floors         NaN   \n",
       "2      Sushant Lok Phase 1, Gurgaon, Haryana  5 Floors        West   \n",
       "\n",
       "      agePossession                                    nearbyLocations  \\\n",
       "0   0 to 1 Year Old  ['Good Earth City Center 2', 'Kunskapsskolan I...   \n",
       "1  5 to 10 Year Old                                                NaN   \n",
       "2   0 to 1 Year Old  ['Sector 42-43 metro station', 'Huda city cent...   \n",
       "\n",
       "                                         description  \\\n",
       "0  Do you wish to buy an independent house in sec...   \n",
       "1  Hi, we have an independent house/villa availab...   \n",
       "2  Monthly rental income is rs1,40,000/- Best opt...   \n",
       "\n",
       "                                      furnishDetails  \\\n",
       "0  ['1 Wardrobe', '1 Fan', '1 Exhaust Fan', '1 Ge...   \n",
       "1  ['1 Water Purifier', '5 Fan', '1 Exhaust Fan',...   \n",
       "2  ['10 Bed', '3 Fan', '10 Geyser', '2 Light', 'N...   \n",
       "\n",
       "                                            features  \\\n",
       "0  ['Feng Shui / Vaastu Compliant', 'Private Gard...   \n",
       "1  ['Private Garden / Terrace', 'Park', 'Visitor ...   \n",
       "2  ['Maintenance Staff', 'Water Storage', 'Visito...   \n",
       "\n",
       "                                              rating property_id  \n",
       "0  ['Environment5 out of 5', 'Lifestyle4 out of 5...   K70037724  \n",
       "1                                                NaN   E69288322  \n",
       "2  ['Environment5 out of 5', 'Lifestyle5 out of 5...   F69536898  \n",
       "\n",
       "[3 rows x 21 columns]"
      ]
     },
     "execution_count": 2,
     "metadata": {},
     "output_type": "execute_result"
    }
   ],
   "source": [
    "df = pd.read_csv('data/houses.csv')\n",
    "print(df.shape)\n",
    "df.head(3)"
   ]
  },
  {
   "cell_type": "code",
   "execution_count": 3,
   "metadata": {},
   "outputs": [
    {
     "name": "stdout",
     "output_type": "stream",
     "text": [
      "<class 'pandas.core.frame.DataFrame'>\n",
      "RangeIndex: 1044 entries, 0 to 1043\n",
      "Data columns (total 21 columns):\n",
      " #   Column           Non-Null Count  Dtype \n",
      "---  ------           --------------  ----- \n",
      " 0   property_name    1044 non-null   object\n",
      " 1   link             1044 non-null   object\n",
      " 2   society          453 non-null    object\n",
      " 3   price            968 non-null    object\n",
      " 4   rate             1005 non-null   object\n",
      " 5   area             1044 non-null   object\n",
      " 6   areaWithType     987 non-null    object\n",
      " 7   bedRoom          987 non-null    object\n",
      " 8   bathroom         987 non-null    object\n",
      " 9   balcony          987 non-null    object\n",
      " 10  additionalRoom   589 non-null    object\n",
      " 11  address          1031 non-null   object\n",
      " 12  noOfFloor        967 non-null    object\n",
      " 13  facing           674 non-null    object\n",
      " 14  agePossession    987 non-null    object\n",
      " 15  nearbyLocations  913 non-null    object\n",
      " 16  description      1036 non-null   object\n",
      " 17  furnishDetails   743 non-null    object\n",
      " 18  features         674 non-null    object\n",
      " 19  rating           907 non-null    object\n",
      " 20  property_id      1036 non-null   object\n",
      "dtypes: object(21)\n",
      "memory usage: 171.4+ KB\n"
     ]
    }
   ],
   "source": [
    "df.info()"
   ]
  },
  {
   "cell_type": "code",
   "execution_count": 4,
   "metadata": {},
   "outputs": [
    {
     "data": {
      "text/plain": [
       "property_name        0\n",
       "link                 0\n",
       "society            591\n",
       "price               76\n",
       "rate                39\n",
       "area                 0\n",
       "areaWithType        57\n",
       "bedRoom             57\n",
       "bathroom            57\n",
       "balcony             57\n",
       "additionalRoom     455\n",
       "address             13\n",
       "noOfFloor           77\n",
       "facing             370\n",
       "agePossession       57\n",
       "nearbyLocations    131\n",
       "description          8\n",
       "furnishDetails     301\n",
       "features           370\n",
       "rating             137\n",
       "property_id          8\n",
       "dtype: int64"
      ]
     },
     "execution_count": 4,
     "metadata": {},
     "output_type": "execute_result"
    }
   ],
   "source": [
    "df.isnull().sum()"
   ]
  },
  {
   "cell_type": "markdown",
   "metadata": {},
   "source": [
    "## General steps"
   ]
  },
  {
   "cell_type": "code",
   "execution_count": 5,
   "metadata": {},
   "outputs": [],
   "source": [
    "df = df.applymap(lambda x: str.lower(x) if isinstance(x, str) else x)"
   ]
  },
  {
   "cell_type": "markdown",
   "metadata": {},
   "source": [
    "## price"
   ]
  },
  {
   "cell_type": "code",
   "execution_count": 6,
   "metadata": {},
   "outputs": [
    {
     "data": {
      "text/plain": [
       "array(['crore', 'lac', nan, 'request'], dtype=object)"
      ]
     },
     "execution_count": 6,
     "metadata": {},
     "output_type": "execute_result"
    }
   ],
   "source": [
    "df['price'].str.split().str.get(-1).unique()"
   ]
  },
  {
   "cell_type": "code",
   "execution_count": 7,
   "metadata": {},
   "outputs": [],
   "source": [
    "drop_rows = df[df['price'].str.contains('request') == True].index\n",
    "df.drop(index=drop_rows, inplace=True)"
   ]
  },
  {
   "cell_type": "code",
   "execution_count": 8,
   "metadata": {},
   "outputs": [],
   "source": [
    "def handle_price(x: str) -> float:\n",
    "    if isinstance(x, float):\n",
    "        return x\n",
    "\n",
    "    if 'crore' in x:\n",
    "        return float(x.split(' ')[0]) * 100\n",
    "\n",
    "    return float(x.split(' ')[0])"
   ]
  },
  {
   "cell_type": "code",
   "execution_count": 9,
   "metadata": {},
   "outputs": [],
   "source": [
    "df['price'] = df['price'].apply(handle_price)"
   ]
  },
  {
   "cell_type": "markdown",
   "metadata": {},
   "source": [
    "## rate"
   ]
  },
  {
   "cell_type": "code",
   "execution_count": 10,
   "metadata": {},
   "outputs": [
    {
     "data": {
      "text/html": [
       "<div>\n",
       "<style scoped>\n",
       "    .dataframe tbody tr th:only-of-type {\n",
       "        vertical-align: middle;\n",
       "    }\n",
       "\n",
       "    .dataframe tbody tr th {\n",
       "        vertical-align: top;\n",
       "    }\n",
       "\n",
       "    .dataframe thead th {\n",
       "        text-align: right;\n",
       "    }\n",
       "</style>\n",
       "<table border=\"1\" class=\"dataframe\">\n",
       "  <thead>\n",
       "    <tr style=\"text-align: right;\">\n",
       "      <th></th>\n",
       "      <th>property_name</th>\n",
       "      <th>link</th>\n",
       "      <th>society</th>\n",
       "      <th>price</th>\n",
       "      <th>rate</th>\n",
       "      <th>area</th>\n",
       "      <th>areaWithType</th>\n",
       "      <th>bedRoom</th>\n",
       "      <th>bathroom</th>\n",
       "      <th>balcony</th>\n",
       "      <th>...</th>\n",
       "      <th>address</th>\n",
       "      <th>noOfFloor</th>\n",
       "      <th>facing</th>\n",
       "      <th>agePossession</th>\n",
       "      <th>nearbyLocations</th>\n",
       "      <th>description</th>\n",
       "      <th>furnishDetails</th>\n",
       "      <th>features</th>\n",
       "      <th>rating</th>\n",
       "      <th>property_id</th>\n",
       "    </tr>\n",
       "  </thead>\n",
       "  <tbody>\n",
       "  </tbody>\n",
       "</table>\n",
       "<p>0 rows × 21 columns</p>\n",
       "</div>"
      ],
      "text/plain": [
       "Empty DataFrame\n",
       "Columns: [property_name, link, society, price, rate, area, areaWithType, bedRoom, bathroom, balcony, additionalRoom, address, noOfFloor, facing, agePossession, nearbyLocations, description, furnishDetails, features, rating, property_id]\n",
       "Index: []\n",
       "\n",
       "[0 rows x 21 columns]"
      ]
     },
     "execution_count": 10,
     "metadata": {},
     "output_type": "execute_result"
    }
   ],
   "source": [
    "df[df['rate'].str.contains('sq.ft.') == False]"
   ]
  },
  {
   "cell_type": "code",
   "execution_count": 11,
   "metadata": {},
   "outputs": [],
   "source": [
    "df['rate'] = df['rate'].str.replace(',', '').str.extract(r'(\\d+)/sq.ft.').astype(float)"
   ]
  },
  {
   "cell_type": "markdown",
   "metadata": {},
   "source": [
    "## area"
   ]
  },
  {
   "cell_type": "code",
   "execution_count": 12,
   "metadata": {},
   "outputs": [
    {
     "data": {
      "text/html": [
       "<div>\n",
       "<style scoped>\n",
       "    .dataframe tbody tr th:only-of-type {\n",
       "        vertical-align: middle;\n",
       "    }\n",
       "\n",
       "    .dataframe tbody tr th {\n",
       "        vertical-align: top;\n",
       "    }\n",
       "\n",
       "    .dataframe thead th {\n",
       "        text-align: right;\n",
       "    }\n",
       "</style>\n",
       "<table border=\"1\" class=\"dataframe\">\n",
       "  <thead>\n",
       "    <tr style=\"text-align: right;\">\n",
       "      <th></th>\n",
       "      <th>property_name</th>\n",
       "      <th>link</th>\n",
       "      <th>society</th>\n",
       "      <th>price</th>\n",
       "      <th>rate</th>\n",
       "      <th>area</th>\n",
       "      <th>areaWithType</th>\n",
       "      <th>bedRoom</th>\n",
       "      <th>bathroom</th>\n",
       "      <th>balcony</th>\n",
       "      <th>...</th>\n",
       "      <th>address</th>\n",
       "      <th>noOfFloor</th>\n",
       "      <th>facing</th>\n",
       "      <th>agePossession</th>\n",
       "      <th>nearbyLocations</th>\n",
       "      <th>description</th>\n",
       "      <th>furnishDetails</th>\n",
       "      <th>features</th>\n",
       "      <th>rating</th>\n",
       "      <th>property_id</th>\n",
       "    </tr>\n",
       "  </thead>\n",
       "  <tbody>\n",
       "  </tbody>\n",
       "</table>\n",
       "<p>0 rows × 21 columns</p>\n",
       "</div>"
      ],
      "text/plain": [
       "Empty DataFrame\n",
       "Columns: [property_name, link, society, price, rate, area, areaWithType, bedRoom, bathroom, balcony, additionalRoom, address, noOfFloor, facing, agePossession, nearbyLocations, description, furnishDetails, features, rating, property_id]\n",
       "Index: []\n",
       "\n",
       "[0 rows x 21 columns]"
      ]
     },
     "execution_count": 12,
     "metadata": {},
     "output_type": "execute_result"
    }
   ],
   "source": [
    "df[df['area'].str.contains('sq.m.') == False]"
   ]
  },
  {
   "cell_type": "markdown",
   "metadata": {},
   "source": [
    "**`area` in the dataset has _sq.m._ unit but we require _sq.ft._ unit. So I am going to convert it into _sq.ft._ unit.**"
   ]
  },
  {
   "cell_type": "code",
   "execution_count": 13,
   "metadata": {},
   "outputs": [],
   "source": [
    "df['area'] = (\n",
    "    df['area'].str.extract(r'(\\d+) sq.m.').astype(float).apply(lambda x: x * 10.76)\n",
    ")  # convert into (sq. ft.)"
   ]
  },
  {
   "cell_type": "markdown",
   "metadata": {},
   "source": [
    "## areaWithType"
   ]
  },
  {
   "cell_type": "code",
   "execution_count": 14,
   "metadata": {},
   "outputs": [
    {
     "data": {
      "text/plain": [
       "0"
      ]
     },
     "execution_count": 14,
     "metadata": {},
     "output_type": "execute_result"
    }
   ],
   "source": [
    "df[df['areaWithType'].str.contains('super') == True].shape[0]"
   ]
  },
  {
   "cell_type": "code",
   "execution_count": 15,
   "metadata": {},
   "outputs": [
    {
     "data": {
      "text/plain": [
       "291"
      ]
     },
     "execution_count": 15,
     "metadata": {},
     "output_type": "execute_result"
    }
   ],
   "source": [
    "df[df['areaWithType'].str.contains('built') == True].shape[0]"
   ]
  },
  {
   "cell_type": "code",
   "execution_count": 16,
   "metadata": {},
   "outputs": [
    {
     "data": {
      "text/plain": [
       "184"
      ]
     },
     "execution_count": 16,
     "metadata": {},
     "output_type": "execute_result"
    }
   ],
   "source": [
    "df[df['areaWithType'].str.contains('carpet') == True].shape[0]"
   ]
  },
  {
   "cell_type": "code",
   "execution_count": 17,
   "metadata": {},
   "outputs": [
    {
     "data": {
      "text/plain": [
       "array(['plot area 84(70.23 sq.m.)built up area: 83 sq.yards (69.4 sq.m.)carpet area: 82 sq.yards (68.56 sq.m.)',\n",
       "       'built up area: 6382 (592.91 sq.m.)',\n",
       "       'built up area: 8000 (743.22 sq.m.)',\n",
       "       'plot area 215(179.77 sq.m.)built up area: 215 sq.yards (179.77 sq.m.)',\n",
       "       'built up area: 267 (223.25 sq.m.)',\n",
       "       'plot area 2700(250.84 sq.m.)built up area: 4000 sq.ft. (371.61 sq.m.)',\n",
       "       'plot area 272(25.27 sq.m.)built up area: 4800 sq.ft. (445.93 sq.m.)carpet area: 3500 sq.ft. (325.16 sq.m.)',\n",
       "       'plot area 2400(222.97 sq.m.)built up area: 3400 sq.ft. (315.87 sq.m.)carpet area: 3000 sq.ft. (278.71 sq.m.)',\n",
       "       'plot area 250(209.03 sq.m.)built up area: 267 sq.yards (223.25 sq.m.)',\n",
       "       'built up area: 6000 (557.42 sq.m.)'], dtype=object)"
      ]
     },
     "execution_count": 17,
     "metadata": {},
     "output_type": "execute_result"
    }
   ],
   "source": [
    "df[df['areaWithType'].str.contains('built') == True]['areaWithType'].values[:10]"
   ]
  },
  {
   "cell_type": "code",
   "execution_count": 18,
   "metadata": {},
   "outputs": [],
   "source": [
    "# Extract plot area, built up area, carpet area\n",
    "\n",
    "df['plot_area'] = df['areaWithType'].str.extract(r'plot area\\W(\\d+)')\n",
    "df['built_up_area'] = df['areaWithType'].str.extract(r'built up area\\W+(\\d+)')\n",
    "df['carpet_area'] = df['areaWithType'].str.extract(r'carpet area\\W+(\\d+)')"
   ]
  },
  {
   "cell_type": "markdown",
   "metadata": {},
   "source": [
    "Here, many rows contains **sq.yards**, some contains **sq.m.** units and some **sq.ft.** unit which make the area column inconsistent. We need to tackle it in `FEATURE ENGINEERING` part."
   ]
  },
  {
   "cell_type": "markdown",
   "metadata": {},
   "source": [
    "## bedRoom, bathroom, balcony"
   ]
  },
  {
   "cell_type": "code",
   "execution_count": 19,
   "metadata": {},
   "outputs": [
    {
     "name": "stdout",
     "output_type": "stream",
     "text": [
      "bedRoom: ['5 bedrooms' '10 bedrooms' '21 bedrooms' '12 bedrooms' '20 bedrooms'\n",
      " '16 bedrooms' '6 bedrooms' '3 bedrooms' '4 bedrooms' '13 bedrooms'\n",
      " '9 bedrooms' '7 bedrooms' '2 bedrooms' '8 bedrooms' nan '1 bedroom'\n",
      " '18 bedrooms' '19 bedrooms' '36 bedrooms' '34 bedrooms' '14 bedrooms'\n",
      " '11 bedrooms']\n",
      "\n",
      "bathroom: ['4 bathrooms' '10 bathrooms' '21 bathrooms' '12 bathrooms' '20 bathrooms'\n",
      " '5 bathrooms' '16 bathrooms' '6 bathrooms' '3 bathrooms' '7 bathrooms'\n",
      " '13 bathrooms' '9 bathrooms' '2 bathrooms' '1 bathroom' '18 bathrooms'\n",
      " '8 bathrooms' nan '17 bathrooms' '36 bathrooms' '34 bathrooms'\n",
      " '14 bathrooms' '11 bathrooms']\n",
      "\n",
      "balcony: ['3+ balconies' '2 balconies' '1 balcony' '3 balconies' nan 'no balcony']\n",
      "\n"
     ]
    }
   ],
   "source": [
    "cols = ['bedRoom', 'bathroom', 'balcony']\n",
    "\n",
    "for col in cols:\n",
    "    print(f'{col}: {df[col].unique()}')\n",
    "    print()"
   ]
  },
  {
   "cell_type": "code",
   "execution_count": 20,
   "metadata": {},
   "outputs": [],
   "source": [
    "for col in cols:\n",
    "    df[col] = df[col].str.split(' ').str.get(0)"
   ]
  },
  {
   "cell_type": "code",
   "execution_count": 21,
   "metadata": {},
   "outputs": [],
   "source": [
    "df['balcony'] = df['balcony'].replace('3+', '-1').str.replace('no', '0')"
   ]
  },
  {
   "cell_type": "markdown",
   "metadata": {},
   "source": [
    "**Encodings:**\n",
    "\n",
    "- `0` >> **No**\n",
    "- `-1` >> **3+**"
   ]
  },
  {
   "cell_type": "code",
   "execution_count": 22,
   "metadata": {},
   "outputs": [],
   "source": [
    "for col in cols:\n",
    "    df[col] = df[col].astype(float)"
   ]
  },
  {
   "cell_type": "markdown",
   "metadata": {},
   "source": [
    "## additionalRoom"
   ]
  },
  {
   "cell_type": "code",
   "execution_count": 23,
   "metadata": {},
   "outputs": [
    {
     "data": {
      "text/plain": [
       "additionalRoom\n",
       "servant room                                     82\n",
       "pooja room,study room,servant room,store room    63\n",
       "others                                           59\n",
       "pooja room                                       38\n",
       "pooja room,study room,servant room               34\n",
       "pooja room,study room,servant room,others        32\n",
       "store room                                       31\n",
       "pooja room,servant room                          24\n",
       "study room                                       19\n",
       "study room,servant room                          19\n",
       "Name: count, dtype: int64"
      ]
     },
     "execution_count": 23,
     "metadata": {},
     "output_type": "execute_result"
    }
   ],
   "source": [
    "df['additionalRoom'].value_counts()[:10]"
   ]
  },
  {
   "cell_type": "code",
   "execution_count": 24,
   "metadata": {},
   "outputs": [],
   "source": [
    "additionalRooms = ['study room', 'servant room', 'store room', 'pooja room', 'others']\n",
    "\n",
    "for col in additionalRooms:\n",
    "    df[col] = df['additionalRoom'].str.contains(col).fillna(0).astype(int)"
   ]
  },
  {
   "cell_type": "code",
   "execution_count": 25,
   "metadata": {},
   "outputs": [
    {
     "data": {
      "text/html": [
       "<div>\n",
       "<style scoped>\n",
       "    .dataframe tbody tr th:only-of-type {\n",
       "        vertical-align: middle;\n",
       "    }\n",
       "\n",
       "    .dataframe tbody tr th {\n",
       "        vertical-align: top;\n",
       "    }\n",
       "\n",
       "    .dataframe thead th {\n",
       "        text-align: right;\n",
       "    }\n",
       "</style>\n",
       "<table border=\"1\" class=\"dataframe\">\n",
       "  <thead>\n",
       "    <tr style=\"text-align: right;\">\n",
       "      <th></th>\n",
       "      <th>additionalRoom</th>\n",
       "      <th>study room</th>\n",
       "      <th>servant room</th>\n",
       "      <th>store room</th>\n",
       "      <th>pooja room</th>\n",
       "      <th>others</th>\n",
       "    </tr>\n",
       "  </thead>\n",
       "  <tbody>\n",
       "    <tr>\n",
       "      <th>611</th>\n",
       "      <td>study room,store room</td>\n",
       "      <td>1</td>\n",
       "      <td>0</td>\n",
       "      <td>1</td>\n",
       "      <td>0</td>\n",
       "      <td>0</td>\n",
       "    </tr>\n",
       "    <tr>\n",
       "      <th>982</th>\n",
       "      <td>pooja room,study room,servant room</td>\n",
       "      <td>1</td>\n",
       "      <td>1</td>\n",
       "      <td>0</td>\n",
       "      <td>1</td>\n",
       "      <td>0</td>\n",
       "    </tr>\n",
       "    <tr>\n",
       "      <th>270</th>\n",
       "      <td>NaN</td>\n",
       "      <td>0</td>\n",
       "      <td>0</td>\n",
       "      <td>0</td>\n",
       "      <td>0</td>\n",
       "      <td>0</td>\n",
       "    </tr>\n",
       "    <tr>\n",
       "      <th>228</th>\n",
       "      <td>pooja room,study room,servant room,others</td>\n",
       "      <td>1</td>\n",
       "      <td>1</td>\n",
       "      <td>0</td>\n",
       "      <td>1</td>\n",
       "      <td>1</td>\n",
       "    </tr>\n",
       "    <tr>\n",
       "      <th>180</th>\n",
       "      <td>others</td>\n",
       "      <td>0</td>\n",
       "      <td>0</td>\n",
       "      <td>0</td>\n",
       "      <td>0</td>\n",
       "      <td>1</td>\n",
       "    </tr>\n",
       "  </tbody>\n",
       "</table>\n",
       "</div>"
      ],
      "text/plain": [
       "                                additionalRoom  study room  servant room  \\\n",
       "611                      study room,store room           1             0   \n",
       "982         pooja room,study room,servant room           1             1   \n",
       "270                                        NaN           0             0   \n",
       "228  pooja room,study room,servant room,others           1             1   \n",
       "180                                     others           0             0   \n",
       "\n",
       "     store room  pooja room  others  \n",
       "611           1           0       0  \n",
       "982           0           1       0  \n",
       "270           0           0       0  \n",
       "228           0           1       1  \n",
       "180           0           0       1  "
      ]
     },
     "execution_count": 25,
     "metadata": {},
     "output_type": "execute_result"
    }
   ],
   "source": [
    "df.sample(5)[['additionalRoom', 'study room', 'servant room', 'store room', 'pooja room', 'others']]"
   ]
  },
  {
   "cell_type": "markdown",
   "metadata": {},
   "source": [
    "## address, description, property_name `->>` sector"
   ]
  },
  {
   "cell_type": "code",
   "execution_count": 26,
   "metadata": {},
   "outputs": [],
   "source": [
    "df['property_name'].fillna('', inplace=True)\n",
    "df['address'].fillna('', inplace=True)\n",
    "df['description'].fillna('', inplace=True)"
   ]
  },
  {
   "cell_type": "code",
   "execution_count": 27,
   "metadata": {},
   "outputs": [
    {
     "data": {
      "text/plain": [
       "(1034, 29)"
      ]
     },
     "execution_count": 27,
     "metadata": {},
     "output_type": "execute_result"
    }
   ],
   "source": [
    "df.shape"
   ]
  },
  {
   "cell_type": "code",
   "execution_count": 28,
   "metadata": {},
   "outputs": [],
   "source": [
    "df['temp_sector'] = df['address'].add(' ').add(df['description']).add(' ').add(df['property_name'])"
   ]
  },
  {
   "cell_type": "code",
   "execution_count": 29,
   "metadata": {},
   "outputs": [],
   "source": [
    "df['sector'] = df['temp_sector'].str.replace(r'\\W+', ' ', regex=True).str.extract(r'(sector \\d+\\w)')"
   ]
  },
  {
   "cell_type": "markdown",
   "metadata": {},
   "source": [
    "**Deal with `property` which does not contains any sector number**"
   ]
  },
  {
   "cell_type": "code",
   "execution_count": 30,
   "metadata": {},
   "outputs": [
    {
     "data": {
      "text/plain": [
       "(480,)"
      ]
     },
     "execution_count": 30,
     "metadata": {},
     "output_type": "execute_result"
    }
   ],
   "source": [
    "no_sector_series = df[df['temp_sector'].str.contains('sector') == False]['temp_sector']\n",
    "no_sector_series.shape"
   ]
  },
  {
   "cell_type": "code",
   "execution_count": 31,
   "metadata": {},
   "outputs": [],
   "source": [
    "extra_sectors_naming = {\n",
    "    '46b': 'sector 46b',\n",
    "    'dharam colony': 'sector 12',\n",
    "    'krishna colony': 'sector 7',\n",
    "    'suncity': 'sector 54',\n",
    "    'prem nagar': 'sector 13',\n",
    "    'mg road': 'sector 28',\n",
    "    'gandhi nagar': 'sector 28',\n",
    "    'laxmi garden': 'sector 11',\n",
    "    'shakti nagar': 'sector 11',\n",
    "    'baldev nagar': 'sector 7',\n",
    "    'shivpuri': 'sector 7',\n",
    "    'garhi harsaru': 'sector 17',\n",
    "    'adarsh nagar': 'sector 12',\n",
    "    'shivaji nagar': 'sector 11',\n",
    "    'bhim nagar': 'sector 6',\n",
    "    'madanpuri': 'sector 7',\n",
    "    'saraswati vihar': 'sector 28',\n",
    "    'arjun nagar': 'sector 8',\n",
    "    'ravi nagar': 'sector 9',\n",
    "    'vishnu garden': 'sector 105',\n",
    "    'bhondsi': 'sector 11',\n",
    "    'surya vihar': 'sector 21',\n",
    "    'devilal colony': 'sector 9',\n",
    "    'valley view estate': 'sector 54',\n",
    "    'mehrauli  road': 'sector 14',\n",
    "    'jyoti park': 'sector 7',\n",
    "    'ansal plaza': 'sector 23',\n",
    "    'dayanand colony': 'sector 6',\n",
    "    'sushant lok phase 2': 'sector 55',\n",
    "    'chakkarpur': 'sector 28',\n",
    "    'greenwood city': 'sector 45',\n",
    "    'subhash nagar': 'sector 12',\n",
    "    'malibu town': 'sector 47',\n",
    "    'surat nagar 1': 'sector 104',\n",
    "    'mianwali colony': 'sector 12',\n",
    "    'jacobpura': 'sector 12',\n",
    "    'rajiv nagar': 'sector 13',\n",
    "    'rajiv colony': 'sector 33',\n",
    "    'ashok vihar': 'sector 3',\n",
    "    'dlf phase 1': 'sector 26',\n",
    "    'dlf phase 2': 'sector 25',\n",
    "    'dlf phase 3': 'sector 24',\n",
    "    'dlf phase 4': 'sector 28',\n",
    "    'dlf phase 5': 'sector 43',\n",
    "    'sushant lok phase 3': 'sector 57',\n",
    "    'sikanderpur metro': 'sector 26',\n",
    "    'nirvana country': 'sector 50',\n",
    "    'palam vihar': 'sector 2',\n",
    "    'new palam vihar': 'sector 110',\n",
    "    'sushant lok phase 1': 'sector 43',\n",
    "    'laxman vihar': 'sector 4',\n",
    "    'laxman vihar phase 2': 'sector 4',\n",
    "    'rajendra park': 'sector 105',\n",
    "    'uppals southend': 'sector 49',\n",
    "    'sohna': 'sector 33',\n",
    "    'ashok vihar phase 3 extension': 'sector 5',\n",
    "    'south city 1': 'sector 41',\n",
    "    'ashok vihar phase 2': 'sector 5',\n",
    "    \"garauli kalan\": 'sector 45',\n",
    "    \"bhawani enclave\": 'sector 56',\n",
    "    \"iffco chowk\": 'sector 29',\n",
    "    'sai kunj': 'sector 110a',\n",
    "    'manesar': 'sector 4',\n",
    "    'shankar vihar': 'sector 104',\n",
    "    'patel nagar': 'sector 15',\n",
    "    'dwarka expressway': 'sector 88a',\n",
    "    'gwal pahari': 'sector 2',\n",
    "    'paras quartier': 'sector 29',\n",
    "    'ambience island': 'sector 24',\n",
    "    'lajpat nagar': 'sector 29',\n",
    "    'mehrauli': 'sector 29',\n",
    "    'central park flower valley': 'sector 32',\n",
    "}"
   ]
  },
  {
   "cell_type": "code",
   "execution_count": 32,
   "metadata": {},
   "outputs": [],
   "source": [
    "def handle_sector(x: str) -> str | float:\n",
    "    if not x:\n",
    "        return np.nan\n",
    "\n",
    "    for k, v in extra_sectors_naming.items():\n",
    "        if k in x:\n",
    "            return v\n",
    "    else:\n",
    "        return np.nan"
   ]
  },
  {
   "cell_type": "code",
   "execution_count": 33,
   "metadata": {},
   "outputs": [
    {
     "data": {
      "text/plain": [
       "130"
      ]
     },
     "execution_count": 33,
     "metadata": {},
     "output_type": "execute_result"
    }
   ],
   "source": [
    "df.loc[no_sector_series.index, 'sector'] = df['temp_sector'].apply(handle_sector)\n",
    "\n",
    "df['sector'].isnull().sum()"
   ]
  },
  {
   "cell_type": "markdown",
   "metadata": {},
   "source": [
    "**These many value are left to categories with sectors.**"
   ]
  },
  {
   "cell_type": "markdown",
   "metadata": {},
   "source": [
    "## noOfFloors"
   ]
  },
  {
   "cell_type": "code",
   "execution_count": 34,
   "metadata": {},
   "outputs": [
    {
     "data": {
      "text/plain": [
       "array(['3 floors', '2 floors', '5 floors', '4 floors', nan, '1 floors',\n",
       "       '02 floors', '14 floors', '21 floors', '0 floors', '12 floors',\n",
       "       '27 floors', '13 floors', '6 floors', '10 floors', '20 floors',\n",
       "       '11 floors', '41 floors', '51 floors', '16 floors', '33 floors'],\n",
       "      dtype=object)"
      ]
     },
     "execution_count": 34,
     "metadata": {},
     "output_type": "execute_result"
    }
   ],
   "source": [
    "df['noOfFloor'].unique()"
   ]
  },
  {
   "cell_type": "code",
   "execution_count": 35,
   "metadata": {},
   "outputs": [],
   "source": [
    "df['noOfFloor'] = df['noOfFloor'].str.extract(r'(\\d+) ').astype(float)"
   ]
  },
  {
   "cell_type": "markdown",
   "metadata": {},
   "source": [
    "## facing"
   ]
  },
  {
   "cell_type": "code",
   "execution_count": 36,
   "metadata": {},
   "outputs": [
    {
     "data": {
      "text/plain": [
       "array(['north-east', nan, 'west', 'north', 'east', 'south-west', 'south',\n",
       "       'south-east', 'north-west'], dtype=object)"
      ]
     },
     "execution_count": 36,
     "metadata": {},
     "output_type": "execute_result"
    }
   ],
   "source": [
    "df['facing'].unique()"
   ]
  },
  {
   "cell_type": "markdown",
   "metadata": {},
   "source": [
    "**`facing` is all good column. There is no need to clean.**"
   ]
  },
  {
   "cell_type": "markdown",
   "metadata": {},
   "source": [
    "## agePossession"
   ]
  },
  {
   "cell_type": "code",
   "execution_count": 37,
   "metadata": {},
   "outputs": [
    {
     "data": {
      "text/plain": [
       "array(['0 to 1 year old', '5 to 10 year old', '1 to 5 year old',\n",
       "       'within 6 months', '10+ year old', 'undefined', nan, 'jun 2024',\n",
       "       'dec 2023', 'by 2027', 'under construction', 'oct 2024', 'by 2024',\n",
       "       'dec 2024', 'within 3 months', 'oct 2023', 'jan 2024'],\n",
       "      dtype=object)"
      ]
     },
     "execution_count": 37,
     "metadata": {},
     "output_type": "execute_result"
    }
   ],
   "source": [
    "df['agePossession'].unique()"
   ]
  },
  {
   "cell_type": "code",
   "execution_count": 38,
   "metadata": {},
   "outputs": [],
   "source": [
    "def categorize_age_possession(value: str) -> str:\n",
    "    if pd.isna(value):\n",
    "        return \"undefined\"\n",
    "    elif \"0 to 1 year old\" == value or \"within 6 months\" == value or \"within 3 months\" == value:\n",
    "        return \"new property\"\n",
    "    elif \"1 to 5 year old\" == value:\n",
    "        return \"Relatively New\"\n",
    "    elif \"5 to 10 year old\" == value:\n",
    "        return \"moderately old\"\n",
    "    elif \"10+ year old\" == value:\n",
    "        return \"old property\"\n",
    "    elif \"under construction\" == value or \"by\" in value:\n",
    "        return \"under construction\"\n",
    "\n",
    "    try:\n",
    "        # For entries like 'May 2024'\n",
    "        int(value.split(\" \")[-1])  # <<- Raises ValueError\n",
    "        return \"under construction\"\n",
    "    except ValueError:\n",
    "        return \"undefined\""
   ]
  },
  {
   "cell_type": "code",
   "execution_count": 39,
   "metadata": {},
   "outputs": [],
   "source": [
    "df['agePossession'] = df['agePossession'].apply(categorize_age_possession)"
   ]
  },
  {
   "cell_type": "code",
   "execution_count": 40,
   "metadata": {},
   "outputs": [
    {
     "data": {
      "text/plain": [
       "agePossession\n",
       "moderately old        256\n",
       "Relatively New        229\n",
       "old property          219\n",
       "undefined             199\n",
       "new property          119\n",
       "under construction     12\n",
       "Name: count, dtype: int64"
      ]
     },
     "execution_count": 40,
     "metadata": {},
     "output_type": "execute_result"
    }
   ],
   "source": [
    "df['agePossession'].value_counts()"
   ]
  },
  {
   "cell_type": "markdown",
   "metadata": {},
   "source": [
    "## nearbyLocations"
   ]
  },
  {
   "cell_type": "code",
   "execution_count": 41,
   "metadata": {},
   "outputs": [
    {
     "data": {
      "text/plain": [
       "124"
      ]
     },
     "execution_count": 41,
     "metadata": {},
     "output_type": "execute_result"
    }
   ],
   "source": [
    "df['nearbyLocations'].isnull().sum()"
   ]
  },
  {
   "cell_type": "code",
   "execution_count": 42,
   "metadata": {},
   "outputs": [],
   "source": [
    "df['nearbyLocations'] = df['nearbyLocations'].apply(\n",
    "    lambda x: '[]' if isinstance(x, float) else literal_eval(x)\n",
    ")"
   ]
  },
  {
   "cell_type": "code",
   "execution_count": 43,
   "metadata": {},
   "outputs": [
    {
     "data": {
      "text/plain": [
       "938"
      ]
     },
     "execution_count": 43,
     "metadata": {},
     "output_type": "execute_result"
    }
   ],
   "source": [
    "df['nearbyLocations'].explode().nunique()"
   ]
  },
  {
   "cell_type": "code",
   "execution_count": 44,
   "metadata": {},
   "outputs": [
    {
     "data": {
      "text/plain": [
       "array(['bhatnagar maternity and nursing home', 'icici bank',\n",
       "       'taneja hospital', 'park hospital gurgaon',\n",
       "       'best urologist atcomplete family clinic',\n",
       "       'sharma hospital gurgaon', 'the god father',\n",
       "       'kailash nursing home gurgaon',\n",
       "       'indira gandhi international airport',\n",
       "       'shree krishna hospital gurgaon', 'karur vysay bank', 'tocpao',\n",
       "       'neelkanth health care', 'icici bank atm',\n",
       "       'dentecare - multispeciality dental clinic', 'vatsalya clinic',\n",
       "       'mamta hospital gurgaon', 'guardian pharmacy', 'dhabba',\n",
       "       'pvr cinames', 'hdfc bank', 'om sweets', 'icici bank atm',\n",
       "       'sethi hospital gurgaon', 'st. michaels sr. sec. school',\n",
       "       'basai dhankot railway station', 'bones clinic - orthopaedics',\n",
       "       'standard chartered bank', 'hdfc bank atm', 'axis bank atm',\n",
       "       'sapphire mall', 'sikandarpur metro station', 'axis bank atm',\n",
       "       'aryan hospital', 'unitech', 'krishna family clinic', \"carl's jr.\",\n",
       "       'ravi clinic and health care centre', 'chintapurni mandir',\n",
       "       'pvr metropolitan', 'sushant college of arts & architecture',\n",
       "       'sukhmani hospital pvt. ltd', 'standard chartered atm',\n",
       "       'dr. aruna kalra', 'neelkanth health care', \"carl's jr.\",\n",
       "       'kendriya vidyalaya no.2 sohna road', 'dr. tomar clinic',\n",
       "       'chintapurni mandir', 'pracksht hospital'], dtype=object)"
      ]
     },
     "execution_count": 44,
     "metadata": {},
     "output_type": "execute_result"
    }
   ],
   "source": [
    "df['nearbyLocations'].explode().sample(50).values"
   ]
  },
  {
   "cell_type": "markdown",
   "metadata": {},
   "source": [
    "**I need to think about this column `(nearbyLocations)` to create some interesting features out of it.**\n",
    "\n",
    "**I am not going to implement the previous strategy because it does not categorize many locations.**"
   ]
  },
  {
   "cell_type": "markdown",
   "metadata": {},
   "source": [
    "## furnishDetails"
   ]
  },
  {
   "cell_type": "code",
   "execution_count": 45,
   "metadata": {},
   "outputs": [],
   "source": [
    "df['furnishDetails'] = df['furnishDetails'].apply(\n",
    "    lambda x: '' if isinstance(x, float) else literal_eval(x)\n",
    ")"
   ]
  },
  {
   "cell_type": "code",
   "execution_count": 46,
   "metadata": {},
   "outputs": [
    {
     "data": {
      "text/plain": [
       "17"
      ]
     },
     "execution_count": 46,
     "metadata": {},
     "output_type": "execute_result"
    }
   ],
   "source": [
    "distinct_furnish = (\n",
    "    df['furnishDetails'].explode().str.replace(r'.*\\s', '', regex=True).unique().tolist()\n",
    ")\n",
    "distinct_furnish = [i for i in distinct_furnish if i and not isinstance(i, float)]\n",
    "len(distinct_furnish)"
   ]
  },
  {
   "cell_type": "code",
   "execution_count": 47,
   "metadata": {},
   "outputs": [
    {
     "data": {
      "text/plain": [
       "['wardrobe',\n",
       " 'fan',\n",
       " 'geyser',\n",
       " 'light',\n",
       " 'kitchen',\n",
       " 'ac',\n",
       " 'chimney',\n",
       " 'bed',\n",
       " 'curtains',\n",
       " 'table',\n",
       " 'microwave',\n",
       " 'fridge',\n",
       " 'sofa',\n",
       " 'stove',\n",
       " 'tv',\n",
       " 'machine',\n",
       " 'purifier']"
      ]
     },
     "execution_count": 47,
     "metadata": {},
     "output_type": "execute_result"
    }
   ],
   "source": [
    "distinct_furnish"
   ]
  },
  {
   "cell_type": "code",
   "execution_count": 48,
   "metadata": {},
   "outputs": [],
   "source": [
    "df['furnishDetails'] = df['furnishDetails'].astype(str)\n",
    "furnish_df = pd.DataFrame()\n",
    "\n",
    "for furnish in distinct_furnish:\n",
    "    furnish_df[furnish] = (\n",
    "        df['furnishDetails'].str.extract(fr'(\\d+) {furnish}')[0].fillna(0).astype(int)\n",
    "    )"
   ]
  },
  {
   "cell_type": "code",
   "execution_count": 49,
   "metadata": {},
   "outputs": [
    {
     "data": {
      "text/html": [
       "<div>\n",
       "<style scoped>\n",
       "    .dataframe tbody tr th:only-of-type {\n",
       "        vertical-align: middle;\n",
       "    }\n",
       "\n",
       "    .dataframe tbody tr th {\n",
       "        vertical-align: top;\n",
       "    }\n",
       "\n",
       "    .dataframe thead th {\n",
       "        text-align: right;\n",
       "    }\n",
       "</style>\n",
       "<table border=\"1\" class=\"dataframe\">\n",
       "  <thead>\n",
       "    <tr style=\"text-align: right;\">\n",
       "      <th></th>\n",
       "      <th>wardrobe</th>\n",
       "      <th>fan</th>\n",
       "      <th>geyser</th>\n",
       "      <th>light</th>\n",
       "      <th>kitchen</th>\n",
       "      <th>ac</th>\n",
       "      <th>chimney</th>\n",
       "      <th>bed</th>\n",
       "      <th>curtains</th>\n",
       "      <th>table</th>\n",
       "      <th>microwave</th>\n",
       "      <th>fridge</th>\n",
       "      <th>sofa</th>\n",
       "      <th>stove</th>\n",
       "      <th>tv</th>\n",
       "      <th>machine</th>\n",
       "      <th>purifier</th>\n",
       "    </tr>\n",
       "  </thead>\n",
       "  <tbody>\n",
       "    <tr>\n",
       "      <th>225</th>\n",
       "      <td>2</td>\n",
       "      <td>6</td>\n",
       "      <td>2</td>\n",
       "      <td>0</td>\n",
       "      <td>0</td>\n",
       "      <td>0</td>\n",
       "      <td>0</td>\n",
       "      <td>0</td>\n",
       "      <td>0</td>\n",
       "      <td>0</td>\n",
       "      <td>0</td>\n",
       "      <td>0</td>\n",
       "      <td>0</td>\n",
       "      <td>0</td>\n",
       "      <td>0</td>\n",
       "      <td>0</td>\n",
       "      <td>0</td>\n",
       "    </tr>\n",
       "    <tr>\n",
       "      <th>617</th>\n",
       "      <td>0</td>\n",
       "      <td>0</td>\n",
       "      <td>0</td>\n",
       "      <td>0</td>\n",
       "      <td>0</td>\n",
       "      <td>0</td>\n",
       "      <td>0</td>\n",
       "      <td>0</td>\n",
       "      <td>0</td>\n",
       "      <td>0</td>\n",
       "      <td>0</td>\n",
       "      <td>0</td>\n",
       "      <td>0</td>\n",
       "      <td>0</td>\n",
       "      <td>0</td>\n",
       "      <td>0</td>\n",
       "      <td>0</td>\n",
       "    </tr>\n",
       "    <tr>\n",
       "      <th>336</th>\n",
       "      <td>0</td>\n",
       "      <td>3</td>\n",
       "      <td>0</td>\n",
       "      <td>3</td>\n",
       "      <td>0</td>\n",
       "      <td>0</td>\n",
       "      <td>0</td>\n",
       "      <td>0</td>\n",
       "      <td>0</td>\n",
       "      <td>0</td>\n",
       "      <td>0</td>\n",
       "      <td>0</td>\n",
       "      <td>0</td>\n",
       "      <td>0</td>\n",
       "      <td>0</td>\n",
       "      <td>0</td>\n",
       "      <td>0</td>\n",
       "    </tr>\n",
       "    <tr>\n",
       "      <th>271</th>\n",
       "      <td>4</td>\n",
       "      <td>5</td>\n",
       "      <td>0</td>\n",
       "      <td>4</td>\n",
       "      <td>0</td>\n",
       "      <td>0</td>\n",
       "      <td>0</td>\n",
       "      <td>0</td>\n",
       "      <td>0</td>\n",
       "      <td>0</td>\n",
       "      <td>0</td>\n",
       "      <td>0</td>\n",
       "      <td>0</td>\n",
       "      <td>0</td>\n",
       "      <td>0</td>\n",
       "      <td>0</td>\n",
       "      <td>0</td>\n",
       "    </tr>\n",
       "    <tr>\n",
       "      <th>934</th>\n",
       "      <td>3</td>\n",
       "      <td>6</td>\n",
       "      <td>0</td>\n",
       "      <td>20</td>\n",
       "      <td>0</td>\n",
       "      <td>0</td>\n",
       "      <td>0</td>\n",
       "      <td>0</td>\n",
       "      <td>0</td>\n",
       "      <td>0</td>\n",
       "      <td>0</td>\n",
       "      <td>0</td>\n",
       "      <td>0</td>\n",
       "      <td>0</td>\n",
       "      <td>0</td>\n",
       "      <td>0</td>\n",
       "      <td>0</td>\n",
       "    </tr>\n",
       "    <tr>\n",
       "      <th>65</th>\n",
       "      <td>4</td>\n",
       "      <td>10</td>\n",
       "      <td>5</td>\n",
       "      <td>26</td>\n",
       "      <td>0</td>\n",
       "      <td>5</td>\n",
       "      <td>1</td>\n",
       "      <td>0</td>\n",
       "      <td>0</td>\n",
       "      <td>0</td>\n",
       "      <td>1</td>\n",
       "      <td>0</td>\n",
       "      <td>0</td>\n",
       "      <td>0</td>\n",
       "      <td>0</td>\n",
       "      <td>0</td>\n",
       "      <td>0</td>\n",
       "    </tr>\n",
       "    <tr>\n",
       "      <th>683</th>\n",
       "      <td>7</td>\n",
       "      <td>3</td>\n",
       "      <td>0</td>\n",
       "      <td>8</td>\n",
       "      <td>0</td>\n",
       "      <td>0</td>\n",
       "      <td>0</td>\n",
       "      <td>0</td>\n",
       "      <td>0</td>\n",
       "      <td>0</td>\n",
       "      <td>0</td>\n",
       "      <td>0</td>\n",
       "      <td>0</td>\n",
       "      <td>0</td>\n",
       "      <td>0</td>\n",
       "      <td>0</td>\n",
       "      <td>0</td>\n",
       "    </tr>\n",
       "    <tr>\n",
       "      <th>189</th>\n",
       "      <td>0</td>\n",
       "      <td>0</td>\n",
       "      <td>0</td>\n",
       "      <td>0</td>\n",
       "      <td>0</td>\n",
       "      <td>0</td>\n",
       "      <td>0</td>\n",
       "      <td>0</td>\n",
       "      <td>0</td>\n",
       "      <td>0</td>\n",
       "      <td>0</td>\n",
       "      <td>0</td>\n",
       "      <td>0</td>\n",
       "      <td>0</td>\n",
       "      <td>0</td>\n",
       "      <td>0</td>\n",
       "      <td>0</td>\n",
       "    </tr>\n",
       "    <tr>\n",
       "      <th>262</th>\n",
       "      <td>0</td>\n",
       "      <td>0</td>\n",
       "      <td>0</td>\n",
       "      <td>0</td>\n",
       "      <td>0</td>\n",
       "      <td>0</td>\n",
       "      <td>0</td>\n",
       "      <td>0</td>\n",
       "      <td>0</td>\n",
       "      <td>0</td>\n",
       "      <td>0</td>\n",
       "      <td>0</td>\n",
       "      <td>0</td>\n",
       "      <td>0</td>\n",
       "      <td>0</td>\n",
       "      <td>0</td>\n",
       "      <td>0</td>\n",
       "    </tr>\n",
       "    <tr>\n",
       "      <th>537</th>\n",
       "      <td>1</td>\n",
       "      <td>1</td>\n",
       "      <td>0</td>\n",
       "      <td>1</td>\n",
       "      <td>0</td>\n",
       "      <td>0</td>\n",
       "      <td>0</td>\n",
       "      <td>0</td>\n",
       "      <td>0</td>\n",
       "      <td>0</td>\n",
       "      <td>0</td>\n",
       "      <td>0</td>\n",
       "      <td>0</td>\n",
       "      <td>0</td>\n",
       "      <td>0</td>\n",
       "      <td>0</td>\n",
       "      <td>0</td>\n",
       "    </tr>\n",
       "  </tbody>\n",
       "</table>\n",
       "</div>"
      ],
      "text/plain": [
       "     wardrobe  fan  geyser  light  kitchen  ac  chimney  bed  curtains  table  \\\n",
       "225         2    6       2      0        0   0        0    0         0      0   \n",
       "617         0    0       0      0        0   0        0    0         0      0   \n",
       "336         0    3       0      3        0   0        0    0         0      0   \n",
       "271         4    5       0      4        0   0        0    0         0      0   \n",
       "934         3    6       0     20        0   0        0    0         0      0   \n",
       "65          4   10       5     26        0   5        1    0         0      0   \n",
       "683         7    3       0      8        0   0        0    0         0      0   \n",
       "189         0    0       0      0        0   0        0    0         0      0   \n",
       "262         0    0       0      0        0   0        0    0         0      0   \n",
       "537         1    1       0      1        0   0        0    0         0      0   \n",
       "\n",
       "     microwave  fridge  sofa  stove  tv  machine  purifier  \n",
       "225          0       0     0      0   0        0         0  \n",
       "617          0       0     0      0   0        0         0  \n",
       "336          0       0     0      0   0        0         0  \n",
       "271          0       0     0      0   0        0         0  \n",
       "934          0       0     0      0   0        0         0  \n",
       "65           1       0     0      0   0        0         0  \n",
       "683          0       0     0      0   0        0         0  \n",
       "189          0       0     0      0   0        0         0  \n",
       "262          0       0     0      0   0        0         0  \n",
       "537          0       0     0      0   0        0         0  "
      ]
     },
     "execution_count": 49,
     "metadata": {},
     "output_type": "execute_result"
    }
   ],
   "source": [
    "furnish_df.sample(10)"
   ]
  },
  {
   "cell_type": "code",
   "execution_count": 50,
   "metadata": {},
   "outputs": [],
   "source": [
    "scaler = StandardScaler()\n",
    "furnish_scaled = scaler.fit_transform(furnish_df)"
   ]
  },
  {
   "cell_type": "code",
   "execution_count": 51,
   "metadata": {},
   "outputs": [],
   "source": [
    "wcss_reduced = []\n",
    "\n",
    "for i in range(1, 11):\n",
    "    kmeans = KMeans(n_clusters=i, init='k-means++', n_init=10, random_state=42)\n",
    "    kmeans.fit(furnish_scaled)\n",
    "    wcss_reduced.append(kmeans.inertia_)"
   ]
  },
  {
   "cell_type": "code",
   "execution_count": 52,
   "metadata": {},
   "outputs": [
    {
     "data": {
      "image/png": "[encoded data removed]",
      "text/plain": [
       "<Figure size 1500x500 with 1 Axes>"
      ]
     },
     "metadata": {},
     "output_type": "display_data"
    }
   ],
   "source": [
    "# Plot the results\n",
    "plt.figure(figsize=(15, 5))\n",
    "plt.plot(range(1, 11), wcss_reduced, marker='o', linestyle='--')\n",
    "\n",
    "plt.title('Elbow Method for Optimal Number of Clusters (Reduced Range)')\n",
    "plt.xlabel('Number of Clusters')\n",
    "plt.ylabel('WCSS')\n",
    "plt.grid(True)\n",
    "plt.show()"
   ]
  },
  {
   "cell_type": "code",
   "execution_count": 53,
   "metadata": {},
   "outputs": [],
   "source": [
    "n_clusters = 3\n",
    "\n",
    "# Fit the KMeans model\n",
    "kmeans = KMeans(n_clusters=n_clusters, init='k-means++', n_init=10, random_state=42)\n",
    "kmeans.fit(furnish_scaled)\n",
    "\n",
    "# Predict the cluster assignments for each row\n",
    "cluster_assignments = kmeans.predict(furnish_scaled)"
   ]
  },
  {
   "cell_type": "code",
   "execution_count": 54,
   "metadata": {},
   "outputs": [],
   "source": [
    "df['furnish_type'] = cluster_assignments"
   ]
  },
  {
   "cell_type": "code",
   "execution_count": 55,
   "metadata": {},
   "outputs": [],
   "source": [
    "pd.set_option('display.max_colwidth', 120)"
   ]
  },
  {
   "cell_type": "code",
   "execution_count": 56,
   "metadata": {},
   "outputs": [
    {
     "data": {
      "text/html": [
       "<div>\n",
       "<style scoped>\n",
       "    .dataframe tbody tr th:only-of-type {\n",
       "        vertical-align: middle;\n",
       "    }\n",
       "\n",
       "    .dataframe tbody tr th {\n",
       "        vertical-align: top;\n",
       "    }\n",
       "\n",
       "    .dataframe thead th {\n",
       "        text-align: right;\n",
       "    }\n",
       "</style>\n",
       "<table border=\"1\" class=\"dataframe\">\n",
       "  <thead>\n",
       "    <tr style=\"text-align: right;\">\n",
       "      <th></th>\n",
       "      <th>furnishDetails</th>\n",
       "      <th>furnish_type</th>\n",
       "    </tr>\n",
       "  </thead>\n",
       "  <tbody>\n",
       "    <tr>\n",
       "      <th>0</th>\n",
       "      <td>['1 wardrobe', '1 fan', '1 exhaust fan', '1 geyser', '1 light', '1 modular kitchen', '1 ac', '1 chimney', 'no bed', ...</td>\n",
       "      <td>0</td>\n",
       "    </tr>\n",
       "    <tr>\n",
       "      <th>1</th>\n",
       "      <td>['1 water purifier', '5 fan', '1 exhaust fan', '1 stove', '8 light', 'no ac', 'no bed', 'no chimney', 'no curtains',...</td>\n",
       "      <td>0</td>\n",
       "    </tr>\n",
       "    <tr>\n",
       "      <th>2</th>\n",
       "      <td>['10 bed', '3 fan', '10 geyser', '2 light', 'no ac', 'no chimney', 'no curtains', 'no dining table', 'no exhaust fan...</td>\n",
       "      <td>0</td>\n",
       "    </tr>\n",
       "    <tr>\n",
       "      <th>3</th>\n",
       "      <td>['1 water purifier', '21 fan', '1 fridge', '1 exhaust fan', '1 dining table', '21 geyser', '1 stove', '21 light', '1...</td>\n",
       "      <td>2</td>\n",
       "    </tr>\n",
       "    <tr>\n",
       "      <th>4</th>\n",
       "      <td>['1 water purifier', '1 fridge', '12 fan', '1 exhaust fan', '12 geyser', '1 stove', '12 light', '1 curtains', '12 wa...</td>\n",
       "      <td>2</td>\n",
       "    </tr>\n",
       "    <tr>\n",
       "      <th>...</th>\n",
       "      <td>...</td>\n",
       "      <td>...</td>\n",
       "    </tr>\n",
       "    <tr>\n",
       "      <th>1039</th>\n",
       "      <td>['10 light', 'no ac', 'no bed', 'no chimney', 'no curtains', 'no dining table', 'no exhaust fan', 'no fan', 'no geys...</td>\n",
       "      <td>0</td>\n",
       "    </tr>\n",
       "    <tr>\n",
       "      <th>1040</th>\n",
       "      <td></td>\n",
       "      <td>0</td>\n",
       "    </tr>\n",
       "    <tr>\n",
       "      <th>1041</th>\n",
       "      <td>['6 fan', '20 light', 'no ac', 'no bed', 'no chimney', 'no curtains', 'no dining table', 'no exhaust fan', 'no geyse...</td>\n",
       "      <td>0</td>\n",
       "    </tr>\n",
       "    <tr>\n",
       "      <th>1042</th>\n",
       "      <td>['5 fan', '16 light', 'no ac', 'no bed', 'no chimney', 'no curtains', 'no dining table', 'no exhaust fan', 'no geyse...</td>\n",
       "      <td>0</td>\n",
       "    </tr>\n",
       "    <tr>\n",
       "      <th>1043</th>\n",
       "      <td>['1 water purifier', '10 fan', '1 fridge', '1 exhaust fan', '1 dining table', '5 geyser', '1 stove', '10 ac', '1 chi...</td>\n",
       "      <td>2</td>\n",
       "    </tr>\n",
       "  </tbody>\n",
       "</table>\n",
       "<p>1034 rows × 2 columns</p>\n",
       "</div>"
      ],
      "text/plain": [
       "                                                                                                               furnishDetails  \\\n",
       "0     ['1 wardrobe', '1 fan', '1 exhaust fan', '1 geyser', '1 light', '1 modular kitchen', '1 ac', '1 chimney', 'no bed', ...   \n",
       "1     ['1 water purifier', '5 fan', '1 exhaust fan', '1 stove', '8 light', 'no ac', 'no bed', 'no chimney', 'no curtains',...   \n",
       "2     ['10 bed', '3 fan', '10 geyser', '2 light', 'no ac', 'no chimney', 'no curtains', 'no dining table', 'no exhaust fan...   \n",
       "3     ['1 water purifier', '21 fan', '1 fridge', '1 exhaust fan', '1 dining table', '21 geyser', '1 stove', '21 light', '1...   \n",
       "4     ['1 water purifier', '1 fridge', '12 fan', '1 exhaust fan', '12 geyser', '1 stove', '12 light', '1 curtains', '12 wa...   \n",
       "...                                                                                                                       ...   \n",
       "1039  ['10 light', 'no ac', 'no bed', 'no chimney', 'no curtains', 'no dining table', 'no exhaust fan', 'no fan', 'no geys...   \n",
       "1040                                                                                                                            \n",
       "1041  ['6 fan', '20 light', 'no ac', 'no bed', 'no chimney', 'no curtains', 'no dining table', 'no exhaust fan', 'no geyse...   \n",
       "1042  ['5 fan', '16 light', 'no ac', 'no bed', 'no chimney', 'no curtains', 'no dining table', 'no exhaust fan', 'no geyse...   \n",
       "1043  ['1 water purifier', '10 fan', '1 fridge', '1 exhaust fan', '1 dining table', '5 geyser', '1 stove', '10 ac', '1 chi...   \n",
       "\n",
       "      furnish_type  \n",
       "0                0  \n",
       "1                0  \n",
       "2                0  \n",
       "3                2  \n",
       "4                2  \n",
       "...            ...  \n",
       "1039             0  \n",
       "1040             0  \n",
       "1041             0  \n",
       "1042             0  \n",
       "1043             2  \n",
       "\n",
       "[1034 rows x 2 columns]"
      ]
     },
     "execution_count": 56,
     "metadata": {},
     "output_type": "execute_result"
    }
   ],
   "source": [
    "df[['furnishDetails', 'furnish_type']]"
   ]
  },
  {
   "cell_type": "markdown",
   "metadata": {},
   "source": [
    "**furnish_type**\n",
    "\n",
    "- `0` -> **unfurnished**\n",
    "- `1` -> **semifurnished**\n",
    "- `2` -> **furnished**"
   ]
  },
  {
   "cell_type": "markdown",
   "metadata": {},
   "source": [
    "## General Steps - End"
   ]
  },
  {
   "cell_type": "code",
   "execution_count": 57,
   "metadata": {},
   "outputs": [
    {
     "data": {
      "text/plain": [
       "Index(['property_name', 'link', 'society', 'price', 'rate', 'area',\n",
       "       'areaWithType', 'bedRoom', 'bathroom', 'balcony', 'additionalRoom',\n",
       "       'address', 'noOfFloor', 'facing', 'agePossession', 'nearbyLocations',\n",
       "       'description', 'furnishDetails', 'features', 'rating', 'property_id',\n",
       "       'plot_area', 'built_up_area', 'carpet_area', 'study room',\n",
       "       'servant room', 'store room', 'pooja room', 'others', 'temp_sector',\n",
       "       'sector', 'furnish_type'],\n",
       "      dtype='object')"
      ]
     },
     "execution_count": 57,
     "metadata": {},
     "output_type": "execute_result"
    }
   ],
   "source": [
    "df.columns"
   ]
  },
  {
   "cell_type": "code",
   "execution_count": 58,
   "metadata": {},
   "outputs": [
    {
     "data": {
      "text/plain": [
       "property_name        0\n",
       "link                 0\n",
       "society            581\n",
       "price               76\n",
       "rate                29\n",
       "area                 0\n",
       "areaWithType        57\n",
       "bedRoom             57\n",
       "bathroom            57\n",
       "balcony             57\n",
       "additionalRoom     445\n",
       "address              0\n",
       "noOfFloor           77\n",
       "facing             361\n",
       "agePossession        0\n",
       "nearbyLocations      0\n",
       "description          0\n",
       "furnishDetails       0\n",
       "features           360\n",
       "rating             136\n",
       "property_id          8\n",
       "plot_area          255\n",
       "built_up_area      743\n",
       "carpet_area        850\n",
       "study room           0\n",
       "servant room         0\n",
       "store room           0\n",
       "pooja room           0\n",
       "others               0\n",
       "temp_sector          0\n",
       "sector             130\n",
       "furnish_type         0\n",
       "dtype: int64"
      ]
     },
     "execution_count": 58,
     "metadata": {},
     "output_type": "execute_result"
    }
   ],
   "source": [
    "df.isnull().sum()"
   ]
  },
  {
   "cell_type": "code",
   "execution_count": 59,
   "metadata": {},
   "outputs": [],
   "source": [
    "df.drop(\n",
    "    columns=[\n",
    "        'areaWithType',\n",
    "        'additionalRoom',\n",
    "        'address',\n",
    "        'furnishDetails',\n",
    "        'rating',\n",
    "        'temp_sector',\n",
    "    ],\n",
    "    inplace=True,\n",
    ")"
   ]
  },
  {
   "cell_type": "code",
   "execution_count": 60,
   "metadata": {},
   "outputs": [
    {
     "data": {
      "text/html": [
       "<div>\n",
       "<style scoped>\n",
       "    .dataframe tbody tr th:only-of-type {\n",
       "        vertical-align: middle;\n",
       "    }\n",
       "\n",
       "    .dataframe tbody tr th {\n",
       "        vertical-align: top;\n",
       "    }\n",
       "\n",
       "    .dataframe thead th {\n",
       "        text-align: right;\n",
       "    }\n",
       "</style>\n",
       "<table border=\"1\" class=\"dataframe\">\n",
       "  <thead>\n",
       "    <tr style=\"text-align: right;\">\n",
       "      <th></th>\n",
       "      <th>property_name</th>\n",
       "      <th>link</th>\n",
       "      <th>society</th>\n",
       "      <th>price</th>\n",
       "      <th>rate</th>\n",
       "      <th>area</th>\n",
       "      <th>bedRoom</th>\n",
       "      <th>bathroom</th>\n",
       "      <th>balcony</th>\n",
       "      <th>noOfFloor</th>\n",
       "      <th>facing</th>\n",
       "      <th>agePossession</th>\n",
       "      <th>nearbyLocations</th>\n",
       "      <th>description</th>\n",
       "      <th>features</th>\n",
       "      <th>property_id</th>\n",
       "      <th>plot_area</th>\n",
       "      <th>built_up_area</th>\n",
       "      <th>carpet_area</th>\n",
       "      <th>study room</th>\n",
       "      <th>servant room</th>\n",
       "      <th>store room</th>\n",
       "      <th>pooja room</th>\n",
       "      <th>others</th>\n",
       "      <th>sector</th>\n",
       "      <th>furnish_type</th>\n",
       "    </tr>\n",
       "  </thead>\n",
       "  <tbody>\n",
       "    <tr>\n",
       "      <th>748</th>\n",
       "      <td>8 bedroom house for sale in sushant lok phase 1</td>\n",
       "      <td>https://www.99acres.com/8-bhk-bedroom-independent-house-villa-for-sale-in-sushant-lok-phase-1-gurgaon-25650-sq-ft-sp...</td>\n",
       "      <td>NaN</td>\n",
       "      <td>550.0</td>\n",
       "      <td>2716.0</td>\n",
       "      <td>1936.80</td>\n",
       "      <td>8.0</td>\n",
       "      <td>7.0</td>\n",
       "      <td>-1.0</td>\n",
       "      <td>3.0</td>\n",
       "      <td>east</td>\n",
       "      <td>moderately old</td>\n",
       "      <td>[huda city centre metro station, new life church, hanuman mandir, hdfc bank atm, standard chartered atm, hdfc atm, r...</td>\n",
       "      <td>this is 215 sq yard independent well maintained duplex villa with basement\\navailable on sale at c block sushant lok...</td>\n",
       "      <td>['private garden / terrace', 'water purifier', 'high ceiling height', 'maintenance staff', 'false ceiling lighting',...</td>\n",
       "      <td>z70157364</td>\n",
       "      <td>215</td>\n",
       "      <td>2850</td>\n",
       "      <td>2250</td>\n",
       "      <td>1</td>\n",
       "      <td>1</td>\n",
       "      <td>0</td>\n",
       "      <td>1</td>\n",
       "      <td>1</td>\n",
       "      <td>sector 43</td>\n",
       "      <td>1</td>\n",
       "    </tr>\n",
       "    <tr>\n",
       "      <th>120</th>\n",
       "      <td>4 bedroom house for sale in sector 82 gurgaon</td>\n",
       "      <td>https://www.99acres.com/4-bhk-bedroom-independent-house-villa-for-sale-in-sector-82-gurgaon-3240-sq-ft-spid-h69959306</td>\n",
       "      <td>NaN</td>\n",
       "      <td>700.0</td>\n",
       "      <td>21605.0</td>\n",
       "      <td>3238.76</td>\n",
       "      <td>4.0</td>\n",
       "      <td>4.0</td>\n",
       "      <td>-1.0</td>\n",
       "      <td>1.0</td>\n",
       "      <td>north-east</td>\n",
       "      <td>Relatively New</td>\n",
       "      <td>[orris community center, petrol pump indian oil, essar petrol pump, petrol pump indian oil, petrol pump, indian oil,...</td>\n",
       "      <td>1 360 sq. yd\\n2park facing villa\\n3 4 bhk\\n4 (4) washrooms\\n5 (2) kitchen\\n # 100% power back-up\\n360 sq. yd. 4 bhk ...</td>\n",
       "      <td>['feng shui / vaastu compliant', 'private garden / terrace', 'maintenance staff', 'water storage', 'park', 'visitor ...</td>\n",
       "      <td>h69959306</td>\n",
       "      <td>360</td>\n",
       "      <td>NaN</td>\n",
       "      <td>NaN</td>\n",
       "      <td>1</td>\n",
       "      <td>1</td>\n",
       "      <td>0</td>\n",
       "      <td>1</td>\n",
       "      <td>0</td>\n",
       "      <td>sector 82</td>\n",
       "      <td>1</td>\n",
       "    </tr>\n",
       "    <tr>\n",
       "      <th>514</th>\n",
       "      <td>5 bedroom house for sale in sector 37b gurgaon</td>\n",
       "      <td>https://www.99acres.com/5-bhk-bedroom-independent-house-villa-for-sale-in-sector-37-b-gurgaon-1000-sq-ft-r1-spid-l65...</td>\n",
       "      <td>NaN</td>\n",
       "      <td>95.0</td>\n",
       "      <td>9500.0</td>\n",
       "      <td>1000.68</td>\n",
       "      <td>5.0</td>\n",
       "      <td>3.0</td>\n",
       "      <td>2.0</td>\n",
       "      <td>2.0</td>\n",
       "      <td>west</td>\n",
       "      <td>Relatively New</td>\n",
       "      <td>[shri balaji hospital and trauma center, kamla hospital gurgaon, yadav hospital gurgoan, chandna dental surgery orth...</td>\n",
       "      <td>interested to sell independent house/villa.placed at sector-37b gurgaon.nice unfurnished enhancing decorit has spaci...</td>\n",
       "      <td>NaN</td>\n",
       "      <td>l65799646</td>\n",
       "      <td>1000</td>\n",
       "      <td>NaN</td>\n",
       "      <td>NaN</td>\n",
       "      <td>0</td>\n",
       "      <td>0</td>\n",
       "      <td>0</td>\n",
       "      <td>1</td>\n",
       "      <td>0</td>\n",
       "      <td>sector 37b</td>\n",
       "      <td>0</td>\n",
       "    </tr>\n",
       "    <tr>\n",
       "      <th>943</th>\n",
       "      <td>10 bedroom house for sale in dlf phase 3</td>\n",
       "      <td>https://www.99acres.com/10-bhk-bedroom-independent-house-villa-for-sale-in-dlf-pink-town-house-dlf-city-phase-3-gurg...</td>\n",
       "      <td>dlf pink town house4.0 ★</td>\n",
       "      <td>190.0</td>\n",
       "      <td>3786.0</td>\n",
       "      <td>5014.16</td>\n",
       "      <td>10.0</td>\n",
       "      <td>9.0</td>\n",
       "      <td>-1.0</td>\n",
       "      <td>3.0</td>\n",
       "      <td>north</td>\n",
       "      <td>Relatively New</td>\n",
       "      <td>[dlf phase 3 metro station, micromax moulsari avenue metro station, dlf phase 2 metro station, guru dronacharya metr...</td>\n",
       "      <td>this property is available for sale in dlf ph-3 u block a good opportunity to investment for rental income total flo...</td>\n",
       "      <td>['feng shui / vaastu compliant', 'private garden / terrace', 'park', 'rain water harvesting']</td>\n",
       "      <td>c70372676</td>\n",
       "      <td>NaN</td>\n",
       "      <td>5018</td>\n",
       "      <td>NaN</td>\n",
       "      <td>0</td>\n",
       "      <td>0</td>\n",
       "      <td>0</td>\n",
       "      <td>0</td>\n",
       "      <td>1</td>\n",
       "      <td>sector 24</td>\n",
       "      <td>2</td>\n",
       "    </tr>\n",
       "    <tr>\n",
       "      <th>30</th>\n",
       "      <td>4 bedroom house for sale in sector 67 gurgaon</td>\n",
       "      <td>https://www.99acres.com/4-bhk-bedroom-independent-house-villa-for-sale-in-ansal-api-esencia-sector-67-gurgaon-2259-s...</td>\n",
       "      <td>ansal api esencia3.7 ★</td>\n",
       "      <td>546.0</td>\n",
       "      <td>24170.0</td>\n",
       "      <td>2259.60</td>\n",
       "      <td>4.0</td>\n",
       "      <td>5.0</td>\n",
       "      <td>-1.0</td>\n",
       "      <td>2.0</td>\n",
       "      <td>east</td>\n",
       "      <td>Relatively New</td>\n",
       "      <td>[proposed metro corridor, n.h-8, golf course road, shiskshantar, dps, amity, pathways, gd goenka, medicity, artemis,...</td>\n",
       "      <td>ansal esencia is a residential group housing property designed by known ansal groups. this housing apartment is diff...</td>\n",
       "      <td>['feng shui / vaastu compliant', 'private garden / terrace', 'water purifier', 'maintenance staff', 'false ceiling l...</td>\n",
       "      <td>j69714706</td>\n",
       "      <td>251</td>\n",
       "      <td>NaN</td>\n",
       "      <td>NaN</td>\n",
       "      <td>1</td>\n",
       "      <td>0</td>\n",
       "      <td>1</td>\n",
       "      <td>1</td>\n",
       "      <td>0</td>\n",
       "      <td>sector 67</td>\n",
       "      <td>1</td>\n",
       "    </tr>\n",
       "  </tbody>\n",
       "</table>\n",
       "</div>"
      ],
      "text/plain": [
       "                                       property_name  \\\n",
       "748  8 bedroom house for sale in sushant lok phase 1   \n",
       "120    4 bedroom house for sale in sector 82 gurgaon   \n",
       "514   5 bedroom house for sale in sector 37b gurgaon   \n",
       "943         10 bedroom house for sale in dlf phase 3   \n",
       "30     4 bedroom house for sale in sector 67 gurgaon   \n",
       "\n",
       "                                                                                                                        link  \\\n",
       "748  https://www.99acres.com/8-bhk-bedroom-independent-house-villa-for-sale-in-sushant-lok-phase-1-gurgaon-25650-sq-ft-sp...   \n",
       "120    https://www.99acres.com/4-bhk-bedroom-independent-house-villa-for-sale-in-sector-82-gurgaon-3240-sq-ft-spid-h69959306   \n",
       "514  https://www.99acres.com/5-bhk-bedroom-independent-house-villa-for-sale-in-sector-37-b-gurgaon-1000-sq-ft-r1-spid-l65...   \n",
       "943  https://www.99acres.com/10-bhk-bedroom-independent-house-villa-for-sale-in-dlf-pink-town-house-dlf-city-phase-3-gurg...   \n",
       "30   https://www.99acres.com/4-bhk-bedroom-independent-house-villa-for-sale-in-ansal-api-esencia-sector-67-gurgaon-2259-s...   \n",
       "\n",
       "                      society  price     rate     area  bedRoom  bathroom  \\\n",
       "748                       NaN  550.0   2716.0  1936.80      8.0       7.0   \n",
       "120                       NaN  700.0  21605.0  3238.76      4.0       4.0   \n",
       "514                       NaN   95.0   9500.0  1000.68      5.0       3.0   \n",
       "943  dlf pink town house4.0 ★  190.0   3786.0  5014.16     10.0       9.0   \n",
       "30     ansal api esencia3.7 ★  546.0  24170.0  2259.60      4.0       5.0   \n",
       "\n",
       "     balcony  noOfFloor      facing   agePossession  \\\n",
       "748     -1.0        3.0        east  moderately old   \n",
       "120     -1.0        1.0  north-east  Relatively New   \n",
       "514      2.0        2.0        west  Relatively New   \n",
       "943     -1.0        3.0       north  Relatively New   \n",
       "30      -1.0        2.0        east  Relatively New   \n",
       "\n",
       "                                                                                                             nearbyLocations  \\\n",
       "748  [huda city centre metro station, new life church, hanuman mandir, hdfc bank atm, standard chartered atm, hdfc atm, r...   \n",
       "120  [orris community center, petrol pump indian oil, essar petrol pump, petrol pump indian oil, petrol pump, indian oil,...   \n",
       "514  [shri balaji hospital and trauma center, kamla hospital gurgaon, yadav hospital gurgoan, chandna dental surgery orth...   \n",
       "943  [dlf phase 3 metro station, micromax moulsari avenue metro station, dlf phase 2 metro station, guru dronacharya metr...   \n",
       "30   [proposed metro corridor, n.h-8, golf course road, shiskshantar, dps, amity, pathways, gd goenka, medicity, artemis,...   \n",
       "\n",
       "                                                                                                                 description  \\\n",
       "748  this is 215 sq yard independent well maintained duplex villa with basement\\navailable on sale at c block sushant lok...   \n",
       "120  1 360 sq. yd\\n2park facing villa\\n3 4 bhk\\n4 (4) washrooms\\n5 (2) kitchen\\n # 100% power back-up\\n360 sq. yd. 4 bhk ...   \n",
       "514  interested to sell independent house/villa.placed at sector-37b gurgaon.nice unfurnished enhancing decorit has spaci...   \n",
       "943  this property is available for sale in dlf ph-3 u block a good opportunity to investment for rental income total flo...   \n",
       "30   ansal esencia is a residential group housing property designed by known ansal groups. this housing apartment is diff...   \n",
       "\n",
       "                                                                                                                    features  \\\n",
       "748  ['private garden / terrace', 'water purifier', 'high ceiling height', 'maintenance staff', 'false ceiling lighting',...   \n",
       "120  ['feng shui / vaastu compliant', 'private garden / terrace', 'maintenance staff', 'water storage', 'park', 'visitor ...   \n",
       "514                                                                                                                      NaN   \n",
       "943                            ['feng shui / vaastu compliant', 'private garden / terrace', 'park', 'rain water harvesting']   \n",
       "30   ['feng shui / vaastu compliant', 'private garden / terrace', 'water purifier', 'maintenance staff', 'false ceiling l...   \n",
       "\n",
       "    property_id plot_area built_up_area carpet_area  study room  servant room  \\\n",
       "748   z70157364       215          2850        2250           1             1   \n",
       "120   h69959306       360           NaN         NaN           1             1   \n",
       "514   l65799646      1000           NaN         NaN           0             0   \n",
       "943   c70372676       NaN          5018         NaN           0             0   \n",
       "30    j69714706       251           NaN         NaN           1             0   \n",
       "\n",
       "     store room  pooja room  others      sector  furnish_type  \n",
       "748           0           1       1   sector 43             1  \n",
       "120           0           1       0   sector 82             1  \n",
       "514           0           1       0  sector 37b             0  \n",
       "943           0           0       1   sector 24             2  \n",
       "30            1           1       0   sector 67             1  "
      ]
     },
     "execution_count": 60,
     "metadata": {},
     "output_type": "execute_result"
    }
   ],
   "source": [
    "pd.set_option('display.max_columns', None)\n",
    "df.sample(5)"
   ]
  },
  {
   "cell_type": "markdown",
   "metadata": {},
   "source": [
    "## Export dataset"
   ]
  },
  {
   "cell_type": "code",
   "execution_count": 61,
   "metadata": {},
   "outputs": [],
   "source": [
    "df.to_csv('data/processed/houses.csv', index=False)"
   ]
  }
 ],
 "metadata": {
  "kernelspec": {
   "display_name": "Python 3",
   "language": "python",
   "name": "python3"
  },
  "language_info": {
   "codemirror_mode": {
    "name": "ipython",
    "version": 3
   },
   "file_extension": ".py",
   "mimetype": "text/x-python",
   "name": "python",
   "nbconvert_exporter": "python",
   "pygments_lexer": "ipython3",
   "version": "3.11.0"
  },
  "orig_nbformat": 4
 },
 "nbformat": 4,
 "nbformat_minor": 2
}
