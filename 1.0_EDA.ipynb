{
 "cells": [
  {
   "cell_type": "code",
   "execution_count": 1,
   "metadata": {},
   "outputs": [],
   "source": [
    "from ast import literal_eval\n",
    "\n",
    "import pandas as pd\n",
    "from pandas import DataFrame\n",
    "import numpy as np\n",
    "import matplotlib.pyplot as plt\n",
    "import seaborn as sns"
   ]
  },
  {
   "cell_type": "code",
   "execution_count": 2,
   "metadata": {},
   "outputs": [
    {
     "name": "stdout",
     "output_type": "stream",
     "text": [
      "(246, 7)\n"
     ]
    },
    {
     "data": {
      "text/html": [
       "<div>\n",
       "<style scoped>\n",
       "    .dataframe tbody tr th:only-of-type {\n",
       "        vertical-align: middle;\n",
       "    }\n",
       "\n",
       "    .dataframe tbody tr th {\n",
       "        vertical-align: top;\n",
       "    }\n",
       "\n",
       "    .dataframe thead th {\n",
       "        text-align: right;\n",
       "    }\n",
       "</style>\n",
       "<table border=\"1\" class=\"dataframe\">\n",
       "  <thead>\n",
       "    <tr style=\"text-align: right;\">\n",
       "      <th></th>\n",
       "      <th>PropertyName</th>\n",
       "      <th>PropertySubName</th>\n",
       "      <th>NearbyLocations</th>\n",
       "      <th>LocationAdvantages</th>\n",
       "      <th>Link</th>\n",
       "      <th>PriceDetails</th>\n",
       "      <th>TopFacilities</th>\n",
       "    </tr>\n",
       "  </thead>\n",
       "  <tbody>\n",
       "    <tr>\n",
       "      <th>0</th>\n",
       "      <td>Smartworld One DXP</td>\n",
       "      <td>2, 3, 4 BHK Apartment in Sector 113, Gurgaon</td>\n",
       "      <td>['Bajghera Road', 'Palam Vihar Halt', 'DPSG Pa...</td>\n",
       "      <td>{'Bajghera Road': '800 Meter', 'Palam Vihar Ha...</td>\n",
       "      <td>https://www.99acres.com/smartworld-one-dxp-sec...</td>\n",
       "      <td>{'2 BHK': {'building_type': 'Apartment', 'area...</td>\n",
       "      <td>['Swimming Pool', 'Salon', 'Restaurant', 'Spa'...</td>\n",
       "    </tr>\n",
       "    <tr>\n",
       "      <th>1</th>\n",
       "      <td>M3M Crown</td>\n",
       "      <td>3, 4 BHK Apartment in Sector 111, Gurgaon</td>\n",
       "      <td>['DPSG Palam Vihar Gurugram', 'The NorthCap Un...</td>\n",
       "      <td>{'DPSG Palam Vihar Gurugram': '1.4 Km', 'The N...</td>\n",
       "      <td>https://www.99acres.com/m3m-crown-sector-111-g...</td>\n",
       "      <td>{'3 BHK': {'building_type': 'Apartment', 'area...</td>\n",
       "      <td>['Bowling Alley', 'Mini Theatre', 'Manicured G...</td>\n",
       "    </tr>\n",
       "    <tr>\n",
       "      <th>2</th>\n",
       "      <td>Adani Brahma Samsara Vilasa</td>\n",
       "      <td>Land, 3, 4 BHK Independent Floor in Sector 63,...</td>\n",
       "      <td>['AIPL Business Club Sector 62', 'Heritage Xpe...</td>\n",
       "      <td>{'AIPL Business Club Sector 62': '2.7 Km', 'He...</td>\n",
       "      <td>https://www.99acres.com/adani-brahma-samsara-v...</td>\n",
       "      <td>{'3 BHK': {'building_type': 'Independent Floor...</td>\n",
       "      <td>['Terrace Garden', 'Gazebo', 'Fountain', 'Amph...</td>\n",
       "    </tr>\n",
       "    <tr>\n",
       "      <th>3</th>\n",
       "      <td>Sobha City</td>\n",
       "      <td>2, 3, 4 BHK Apartment in Sector 108, Gurgaon</td>\n",
       "      <td>['The Shikshiyan School', 'WTC Plaza', 'Luxus ...</td>\n",
       "      <td>{'The Shikshiyan School': '2.9 KM', 'WTC Plaza...</td>\n",
       "      <td>https://www.99acres.com/sobha-city-sector-108-...</td>\n",
       "      <td>{'2 BHK': {'building_type': 'Apartment', 'area...</td>\n",
       "      <td>['Swimming Pool', 'Volley Ball Court', 'Aerobi...</td>\n",
       "    </tr>\n",
       "    <tr>\n",
       "      <th>4</th>\n",
       "      <td>Signature Global City 93</td>\n",
       "      <td>2, 3 BHK Independent Floor in Sector 93 Gurgaon</td>\n",
       "      <td>['Pranavananda Int. School', 'DLF Site central...</td>\n",
       "      <td>{'Pranavananda Int. School': '450 m', 'DLF Sit...</td>\n",
       "      <td>https://www.99acres.com/signature-global-city-...</td>\n",
       "      <td>{'2 BHK': {'building_type': 'Independent Floor...</td>\n",
       "      <td>['Mini Theatre', 'Doctor on Call', 'Concierge ...</td>\n",
       "    </tr>\n",
       "  </tbody>\n",
       "</table>\n",
       "</div>"
      ],
      "text/plain": [
       "                  PropertyName  \\\n",
       "0           Smartworld One DXP   \n",
       "1                    M3M Crown   \n",
       "2  Adani Brahma Samsara Vilasa   \n",
       "3                   Sobha City   \n",
       "4     Signature Global City 93   \n",
       "\n",
       "                                     PropertySubName  \\\n",
       "0       2, 3, 4 BHK Apartment in Sector 113, Gurgaon   \n",
       "1          3, 4 BHK Apartment in Sector 111, Gurgaon   \n",
       "2  Land, 3, 4 BHK Independent Floor in Sector 63,...   \n",
       "3       2, 3, 4 BHK Apartment in Sector 108, Gurgaon   \n",
       "4    2, 3 BHK Independent Floor in Sector 93 Gurgaon   \n",
       "\n",
       "                                     NearbyLocations  \\\n",
       "0  ['Bajghera Road', 'Palam Vihar Halt', 'DPSG Pa...   \n",
       "1  ['DPSG Palam Vihar Gurugram', 'The NorthCap Un...   \n",
       "2  ['AIPL Business Club Sector 62', 'Heritage Xpe...   \n",
       "3  ['The Shikshiyan School', 'WTC Plaza', 'Luxus ...   \n",
       "4  ['Pranavananda Int. School', 'DLF Site central...   \n",
       "\n",
       "                                  LocationAdvantages  \\\n",
       "0  {'Bajghera Road': '800 Meter', 'Palam Vihar Ha...   \n",
       "1  {'DPSG Palam Vihar Gurugram': '1.4 Km', 'The N...   \n",
       "2  {'AIPL Business Club Sector 62': '2.7 Km', 'He...   \n",
       "3  {'The Shikshiyan School': '2.9 KM', 'WTC Plaza...   \n",
       "4  {'Pranavananda Int. School': '450 m', 'DLF Sit...   \n",
       "\n",
       "                                                Link  \\\n",
       "0  https://www.99acres.com/smartworld-one-dxp-sec...   \n",
       "1  https://www.99acres.com/m3m-crown-sector-111-g...   \n",
       "2  https://www.99acres.com/adani-brahma-samsara-v...   \n",
       "3  https://www.99acres.com/sobha-city-sector-108-...   \n",
       "4  https://www.99acres.com/signature-global-city-...   \n",
       "\n",
       "                                        PriceDetails  \\\n",
       "0  {'2 BHK': {'building_type': 'Apartment', 'area...   \n",
       "1  {'3 BHK': {'building_type': 'Apartment', 'area...   \n",
       "2  {'3 BHK': {'building_type': 'Independent Floor...   \n",
       "3  {'2 BHK': {'building_type': 'Apartment', 'area...   \n",
       "4  {'2 BHK': {'building_type': 'Independent Floor...   \n",
       "\n",
       "                                       TopFacilities  \n",
       "0  ['Swimming Pool', 'Salon', 'Restaurant', 'Spa'...  \n",
       "1  ['Bowling Alley', 'Mini Theatre', 'Manicured G...  \n",
       "2  ['Terrace Garden', 'Gazebo', 'Fountain', 'Amph...  \n",
       "3  ['Swimming Pool', 'Volley Ball Court', 'Aerobi...  \n",
       "4  ['Mini Theatre', 'Doctor on Call', 'Concierge ...  "
      ]
     },
     "execution_count": 2,
     "metadata": {},
     "output_type": "execute_result"
    }
   ],
   "source": [
    "df = pd.read_csv('data/real-estate.csv')\n",
    "print(df.shape)\n",
    "df.head()"
   ]
  },
  {
   "cell_type": "code",
   "execution_count": 3,
   "metadata": {},
   "outputs": [
    {
     "name": "stdout",
     "output_type": "stream",
     "text": [
      "<class 'pandas.core.frame.DataFrame'>\n",
      "RangeIndex: 246 entries, 0 to 245\n",
      "Data columns (total 7 columns):\n",
      " #   Column              Non-Null Count  Dtype \n",
      "---  ------              --------------  ----- \n",
      " 0   PropertyName        246 non-null    object\n",
      " 1   PropertySubName     246 non-null    object\n",
      " 2   NearbyLocations     246 non-null    object\n",
      " 3   LocationAdvantages  246 non-null    object\n",
      " 4   Link                246 non-null    object\n",
      " 5   PriceDetails        246 non-null    object\n",
      " 6   TopFacilities       246 non-null    object\n",
      "dtypes: object(7)\n",
      "memory usage: 13.6+ KB\n"
     ]
    }
   ],
   "source": [
    "df.info()"
   ]
  },
  {
   "cell_type": "code",
   "execution_count": 4,
   "metadata": {},
   "outputs": [],
   "source": [
    "for_literal_eval = ['NearbyLocations', 'LocationAdvantages', 'PriceDetails', 'TopFacilities']\n",
    "\n",
    "for col in for_literal_eval:\n",
    "    df[col] = df[col].apply(literal_eval)"
   ]
  },
  {
   "cell_type": "markdown",
   "metadata": {},
   "source": [
    "### Link"
   ]
  },
  {
   "cell_type": "code",
   "execution_count": 5,
   "metadata": {},
   "outputs": [
    {
     "data": {
      "text/plain": [
       "'smartworld-one-dxp-sector-113-gurgaon-npxid-r400415'"
      ]
     },
     "execution_count": 5,
     "metadata": {},
     "output_type": "execute_result"
    }
   ],
   "source": [
    "df['Link'] = df['Link'].str.replace('https://www.99acres.com/', '', regex=False)\n",
    "df['Link'][0]"
   ]
  },
  {
   "cell_type": "markdown",
   "metadata": {},
   "source": [
    "### Locations"
   ]
  },
  {
   "cell_type": "code",
   "execution_count": 6,
   "metadata": {},
   "outputs": [
    {
     "data": {
      "text/plain": [
       "[['Bajghera Road',\n",
       "  'Palam Vihar Halt',\n",
       "  'DPSG Palam Vihar',\n",
       "  'Park Hospital',\n",
       "  'Gurgaon Railway Station'],\n",
       " ['DPSG Palam Vihar Gurugram',\n",
       "  'The NorthCap University',\n",
       "  'Park Hospital, Palam Vihar',\n",
       "  'Pacific D21 Mall',\n",
       "  'Palam Vihar Halt Railway Station']]"
      ]
     },
     "execution_count": 6,
     "metadata": {},
     "output_type": "execute_result"
    }
   ],
   "source": [
    "df['NearbyLocations'].tolist()[:2]"
   ]
  },
  {
   "cell_type": "code",
   "execution_count": 7,
   "metadata": {},
   "outputs": [
    {
     "data": {
      "text/plain": [
       "[{'Bajghera Road': '800 Meter',\n",
       "  'Palam Vihar Halt': '2.5 KM',\n",
       "  'DPSG Palam Vihar': '3.1 KM',\n",
       "  'Park Hospital': '3.1 KM',\n",
       "  'Gurgaon Railway Station': '4.9 KM',\n",
       "  'The NorthCap University': '5.4 KM',\n",
       "  'Dwarka Expy': '1.2 KM',\n",
       "  'Hyatt Place Gurgaon Udyog Vihar': '7.7 KM',\n",
       "  'Dwarka Sector 21, Metro Station': '7.2 KM',\n",
       "  'Pacific D21 Mall': '7.4 KM',\n",
       "  'Indira Gandhi International Airport': '14.7 KM',\n",
       "  'Hamoni Golf Camp': '6.2 KM',\n",
       "  'Fun N Food Waterpark': '8.8 KM',\n",
       "  'Accenture DDC5': '9 KM'},\n",
       " {'DPSG Palam Vihar Gurugram': '1.4 Km',\n",
       "  'The NorthCap University': '4.4 Km',\n",
       "  'Park Hospital, Palam Vihar': '1.4 Km',\n",
       "  'Pacific D21 Mall': '8.2 Km',\n",
       "  'Palam Vihar Halt Railway Station': '1.2 Km',\n",
       "  'Dwarka Sector 21 Metro Station': '8.1 Km',\n",
       "  'Dwarka Expressway': '450 m',\n",
       "  'Fun N Food Water Park': '8.1 Km',\n",
       "  'Indira Gandhi International Airport': '14.1 Km',\n",
       "  'Tau DeviLal Sports Complex': '11.2 Km',\n",
       "  'Hamoni Golf Camp': '5 Km',\n",
       "  'Hyatt Place': '6.1 Km',\n",
       "  'Altrade Business Centre': '11.2 Km'}]"
      ]
     },
     "execution_count": 7,
     "metadata": {},
     "output_type": "execute_result"
    }
   ],
   "source": [
    "df['LocationAdvantages'].tolist()[:2]"
   ]
  },
  {
   "cell_type": "markdown",
   "metadata": {},
   "source": [
    "As you can see that `LocationAdvantages` has more nearby locations than `NearbyLocations` column that's why I am going to replace the values of `NearbyLocation` to keys of `LocationAdvantages` column."
   ]
  },
  {
   "cell_type": "code",
   "execution_count": 8,
   "metadata": {},
   "outputs": [],
   "source": [
    "df['NearbyLocations'] = df['LocationAdvantages'].apply(lambda x: list(x.keys()))"
   ]
  },
  {
   "cell_type": "code",
   "execution_count": 9,
   "metadata": {},
   "outputs": [],
   "source": [
    "# Experimenting:\n",
    "\n",
    "# nearby_loc = set([j for i in df['NearbyLocations'].to_list() for j in i])\n",
    "# loc_advantages = set([j for i in df['LocationAdvantages'].explode().tolist() for j in i])\n",
    "\n",
    "# len(nearby_loc), len(loc_advantages), len(nearby_loc & loc_advantages)"
   ]
  },
  {
   "cell_type": "code",
   "execution_count": 10,
   "metadata": {},
   "outputs": [
    {
     "data": {
      "text/plain": [
       "LocationAdvantages\n",
       "Indira Gandhi International Airport    87\n",
       "Indira Gandhi Intl Airport             70\n",
       "Dwarka Expressway                      53\n",
       "Park Hospital                          32\n",
       "SkyJumper Trampoline Park              32\n",
       "Garhi Harsaru Junction                 32\n",
       "Gurgaon Railway Station                31\n",
       "Gurugram University                    29\n",
       "Sushant University                     28\n",
       "IGI Airport                            26\n",
       "The NorthCap University                25\n",
       "Sector 55-56 Metro Station             22\n",
       "DLF Golf and Country Club              20\n",
       "DPG Institute of Technology            19\n",
       "Sapphire 83 Mall                       19\n",
       "Name: count, dtype: int64"
      ]
     },
     "execution_count": 10,
     "metadata": {},
     "output_type": "execute_result"
    }
   ],
   "source": [
    "df['LocationAdvantages'].explode().value_counts()[:15]"
   ]
  },
  {
   "cell_type": "code",
   "execution_count": 11,
   "metadata": {},
   "outputs": [
    {
     "data": {
      "text/plain": [
       "['Indira Gandhi International Airport',\n",
       " 'Indira Gandhi Intl Airport',\n",
       " 'Dwarka Expressway',\n",
       " 'Park Hospital',\n",
       " 'SkyJumper Trampoline Park',\n",
       " 'Garhi Harsaru Junction',\n",
       " 'Gurgaon Railway Station',\n",
       " 'Gurugram University',\n",
       " 'Sushant University',\n",
       " 'IGI Airport',\n",
       " 'The NorthCap University',\n",
       " 'Sector 55-56 Metro Station',\n",
       " 'DLF Golf and Country Club',\n",
       " 'DPG Institute of Technology',\n",
       " 'Sapphire 83 Mall']"
      ]
     },
     "execution_count": 11,
     "metadata": {},
     "output_type": "execute_result"
    }
   ],
   "source": [
    "# Find top 10 most frequent feature\n",
    "# top_locations = df['NearbyLocations'].explode().value_counts()[:15].index.tolist()\n",
    "top_locations = df['LocationAdvantages'].explode().value_counts()[:15].index.tolist()\n",
    "top_locations"
   ]
  },
  {
   "cell_type": "markdown",
   "metadata": {},
   "source": [
    "I am using `LocationAdvantages` because it has more `value_counts` than `NearbyLocations` column in the dataset."
   ]
  },
  {
   "cell_type": "code",
   "execution_count": 12,
   "metadata": {},
   "outputs": [],
   "source": [
    "for items in top_locations:\n",
    "    df[items] = df['LocationAdvantages'].apply(lambda x: 1 if items in x else 0)"
   ]
  },
  {
   "cell_type": "code",
   "execution_count": 13,
   "metadata": {},
   "outputs": [],
   "source": [
    "df['n_LocationAdvantages'] = df['LocationAdvantages'].apply(len)"
   ]
  },
  {
   "cell_type": "markdown",
   "metadata": {},
   "source": [
    "We can also group similar palace like **hospitals, parks, schools, highways, airports** and make features with them which is more useful and cover more rows and it is more verbose too."
   ]
  },
  {
   "cell_type": "markdown",
   "metadata": {},
   "source": [
    "### Categorize Location"
   ]
  },
  {
   "cell_type": "code",
   "execution_count": 14,
   "metadata": {},
   "outputs": [],
   "source": [
    "def categorize(value, category_map):\n",
    "    for category_dict in category_map:\n",
    "        for category, keywords in category_dict.items():\n",
    "            if any(keyword.lower() in value.lower() for keyword in keywords):\n",
    "                return category\n",
    "    return 'Other'"
   ]
  },
  {
   "cell_type": "code",
   "execution_count": 15,
   "metadata": {},
   "outputs": [
    {
     "data": {
      "text/plain": [
       "1070"
      ]
     },
     "execution_count": 15,
     "metadata": {},
     "output_type": "execute_result"
    }
   ],
   "source": [
    "all_nearby_locations = df['LocationAdvantages'].explode().unique().tolist()\n",
    "len(all_nearby_locations)"
   ]
  },
  {
   "cell_type": "code",
   "execution_count": 16,
   "metadata": {},
   "outputs": [],
   "source": [
    "locations_category_map = [\n",
    "    {'Airport': ['airport', 'airstrip', 'aviation']},\n",
    "    {'Railway Station': ['railway', 'junction', 'metro', 'mero', 'halt', 'station']},\n",
    "    {'Roadway': ['expressway', 'highway', 'road', 'nh', 'rd', 'hwy', 'expy']},\n",
    "    {'Hospital': ['hospital', 'medical', 'Healthcare', 'Medicity', 'Pharmacy', 'clinic', 'doctor', 'health']},\n",
    "    {'Education': ['school', 'university', 'institute', 'college', 'academy']},\n",
    "    {'Fun': ['park', 'club', 'sports', 'sport', 'stadium', 'golf', 'Tennis', 'cricket']},\n",
    "    {'Shop': ['mall', 'theatre', 'cinema', 'food', 'shop', 'market', 'store', 'plaza', 'bazaar', 'retail', 'grocery', 'chowk']},\n",
    "    {'Hotel': ['hotel', 'inn', 'resort', 'lodge', 'Restaurant']}\n",
    "]"
   ]
  },
  {
   "cell_type": "markdown",
   "metadata": {},
   "source": [
    "#### Categorized Locations DataFrame"
   ]
  },
  {
   "cell_type": "code",
   "execution_count": 17,
   "metadata": {},
   "outputs": [],
   "source": [
    "# Create a DataFrame with categorized locations\n",
    "categorized_locations = []\n",
    "for items in all_nearby_locations:\n",
    "    category = categorize(items, locations_category_map)\n",
    "    categorized_locations.append({\n",
    "        'Location': items,\n",
    "        'Category': category\n",
    "    })"
   ]
  },
  {
   "cell_type": "code",
   "execution_count": 18,
   "metadata": {},
   "outputs": [
    {
     "data": {
      "text/html": [
       "<div>\n",
       "<style scoped>\n",
       "    .dataframe tbody tr th:only-of-type {\n",
       "        vertical-align: middle;\n",
       "    }\n",
       "\n",
       "    .dataframe tbody tr th {\n",
       "        vertical-align: top;\n",
       "    }\n",
       "\n",
       "    .dataframe thead th {\n",
       "        text-align: right;\n",
       "    }\n",
       "</style>\n",
       "<table border=\"1\" class=\"dataframe\">\n",
       "  <thead>\n",
       "    <tr style=\"text-align: right;\">\n",
       "      <th></th>\n",
       "      <th>Location</th>\n",
       "      <th>Category</th>\n",
       "    </tr>\n",
       "  </thead>\n",
       "  <tbody>\n",
       "    <tr>\n",
       "      <th>0</th>\n",
       "      <td>Bajghera Road</td>\n",
       "      <td>Roadway</td>\n",
       "    </tr>\n",
       "    <tr>\n",
       "      <th>1</th>\n",
       "      <td>Palam Vihar Halt</td>\n",
       "      <td>Railway Station</td>\n",
       "    </tr>\n",
       "    <tr>\n",
       "      <th>2</th>\n",
       "      <td>DPSG Palam Vihar</td>\n",
       "      <td>Other</td>\n",
       "    </tr>\n",
       "    <tr>\n",
       "      <th>3</th>\n",
       "      <td>Park Hospital</td>\n",
       "      <td>Hospital</td>\n",
       "    </tr>\n",
       "    <tr>\n",
       "      <th>4</th>\n",
       "      <td>Gurgaon Railway Station</td>\n",
       "      <td>Railway Station</td>\n",
       "    </tr>\n",
       "  </tbody>\n",
       "</table>\n",
       "</div>"
      ],
      "text/plain": [
       "                  Location         Category\n",
       "0            Bajghera Road          Roadway\n",
       "1         Palam Vihar Halt  Railway Station\n",
       "2         DPSG Palam Vihar            Other\n",
       "3            Park Hospital         Hospital\n",
       "4  Gurgaon Railway Station  Railway Station"
      ]
     },
     "execution_count": 18,
     "metadata": {},
     "output_type": "execute_result"
    }
   ],
   "source": [
    "cat_loc_df = pd.DataFrame(categorized_locations)\n",
    "cat_loc_df.head()"
   ]
  },
  {
   "cell_type": "code",
   "execution_count": 19,
   "metadata": {},
   "outputs": [
    {
     "data": {
      "text/plain": [
       "Category\n",
       "Other              269\n",
       "Education          221\n",
       "Roadway            152\n",
       "Hospital           119\n",
       "Shop               106\n",
       "Fun                 94\n",
       "Railway Station     66\n",
       "Hotel               33\n",
       "Airport             10\n",
       "Name: count, dtype: int64"
      ]
     },
     "execution_count": 19,
     "metadata": {},
     "output_type": "execute_result"
    }
   ],
   "source": [
    "cat_loc_df['Category'].value_counts()"
   ]
  },
  {
   "cell_type": "markdown",
   "metadata": {},
   "source": [
    "#### Add locations category as columns to Dataset"
   ]
  },
  {
   "cell_type": "code",
   "execution_count": 20,
   "metadata": {},
   "outputs": [],
   "source": [
    "def perform_feature_extraction(\n",
    "    df: DataFrame,\n",
    "    column_containing_locations: str,\n",
    "    category_map: list[dict[str, list[str]]],\n",
    ") -> DataFrame:\n",
    "    # Create new columns for each category\n",
    "    new_cols = []\n",
    "    for category_dict in category_map:\n",
    "        for category in category_dict.keys():\n",
    "            df[category] = 0\n",
    "            new_cols.append(category)\n",
    "\n",
    "    # Iterate through each row and update category counts\n",
    "    for index, row in df.iterrows():\n",
    "        location_counts = {category: 0 for category in new_cols}\n",
    "\n",
    "        for location in row[column_containing_locations]:\n",
    "            category = categorize(location, category_map)\n",
    "            if category != 'Other':\n",
    "                location_counts[category] += 1\n",
    "\n",
    "        df.loc[index, new_cols] = pd.Series(location_counts) # type: ignore\n",
    "\n",
    "    return df"
   ]
  },
  {
   "cell_type": "code",
   "execution_count": 21,
   "metadata": {},
   "outputs": [
    {
     "data": {
      "text/plain": [
       "(246, 31)"
      ]
     },
     "execution_count": 21,
     "metadata": {},
     "output_type": "execute_result"
    }
   ],
   "source": [
    "df = perform_feature_extraction(df, 'NearbyLocations', locations_category_map)\n",
    "df.shape"
   ]
  },
  {
   "cell_type": "markdown",
   "metadata": {},
   "source": [
    "Now we need to remove those columns which are created above as they are most frequent location comes in the dataset."
   ]
  },
  {
   "cell_type": "code",
   "execution_count": 22,
   "metadata": {},
   "outputs": [
    {
     "data": {
      "text/plain": [
       "(246, 16)"
      ]
     },
     "execution_count": 22,
     "metadata": {},
     "output_type": "execute_result"
    }
   ],
   "source": [
    "df.drop(columns=top_locations, inplace=True)\n",
    "df.shape"
   ]
  },
  {
   "cell_type": "markdown",
   "metadata": {},
   "source": [
    "### TopFacilities"
   ]
  },
  {
   "cell_type": "code",
   "execution_count": 23,
   "metadata": {},
   "outputs": [
    {
     "data": {
      "text/plain": [
       "110"
      ]
     },
     "execution_count": 23,
     "metadata": {},
     "output_type": "execute_result"
    }
   ],
   "source": [
    "top_facilities = df['TopFacilities'].explode().unique().tolist()\n",
    "len(top_facilities)"
   ]
  },
  {
   "cell_type": "code",
   "execution_count": 24,
   "metadata": {},
   "outputs": [],
   "source": [
    "# Extract top 15 TopFacilities\n",
    "\n",
    "# top_facilities = df['TopFacilities'].explode().value_counts()[:25].index.tolist()\n",
    "# for facility in top_facilities:\n",
    "#     df[facility] = df['TopFacilities'].apply(lambda x: 1 if facility in x else 0)"
   ]
  },
  {
   "cell_type": "code",
   "execution_count": 25,
   "metadata": {},
   "outputs": [],
   "source": [
    "# Generated by ChatGPT\n",
    "facilities_category_map = [\n",
    "    {'Recreation and Sports': ['Jogging Track', 'Gymnasium', 'Cricket Pitch', 'Yoga/Meditation Area', 'Football', 'Golf Course', 'Steam Room', 'Terrace Garden', 'Water Softener Plant', 'Foosball', 'Sauna', 'Manicured Garden', 'Air Hockey', 'Squash Court', 'Lawn Tennis Court', 'Table Tennis', 'Basketball Court', 'Jacuzzi', 'Skating Rink', 'Aerobics Centre', 'Indoor Games', 'Mini Theatre', 'Amphitheatre', 'Volley Ball Court', 'Bowling Alley', 'Multipurpose Court', 'Beach Volley Ball Court', 'Infinity Pool', 'Billiards']},\n",
    "    {'Leisure and Entertainment': ['Lounge', 'Salon', 'Fountain', 'Shopping Centre', 'Restaurant', 'Cigar Lounge', 'Food Court', 'Theatre', 'Gazebo', 'Club House', 'Banquet Hall', 'Party Lawn', 'Barbecue', 'Card Room', 'Cafeteria', 'Sun Deck', 'Video Door Security', 'Business Lounge', 'Library', 'ATM', 'Spa', 'Infinity Pool']},\n",
    "    {'Utilities and Services': ['24/7 Water Supply', 'Garbage Disposal', 'Milk Booth', 'Concierge Service', 'Rain Water Harvesting', 'Bus Shelter', 'Community Hall', 'Wi-Fi Connectivity', 'Automated Car Wash', 'Car Parking', 'Grocery Shop', '24/7 Power Backup', '24x7 Security', 'Visitors Parking', 'Internal Street Lights', 'Senior Citizen Sitout', 'Security Cabin', 'Property Staff', 'Conference room', 'Car wash area', 'RO System', 'Solar Water Heating', 'Creche/Day care', 'Landscape Garden', 'Gated Community', 'Maintenance Staff', 'Pergola', 'Doctor on Call', 'High Speed Elevators', 'Lift(s)', 'Laundry']},\n",
    "    {'Health and Wellness': ['Park', 'Medical Centre', 'Solar Lighting']},\n",
    "    {'Safety and Security': ['Fire Fighting Systems', 'CCTV Camera Security', 'Security Cabin', 'Video Door Security', 'Gated Community']},\n",
    "]"
   ]
  },
  {
   "cell_type": "code",
   "execution_count": 26,
   "metadata": {},
   "outputs": [
    {
     "data": {
      "text/plain": [
       "(246, 21)"
      ]
     },
     "execution_count": 26,
     "metadata": {},
     "output_type": "execute_result"
    }
   ],
   "source": [
    "df = perform_feature_extraction(df, 'TopFacilities', facilities_category_map)\n",
    "df.shape"
   ]
  },
  {
   "cell_type": "markdown",
   "metadata": {},
   "source": [
    "## PriceDeatails"
   ]
  },
  {
   "cell_type": "code",
   "execution_count": 27,
   "metadata": {},
   "outputs": [
    {
     "data": {
      "text/plain": [
       "PriceDetails\n",
       "3 BHK    186\n",
       "4 BHK    144\n",
       "2 BHK    121\n",
       "5 BHK     50\n",
       "Land      48\n",
       "1 BHK     18\n",
       "6 BHK      4\n",
       "1 RK       3\n",
       "Name: count, dtype: int64"
      ]
     },
     "execution_count": 27,
     "metadata": {},
     "output_type": "execute_result"
    }
   ],
   "source": [
    "df['PriceDetails'].explode().value_counts()"
   ]
  },
  {
   "cell_type": "code",
   "execution_count": 28,
   "metadata": {},
   "outputs": [],
   "source": [
    "# Extract most frequent BHKs\n",
    "for value in ['3 BHK', '4 BHK', '2 BHK', '5 BHK', 'Land']:\n",
    "    df[value] = df['PriceDetails'].apply(lambda x: 1 if value in x.keys() else 0)"
   ]
  },
  {
   "cell_type": "markdown",
   "metadata": {},
   "source": [
    "## Price Deatalis DataFrame"
   ]
  },
  {
   "cell_type": "code",
   "execution_count": 29,
   "metadata": {},
   "outputs": [],
   "source": [
    "price_details = list(df['PriceDetails'].to_dict().values())"
   ]
  },
  {
   "cell_type": "code",
   "execution_count": 30,
   "metadata": {},
   "outputs": [],
   "source": [
    "def normalize_price_details(price_details_list: list[dict], links: list[str]):\n",
    "    flat_details = []\n",
    "    for link, price_details in zip(links, price_details_list):\n",
    "        for bhk, details in price_details.items():\n",
    "            flat_details.append({\n",
    "                'Link': link,\n",
    "                'BHK': bhk,\n",
    "                'Area_Type': details['area_type'],\n",
    "                'Area': details['area'],\n",
    "                'Price_Range': details['price-range']\n",
    "            })\n",
    "\n",
    "    df = pd.DataFrame(flat_details)\n",
    "    df = df[['Link', 'BHK', 'Area_Type', 'Area', 'Price_Range']]\n",
    "    return df"
   ]
  },
  {
   "cell_type": "code",
   "execution_count": 31,
   "metadata": {},
   "outputs": [
    {
     "data": {
      "text/html": [
       "<div>\n",
       "<style scoped>\n",
       "    .dataframe tbody tr th:only-of-type {\n",
       "        vertical-align: middle;\n",
       "    }\n",
       "\n",
       "    .dataframe tbody tr th {\n",
       "        vertical-align: top;\n",
       "    }\n",
       "\n",
       "    .dataframe thead th {\n",
       "        text-align: right;\n",
       "    }\n",
       "</style>\n",
       "<table border=\"1\" class=\"dataframe\">\n",
       "  <thead>\n",
       "    <tr style=\"text-align: right;\">\n",
       "      <th></th>\n",
       "      <th>Link</th>\n",
       "      <th>BHK</th>\n",
       "      <th>Area_Type</th>\n",
       "      <th>Area</th>\n",
       "      <th>Price_Range</th>\n",
       "    </tr>\n",
       "  </thead>\n",
       "  <tbody>\n",
       "    <tr>\n",
       "      <th>0</th>\n",
       "      <td>smartworld-one-dxp-sector-113-gurgaon-npxid-r4...</td>\n",
       "      <td>2 BHK</td>\n",
       "      <td>Carpet Area</td>\n",
       "      <td>1,370 sq.ft.</td>\n",
       "      <td>₹ 2 - 2.4 Cr</td>\n",
       "    </tr>\n",
       "    <tr>\n",
       "      <th>1</th>\n",
       "      <td>smartworld-one-dxp-sector-113-gurgaon-npxid-r4...</td>\n",
       "      <td>3 BHK</td>\n",
       "      <td>Carpet Area</td>\n",
       "      <td>1,850 - 2,050 sq.ft.</td>\n",
       "      <td>₹ 2.25 - 3.59 Cr</td>\n",
       "    </tr>\n",
       "    <tr>\n",
       "      <th>2</th>\n",
       "      <td>smartworld-one-dxp-sector-113-gurgaon-npxid-r4...</td>\n",
       "      <td>4 BHK</td>\n",
       "      <td>Carpet Area</td>\n",
       "      <td>2,600 sq.ft.</td>\n",
       "      <td>₹ 3.24 - 4.56 Cr</td>\n",
       "    </tr>\n",
       "    <tr>\n",
       "      <th>3</th>\n",
       "      <td>m3m-crown-sector-111-gurgaon-npxid-r404068</td>\n",
       "      <td>3 BHK</td>\n",
       "      <td>Super Built-up Area</td>\n",
       "      <td>1,605 - 2,170 sq.ft.</td>\n",
       "      <td>₹ 2.2 - 3.03 Cr</td>\n",
       "    </tr>\n",
       "    <tr>\n",
       "      <th>4</th>\n",
       "      <td>m3m-crown-sector-111-gurgaon-npxid-r404068</td>\n",
       "      <td>4 BHK</td>\n",
       "      <td>Super Built-up Area</td>\n",
       "      <td>2,248 - 2,670 sq.ft.</td>\n",
       "      <td>₹ 3.08 - 3.73 Cr</td>\n",
       "    </tr>\n",
       "  </tbody>\n",
       "</table>\n",
       "</div>"
      ],
      "text/plain": [
       "                                                Link    BHK  \\\n",
       "0  smartworld-one-dxp-sector-113-gurgaon-npxid-r4...  2 BHK   \n",
       "1  smartworld-one-dxp-sector-113-gurgaon-npxid-r4...  3 BHK   \n",
       "2  smartworld-one-dxp-sector-113-gurgaon-npxid-r4...  4 BHK   \n",
       "3         m3m-crown-sector-111-gurgaon-npxid-r404068  3 BHK   \n",
       "4         m3m-crown-sector-111-gurgaon-npxid-r404068  4 BHK   \n",
       "\n",
       "             Area_Type                  Area       Price_Range  \n",
       "0          Carpet Area          1,370 sq.ft.      ₹ 2 - 2.4 Cr  \n",
       "1          Carpet Area  1,850 - 2,050 sq.ft.  ₹ 2.25 - 3.59 Cr  \n",
       "2          Carpet Area          2,600 sq.ft.  ₹ 3.24 - 4.56 Cr  \n",
       "3  Super Built-up Area  1,605 - 2,170 sq.ft.   ₹ 2.2 - 3.03 Cr  \n",
       "4  Super Built-up Area  2,248 - 2,670 sq.ft.  ₹ 3.08 - 3.73 Cr  "
      ]
     },
     "execution_count": 31,
     "metadata": {},
     "output_type": "execute_result"
    }
   ],
   "source": [
    "price_df = normalize_price_details(price_details, df['Link'].tolist())\n",
    "price_df.head()"
   ]
  },
  {
   "cell_type": "markdown",
   "metadata": {},
   "source": [
    "### Cleaning"
   ]
  },
  {
   "cell_type": "markdown",
   "metadata": {},
   "source": [
    "#### Price_Range"
   ]
  },
  {
   "cell_type": "code",
   "execution_count": 32,
   "metadata": {},
   "outputs": [],
   "source": [
    "price_df['Price_Range'] = price_df['Price_Range'].str.replace(r'L|Cr|₹', '', regex=True).str.strip().str.split(' - ')"
   ]
  },
  {
   "cell_type": "code",
   "execution_count": 33,
   "metadata": {},
   "outputs": [],
   "source": [
    "def clean_price_range(x):\n",
    "    if 'Price on Request' == x[0]:\n",
    "        return np.nan\n",
    "\n",
    "    try:\n",
    "        if len(x) == 1:\n",
    "            return float(x[0])\n",
    "\n",
    "        lower, upper = float(x[0]), float(x[1])\n",
    "        return round((lower + upper) / 2, 2)\n",
    "    except:\n",
    "        # After applying this function check wheter any value is string or not\n",
    "        # If so then handel it explicitly\n",
    "        return str(x)"
   ]
  },
  {
   "cell_type": "code",
   "execution_count": 34,
   "metadata": {},
   "outputs": [
    {
     "data": {
      "text/plain": [
       "29                 [1.67]\n",
       "47     [Price on Request]\n",
       "82                 [4.46]\n",
       "91     [Price on Request]\n",
       "92     [Price on Request]\n",
       "              ...        \n",
       "567                   [1]\n",
       "569    [Price on Request]\n",
       "570    [Price on Request]\n",
       "571    [Price on Request]\n",
       "572    [Price on Request]\n",
       "Name: Price_Range, Length: 199, dtype: object"
      ]
     },
     "execution_count": 34,
     "metadata": {},
     "output_type": "execute_result"
    }
   ],
   "source": [
    "price_df['Price_Range'][price_df['Price_Range'].apply(len) == 1]"
   ]
  },
  {
   "cell_type": "code",
   "execution_count": 35,
   "metadata": {},
   "outputs": [],
   "source": [
    "price_df['Price_Range'] = price_df['Price_Range'].apply(clean_price_range)"
   ]
  },
  {
   "cell_type": "markdown",
   "metadata": {},
   "source": [
    "#### Area"
   ]
  },
  {
   "cell_type": "code",
   "execution_count": 36,
   "metadata": {},
   "outputs": [],
   "source": [
    "price_df['Area'] = price_df['Area'].str.replace(',|sq.ft.', '', regex=True).str.strip().str.split(' - ')"
   ]
  },
  {
   "cell_type": "code",
   "execution_count": 37,
   "metadata": {},
   "outputs": [],
   "source": [
    "def clean_area(x):\n",
    "    try:\n",
    "        if len(x) == 1:\n",
    "            return float(x[0])\n",
    "\n",
    "        lower, upper = float(x[0]), float(x[1])\n",
    "        return round((lower + upper) / 2, 2)\n",
    "    except:\n",
    "        # After applying this function check wheter any value is string or not\n",
    "        # If so then handel it explicitly\n",
    "        return str(x)"
   ]
  },
  {
   "cell_type": "code",
   "execution_count": 38,
   "metadata": {},
   "outputs": [],
   "source": [
    "price_df['Area'] = price_df['Area'].apply(clean_area)"
   ]
  },
  {
   "cell_type": "markdown",
   "metadata": {},
   "source": [
    "#### Area_Type"
   ]
  },
  {
   "cell_type": "code",
   "execution_count": 39,
   "metadata": {},
   "outputs": [
    {
     "data": {
      "text/plain": [
       "Area_Type\n",
       "Super Built-up Area    366\n",
       "Carpet Area            126\n",
       "Plot Area               48\n",
       "Built-up Area           34\n",
       "Name: count, dtype: int64"
      ]
     },
     "execution_count": 39,
     "metadata": {},
     "output_type": "execute_result"
    }
   ],
   "source": [
    "price_df['Area_Type'].value_counts()"
   ]
  },
  {
   "cell_type": "markdown",
   "metadata": {},
   "source": [
    "### BHK"
   ]
  },
  {
   "cell_type": "code",
   "execution_count": 40,
   "metadata": {},
   "outputs": [],
   "source": [
    "def extract_bhk(x: dict[str, str]) -> int:\n",
    "    rv = ''.join(x.keys()).replace(' ', '')\n",
    "    rv = rv.replace('BHK', '').replace('Land', '0').replace('1RK', '')\n",
    "    rv = rv.strip()\n",
    "\n",
    "    return int(''.join(sorted(rv)))"
   ]
  },
  {
   "cell_type": "code",
   "execution_count": 41,
   "metadata": {},
   "outputs": [
    {
     "data": {
      "text/plain": [
       "BHK\n",
       "234      46\n",
       "23       40\n",
       "34       38\n",
       "0        30\n",
       "345      21\n",
       "2345     12\n",
       "4        11\n",
       "3        11\n",
       "45        6\n",
       "123       6\n",
       "12        5\n",
       "1234      4\n",
       "2         4\n",
       "35        3\n",
       "456       3\n",
       "12345     2\n",
       "235       2\n",
       "3456      1\n",
       "1         1\n",
       "Name: count, dtype: int64"
      ]
     },
     "execution_count": 41,
     "metadata": {},
     "output_type": "execute_result"
    }
   ],
   "source": [
    "df['BHK'] = df['PriceDetails'].apply(extract_bhk)\n",
    "df['BHK'].value_counts()"
   ]
  },
  {
   "cell_type": "markdown",
   "metadata": {},
   "source": [
    "## PropertySubName"
   ]
  },
  {
   "cell_type": "code",
   "execution_count": 42,
   "metadata": {},
   "outputs": [
    {
     "data": {
      "text/plain": [
       "['2, 3, 4 BHK Apartment in Sector 113, Gurgaon',\n",
       " '3, 4 BHK Apartment in Sector 111, Gurgaon',\n",
       " 'Land, 3, 4 BHK Independent Floor in Sector 63, Gurgaon',\n",
       " '2, 3, 4 BHK Apartment in Sector 108, Gurgaon',\n",
       " '2, 3 BHK Independent Floor in Sector 93 Gurgaon',\n",
       " '3, 4, 5 BHK Apartment in Sector 76, Gurgaon',\n",
       " '3, 4 BHK Apartment in Sector 79, Gurgaon',\n",
       " '3, 4, 5 BHK Apartment in Sector 106, Gurgaon',\n",
       " '2, 3 BHK Independent Floor in Sector 92, Gurgaon',\n",
       " '2, 3 BHK Apartment in Sector 62, Gurgaon',\n",
       " '2, 3 BHK Independent Floor in Sector 79, Gurgaon',\n",
       " '4 BHK Apartment in Sector 63 Gurgaon',\n",
       " '2, 3 BHK Apartment in Sector 79 Gurgaon',\n",
       " '2, 3 BHK Independent Floor in Sector 81, Gurgaon',\n",
       " '4 BHK Independent Floor in Sector 84, Gurgaon',\n",
       " '3, 4, 5 BHK Apartment in Sector 59, Gurgaon',\n",
       " '2, 3, 4 BHK Apartment in Sector 79, Gurgaon',\n",
       " '2, 3 BHK Independent Floor in Gwal Pahari, Gurgaon',\n",
       " '3 BHK Apartment in Sector 76, Gurgaon',\n",
       " '3, 4 BHK Apartment in Sector 65, Gurgaon']"
      ]
     },
     "execution_count": 42,
     "metadata": {},
     "output_type": "execute_result"
    }
   ],
   "source": [
    "df['PropertySubName'].tolist()[:20]"
   ]
  },
  {
   "cell_type": "code",
   "execution_count": 43,
   "metadata": {},
   "outputs": [],
   "source": [
    "df['PropertyType'] = df['PropertySubName'].str.extract(r'BHK (.*?) in')"
   ]
  },
  {
   "cell_type": "code",
   "execution_count": 44,
   "metadata": {},
   "outputs": [],
   "source": [
    "df['PropertyLocation'] = df['PropertySubName'].str.extract(r'in (.+)')"
   ]
  },
  {
   "cell_type": "markdown",
   "metadata": {},
   "source": [
    "### General Step"
   ]
  },
  {
   "cell_type": "code",
   "execution_count": 45,
   "metadata": {},
   "outputs": [
    {
     "name": "stdout",
     "output_type": "stream",
     "text": [
      "(246, 29)\n"
     ]
    },
    {
     "data": {
      "text/html": [
       "<div>\n",
       "<style scoped>\n",
       "    .dataframe tbody tr th:only-of-type {\n",
       "        vertical-align: middle;\n",
       "    }\n",
       "\n",
       "    .dataframe tbody tr th {\n",
       "        vertical-align: top;\n",
       "    }\n",
       "\n",
       "    .dataframe thead th {\n",
       "        text-align: right;\n",
       "    }\n",
       "</style>\n",
       "<table border=\"1\" class=\"dataframe\">\n",
       "  <thead>\n",
       "    <tr style=\"text-align: right;\">\n",
       "      <th></th>\n",
       "      <th>PropertyName</th>\n",
       "      <th>PropertySubName</th>\n",
       "      <th>NearbyLocations</th>\n",
       "      <th>LocationAdvantages</th>\n",
       "      <th>Link</th>\n",
       "      <th>PriceDetails</th>\n",
       "      <th>TopFacilities</th>\n",
       "      <th>n_LocationAdvantages</th>\n",
       "      <th>Airport</th>\n",
       "      <th>Railway Station</th>\n",
       "      <th>...</th>\n",
       "      <th>Health and Wellness</th>\n",
       "      <th>Safety and Security</th>\n",
       "      <th>3 BHK</th>\n",
       "      <th>4 BHK</th>\n",
       "      <th>2 BHK</th>\n",
       "      <th>5 BHK</th>\n",
       "      <th>Land</th>\n",
       "      <th>BHK</th>\n",
       "      <th>PropertyType</th>\n",
       "      <th>PropertyLocation</th>\n",
       "    </tr>\n",
       "  </thead>\n",
       "  <tbody>\n",
       "    <tr>\n",
       "      <th>0</th>\n",
       "      <td>Smartworld One DXP</td>\n",
       "      <td>2, 3, 4 BHK Apartment in Sector 113, Gurgaon</td>\n",
       "      <td>[Bajghera Road, Palam Vihar Halt, DPSG Palam V...</td>\n",
       "      <td>{'Bajghera Road': '800 Meter', 'Palam Vihar Ha...</td>\n",
       "      <td>smartworld-one-dxp-sector-113-gurgaon-npxid-r4...</td>\n",
       "      <td>{'2 BHK': {'building_type': 'Apartment', 'area...</td>\n",
       "      <td>[Swimming Pool, Salon, Restaurant, Spa, Cafete...</td>\n",
       "      <td>14</td>\n",
       "      <td>1</td>\n",
       "      <td>3</td>\n",
       "      <td>...</td>\n",
       "      <td>0</td>\n",
       "      <td>0</td>\n",
       "      <td>1</td>\n",
       "      <td>1</td>\n",
       "      <td>1</td>\n",
       "      <td>0</td>\n",
       "      <td>0</td>\n",
       "      <td>234</td>\n",
       "      <td>Apartment</td>\n",
       "      <td>Sector 113, Gurgaon</td>\n",
       "    </tr>\n",
       "    <tr>\n",
       "      <th>1</th>\n",
       "      <td>M3M Crown</td>\n",
       "      <td>3, 4 BHK Apartment in Sector 111, Gurgaon</td>\n",
       "      <td>[DPSG Palam Vihar Gurugram, The NorthCap Unive...</td>\n",
       "      <td>{'DPSG Palam Vihar Gurugram': '1.4 Km', 'The N...</td>\n",
       "      <td>m3m-crown-sector-111-gurgaon-npxid-r404068</td>\n",
       "      <td>{'3 BHK': {'building_type': 'Apartment', 'area...</td>\n",
       "      <td>[Bowling Alley, Mini Theatre, Manicured Garden...</td>\n",
       "      <td>13</td>\n",
       "      <td>1</td>\n",
       "      <td>2</td>\n",
       "      <td>...</td>\n",
       "      <td>0</td>\n",
       "      <td>0</td>\n",
       "      <td>1</td>\n",
       "      <td>1</td>\n",
       "      <td>0</td>\n",
       "      <td>0</td>\n",
       "      <td>0</td>\n",
       "      <td>34</td>\n",
       "      <td>Apartment</td>\n",
       "      <td>Sector 111, Gurgaon</td>\n",
       "    </tr>\n",
       "    <tr>\n",
       "      <th>2</th>\n",
       "      <td>Adani Brahma Samsara Vilasa</td>\n",
       "      <td>Land, 3, 4 BHK Independent Floor in Sector 63,...</td>\n",
       "      <td>[AIPL Business Club Sector 62, Heritage Xperie...</td>\n",
       "      <td>{'AIPL Business Club Sector 62': '2.7 Km', 'He...</td>\n",
       "      <td>adani-brahma-samsara-vilasa-sector-63-gurgaon-...</td>\n",
       "      <td>{'3 BHK': {'building_type': 'Independent Floor...</td>\n",
       "      <td>[Terrace Garden, Gazebo, Fountain, Amphitheatr...</td>\n",
       "      <td>13</td>\n",
       "      <td>1</td>\n",
       "      <td>1</td>\n",
       "      <td>...</td>\n",
       "      <td>0</td>\n",
       "      <td>0</td>\n",
       "      <td>1</td>\n",
       "      <td>1</td>\n",
       "      <td>0</td>\n",
       "      <td>0</td>\n",
       "      <td>1</td>\n",
       "      <td>34</td>\n",
       "      <td>Independent Floor</td>\n",
       "      <td>Sector 63, Gurgaon</td>\n",
       "    </tr>\n",
       "    <tr>\n",
       "      <th>3</th>\n",
       "      <td>Sobha City</td>\n",
       "      <td>2, 3, 4 BHK Apartment in Sector 108, Gurgaon</td>\n",
       "      <td>[The Shikshiyan School, WTC Plaza, Luxus Harit...</td>\n",
       "      <td>{'The Shikshiyan School': '2.9 KM', 'WTC Plaza...</td>\n",
       "      <td>sobha-city-sector-108-gurgaon-npxid-r256111</td>\n",
       "      <td>{'2 BHK': {'building_type': 'Apartment', 'area...</td>\n",
       "      <td>[Swimming Pool, Volley Ball Court, Aerobics Ce...</td>\n",
       "      <td>13</td>\n",
       "      <td>1</td>\n",
       "      <td>0</td>\n",
       "      <td>...</td>\n",
       "      <td>0</td>\n",
       "      <td>0</td>\n",
       "      <td>1</td>\n",
       "      <td>1</td>\n",
       "      <td>1</td>\n",
       "      <td>0</td>\n",
       "      <td>0</td>\n",
       "      <td>234</td>\n",
       "      <td>Apartment</td>\n",
       "      <td>Sector 108, Gurgaon</td>\n",
       "    </tr>\n",
       "    <tr>\n",
       "      <th>4</th>\n",
       "      <td>Signature Global City 93</td>\n",
       "      <td>2, 3 BHK Independent Floor in Sector 93 Gurgaon</td>\n",
       "      <td>[Pranavananda Int. School, DLF Site central of...</td>\n",
       "      <td>{'Pranavananda Int. School': '450 m', 'DLF Sit...</td>\n",
       "      <td>signature-global-city-93-sector-93-gurgaon-npx...</td>\n",
       "      <td>{'2 BHK': {'building_type': 'Independent Floor...</td>\n",
       "      <td>[Mini Theatre, Doctor on Call, Concierge Servi...</td>\n",
       "      <td>11</td>\n",
       "      <td>1</td>\n",
       "      <td>1</td>\n",
       "      <td>...</td>\n",
       "      <td>1</td>\n",
       "      <td>0</td>\n",
       "      <td>1</td>\n",
       "      <td>0</td>\n",
       "      <td>1</td>\n",
       "      <td>0</td>\n",
       "      <td>0</td>\n",
       "      <td>23</td>\n",
       "      <td>Independent Floor</td>\n",
       "      <td>Sector 93 Gurgaon</td>\n",
       "    </tr>\n",
       "  </tbody>\n",
       "</table>\n",
       "<p>5 rows × 29 columns</p>\n",
       "</div>"
      ],
      "text/plain": [
       "                  PropertyName  \\\n",
       "0           Smartworld One DXP   \n",
       "1                    M3M Crown   \n",
       "2  Adani Brahma Samsara Vilasa   \n",
       "3                   Sobha City   \n",
       "4     Signature Global City 93   \n",
       "\n",
       "                                     PropertySubName  \\\n",
       "0       2, 3, 4 BHK Apartment in Sector 113, Gurgaon   \n",
       "1          3, 4 BHK Apartment in Sector 111, Gurgaon   \n",
       "2  Land, 3, 4 BHK Independent Floor in Sector 63,...   \n",
       "3       2, 3, 4 BHK Apartment in Sector 108, Gurgaon   \n",
       "4    2, 3 BHK Independent Floor in Sector 93 Gurgaon   \n",
       "\n",
       "                                     NearbyLocations  \\\n",
       "0  [Bajghera Road, Palam Vihar Halt, DPSG Palam V...   \n",
       "1  [DPSG Palam Vihar Gurugram, The NorthCap Unive...   \n",
       "2  [AIPL Business Club Sector 62, Heritage Xperie...   \n",
       "3  [The Shikshiyan School, WTC Plaza, Luxus Harit...   \n",
       "4  [Pranavananda Int. School, DLF Site central of...   \n",
       "\n",
       "                                  LocationAdvantages  \\\n",
       "0  {'Bajghera Road': '800 Meter', 'Palam Vihar Ha...   \n",
       "1  {'DPSG Palam Vihar Gurugram': '1.4 Km', 'The N...   \n",
       "2  {'AIPL Business Club Sector 62': '2.7 Km', 'He...   \n",
       "3  {'The Shikshiyan School': '2.9 KM', 'WTC Plaza...   \n",
       "4  {'Pranavananda Int. School': '450 m', 'DLF Sit...   \n",
       "\n",
       "                                                Link  \\\n",
       "0  smartworld-one-dxp-sector-113-gurgaon-npxid-r4...   \n",
       "1         m3m-crown-sector-111-gurgaon-npxid-r404068   \n",
       "2  adani-brahma-samsara-vilasa-sector-63-gurgaon-...   \n",
       "3        sobha-city-sector-108-gurgaon-npxid-r256111   \n",
       "4  signature-global-city-93-sector-93-gurgaon-npx...   \n",
       "\n",
       "                                        PriceDetails  \\\n",
       "0  {'2 BHK': {'building_type': 'Apartment', 'area...   \n",
       "1  {'3 BHK': {'building_type': 'Apartment', 'area...   \n",
       "2  {'3 BHK': {'building_type': 'Independent Floor...   \n",
       "3  {'2 BHK': {'building_type': 'Apartment', 'area...   \n",
       "4  {'2 BHK': {'building_type': 'Independent Floor...   \n",
       "\n",
       "                                       TopFacilities  n_LocationAdvantages  \\\n",
       "0  [Swimming Pool, Salon, Restaurant, Spa, Cafete...                    14   \n",
       "1  [Bowling Alley, Mini Theatre, Manicured Garden...                    13   \n",
       "2  [Terrace Garden, Gazebo, Fountain, Amphitheatr...                    13   \n",
       "3  [Swimming Pool, Volley Ball Court, Aerobics Ce...                    13   \n",
       "4  [Mini Theatre, Doctor on Call, Concierge Servi...                    11   \n",
       "\n",
       "   Airport  Railway Station  ...  Health and Wellness  Safety and Security  \\\n",
       "0        1                3  ...                    0                    0   \n",
       "1        1                2  ...                    0                    0   \n",
       "2        1                1  ...                    0                    0   \n",
       "3        1                0  ...                    0                    0   \n",
       "4        1                1  ...                    1                    0   \n",
       "\n",
       "   3 BHK  4 BHK  2 BHK  5 BHK  Land  BHK       PropertyType  \\\n",
       "0      1      1      1      0     0  234          Apartment   \n",
       "1      1      1      0      0     0   34          Apartment   \n",
       "2      1      1      0      0     1   34  Independent Floor   \n",
       "3      1      1      1      0     0  234          Apartment   \n",
       "4      1      0      1      0     0   23  Independent Floor   \n",
       "\n",
       "      PropertyLocation  \n",
       "0  Sector 113, Gurgaon  \n",
       "1  Sector 111, Gurgaon  \n",
       "2   Sector 63, Gurgaon  \n",
       "3  Sector 108, Gurgaon  \n",
       "4    Sector 93 Gurgaon  \n",
       "\n",
       "[5 rows x 29 columns]"
      ]
     },
     "execution_count": 45,
     "metadata": {},
     "output_type": "execute_result"
    }
   ],
   "source": [
    "print(df.shape)\n",
    "df.head()"
   ]
  },
  {
   "cell_type": "code",
   "execution_count": 46,
   "metadata": {},
   "outputs": [],
   "source": [
    "df.drop(columns=['PropertySubName', 'NearbyLocations', 'LocationAdvantages', 'PriceDetails', 'TopFacilities'], inplace=True)"
   ]
  },
  {
   "cell_type": "code",
   "execution_count": 47,
   "metadata": {},
   "outputs": [
    {
     "name": "stdout",
     "output_type": "stream",
     "text": [
      "(246, 24)\n"
     ]
    },
    {
     "data": {
      "text/html": [
       "<div>\n",
       "<style scoped>\n",
       "    .dataframe tbody tr th:only-of-type {\n",
       "        vertical-align: middle;\n",
       "    }\n",
       "\n",
       "    .dataframe tbody tr th {\n",
       "        vertical-align: top;\n",
       "    }\n",
       "\n",
       "    .dataframe thead th {\n",
       "        text-align: right;\n",
       "    }\n",
       "</style>\n",
       "<table border=\"1\" class=\"dataframe\">\n",
       "  <thead>\n",
       "    <tr style=\"text-align: right;\">\n",
       "      <th></th>\n",
       "      <th>PropertyName</th>\n",
       "      <th>Link</th>\n",
       "      <th>n_LocationAdvantages</th>\n",
       "      <th>Airport</th>\n",
       "      <th>Railway Station</th>\n",
       "      <th>Roadway</th>\n",
       "      <th>Hospital</th>\n",
       "      <th>Education</th>\n",
       "      <th>Fun</th>\n",
       "      <th>Shop</th>\n",
       "      <th>...</th>\n",
       "      <th>Health and Wellness</th>\n",
       "      <th>Safety and Security</th>\n",
       "      <th>3 BHK</th>\n",
       "      <th>4 BHK</th>\n",
       "      <th>2 BHK</th>\n",
       "      <th>5 BHK</th>\n",
       "      <th>Land</th>\n",
       "      <th>BHK</th>\n",
       "      <th>PropertyType</th>\n",
       "      <th>PropertyLocation</th>\n",
       "    </tr>\n",
       "  </thead>\n",
       "  <tbody>\n",
       "    <tr>\n",
       "      <th>0</th>\n",
       "      <td>Smartworld One DXP</td>\n",
       "      <td>smartworld-one-dxp-sector-113-gurgaon-npxid-r4...</td>\n",
       "      <td>14</td>\n",
       "      <td>1</td>\n",
       "      <td>3</td>\n",
       "      <td>2</td>\n",
       "      <td>1</td>\n",
       "      <td>1</td>\n",
       "      <td>2</td>\n",
       "      <td>1</td>\n",
       "      <td>...</td>\n",
       "      <td>0</td>\n",
       "      <td>0</td>\n",
       "      <td>1</td>\n",
       "      <td>1</td>\n",
       "      <td>1</td>\n",
       "      <td>0</td>\n",
       "      <td>0</td>\n",
       "      <td>234</td>\n",
       "      <td>Apartment</td>\n",
       "      <td>Sector 113, Gurgaon</td>\n",
       "    </tr>\n",
       "    <tr>\n",
       "      <th>1</th>\n",
       "      <td>M3M Crown</td>\n",
       "      <td>m3m-crown-sector-111-gurgaon-npxid-r404068</td>\n",
       "      <td>13</td>\n",
       "      <td>1</td>\n",
       "      <td>2</td>\n",
       "      <td>1</td>\n",
       "      <td>1</td>\n",
       "      <td>1</td>\n",
       "      <td>3</td>\n",
       "      <td>1</td>\n",
       "      <td>...</td>\n",
       "      <td>0</td>\n",
       "      <td>0</td>\n",
       "      <td>1</td>\n",
       "      <td>1</td>\n",
       "      <td>0</td>\n",
       "      <td>0</td>\n",
       "      <td>0</td>\n",
       "      <td>34</td>\n",
       "      <td>Apartment</td>\n",
       "      <td>Sector 111, Gurgaon</td>\n",
       "    </tr>\n",
       "    <tr>\n",
       "      <th>2</th>\n",
       "      <td>Adani Brahma Samsara Vilasa</td>\n",
       "      <td>adani-brahma-samsara-vilasa-sector-63-gurgaon-...</td>\n",
       "      <td>13</td>\n",
       "      <td>1</td>\n",
       "      <td>1</td>\n",
       "      <td>4</td>\n",
       "      <td>1</td>\n",
       "      <td>1</td>\n",
       "      <td>3</td>\n",
       "      <td>1</td>\n",
       "      <td>...</td>\n",
       "      <td>0</td>\n",
       "      <td>0</td>\n",
       "      <td>1</td>\n",
       "      <td>1</td>\n",
       "      <td>0</td>\n",
       "      <td>0</td>\n",
       "      <td>1</td>\n",
       "      <td>34</td>\n",
       "      <td>Independent Floor</td>\n",
       "      <td>Sector 63, Gurgaon</td>\n",
       "    </tr>\n",
       "    <tr>\n",
       "      <th>3</th>\n",
       "      <td>Sobha City</td>\n",
       "      <td>sobha-city-sector-108-gurgaon-npxid-r256111</td>\n",
       "      <td>13</td>\n",
       "      <td>1</td>\n",
       "      <td>0</td>\n",
       "      <td>1</td>\n",
       "      <td>1</td>\n",
       "      <td>2</td>\n",
       "      <td>3</td>\n",
       "      <td>1</td>\n",
       "      <td>...</td>\n",
       "      <td>0</td>\n",
       "      <td>0</td>\n",
       "      <td>1</td>\n",
       "      <td>1</td>\n",
       "      <td>1</td>\n",
       "      <td>0</td>\n",
       "      <td>0</td>\n",
       "      <td>234</td>\n",
       "      <td>Apartment</td>\n",
       "      <td>Sector 108, Gurgaon</td>\n",
       "    </tr>\n",
       "    <tr>\n",
       "      <th>4</th>\n",
       "      <td>Signature Global City 93</td>\n",
       "      <td>signature-global-city-93-sector-93-gurgaon-npx...</td>\n",
       "      <td>11</td>\n",
       "      <td>1</td>\n",
       "      <td>1</td>\n",
       "      <td>1</td>\n",
       "      <td>1</td>\n",
       "      <td>2</td>\n",
       "      <td>1</td>\n",
       "      <td>1</td>\n",
       "      <td>...</td>\n",
       "      <td>1</td>\n",
       "      <td>0</td>\n",
       "      <td>1</td>\n",
       "      <td>0</td>\n",
       "      <td>1</td>\n",
       "      <td>0</td>\n",
       "      <td>0</td>\n",
       "      <td>23</td>\n",
       "      <td>Independent Floor</td>\n",
       "      <td>Sector 93 Gurgaon</td>\n",
       "    </tr>\n",
       "  </tbody>\n",
       "</table>\n",
       "<p>5 rows × 24 columns</p>\n",
       "</div>"
      ],
      "text/plain": [
       "                  PropertyName  \\\n",
       "0           Smartworld One DXP   \n",
       "1                    M3M Crown   \n",
       "2  Adani Brahma Samsara Vilasa   \n",
       "3                   Sobha City   \n",
       "4     Signature Global City 93   \n",
       "\n",
       "                                                Link  n_LocationAdvantages  \\\n",
       "0  smartworld-one-dxp-sector-113-gurgaon-npxid-r4...                    14   \n",
       "1         m3m-crown-sector-111-gurgaon-npxid-r404068                    13   \n",
       "2  adani-brahma-samsara-vilasa-sector-63-gurgaon-...                    13   \n",
       "3        sobha-city-sector-108-gurgaon-npxid-r256111                    13   \n",
       "4  signature-global-city-93-sector-93-gurgaon-npx...                    11   \n",
       "\n",
       "   Airport  Railway Station  Roadway  Hospital  Education  Fun  Shop  ...  \\\n",
       "0        1                3        2         1          1    2     1  ...   \n",
       "1        1                2        1         1          1    3     1  ...   \n",
       "2        1                1        4         1          1    3     1  ...   \n",
       "3        1                0        1         1          2    3     1  ...   \n",
       "4        1                1        1         1          2    1     1  ...   \n",
       "\n",
       "   Health and Wellness  Safety and Security  3 BHK  4 BHK  2 BHK  5 BHK  Land  \\\n",
       "0                    0                    0      1      1      1      0     0   \n",
       "1                    0                    0      1      1      0      0     0   \n",
       "2                    0                    0      1      1      0      0     1   \n",
       "3                    0                    0      1      1      1      0     0   \n",
       "4                    1                    0      1      0      1      0     0   \n",
       "\n",
       "   BHK       PropertyType     PropertyLocation  \n",
       "0  234          Apartment  Sector 113, Gurgaon  \n",
       "1   34          Apartment  Sector 111, Gurgaon  \n",
       "2   34  Independent Floor   Sector 63, Gurgaon  \n",
       "3  234          Apartment  Sector 108, Gurgaon  \n",
       "4   23  Independent Floor    Sector 93 Gurgaon  \n",
       "\n",
       "[5 rows x 24 columns]"
      ]
     },
     "execution_count": 47,
     "metadata": {},
     "output_type": "execute_result"
    }
   ],
   "source": [
    "print(df.shape)\n",
    "df.head()"
   ]
  },
  {
   "cell_type": "code",
   "execution_count": 48,
   "metadata": {},
   "outputs": [
    {
     "data": {
      "text/plain": [
       "PropertyName                  0\n",
       "Link                          0\n",
       "n_LocationAdvantages          0\n",
       "Airport                       0\n",
       "Railway Station               0\n",
       "Roadway                       0\n",
       "Hospital                      0\n",
       "Education                     0\n",
       "Fun                           0\n",
       "Shop                          0\n",
       "Hotel                         0\n",
       "Recreation and Sports         0\n",
       "Leisure and Entertainment     0\n",
       "Utilities and Services        0\n",
       "Health and Wellness           0\n",
       "Safety and Security           0\n",
       "3 BHK                         0\n",
       "4 BHK                         0\n",
       "2 BHK                         0\n",
       "5 BHK                         0\n",
       "Land                          0\n",
       "BHK                           0\n",
       "PropertyType                 30\n",
       "PropertyLocation              0\n",
       "dtype: int64"
      ]
     },
     "execution_count": 48,
     "metadata": {},
     "output_type": "execute_result"
    }
   ],
   "source": [
    "df.isnull().sum()"
   ]
  },
  {
   "cell_type": "code",
   "execution_count": 49,
   "metadata": {},
   "outputs": [
    {
     "name": "stdout",
     "output_type": "stream",
     "text": [
      "<class 'pandas.core.frame.DataFrame'>\n",
      "RangeIndex: 246 entries, 0 to 245\n",
      "Data columns (total 24 columns):\n",
      " #   Column                     Non-Null Count  Dtype \n",
      "---  ------                     --------------  ----- \n",
      " 0   PropertyName               246 non-null    object\n",
      " 1   Link                       246 non-null    object\n",
      " 2   n_LocationAdvantages       246 non-null    int64 \n",
      " 3   Airport                    246 non-null    int64 \n",
      " 4   Railway Station            246 non-null    int64 \n",
      " 5   Roadway                    246 non-null    int64 \n",
      " 6   Hospital                   246 non-null    int64 \n",
      " 7   Education                  246 non-null    int64 \n",
      " 8   Fun                        246 non-null    int64 \n",
      " 9   Shop                       246 non-null    int64 \n",
      " 10  Hotel                      246 non-null    int64 \n",
      " 11  Recreation and Sports      246 non-null    int64 \n",
      " 12  Leisure and Entertainment  246 non-null    int64 \n",
      " 13  Utilities and Services     246 non-null    int64 \n",
      " 14  Health and Wellness        246 non-null    int64 \n",
      " 15  Safety and Security        246 non-null    int64 \n",
      " 16  3 BHK                      246 non-null    int64 \n",
      " 17  4 BHK                      246 non-null    int64 \n",
      " 18  2 BHK                      246 non-null    int64 \n",
      " 19  5 BHK                      246 non-null    int64 \n",
      " 20  Land                       246 non-null    int64 \n",
      " 21  BHK                        246 non-null    int64 \n",
      " 22  PropertyType               216 non-null    object\n",
      " 23  PropertyLocation           246 non-null    object\n",
      "dtypes: int64(20), object(4)\n",
      "memory usage: 46.2+ KB\n"
     ]
    }
   ],
   "source": [
    "df.info()"
   ]
  },
  {
   "cell_type": "code",
   "execution_count": null,
   "metadata": {},
   "outputs": [],
   "source": []
  }
 ],
 "metadata": {
  "kernelspec": {
   "display_name": "Python 3",
   "language": "python",
   "name": "python3"
  },
  "language_info": {
   "codemirror_mode": {
    "name": "ipython",
    "version": 3
   },
   "file_extension": ".py",
   "mimetype": "text/x-python",
   "name": "python",
   "nbconvert_exporter": "python",
   "pygments_lexer": "ipython3",
   "version": "3.11.0"
  },
  "orig_nbformat": 4
 },
 "nbformat": 4,
 "nbformat_minor": 2
}
