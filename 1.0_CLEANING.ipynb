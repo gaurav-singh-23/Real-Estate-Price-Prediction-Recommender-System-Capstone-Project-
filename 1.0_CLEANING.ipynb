{
 "cells": [
  {
   "cell_type": "markdown",
   "metadata": {},
   "source": [
    "## Why modification now?\n",
    "\n",
    "1. After watching SIR's video I realized that I have to make some big changes to get more out of the data.\n",
    "2. In this version I am just going to perform Data Cleaning because I perform some Feature Endineering in version `1.0`."
   ]
  },
  {
   "cell_type": "markdown",
   "metadata": {},
   "source": [
    "## List some changes\n",
    "\n",
    "1. Remove some extracted columns/feature.\n",
    "2. Add some other interesting features which are more helpful.\n",
    "3. More focus on `BUILT_UP_AREA` but you have to extract others (`SUPER_BUILT_UP_AREA` and `CARPET_AREA`) because every property have not the `BUILT_UP_AREA`.\n",
    "4. Drop unimportant columns w.r.t. model building."
   ]
  },
  {
   "cell_type": "markdown",
   "metadata": {},
   "source": [
    "## Should I work on preprocessed data?\n",
    "\n",
    ">**No,** because I am cleaning the old again and extracting new features too."
   ]
  },
  {
   "cell_type": "markdown",
   "metadata": {},
   "source": [
    "\n",
    "---\n"
   ]
  },
  {
   "cell_type": "code",
   "execution_count": 1,
   "metadata": {},
   "outputs": [],
   "source": [
    "from ast import literal_eval\n",
    "\n",
    "import pandas as pd\n",
    "from pandas import DataFrame\n",
    "import numpy as np\n",
    "import matplotlib.pyplot as plt\n",
    "import seaborn as sns"
   ]
  },
  {
   "cell_type": "code",
   "execution_count": 2,
   "metadata": {},
   "outputs": [
    {
     "name": "stdout",
     "output_type": "stream",
     "text": [
      "(2795, 20)\n"
     ]
    },
    {
     "data": {
      "text/html": [
       "<div>\n",
       "<style scoped>\n",
       "    .dataframe tbody tr th:only-of-type {\n",
       "        vertical-align: middle;\n",
       "    }\n",
       "\n",
       "    .dataframe tbody tr th {\n",
       "        vertical-align: top;\n",
       "    }\n",
       "\n",
       "    .dataframe thead th {\n",
       "        text-align: right;\n",
       "    }\n",
       "</style>\n",
       "<table border=\"1\" class=\"dataframe\">\n",
       "  <thead>\n",
       "    <tr style=\"text-align: right;\">\n",
       "      <th></th>\n",
       "      <th>property_name</th>\n",
       "      <th>link</th>\n",
       "      <th>society</th>\n",
       "      <th>price</th>\n",
       "      <th>area</th>\n",
       "      <th>areaWithType</th>\n",
       "      <th>bedRoom</th>\n",
       "      <th>bathroom</th>\n",
       "      <th>balcony</th>\n",
       "      <th>additionalRoom</th>\n",
       "      <th>address</th>\n",
       "      <th>floorNum</th>\n",
       "      <th>facing</th>\n",
       "      <th>agePossession</th>\n",
       "      <th>nearbyLocations</th>\n",
       "      <th>description</th>\n",
       "      <th>furnishDetails</th>\n",
       "      <th>features</th>\n",
       "      <th>rating</th>\n",
       "      <th>property_id</th>\n",
       "    </tr>\n",
       "  </thead>\n",
       "  <tbody>\n",
       "    <tr>\n",
       "      <th>0</th>\n",
       "      <td>2 BHK Flat in Krishna Colony</td>\n",
       "      <td>https://www.99acres.com/2-bhk-bedroom-apartmen...</td>\n",
       "      <td>maa bhagwati residency</td>\n",
       "      <td>45 Lac</td>\n",
       "      <td>₹ 5,000/sq.ft.</td>\n",
       "      <td>Carpet area: 900 (83.61 sq.m.)</td>\n",
       "      <td>2 Bedrooms</td>\n",
       "      <td>2 Bathrooms</td>\n",
       "      <td>1 Balcony</td>\n",
       "      <td>NaN</td>\n",
       "      <td>Krishna Colony, Gurgaon, Haryana</td>\n",
       "      <td>4th   of 4 Floors</td>\n",
       "      <td>West</td>\n",
       "      <td>1 to 5 Year Old</td>\n",
       "      <td>['Chintapurni Mandir', 'State bank ATM', 'Pear...</td>\n",
       "      <td>So with lift.Maa bhagwati residency is one of ...</td>\n",
       "      <td>['3 Fan', '4 Light', '1 Wardrobe', 'No AC', 'N...</td>\n",
       "      <td>['Feng Shui / Vaastu Compliant', 'Security / F...</td>\n",
       "      <td>['Environment4 out of 5', 'Safety4 out of 5', ...</td>\n",
       "      <td>C68850746</td>\n",
       "    </tr>\n",
       "    <tr>\n",
       "      <th>1</th>\n",
       "      <td>2 BHK Flat in Ashok Vihar</td>\n",
       "      <td>https://www.99acres.com/2-bhk-bedroom-apartmen...</td>\n",
       "      <td>Apna Enclave</td>\n",
       "      <td>50 Lac</td>\n",
       "      <td>₹ 7,692/sq.ft.</td>\n",
       "      <td>Carpet area: 650 (60.39 sq.m.)</td>\n",
       "      <td>2 Bedrooms</td>\n",
       "      <td>2 Bathrooms</td>\n",
       "      <td>1 Balcony</td>\n",
       "      <td>NaN</td>\n",
       "      <td>46b, Ashok Vihar, Gurgaon, Haryana</td>\n",
       "      <td>1st   of 3 Floors</td>\n",
       "      <td>West</td>\n",
       "      <td>10+ Year Old</td>\n",
       "      <td>['Chintapurni Mandir', 'Sheetla Mata Mandir', ...</td>\n",
       "      <td>Property situated on main road, railway statio...</td>\n",
       "      <td>['3 Wardrobe', '4 Fan', '1 Exhaust Fan', '1 Ge...</td>\n",
       "      <td>['Security / Fire Alarm', 'Maintenance Staff',...</td>\n",
       "      <td>['Environment4 out of 5', 'Safety4 out of 5', ...</td>\n",
       "      <td>H68850564</td>\n",
       "    </tr>\n",
       "    <tr>\n",
       "      <th>2</th>\n",
       "      <td>2 BHK Flat in Sohna</td>\n",
       "      <td>https://www.99acres.com/2-bhk-bedroom-apartmen...</td>\n",
       "      <td>Tulsiani Easy in Homes</td>\n",
       "      <td>40 Lac</td>\n",
       "      <td>₹ 6,722/sq.ft.</td>\n",
       "      <td>Carpet area: 595 (55.28 sq.m.)</td>\n",
       "      <td>2 Bedrooms</td>\n",
       "      <td>2 Bathrooms</td>\n",
       "      <td>3 Balconies</td>\n",
       "      <td>NaN</td>\n",
       "      <td>Sohna, Gurgaon, Haryana</td>\n",
       "      <td>12nd   of 14 Floors</td>\n",
       "      <td>NaN</td>\n",
       "      <td>0 to 1 Year Old</td>\n",
       "      <td>['Huda City Metro', 'Golf Course extn road', '...</td>\n",
       "      <td>This property is 15 km away from badshapur, gu...</td>\n",
       "      <td>NaN</td>\n",
       "      <td>['Power Back-up', 'Feng Shui / Vaastu Complian...</td>\n",
       "      <td>['Environment4 out of 5', 'Safety4 out of 5', ...</td>\n",
       "      <td>J68850120</td>\n",
       "    </tr>\n",
       "  </tbody>\n",
       "</table>\n",
       "</div>"
      ],
      "text/plain": [
       "                  property_name  \\\n",
       "0  2 BHK Flat in Krishna Colony   \n",
       "1     2 BHK Flat in Ashok Vihar   \n",
       "2           2 BHK Flat in Sohna   \n",
       "\n",
       "                                                link                 society  \\\n",
       "0  https://www.99acres.com/2-bhk-bedroom-apartmen...  maa bhagwati residency   \n",
       "1  https://www.99acres.com/2-bhk-bedroom-apartmen...            Apna Enclave   \n",
       "2  https://www.99acres.com/2-bhk-bedroom-apartmen...  Tulsiani Easy in Homes   \n",
       "\n",
       "    price            area                    areaWithType     bedRoom  \\\n",
       "0  45 Lac  ₹ 5,000/sq.ft.  Carpet area: 900 (83.61 sq.m.)  2 Bedrooms   \n",
       "1  50 Lac  ₹ 7,692/sq.ft.  Carpet area: 650 (60.39 sq.m.)  2 Bedrooms   \n",
       "2  40 Lac  ₹ 6,722/sq.ft.  Carpet area: 595 (55.28 sq.m.)  2 Bedrooms   \n",
       "\n",
       "      bathroom      balcony additionalRoom  \\\n",
       "0  2 Bathrooms    1 Balcony            NaN   \n",
       "1  2 Bathrooms    1 Balcony            NaN   \n",
       "2  2 Bathrooms  3 Balconies            NaN   \n",
       "\n",
       "                              address             floorNum facing  \\\n",
       "0    Krishna Colony, Gurgaon, Haryana    4th   of 4 Floors   West   \n",
       "1  46b, Ashok Vihar, Gurgaon, Haryana    1st   of 3 Floors   West   \n",
       "2             Sohna, Gurgaon, Haryana  12nd   of 14 Floors    NaN   \n",
       "\n",
       "     agePossession                                    nearbyLocations  \\\n",
       "0  1 to 5 Year Old  ['Chintapurni Mandir', 'State bank ATM', 'Pear...   \n",
       "1     10+ Year Old  ['Chintapurni Mandir', 'Sheetla Mata Mandir', ...   \n",
       "2  0 to 1 Year Old  ['Huda City Metro', 'Golf Course extn road', '...   \n",
       "\n",
       "                                         description  \\\n",
       "0  So with lift.Maa bhagwati residency is one of ...   \n",
       "1  Property situated on main road, railway statio...   \n",
       "2  This property is 15 km away from badshapur, gu...   \n",
       "\n",
       "                                      furnishDetails  \\\n",
       "0  ['3 Fan', '4 Light', '1 Wardrobe', 'No AC', 'N...   \n",
       "1  ['3 Wardrobe', '4 Fan', '1 Exhaust Fan', '1 Ge...   \n",
       "2                                                NaN   \n",
       "\n",
       "                                            features  \\\n",
       "0  ['Feng Shui / Vaastu Compliant', 'Security / F...   \n",
       "1  ['Security / Fire Alarm', 'Maintenance Staff',...   \n",
       "2  ['Power Back-up', 'Feng Shui / Vaastu Complian...   \n",
       "\n",
       "                                              rating property_id  \n",
       "0  ['Environment4 out of 5', 'Safety4 out of 5', ...   C68850746  \n",
       "1  ['Environment4 out of 5', 'Safety4 out of 5', ...   H68850564  \n",
       "2  ['Environment4 out of 5', 'Safety4 out of 5', ...   J68850120  "
      ]
     },
     "execution_count": 2,
     "metadata": {},
     "output_type": "execute_result"
    }
   ],
   "source": [
    "df = pd.read_csv('data/flats.csv')\n",
    "print(df.shape)\n",
    "df.head(3)"
   ]
  },
  {
   "cell_type": "code",
   "execution_count": 3,
   "metadata": {},
   "outputs": [
    {
     "data": {
      "text/html": [
       "<div>\n",
       "<style scoped>\n",
       "    .dataframe tbody tr th:only-of-type {\n",
       "        vertical-align: middle;\n",
       "    }\n",
       "\n",
       "    .dataframe tbody tr th {\n",
       "        vertical-align: top;\n",
       "    }\n",
       "\n",
       "    .dataframe thead th {\n",
       "        text-align: right;\n",
       "    }\n",
       "</style>\n",
       "<table border=\"1\" class=\"dataframe\">\n",
       "  <thead>\n",
       "    <tr style=\"text-align: right;\">\n",
       "      <th></th>\n",
       "      <th>property_name</th>\n",
       "      <th>link</th>\n",
       "      <th>society</th>\n",
       "      <th>price</th>\n",
       "      <th>area</th>\n",
       "      <th>areaWithType</th>\n",
       "      <th>bedRoom</th>\n",
       "      <th>bathroom</th>\n",
       "      <th>balcony</th>\n",
       "      <th>additionalRoom</th>\n",
       "      <th>address</th>\n",
       "      <th>floorNum</th>\n",
       "      <th>facing</th>\n",
       "      <th>agePossession</th>\n",
       "      <th>nearbyLocations</th>\n",
       "      <th>description</th>\n",
       "      <th>furnishDetails</th>\n",
       "      <th>features</th>\n",
       "      <th>rating</th>\n",
       "      <th>property_id</th>\n",
       "    </tr>\n",
       "  </thead>\n",
       "  <tbody>\n",
       "    <tr>\n",
       "      <th>286</th>\n",
       "      <td>property_name</td>\n",
       "      <td>link</td>\n",
       "      <td>society</td>\n",
       "      <td>price</td>\n",
       "      <td>area</td>\n",
       "      <td>areaWithType</td>\n",
       "      <td>bedRoom</td>\n",
       "      <td>bathroom</td>\n",
       "      <td>balcony</td>\n",
       "      <td>additionalRoom</td>\n",
       "      <td>address</td>\n",
       "      <td>floorNum</td>\n",
       "      <td>facing</td>\n",
       "      <td>agePossession</td>\n",
       "      <td>nearbyLocations</td>\n",
       "      <td>description</td>\n",
       "      <td>furnishDetails</td>\n",
       "      <td>features</td>\n",
       "      <td>rating</td>\n",
       "      <td>property_id</td>\n",
       "    </tr>\n",
       "  </tbody>\n",
       "</table>\n",
       "</div>"
      ],
      "text/plain": [
       "     property_name  link  society  price  area  areaWithType  bedRoom  \\\n",
       "286  property_name  link  society  price  area  areaWithType  bedRoom   \n",
       "\n",
       "     bathroom  balcony  additionalRoom  address  floorNum  facing  \\\n",
       "286  bathroom  balcony  additionalRoom  address  floorNum  facing   \n",
       "\n",
       "     agePossession  nearbyLocations  description  furnishDetails  features  \\\n",
       "286  agePossession  nearbyLocations  description  furnishDetails  features   \n",
       "\n",
       "     rating  property_id  \n",
       "286  rating  property_id  "
      ]
     },
     "execution_count": 3,
     "metadata": {},
     "output_type": "execute_result"
    }
   ],
   "source": [
    "drop_rows = df[df['nearbyLocations'].str.startswith('[') == False].index\n",
    "df.iloc[drop_rows]"
   ]
  },
  {
   "cell_type": "code",
   "execution_count": 4,
   "metadata": {},
   "outputs": [],
   "source": [
    "df.drop(drop_rows, inplace=True)\n",
    "df.reset_index(drop=True, inplace=True)"
   ]
  },
  {
   "cell_type": "code",
   "execution_count": 5,
   "metadata": {},
   "outputs": [
    {
     "name": "stdout",
     "output_type": "stream",
     "text": [
      "<class 'pandas.core.frame.DataFrame'>\n",
      "RangeIndex: 2794 entries, 0 to 2793\n",
      "Data columns (total 20 columns):\n",
      " #   Column           Non-Null Count  Dtype \n",
      "---  ------           --------------  ----- \n",
      " 0   property_name    2794 non-null   object\n",
      " 1   link             2794 non-null   object\n",
      " 2   society          2794 non-null   object\n",
      " 3   price            2793 non-null   object\n",
      " 4   area             2785 non-null   object\n",
      " 5   areaWithType     2794 non-null   object\n",
      " 6   bedRoom          2794 non-null   object\n",
      " 7   bathroom         2794 non-null   object\n",
      " 8   balcony          2794 non-null   object\n",
      " 9   additionalRoom   1627 non-null   object\n",
      " 10  address          2791 non-null   object\n",
      " 11  floorNum         2793 non-null   object\n",
      " 12  facing           2041 non-null   object\n",
      " 13  agePossession    2793 non-null   object\n",
      " 14  nearbyLocations  2715 non-null   object\n",
      " 15  description      2794 non-null   object\n",
      " 16  furnishDetails   2054 non-null   object\n",
      " 17  features         2440 non-null   object\n",
      " 18  rating           2467 non-null   object\n",
      " 19  property_id      2794 non-null   object\n",
      "dtypes: object(20)\n",
      "memory usage: 436.7+ KB\n"
     ]
    }
   ],
   "source": [
    "df.info()"
   ]
  },
  {
   "cell_type": "markdown",
   "metadata": {},
   "source": [
    "## Missing values"
   ]
  },
  {
   "cell_type": "code",
   "execution_count": 6,
   "metadata": {},
   "outputs": [
    {
     "data": {
      "text/plain": [
       "property_name         0\n",
       "link                  0\n",
       "society               0\n",
       "price                 1\n",
       "area                  9\n",
       "areaWithType          0\n",
       "bedRoom               0\n",
       "bathroom              0\n",
       "balcony               0\n",
       "additionalRoom     1167\n",
       "address               3\n",
       "floorNum              1\n",
       "facing              753\n",
       "agePossession         1\n",
       "nearbyLocations      79\n",
       "description           0\n",
       "furnishDetails      740\n",
       "features            354\n",
       "rating              327\n",
       "property_id           0\n",
       "dtype: int64"
      ]
     },
     "execution_count": 6,
     "metadata": {},
     "output_type": "execute_result"
    }
   ],
   "source": [
    "df.isnull().sum()"
   ]
  },
  {
   "cell_type": "code",
   "execution_count": 7,
   "metadata": {},
   "outputs": [
    {
     "data": {
      "image/png": "[encoded data removed]",
      "text/plain": [
       "<Figure size 2000x1000 with 1 Axes>"
      ]
     },
     "metadata": {},
     "output_type": "display_data"
    }
   ],
   "source": [
    "plt.figure(figsize=(20, 10))\n",
    "sns.heatmap(df.isnull(), cbar=False, yticklabels='')\n",
    "plt.show()"
   ]
  },
  {
   "cell_type": "code",
   "execution_count": 8,
   "metadata": {},
   "outputs": [],
   "source": [
    "drop_rows = []"
   ]
  },
  {
   "cell_type": "code",
   "execution_count": 9,
   "metadata": {},
   "outputs": [
    {
     "data": {
      "text/html": [
       "<div>\n",
       "<style scoped>\n",
       "    .dataframe tbody tr th:only-of-type {\n",
       "        vertical-align: middle;\n",
       "    }\n",
       "\n",
       "    .dataframe tbody tr th {\n",
       "        vertical-align: top;\n",
       "    }\n",
       "\n",
       "    .dataframe thead th {\n",
       "        text-align: right;\n",
       "    }\n",
       "</style>\n",
       "<table border=\"1\" class=\"dataframe\">\n",
       "  <thead>\n",
       "    <tr style=\"text-align: right;\">\n",
       "      <th></th>\n",
       "      <th>property_name</th>\n",
       "      <th>link</th>\n",
       "      <th>society</th>\n",
       "      <th>price</th>\n",
       "      <th>area</th>\n",
       "      <th>areaWithType</th>\n",
       "      <th>bedRoom</th>\n",
       "      <th>bathroom</th>\n",
       "      <th>balcony</th>\n",
       "      <th>additionalRoom</th>\n",
       "      <th>address</th>\n",
       "      <th>floorNum</th>\n",
       "      <th>facing</th>\n",
       "      <th>agePossession</th>\n",
       "      <th>nearbyLocations</th>\n",
       "      <th>description</th>\n",
       "      <th>furnishDetails</th>\n",
       "      <th>features</th>\n",
       "      <th>rating</th>\n",
       "      <th>property_id</th>\n",
       "    </tr>\n",
       "  </thead>\n",
       "  <tbody>\n",
       "    <tr>\n",
       "      <th>18</th>\n",
       "      <td>2 BHK Flat in Sector 93 Gurgaon</td>\n",
       "      <td>https://www.99acres.com/2-bhk-bedroom-apartmen...</td>\n",
       "      <td>Signature Global Orchard Avenue 2</td>\n",
       "      <td>NaN</td>\n",
       "      <td>NaN</td>\n",
       "      <td>Carpet area: 577.11 (53.62 sq.m.)</td>\n",
       "      <td>2 Bedrooms</td>\n",
       "      <td>2 Bathrooms</td>\n",
       "      <td>3 Balconies</td>\n",
       "      <td>NaN</td>\n",
       "      <td>L-1104, Sector 93 Gurgaon, Gurgaon, Haryana</td>\n",
       "      <td>11st   of 14 Floors</td>\n",
       "      <td>East</td>\n",
       "      <td>Under Construction</td>\n",
       "      <td>['Huda Metro Station', 'V3S Sapphire Ninety', ...</td>\n",
       "      <td>Looking for a budget-Friendly 2 bhk flat in a ...</td>\n",
       "      <td>NaN</td>\n",
       "      <td>['Security / Fire Alarm', 'Feng Shui / Vaastu ...</td>\n",
       "      <td>NaN</td>\n",
       "      <td>H68815396</td>\n",
       "    </tr>\n",
       "    <tr>\n",
       "      <th>25</th>\n",
       "      <td>5 BHK Flat in Sector 1 Gurgaon</td>\n",
       "      <td>https://www.99acres.com/5-bhk-bedroom-apartmen...</td>\n",
       "      <td>The New People Apartments</td>\n",
       "      <td>Price on Request</td>\n",
       "      <td>NaN</td>\n",
       "      <td>Built Up area: 4500 (418.06 sq.m.)</td>\n",
       "      <td>5 Bedrooms</td>\n",
       "      <td>1 Bathroom</td>\n",
       "      <td>No Balcony</td>\n",
       "      <td>NaN</td>\n",
       "      <td>Sector 1, Sector 1 Gurgaon, Gurgaon, Haryana</td>\n",
       "      <td>Ground of 1 Floors</td>\n",
       "      <td>NaN</td>\n",
       "      <td>undefined</td>\n",
       "      <td>['Pooja Clinic', 'Dr. Sahil Clinic', 'Prakash ...</td>\n",
       "      <td>Best in class property available at sector 1 l...</td>\n",
       "      <td>NaN</td>\n",
       "      <td>NaN</td>\n",
       "      <td>NaN</td>\n",
       "      <td>Z68804716</td>\n",
       "    </tr>\n",
       "    <tr>\n",
       "      <th>1644</th>\n",
       "      <td>4 BHK Flat in Sector 50 Gurgaon</td>\n",
       "      <td>https://www.99acres.com/4-bhk-bedroom-apartmen...</td>\n",
       "      <td>SS Hibiscus</td>\n",
       "      <td>Price on Request</td>\n",
       "      <td>NaN</td>\n",
       "      <td>Carpet area: 4800 (445.93 sq.m.)</td>\n",
       "      <td>4 Bedrooms</td>\n",
       "      <td>4 Bathrooms</td>\n",
       "      <td>3 Balconies</td>\n",
       "      <td>Servant Room</td>\n",
       "      <td>Sector 50 Gurgaon, Gurgaon, Haryana</td>\n",
       "      <td>7th   of 18 Floors</td>\n",
       "      <td>East</td>\n",
       "      <td>5 to 10 Year Old</td>\n",
       "      <td>['Baani Square', 'SS Plaza', 'Good Earth City ...</td>\n",
       "      <td>4bedroom 4800sq.Ft middle floor apartment avai...</td>\n",
       "      <td>['4 Fan', '8 Light', 'No AC', 'No Bed', 'No Ch...</td>\n",
       "      <td>['Lift(s)', 'Water purifier', 'Swimming Pool',...</td>\n",
       "      <td>['Environment5 out of 5', 'Lifestyle5 out of 5...</td>\n",
       "      <td>S65406842</td>\n",
       "    </tr>\n",
       "    <tr>\n",
       "      <th>1972</th>\n",
       "      <td>1 BHK Flat in Sector 31 Gurgaon</td>\n",
       "      <td>https://www.99acres.com/1-bhk-bedroom-apartmen...</td>\n",
       "      <td>Raheja Atlantis3.8 ★</td>\n",
       "      <td>Price on Request</td>\n",
       "      <td>NaN</td>\n",
       "      <td>Carpet area: 650 (60.39 sq.m.)</td>\n",
       "      <td>1 Bedroom</td>\n",
       "      <td>1 Bathroom</td>\n",
       "      <td>1 Balcony</td>\n",
       "      <td>Pooja Room,Study Room,Servant Room</td>\n",
       "      <td>Yes, Sector 31 Gurgaon, Gurgaon, Haryana</td>\n",
       "      <td>3rd   of 15 Floors</td>\n",
       "      <td>East</td>\n",
       "      <td>0 to 1 Year Old</td>\n",
       "      <td>['Huda Metro Station', 'Reliance Fresh, Indira...</td>\n",
       "      <td>It is my property and good condition and good ...</td>\n",
       "      <td>NaN</td>\n",
       "      <td>['Feng Shui / Vaastu Compliant', 'Security / F...</td>\n",
       "      <td>['Green Area4 out of 5', 'Construction4 out of...</td>\n",
       "      <td>Q70122610</td>\n",
       "    </tr>\n",
       "    <tr>\n",
       "      <th>2054</th>\n",
       "      <td>2 BHK Flat in Sector 79 Gurgaon</td>\n",
       "      <td>https://www.99acres.com/2-bhk-bedroom-apartmen...</td>\n",
       "      <td>Supertech Araville</td>\n",
       "      <td>Price on Request</td>\n",
       "      <td>NaN</td>\n",
       "      <td>Built Up area: 1295 (120.31 sq.m.)</td>\n",
       "      <td>2 Bedrooms</td>\n",
       "      <td>2 Bathrooms</td>\n",
       "      <td>No Balcony</td>\n",
       "      <td>NaN</td>\n",
       "      <td>Sector 79, Sector 79 Gurgaon, Gurgaon, Haryana</td>\n",
       "      <td>15th   of 15 Floors</td>\n",
       "      <td>NaN</td>\n",
       "      <td>undefined</td>\n",
       "      <td>NaN</td>\n",
       "      <td>2 bath, unfurnished, 15th floor (Of 18), super...</td>\n",
       "      <td>NaN</td>\n",
       "      <td>NaN</td>\n",
       "      <td>['Environment4 out of 5', 'Lifestyle3 out of 5...</td>\n",
       "      <td>M69984000</td>\n",
       "    </tr>\n",
       "    <tr>\n",
       "      <th>2357</th>\n",
       "      <td>2 BHK Flat in Sector 37D Gurgaon</td>\n",
       "      <td>https://www.99acres.com/2-bhk-bedroom-apartmen...</td>\n",
       "      <td>The Millennia 2</td>\n",
       "      <td>Price on Request</td>\n",
       "      <td>NaN</td>\n",
       "      <td>Carpet area: 552 (51.28 sq.m.)</td>\n",
       "      <td>2 Bedrooms</td>\n",
       "      <td>1 Bathroom</td>\n",
       "      <td>1 Balcony</td>\n",
       "      <td>NaN</td>\n",
       "      <td>Sector 37D Gurgaon, Gurgaon, Haryana</td>\n",
       "      <td>13rd   of 13 Floors</td>\n",
       "      <td>NaN</td>\n",
       "      <td>undefined</td>\n",
       "      <td>['Shri Balaji Hospital and Trauma Center', 'Sh...</td>\n",
       "      <td>1 bath, unfurnished, 13th floor (Of 13), at se...</td>\n",
       "      <td>NaN</td>\n",
       "      <td>NaN</td>\n",
       "      <td>['Environment4 out of 5', 'Lifestyle4 out of 5...</td>\n",
       "      <td>L69416788</td>\n",
       "    </tr>\n",
       "    <tr>\n",
       "      <th>2522</th>\n",
       "      <td>2 BHK Flat in Sector 95A Gurgaon</td>\n",
       "      <td>https://www.99acres.com/2-bhk-bedroom-apartmen...</td>\n",
       "      <td>The Roselia 2</td>\n",
       "      <td>Price on Request</td>\n",
       "      <td>NaN</td>\n",
       "      <td>Carpet area: 593 (55.09 sq.m.)</td>\n",
       "      <td>2 Bedrooms</td>\n",
       "      <td>2 Bathrooms</td>\n",
       "      <td>2 Balconies</td>\n",
       "      <td>NaN</td>\n",
       "      <td>Sector 95a, Pataudi Road, Sector 95A Gurgaon, ...</td>\n",
       "      <td>14th   of 14 Floors</td>\n",
       "      <td>NaN</td>\n",
       "      <td>undefined</td>\n",
       "      <td>NaN</td>\n",
       "      <td>Best in class property available at sector 95a...</td>\n",
       "      <td>NaN</td>\n",
       "      <td>NaN</td>\n",
       "      <td>['Environment5 out of 5', 'Lifestyle4.5 out of...</td>\n",
       "      <td>A69074608</td>\n",
       "    </tr>\n",
       "    <tr>\n",
       "      <th>2549</th>\n",
       "      <td>3 BHK Flat in Sector-2 Sohna</td>\n",
       "      <td>https://www.99acres.com/3-bhk-bedroom-apartmen...</td>\n",
       "      <td>Supertech Hilltown</td>\n",
       "      <td>Price on Request</td>\n",
       "      <td>NaN</td>\n",
       "      <td>Built Up area: 1720 (159.79 sq.m.)</td>\n",
       "      <td>3 Bedrooms</td>\n",
       "      <td>3 Bathrooms</td>\n",
       "      <td>3 Balconies</td>\n",
       "      <td>NaN</td>\n",
       "      <td>Sohna Sector 2,gurgaon, Sector-2 Sohna, Gurgao...</td>\n",
       "      <td>4th   of 4 Floors</td>\n",
       "      <td>North-East</td>\n",
       "      <td>undefined</td>\n",
       "      <td>NaN</td>\n",
       "      <td>3 bath, unfurnished, 4th floor (Of 4), overloo...</td>\n",
       "      <td>NaN</td>\n",
       "      <td>NaN</td>\n",
       "      <td>NaN</td>\n",
       "      <td>X66482366</td>\n",
       "    </tr>\n",
       "    <tr>\n",
       "      <th>2703</th>\n",
       "      <td>2 BHK Flat in Sector 95A Gurgaon</td>\n",
       "      <td>https://www.99acres.com/2-bhk-bedroom-apartmen...</td>\n",
       "      <td>The Roselia 2</td>\n",
       "      <td>Price on Request</td>\n",
       "      <td>NaN</td>\n",
       "      <td>Carpet area: 593 (55.09 sq.m.)</td>\n",
       "      <td>2 Bedrooms</td>\n",
       "      <td>2 Bathrooms</td>\n",
       "      <td>2 Balconies</td>\n",
       "      <td>NaN</td>\n",
       "      <td>Sector 95a, Pataudi Road, Sector 95A Gurgaon, ...</td>\n",
       "      <td>14th   of 14 Floors</td>\n",
       "      <td>NaN</td>\n",
       "      <td>undefined</td>\n",
       "      <td>NaN</td>\n",
       "      <td>Best in class property available at sector 95a...</td>\n",
       "      <td>NaN</td>\n",
       "      <td>NaN</td>\n",
       "      <td>['Environment5 out of 5', 'Safety5 out of 5', ...</td>\n",
       "      <td>A69074608</td>\n",
       "    </tr>\n",
       "  </tbody>\n",
       "</table>\n",
       "</div>"
      ],
      "text/plain": [
       "                         property_name  \\\n",
       "18     2 BHK Flat in Sector 93 Gurgaon   \n",
       "25      5 BHK Flat in Sector 1 Gurgaon   \n",
       "1644   4 BHK Flat in Sector 50 Gurgaon   \n",
       "1972   1 BHK Flat in Sector 31 Gurgaon   \n",
       "2054   2 BHK Flat in Sector 79 Gurgaon   \n",
       "2357  2 BHK Flat in Sector 37D Gurgaon   \n",
       "2522  2 BHK Flat in Sector 95A Gurgaon   \n",
       "2549      3 BHK Flat in Sector-2 Sohna   \n",
       "2703  2 BHK Flat in Sector 95A Gurgaon   \n",
       "\n",
       "                                                   link  \\\n",
       "18    https://www.99acres.com/2-bhk-bedroom-apartmen...   \n",
       "25    https://www.99acres.com/5-bhk-bedroom-apartmen...   \n",
       "1644  https://www.99acres.com/4-bhk-bedroom-apartmen...   \n",
       "1972  https://www.99acres.com/1-bhk-bedroom-apartmen...   \n",
       "2054  https://www.99acres.com/2-bhk-bedroom-apartmen...   \n",
       "2357  https://www.99acres.com/2-bhk-bedroom-apartmen...   \n",
       "2522  https://www.99acres.com/2-bhk-bedroom-apartmen...   \n",
       "2549  https://www.99acres.com/3-bhk-bedroom-apartmen...   \n",
       "2703  https://www.99acres.com/2-bhk-bedroom-apartmen...   \n",
       "\n",
       "                                society             price area  \\\n",
       "18    Signature Global Orchard Avenue 2               NaN  NaN   \n",
       "25            The New People Apartments  Price on Request  NaN   \n",
       "1644                        SS Hibiscus  Price on Request  NaN   \n",
       "1972               Raheja Atlantis3.8 ★  Price on Request  NaN   \n",
       "2054                 Supertech Araville  Price on Request  NaN   \n",
       "2357                    The Millennia 2  Price on Request  NaN   \n",
       "2522                      The Roselia 2  Price on Request  NaN   \n",
       "2549                 Supertech Hilltown  Price on Request  NaN   \n",
       "2703                      The Roselia 2  Price on Request  NaN   \n",
       "\n",
       "                            areaWithType     bedRoom     bathroom  \\\n",
       "18     Carpet area: 577.11 (53.62 sq.m.)  2 Bedrooms  2 Bathrooms   \n",
       "25    Built Up area: 4500 (418.06 sq.m.)  5 Bedrooms   1 Bathroom   \n",
       "1644    Carpet area: 4800 (445.93 sq.m.)  4 Bedrooms  4 Bathrooms   \n",
       "1972      Carpet area: 650 (60.39 sq.m.)   1 Bedroom   1 Bathroom   \n",
       "2054  Built Up area: 1295 (120.31 sq.m.)  2 Bedrooms  2 Bathrooms   \n",
       "2357      Carpet area: 552 (51.28 sq.m.)  2 Bedrooms   1 Bathroom   \n",
       "2522      Carpet area: 593 (55.09 sq.m.)  2 Bedrooms  2 Bathrooms   \n",
       "2549  Built Up area: 1720 (159.79 sq.m.)  3 Bedrooms  3 Bathrooms   \n",
       "2703      Carpet area: 593 (55.09 sq.m.)  2 Bedrooms  2 Bathrooms   \n",
       "\n",
       "          balcony                      additionalRoom  \\\n",
       "18    3 Balconies                                 NaN   \n",
       "25     No Balcony                                 NaN   \n",
       "1644  3 Balconies                        Servant Room   \n",
       "1972    1 Balcony  Pooja Room,Study Room,Servant Room   \n",
       "2054   No Balcony                                 NaN   \n",
       "2357    1 Balcony                                 NaN   \n",
       "2522  2 Balconies                                 NaN   \n",
       "2549  3 Balconies                                 NaN   \n",
       "2703  2 Balconies                                 NaN   \n",
       "\n",
       "                                                address             floorNum  \\\n",
       "18          L-1104, Sector 93 Gurgaon, Gurgaon, Haryana  11st   of 14 Floors   \n",
       "25         Sector 1, Sector 1 Gurgaon, Gurgaon, Haryana   Ground of 1 Floors   \n",
       "1644                Sector 50 Gurgaon, Gurgaon, Haryana   7th   of 18 Floors   \n",
       "1972           Yes, Sector 31 Gurgaon, Gurgaon, Haryana   3rd   of 15 Floors   \n",
       "2054     Sector 79, Sector 79 Gurgaon, Gurgaon, Haryana  15th   of 15 Floors   \n",
       "2357               Sector 37D Gurgaon, Gurgaon, Haryana  13rd   of 13 Floors   \n",
       "2522  Sector 95a, Pataudi Road, Sector 95A Gurgaon, ...  14th   of 14 Floors   \n",
       "2549  Sohna Sector 2,gurgaon, Sector-2 Sohna, Gurgao...    4th   of 4 Floors   \n",
       "2703  Sector 95a, Pataudi Road, Sector 95A Gurgaon, ...  14th   of 14 Floors   \n",
       "\n",
       "          facing       agePossession  \\\n",
       "18          East  Under Construction   \n",
       "25           NaN           undefined   \n",
       "1644        East    5 to 10 Year Old   \n",
       "1972        East     0 to 1 Year Old   \n",
       "2054         NaN           undefined   \n",
       "2357         NaN           undefined   \n",
       "2522         NaN           undefined   \n",
       "2549  North-East           undefined   \n",
       "2703         NaN           undefined   \n",
       "\n",
       "                                        nearbyLocations  \\\n",
       "18    ['Huda Metro Station', 'V3S Sapphire Ninety', ...   \n",
       "25    ['Pooja Clinic', 'Dr. Sahil Clinic', 'Prakash ...   \n",
       "1644  ['Baani Square', 'SS Plaza', 'Good Earth City ...   \n",
       "1972  ['Huda Metro Station', 'Reliance Fresh, Indira...   \n",
       "2054                                                NaN   \n",
       "2357  ['Shri Balaji Hospital and Trauma Center', 'Sh...   \n",
       "2522                                                NaN   \n",
       "2549                                                NaN   \n",
       "2703                                                NaN   \n",
       "\n",
       "                                            description  \\\n",
       "18    Looking for a budget-Friendly 2 bhk flat in a ...   \n",
       "25    Best in class property available at sector 1 l...   \n",
       "1644  4bedroom 4800sq.Ft middle floor apartment avai...   \n",
       "1972  It is my property and good condition and good ...   \n",
       "2054  2 bath, unfurnished, 15th floor (Of 18), super...   \n",
       "2357  1 bath, unfurnished, 13th floor (Of 13), at se...   \n",
       "2522  Best in class property available at sector 95a...   \n",
       "2549  3 bath, unfurnished, 4th floor (Of 4), overloo...   \n",
       "2703  Best in class property available at sector 95a...   \n",
       "\n",
       "                                         furnishDetails  \\\n",
       "18                                                  NaN   \n",
       "25                                                  NaN   \n",
       "1644  ['4 Fan', '8 Light', 'No AC', 'No Bed', 'No Ch...   \n",
       "1972                                                NaN   \n",
       "2054                                                NaN   \n",
       "2357                                                NaN   \n",
       "2522                                                NaN   \n",
       "2549                                                NaN   \n",
       "2703                                                NaN   \n",
       "\n",
       "                                               features  \\\n",
       "18    ['Security / Fire Alarm', 'Feng Shui / Vaastu ...   \n",
       "25                                                  NaN   \n",
       "1644  ['Lift(s)', 'Water purifier', 'Swimming Pool',...   \n",
       "1972  ['Feng Shui / Vaastu Compliant', 'Security / F...   \n",
       "2054                                                NaN   \n",
       "2357                                                NaN   \n",
       "2522                                                NaN   \n",
       "2549                                                NaN   \n",
       "2703                                                NaN   \n",
       "\n",
       "                                                 rating property_id  \n",
       "18                                                  NaN   H68815396  \n",
       "25                                                  NaN   Z68804716  \n",
       "1644  ['Environment5 out of 5', 'Lifestyle5 out of 5...   S65406842  \n",
       "1972  ['Green Area4 out of 5', 'Construction4 out of...   Q70122610  \n",
       "2054  ['Environment4 out of 5', 'Lifestyle3 out of 5...   M69984000  \n",
       "2357  ['Environment4 out of 5', 'Lifestyle4 out of 5...   L69416788  \n",
       "2522  ['Environment5 out of 5', 'Lifestyle4.5 out of...   A69074608  \n",
       "2549                                                NaN   X66482366  \n",
       "2703  ['Environment5 out of 5', 'Safety5 out of 5', ...   A69074608  "
      ]
     },
     "execution_count": 9,
     "metadata": {},
     "output_type": "execute_result"
    }
   ],
   "source": [
    "temp = df[(df['price'].isnull() == True) | (df['price'] == 'Price on Request')]\n",
    "temp"
   ]
  },
  {
   "cell_type": "code",
   "execution_count": 10,
   "metadata": {},
   "outputs": [
    {
     "data": {
      "text/plain": [
       "[18, 25, 1644, 1972, 2054, 2357, 2522, 2549, 2703]"
      ]
     },
     "execution_count": 10,
     "metadata": {},
     "output_type": "execute_result"
    }
   ],
   "source": [
    "drop_rows += temp.index.tolist()\n",
    "drop_rows"
   ]
  },
  {
   "cell_type": "code",
   "execution_count": 11,
   "metadata": {},
   "outputs": [
    {
     "data": {
      "text/plain": [
       "(2785, 20)"
      ]
     },
     "execution_count": 11,
     "metadata": {},
     "output_type": "execute_result"
    }
   ],
   "source": [
    "df.drop(index=drop_rows, inplace=True)\n",
    "df.shape"
   ]
  },
  {
   "cell_type": "code",
   "execution_count": 12,
   "metadata": {},
   "outputs": [
    {
     "data": {
      "image/png": "[encoded data removed]",
      "text/plain": [
       "<Figure size 2000x1000 with 1 Axes>"
      ]
     },
     "metadata": {},
     "output_type": "display_data"
    }
   ],
   "source": [
    "plt.figure(figsize=(20, 10))\n",
    "sns.heatmap(df.isnull(), cbar=False, yticklabels='')\n",
    "plt.show()"
   ]
  },
  {
   "cell_type": "markdown",
   "metadata": {},
   "source": [
    "## Literal eval all the `list` containing data type columns."
   ]
  },
  {
   "cell_type": "code",
   "execution_count": 13,
   "metadata": {},
   "outputs": [],
   "source": [
    "for_literal_eval = ['nearbyLocations', 'furnishDetails', 'features', 'rating']\n",
    "\n",
    "for col in for_literal_eval:\n",
    "    df[col] = df[col].fillna('[]')\n",
    "    df[col] = df[col].apply(literal_eval)"
   ]
  },
  {
   "cell_type": "code",
   "execution_count": 14,
   "metadata": {},
   "outputs": [
    {
     "data": {
      "text/html": [
       "<div>\n",
       "<style scoped>\n",
       "    .dataframe tbody tr th:only-of-type {\n",
       "        vertical-align: middle;\n",
       "    }\n",
       "\n",
       "    .dataframe tbody tr th {\n",
       "        vertical-align: top;\n",
       "    }\n",
       "\n",
       "    .dataframe thead th {\n",
       "        text-align: right;\n",
       "    }\n",
       "</style>\n",
       "<table border=\"1\" class=\"dataframe\">\n",
       "  <thead>\n",
       "    <tr style=\"text-align: right;\">\n",
       "      <th></th>\n",
       "      <th>12</th>\n",
       "      <th>90</th>\n",
       "    </tr>\n",
       "  </thead>\n",
       "  <tbody>\n",
       "    <tr>\n",
       "      <th>property_name</th>\n",
       "      <td>3 BHK Flat in Sector 79 Gurgaon</td>\n",
       "      <td>2 BHK Flat in Sector 37D Gurgaon</td>\n",
       "    </tr>\n",
       "    <tr>\n",
       "      <th>link</th>\n",
       "      <td>https://www.99acres.com/3-bhk-bedroom-apartmen...</td>\n",
       "      <td>https://www.99acres.com/2-bhk-bedroom-apartmen...</td>\n",
       "    </tr>\n",
       "    <tr>\n",
       "      <th>society</th>\n",
       "      <td>Supertech Araville</td>\n",
       "      <td>Signature Global City</td>\n",
       "    </tr>\n",
       "    <tr>\n",
       "      <th>price</th>\n",
       "      <td>1.35 Crore</td>\n",
       "      <td>1.1 Crore</td>\n",
       "    </tr>\n",
       "    <tr>\n",
       "      <th>area</th>\n",
       "      <td>₹ 6,940/sq.ft.</td>\n",
       "      <td>₹ 9,838/sq.ft.</td>\n",
       "    </tr>\n",
       "    <tr>\n",
       "      <th>areaWithType</th>\n",
       "      <td>Carpet area: 1945 (180.7 sq.m.)</td>\n",
       "      <td>Carpet area: 1118 (103.87 sq.m.)</td>\n",
       "    </tr>\n",
       "    <tr>\n",
       "      <th>bedRoom</th>\n",
       "      <td>3 Bedrooms</td>\n",
       "      <td>2 Bedrooms</td>\n",
       "    </tr>\n",
       "    <tr>\n",
       "      <th>bathroom</th>\n",
       "      <td>3 Bathrooms</td>\n",
       "      <td>2 Bathrooms</td>\n",
       "    </tr>\n",
       "    <tr>\n",
       "      <th>balcony</th>\n",
       "      <td>3 Balconies</td>\n",
       "      <td>2 Balconies</td>\n",
       "    </tr>\n",
       "    <tr>\n",
       "      <th>additionalRoom</th>\n",
       "      <td>NaN</td>\n",
       "      <td>NaN</td>\n",
       "    </tr>\n",
       "    <tr>\n",
       "      <th>address</th>\n",
       "      <td>Sector 79 Gurgaon, Gurgaon, Haryana</td>\n",
       "      <td>Sector 93, Sector 37D Gurgaon, Gurgaon, Haryana</td>\n",
       "    </tr>\n",
       "    <tr>\n",
       "      <th>floorNum</th>\n",
       "      <td>4th   of 15 Floors</td>\n",
       "      <td>4th   of 4 Floors</td>\n",
       "    </tr>\n",
       "    <tr>\n",
       "      <th>facing</th>\n",
       "      <td>NaN</td>\n",
       "      <td>South</td>\n",
       "    </tr>\n",
       "    <tr>\n",
       "      <th>agePossession</th>\n",
       "      <td>1 to 5 Year Old</td>\n",
       "      <td>undefined</td>\n",
       "    </tr>\n",
       "    <tr>\n",
       "      <th>nearbyLocations</th>\n",
       "      <td>[Petrol Pump Indian Oil, Petrol Pump, Rao Dhab...</td>\n",
       "      <td>[Sapphire 83 Mall Sector 83, Dwarka Expressway...</td>\n",
       "    </tr>\n",
       "    <tr>\n",
       "      <th>description</th>\n",
       "      <td>Well spacious, nicely built with wooden floori...</td>\n",
       "      <td>Best in class property available at sector 93 ...</td>\n",
       "    </tr>\n",
       "    <tr>\n",
       "      <th>furnishDetails</th>\n",
       "      <td>[1 Water Purifier, 2 Fan, 1 Geyser, 3 Light, 2...</td>\n",
       "      <td>[1 Light, No AC, No Bed, No Chimney, No Curtai...</td>\n",
       "    </tr>\n",
       "    <tr>\n",
       "      <th>features</th>\n",
       "      <td>[]</td>\n",
       "      <td>[]</td>\n",
       "    </tr>\n",
       "    <tr>\n",
       "      <th>rating</th>\n",
       "      <td>[Environment4 out of 5, Safety4 out of 5, Life...</td>\n",
       "      <td>[Environment4 out of 5, Safety4 out of 5, Life...</td>\n",
       "    </tr>\n",
       "    <tr>\n",
       "      <th>property_id</th>\n",
       "      <td>H68825634</td>\n",
       "      <td>S68639866</td>\n",
       "    </tr>\n",
       "  </tbody>\n",
       "</table>\n",
       "</div>"
      ],
      "text/plain": [
       "                                                                12  \\\n",
       "property_name                      3 BHK Flat in Sector 79 Gurgaon   \n",
       "link             https://www.99acres.com/3-bhk-bedroom-apartmen...   \n",
       "society                                         Supertech Araville   \n",
       "price                                                   1.35 Crore   \n",
       "area                                                ₹ 6,940/sq.ft.   \n",
       "areaWithType                       Carpet area: 1945 (180.7 sq.m.)   \n",
       "bedRoom                                                 3 Bedrooms   \n",
       "bathroom                                               3 Bathrooms   \n",
       "balcony                                                3 Balconies   \n",
       "additionalRoom                                                 NaN   \n",
       "address                        Sector 79 Gurgaon, Gurgaon, Haryana   \n",
       "floorNum                                        4th   of 15 Floors   \n",
       "facing                                                         NaN   \n",
       "agePossession                                      1 to 5 Year Old   \n",
       "nearbyLocations  [Petrol Pump Indian Oil, Petrol Pump, Rao Dhab...   \n",
       "description      Well spacious, nicely built with wooden floori...   \n",
       "furnishDetails   [1 Water Purifier, 2 Fan, 1 Geyser, 3 Light, 2...   \n",
       "features                                                        []   \n",
       "rating           [Environment4 out of 5, Safety4 out of 5, Life...   \n",
       "property_id                                              H68825634   \n",
       "\n",
       "                                                                90  \n",
       "property_name                     2 BHK Flat in Sector 37D Gurgaon  \n",
       "link             https://www.99acres.com/2-bhk-bedroom-apartmen...  \n",
       "society                                      Signature Global City  \n",
       "price                                                    1.1 Crore  \n",
       "area                                                ₹ 9,838/sq.ft.  \n",
       "areaWithType                      Carpet area: 1118 (103.87 sq.m.)  \n",
       "bedRoom                                                 2 Bedrooms  \n",
       "bathroom                                               2 Bathrooms  \n",
       "balcony                                                2 Balconies  \n",
       "additionalRoom                                                 NaN  \n",
       "address            Sector 93, Sector 37D Gurgaon, Gurgaon, Haryana  \n",
       "floorNum                                         4th   of 4 Floors  \n",
       "facing                                                       South  \n",
       "agePossession                                            undefined  \n",
       "nearbyLocations  [Sapphire 83 Mall Sector 83, Dwarka Expressway...  \n",
       "description      Best in class property available at sector 93 ...  \n",
       "furnishDetails   [1 Light, No AC, No Bed, No Chimney, No Curtai...  \n",
       "features                                                        []  \n",
       "rating           [Environment4 out of 5, Safety4 out of 5, Life...  \n",
       "property_id                                              S68639866  "
      ]
     },
     "execution_count": 14,
     "metadata": {},
     "output_type": "execute_result"
    }
   ],
   "source": [
    "df.loc[[12, 90]].T"
   ]
  },
  {
   "cell_type": "markdown",
   "metadata": {},
   "source": [
    "## Link"
   ]
  },
  {
   "cell_type": "code",
   "execution_count": 15,
   "metadata": {},
   "outputs": [
    {
     "data": {
      "text/plain": [
       "'2-bhk-bedroom-apartment-flat-for-sale-in-krishna-colony-gurgaon-900-sq-ft-spid-C68850746'"
      ]
     },
     "execution_count": 15,
     "metadata": {},
     "output_type": "execute_result"
    }
   ],
   "source": [
    "df['link'] = df['link'].str.replace('https://www.99acres.com/', '', regex=False)\n",
    "df['link'][0]"
   ]
  },
  {
   "cell_type": "markdown",
   "metadata": {},
   "source": [
    "1. These links helps us to scrape the images of the properties."
   ]
  },
  {
   "cell_type": "markdown",
   "metadata": {},
   "source": [
    "## Society"
   ]
  },
  {
   "cell_type": "code",
   "execution_count": 16,
   "metadata": {},
   "outputs": [
    {
     "data": {
      "text/plain": [
       "2042                         AIPL Joy Square\n",
       "1707                 Mapsko Mount Ville4.1 ★\n",
       "2625    Signature Global Orchard Avenue3.6 ★\n",
       "386                       Orchid Petals4.1 ★\n",
       "356                      Smart World Orchard\n",
       "463            Bestech Park View Ananda4.2 ★\n",
       "102                       Supertech Araville\n",
       "600                     The Close North4.0 ★\n",
       "1424                      Ramprastha Primera\n",
       "1622                      Ireo The Corridors\n",
       "Name: society, dtype: object"
      ]
     },
     "execution_count": 16,
     "metadata": {},
     "output_type": "execute_result"
    }
   ],
   "source": [
    "df['society'].sample(10)"
   ]
  },
  {
   "cell_type": "code",
   "execution_count": 17,
   "metadata": {},
   "outputs": [],
   "source": [
    "# Remove those ratings from society names\n",
    "df['society'] = df['society'].str.extract(r'^(.*?)(?:\\d.\\d ★|$)')[0]"
   ]
  },
  {
   "cell_type": "markdown",
   "metadata": {},
   "source": [
    "## Price"
   ]
  },
  {
   "cell_type": "code",
   "execution_count": 18,
   "metadata": {},
   "outputs": [
    {
     "data": {
      "text/plain": [
       "array(['Lac', 'Crore'], dtype=object)"
      ]
     },
     "execution_count": 18,
     "metadata": {},
     "output_type": "execute_result"
    }
   ],
   "source": [
    "df['price'].str.split(' ').str.get(-1).unique()"
   ]
  },
  {
   "cell_type": "markdown",
   "metadata": {},
   "source": [
    "1. There is only two distinct price values in the dataset i.e. **Lac and Crore**.\n",
    "2. I am going convert all the values in **Lac**."
   ]
  },
  {
   "cell_type": "code",
   "execution_count": 19,
   "metadata": {},
   "outputs": [],
   "source": [
    "def handle_price(x: str) -> float:\n",
    "    if x == np.nan or isinstance(x, float):\n",
    "        return float(x)\n",
    "\n",
    "    if 'crore' in x:\n",
    "        price = x.replace('crore', '')\n",
    "        return float(price) * 100\n",
    "\n",
    "    return float(x)"
   ]
  },
  {
   "cell_type": "code",
   "execution_count": 20,
   "metadata": {},
   "outputs": [],
   "source": [
    "df['price'] = (\n",
    "    df['price'].str.lower().str.replace(r'\\s|lac', '', regex=True).apply(handle_price).astype(float)\n",
    ")"
   ]
  },
  {
   "cell_type": "markdown",
   "metadata": {},
   "source": [
    "## aeraWithType"
   ]
  },
  {
   "cell_type": "code",
   "execution_count": 21,
   "metadata": {},
   "outputs": [
    {
     "data": {
      "text/plain": [
       "511     Super Built up area 1852(172.06 sq.m.)Carpet a...\n",
       "1772                Super Built up area 1578(146.6 sq.m.)\n",
       "1079    Super Built up area 1534(142.51 sq.m.)Carpet a...\n",
       "2572                   Built Up area: 1990 (184.88 sq.m.)\n",
       "2424    Built Up area: 743 (69.03 sq.m.)Carpet area: 6...\n",
       "1159                       Carpet area: 360 (33.45 sq.m.)\n",
       "666                        Carpet area: 302 (28.06 sq.m.)\n",
       "2112    Built Up area: 2134 (198.26 sq.m.)Carpet area:...\n",
       "2625                     Built Up area: 597 (55.46 sq.m.)\n",
       "1821               Super Built up area 1995(185.34 sq.m.)\n",
       "Name: areaWithType, dtype: object"
      ]
     },
     "execution_count": 21,
     "metadata": {},
     "output_type": "execute_result"
    }
   ],
   "source": [
    "df['areaWithType'].sample(10)"
   ]
  },
  {
   "cell_type": "markdown",
   "metadata": {},
   "source": [
    "This `areaWithType` column contains the **`BUILT_UP_AREA`, `SUPER_BUILT_UP_AREA` and `CARPET_AREA`** related to the flats. But Not every rows contains all the params instead some contains anyone or some contains all of them. And that's a problem.\n",
    "\n",
    "I am going to etract fetures from this in [`1.1_FEAT_ENG.ipynb`](./1.1_FEAT_ENG.ipynb)"
   ]
  },
  {
   "cell_type": "markdown",
   "metadata": {},
   "source": [
    "## area"
   ]
  },
  {
   "cell_type": "code",
   "execution_count": 22,
   "metadata": {},
   "outputs": [
    {
     "data": {
      "text/html": [
       "<div>\n",
       "<style scoped>\n",
       "    .dataframe tbody tr th:only-of-type {\n",
       "        vertical-align: middle;\n",
       "    }\n",
       "\n",
       "    .dataframe tbody tr th {\n",
       "        vertical-align: top;\n",
       "    }\n",
       "\n",
       "    .dataframe thead th {\n",
       "        text-align: right;\n",
       "    }\n",
       "</style>\n",
       "<table border=\"1\" class=\"dataframe\">\n",
       "  <thead>\n",
       "    <tr style=\"text-align: right;\">\n",
       "      <th></th>\n",
       "      <th>property_name</th>\n",
       "      <th>link</th>\n",
       "      <th>society</th>\n",
       "      <th>price</th>\n",
       "      <th>area</th>\n",
       "      <th>areaWithType</th>\n",
       "      <th>bedRoom</th>\n",
       "      <th>bathroom</th>\n",
       "      <th>balcony</th>\n",
       "      <th>additionalRoom</th>\n",
       "      <th>address</th>\n",
       "      <th>floorNum</th>\n",
       "      <th>facing</th>\n",
       "      <th>agePossession</th>\n",
       "      <th>nearbyLocations</th>\n",
       "      <th>description</th>\n",
       "      <th>furnishDetails</th>\n",
       "      <th>features</th>\n",
       "      <th>rating</th>\n",
       "      <th>property_id</th>\n",
       "    </tr>\n",
       "  </thead>\n",
       "  <tbody>\n",
       "    <tr>\n",
       "      <th>0</th>\n",
       "      <td>2 BHK Flat in Krishna Colony</td>\n",
       "      <td>2-bhk-bedroom-apartment-flat-for-sale-in-krish...</td>\n",
       "      <td>maa bhagwati residency</td>\n",
       "      <td>45.0</td>\n",
       "      <td>₹ 5,000/sq.ft.</td>\n",
       "      <td>Carpet area: 900 (83.61 sq.m.)</td>\n",
       "      <td>2 Bedrooms</td>\n",
       "      <td>2 Bathrooms</td>\n",
       "      <td>1 Balcony</td>\n",
       "      <td>NaN</td>\n",
       "      <td>Krishna Colony, Gurgaon, Haryana</td>\n",
       "      <td>4th   of 4 Floors</td>\n",
       "      <td>West</td>\n",
       "      <td>1 to 5 Year Old</td>\n",
       "      <td>[Chintapurni Mandir, State bank ATM, Pearl Den...</td>\n",
       "      <td>So with lift.Maa bhagwati residency is one of ...</td>\n",
       "      <td>[3 Fan, 4 Light, 1 Wardrobe, No AC, No Bed, No...</td>\n",
       "      <td>[Feng Shui / Vaastu Compliant, Security / Fire...</td>\n",
       "      <td>[Environment4 out of 5, Safety4 out of 5, Life...</td>\n",
       "      <td>C68850746</td>\n",
       "    </tr>\n",
       "    <tr>\n",
       "      <th>1</th>\n",
       "      <td>2 BHK Flat in Ashok Vihar</td>\n",
       "      <td>2-bhk-bedroom-apartment-flat-for-sale-in-apna-...</td>\n",
       "      <td>Apna Enclave</td>\n",
       "      <td>50.0</td>\n",
       "      <td>₹ 7,692/sq.ft.</td>\n",
       "      <td>Carpet area: 650 (60.39 sq.m.)</td>\n",
       "      <td>2 Bedrooms</td>\n",
       "      <td>2 Bathrooms</td>\n",
       "      <td>1 Balcony</td>\n",
       "      <td>NaN</td>\n",
       "      <td>46b, Ashok Vihar, Gurgaon, Haryana</td>\n",
       "      <td>1st   of 3 Floors</td>\n",
       "      <td>West</td>\n",
       "      <td>10+ Year Old</td>\n",
       "      <td>[Chintapurni Mandir, Sheetla Mata Mandir, Stat...</td>\n",
       "      <td>Property situated on main road, railway statio...</td>\n",
       "      <td>[3 Wardrobe, 4 Fan, 1 Exhaust Fan, 1 Geyser, 3...</td>\n",
       "      <td>[Security / Fire Alarm, Maintenance Staff, Wat...</td>\n",
       "      <td>[Environment4 out of 5, Safety4 out of 5, Life...</td>\n",
       "      <td>H68850564</td>\n",
       "    </tr>\n",
       "    <tr>\n",
       "      <th>2</th>\n",
       "      <td>2 BHK Flat in Sohna</td>\n",
       "      <td>2-bhk-bedroom-apartment-flat-for-sale-in-tulsi...</td>\n",
       "      <td>Tulsiani Easy in Homes</td>\n",
       "      <td>40.0</td>\n",
       "      <td>₹ 6,722/sq.ft.</td>\n",
       "      <td>Carpet area: 595 (55.28 sq.m.)</td>\n",
       "      <td>2 Bedrooms</td>\n",
       "      <td>2 Bathrooms</td>\n",
       "      <td>3 Balconies</td>\n",
       "      <td>NaN</td>\n",
       "      <td>Sohna, Gurgaon, Haryana</td>\n",
       "      <td>12nd   of 14 Floors</td>\n",
       "      <td>NaN</td>\n",
       "      <td>0 to 1 Year Old</td>\n",
       "      <td>[Huda City Metro, Golf Course extn road, Rajiv...</td>\n",
       "      <td>This property is 15 km away from badshapur, gu...</td>\n",
       "      <td>[]</td>\n",
       "      <td>[Power Back-up, Feng Shui / Vaastu Compliant, ...</td>\n",
       "      <td>[Environment4 out of 5, Safety4 out of 5, Life...</td>\n",
       "      <td>J68850120</td>\n",
       "    </tr>\n",
       "  </tbody>\n",
       "</table>\n",
       "</div>"
      ],
      "text/plain": [
       "                  property_name  \\\n",
       "0  2 BHK Flat in Krishna Colony   \n",
       "1     2 BHK Flat in Ashok Vihar   \n",
       "2           2 BHK Flat in Sohna   \n",
       "\n",
       "                                                link                 society  \\\n",
       "0  2-bhk-bedroom-apartment-flat-for-sale-in-krish...  maa bhagwati residency   \n",
       "1  2-bhk-bedroom-apartment-flat-for-sale-in-apna-...            Apna Enclave   \n",
       "2  2-bhk-bedroom-apartment-flat-for-sale-in-tulsi...  Tulsiani Easy in Homes   \n",
       "\n",
       "   price            area                    areaWithType     bedRoom  \\\n",
       "0   45.0  ₹ 5,000/sq.ft.  Carpet area: 900 (83.61 sq.m.)  2 Bedrooms   \n",
       "1   50.0  ₹ 7,692/sq.ft.  Carpet area: 650 (60.39 sq.m.)  2 Bedrooms   \n",
       "2   40.0  ₹ 6,722/sq.ft.  Carpet area: 595 (55.28 sq.m.)  2 Bedrooms   \n",
       "\n",
       "      bathroom      balcony additionalRoom  \\\n",
       "0  2 Bathrooms    1 Balcony            NaN   \n",
       "1  2 Bathrooms    1 Balcony            NaN   \n",
       "2  2 Bathrooms  3 Balconies            NaN   \n",
       "\n",
       "                              address             floorNum facing  \\\n",
       "0    Krishna Colony, Gurgaon, Haryana    4th   of 4 Floors   West   \n",
       "1  46b, Ashok Vihar, Gurgaon, Haryana    1st   of 3 Floors   West   \n",
       "2             Sohna, Gurgaon, Haryana  12nd   of 14 Floors    NaN   \n",
       "\n",
       "     agePossession                                    nearbyLocations  \\\n",
       "0  1 to 5 Year Old  [Chintapurni Mandir, State bank ATM, Pearl Den...   \n",
       "1     10+ Year Old  [Chintapurni Mandir, Sheetla Mata Mandir, Stat...   \n",
       "2  0 to 1 Year Old  [Huda City Metro, Golf Course extn road, Rajiv...   \n",
       "\n",
       "                                         description  \\\n",
       "0  So with lift.Maa bhagwati residency is one of ...   \n",
       "1  Property situated on main road, railway statio...   \n",
       "2  This property is 15 km away from badshapur, gu...   \n",
       "\n",
       "                                      furnishDetails  \\\n",
       "0  [3 Fan, 4 Light, 1 Wardrobe, No AC, No Bed, No...   \n",
       "1  [3 Wardrobe, 4 Fan, 1 Exhaust Fan, 1 Geyser, 3...   \n",
       "2                                                 []   \n",
       "\n",
       "                                            features  \\\n",
       "0  [Feng Shui / Vaastu Compliant, Security / Fire...   \n",
       "1  [Security / Fire Alarm, Maintenance Staff, Wat...   \n",
       "2  [Power Back-up, Feng Shui / Vaastu Compliant, ...   \n",
       "\n",
       "                                              rating property_id  \n",
       "0  [Environment4 out of 5, Safety4 out of 5, Life...   C68850746  \n",
       "1  [Environment4 out of 5, Safety4 out of 5, Life...   H68850564  \n",
       "2  [Environment4 out of 5, Safety4 out of 5, Life...   J68850120  "
      ]
     },
     "execution_count": 22,
     "metadata": {},
     "output_type": "execute_result"
    }
   ],
   "source": [
    "df.head(3)"
   ]
  },
  {
   "cell_type": "markdown",
   "metadata": {},
   "source": [
    "- `area` column is not reliable for analysis because it is not consistent.\n",
    "- It refers any of areas of the flat from **super built up area, built up area and carpet area**.\n",
    "- Thats why I am going to  drop this column.\n",
    "\n",
    "- Instead I am going to extract area feature from `areaWithType` column. Also that is not consistent as well. But I will deal with it later."
   ]
  },
  {
   "cell_type": "markdown",
   "metadata": {},
   "source": [
    "## Bedroom, Bathroom, Balcony"
   ]
  },
  {
   "cell_type": "code",
   "execution_count": 23,
   "metadata": {},
   "outputs": [
    {
     "name": "stdout",
     "output_type": "stream",
     "text": [
      "bedRoom: ['2 Bedrooms', '3 Bedrooms', '4 Bedrooms', '1 Bedroom', '5 Bedrooms', '6 Bedrooms']\n",
      "bathroom: ['2 Bathrooms', '3 Bathrooms', '4 Bathrooms', '5 Bathrooms', '1 Bathroom', '6 Bathrooms', '7 Bathrooms']\n",
      "balcony: ['1 Balcony', '3 Balconies', '2 Balconies', '3+ Balconies', 'No Balcony']\n"
     ]
    }
   ],
   "source": [
    "x = ['bedRoom', 'bathroom', 'balcony']\n",
    "\n",
    "for col in x:\n",
    "    print(f'{col}: {df[col].unique().tolist()}')"
   ]
  },
  {
   "cell_type": "code",
   "execution_count": 24,
   "metadata": {},
   "outputs": [],
   "source": [
    "for col in x:\n",
    "    df[col] = (\n",
    "        df[col]\n",
    "        .str.split(r' ', regex=True)\n",
    "        .str.get(0)\n",
    "        .apply(lambda x: 0 if x == 'No' else -1 if '+' in x else x)\n",
    "    )"
   ]
  },
  {
   "cell_type": "markdown",
   "metadata": {},
   "source": [
    "## additionalRoom"
   ]
  },
  {
   "cell_type": "code",
   "execution_count": 25,
   "metadata": {},
   "outputs": [
    {
     "data": {
      "text/plain": [
       "0.41651705565529623"
      ]
     },
     "execution_count": 25,
     "metadata": {},
     "output_type": "execute_result"
    }
   ],
   "source": [
    "df['additionalRoom'].isnull().sum() / df.shape[0]"
   ]
  },
  {
   "cell_type": "markdown",
   "metadata": {},
   "source": [
    "This column has about **42%** of missing values. Due to this I am not performing any analysis on this."
   ]
  },
  {
   "cell_type": "code",
   "execution_count": 26,
   "metadata": {},
   "outputs": [],
   "source": [
    "df['additionalRoom'].fillna('not available', inplace=True)"
   ]
  },
  {
   "cell_type": "markdown",
   "metadata": {},
   "source": [
    "## address"
   ]
  },
  {
   "cell_type": "code",
   "execution_count": 27,
   "metadata": {},
   "outputs": [
    {
     "data": {
      "text/plain": [
       "1613"
      ]
     },
     "execution_count": 27,
     "metadata": {},
     "output_type": "execute_result"
    }
   ],
   "source": [
    "df.address.duplicated().sum()"
   ]
  },
  {
   "cell_type": "code",
   "execution_count": 28,
   "metadata": {},
   "outputs": [
    {
     "data": {
      "text/plain": [
       "1171"
      ]
     },
     "execution_count": 28,
     "metadata": {},
     "output_type": "execute_result"
    }
   ],
   "source": [
    "df.address.nunique()"
   ]
  },
  {
   "cell_type": "code",
   "execution_count": 29,
   "metadata": {},
   "outputs": [],
   "source": [
    "df['address'] = df['address'].str.lower()"
   ]
  },
  {
   "cell_type": "markdown",
   "metadata": {},
   "source": [
    "## floorNum"
   ]
  },
  {
   "cell_type": "code",
   "execution_count": 30,
   "metadata": {},
   "outputs": [
    {
     "data": {
      "text/html": [
       "<div>\n",
       "<style scoped>\n",
       "    .dataframe tbody tr th:only-of-type {\n",
       "        vertical-align: middle;\n",
       "    }\n",
       "\n",
       "    .dataframe tbody tr th {\n",
       "        vertical-align: top;\n",
       "    }\n",
       "\n",
       "    .dataframe thead th {\n",
       "        text-align: right;\n",
       "    }\n",
       "</style>\n",
       "<table border=\"1\" class=\"dataframe\">\n",
       "  <thead>\n",
       "    <tr style=\"text-align: right;\">\n",
       "      <th></th>\n",
       "      <th>property_name</th>\n",
       "      <th>link</th>\n",
       "      <th>society</th>\n",
       "      <th>price</th>\n",
       "      <th>area</th>\n",
       "      <th>areaWithType</th>\n",
       "      <th>bedRoom</th>\n",
       "      <th>bathroom</th>\n",
       "      <th>balcony</th>\n",
       "      <th>additionalRoom</th>\n",
       "      <th>address</th>\n",
       "      <th>floorNum</th>\n",
       "      <th>facing</th>\n",
       "      <th>agePossession</th>\n",
       "      <th>nearbyLocations</th>\n",
       "      <th>description</th>\n",
       "      <th>furnishDetails</th>\n",
       "      <th>features</th>\n",
       "      <th>rating</th>\n",
       "      <th>property_id</th>\n",
       "    </tr>\n",
       "  </thead>\n",
       "  <tbody>\n",
       "    <tr>\n",
       "      <th>181</th>\n",
       "      <td>3 BHK Flat in Dwarka Expressway Gurgaon</td>\n",
       "      <td>3-bhk-bedroom-apartment-flat-for-sale-in-dwark...</td>\n",
       "      <td>Experion Heartsong</td>\n",
       "      <td>108.0</td>\n",
       "      <td>₹ 6,150/sq.ft.</td>\n",
       "      <td>Built Up area: 1758 (163.32 sq.m.)</td>\n",
       "      <td>3</td>\n",
       "      <td>3</td>\n",
       "      <td>0</td>\n",
       "      <td>not available</td>\n",
       "      <td>604, tower b-3, 6th floor,sector 108, dwarka e...</td>\n",
       "      <td>NaN</td>\n",
       "      <td>NaN</td>\n",
       "      <td>Under Construction</td>\n",
       "      <td>[]</td>\n",
       "      <td>A property by one of the most reputed builders...</td>\n",
       "      <td>[]</td>\n",
       "      <td>[]</td>\n",
       "      <td>[]</td>\n",
       "      <td>G8922001</td>\n",
       "    </tr>\n",
       "  </tbody>\n",
       "</table>\n",
       "</div>"
      ],
      "text/plain": [
       "                               property_name  \\\n",
       "181  3 BHK Flat in Dwarka Expressway Gurgaon   \n",
       "\n",
       "                                                  link             society  \\\n",
       "181  3-bhk-bedroom-apartment-flat-for-sale-in-dwark...  Experion Heartsong   \n",
       "\n",
       "     price            area                        areaWithType bedRoom  \\\n",
       "181  108.0  ₹ 6,150/sq.ft.  Built Up area: 1758 (163.32 sq.m.)       3   \n",
       "\n",
       "    bathroom balcony additionalRoom  \\\n",
       "181        3       0  not available   \n",
       "\n",
       "                                               address floorNum facing  \\\n",
       "181  604, tower b-3, 6th floor,sector 108, dwarka e...      NaN    NaN   \n",
       "\n",
       "          agePossession nearbyLocations  \\\n",
       "181  Under Construction              []   \n",
       "\n",
       "                                           description furnishDetails  \\\n",
       "181  A property by one of the most reputed builders...             []   \n",
       "\n",
       "    features rating property_id  \n",
       "181       []     []    G8922001  "
      ]
     },
     "execution_count": 30,
     "metadata": {},
     "output_type": "execute_result"
    }
   ],
   "source": [
    "df[df['floorNum'].isnull()]"
   ]
  },
  {
   "cell_type": "code",
   "execution_count": 31,
   "metadata": {},
   "outputs": [
    {
     "data": {
      "text/plain": [
       "array(['4th', '1st', '12nd', '2nd', '5th', '3rd', '14th', '31st', '13rd',\n",
       "       '25th', 'Ground', '11st', '10th', '20th', '8th', '21st', '6th',\n",
       "       '9th', '18th', '29th', '7th', '15th', '32nd', '23rd', '43',\n",
       "       'Basement', '16th', '19th', nan, '17th', '30th', '28th', 'Lower',\n",
       "       '27th', '33rd', '35th', '26th', '39th', '22nd', '24th', '38th',\n",
       "       '45', '44', '34th', '40th'], dtype=object)"
      ]
     },
     "execution_count": 31,
     "metadata": {},
     "output_type": "execute_result"
    }
   ],
   "source": [
    "df['floorNum'].str.split(' ').str.get(0).str.strip().unique()"
   ]
  },
  {
   "cell_type": "code",
   "execution_count": 32,
   "metadata": {},
   "outputs": [
    {
     "data": {
      "text/plain": [
       "0"
      ]
     },
     "execution_count": 32,
     "metadata": {},
     "output_type": "execute_result"
    }
   ],
   "source": [
    "# No. of rows which does not contains the\n",
    "# \"Number of floor of the flat in the Apartment\"\n",
    "df[df['floorNum'].str.contains(' of ') == False].shape[0]"
   ]
  },
  {
   "cell_type": "code",
   "execution_count": 33,
   "metadata": {},
   "outputs": [
    {
     "data": {
      "text/html": [
       "<div>\n",
       "<style scoped>\n",
       "    .dataframe tbody tr th:only-of-type {\n",
       "        vertical-align: middle;\n",
       "    }\n",
       "\n",
       "    .dataframe tbody tr th {\n",
       "        vertical-align: top;\n",
       "    }\n",
       "\n",
       "    .dataframe thead th {\n",
       "        text-align: right;\n",
       "    }\n",
       "</style>\n",
       "<table border=\"1\" class=\"dataframe\">\n",
       "  <thead>\n",
       "    <tr style=\"text-align: right;\">\n",
       "      <th></th>\n",
       "      <th>0</th>\n",
       "      <th>1</th>\n",
       "    </tr>\n",
       "  </thead>\n",
       "  <tbody>\n",
       "    <tr>\n",
       "      <th>0</th>\n",
       "      <td>4th</td>\n",
       "      <td>4 Floors</td>\n",
       "    </tr>\n",
       "    <tr>\n",
       "      <th>1</th>\n",
       "      <td>1st</td>\n",
       "      <td>3 Floors</td>\n",
       "    </tr>\n",
       "    <tr>\n",
       "      <th>2</th>\n",
       "      <td>12nd</td>\n",
       "      <td>14 Floors</td>\n",
       "    </tr>\n",
       "    <tr>\n",
       "      <th>3</th>\n",
       "      <td>2nd</td>\n",
       "      <td>4 Floors</td>\n",
       "    </tr>\n",
       "    <tr>\n",
       "      <th>4</th>\n",
       "      <td>5th</td>\n",
       "      <td>8 Floors</td>\n",
       "    </tr>\n",
       "    <tr>\n",
       "      <th>...</th>\n",
       "      <td>...</td>\n",
       "      <td>...</td>\n",
       "    </tr>\n",
       "    <tr>\n",
       "      <th>2789</th>\n",
       "      <td>4th</td>\n",
       "      <td>4 Floors</td>\n",
       "    </tr>\n",
       "    <tr>\n",
       "      <th>2790</th>\n",
       "      <td>1st</td>\n",
       "      <td>3 Floors</td>\n",
       "    </tr>\n",
       "    <tr>\n",
       "      <th>2791</th>\n",
       "      <td>12nd</td>\n",
       "      <td>14 Floors</td>\n",
       "    </tr>\n",
       "    <tr>\n",
       "      <th>2792</th>\n",
       "      <td>2nd</td>\n",
       "      <td>4 Floors</td>\n",
       "    </tr>\n",
       "    <tr>\n",
       "      <th>2793</th>\n",
       "      <td>5th</td>\n",
       "      <td>8 Floors</td>\n",
       "    </tr>\n",
       "  </tbody>\n",
       "</table>\n",
       "<p>2785 rows × 2 columns</p>\n",
       "</div>"
      ],
      "text/plain": [
       "           0          1\n",
       "0      4th     4 Floors\n",
       "1      1st     3 Floors\n",
       "2     12nd    14 Floors\n",
       "3      2nd     4 Floors\n",
       "4      5th     8 Floors\n",
       "...      ...        ...\n",
       "2789   4th     4 Floors\n",
       "2790   1st     3 Floors\n",
       "2791  12nd    14 Floors\n",
       "2792   2nd     4 Floors\n",
       "2793   5th     8 Floors\n",
       "\n",
       "[2785 rows x 2 columns]"
      ]
     },
     "execution_count": 33,
     "metadata": {},
     "output_type": "execute_result"
    }
   ],
   "source": [
    "df['floorNum'].str.split(' of ', expand=True)"
   ]
  },
  {
   "cell_type": "code",
   "execution_count": 34,
   "metadata": {},
   "outputs": [
    {
     "data": {
      "text/html": [
       "<div>\n",
       "<style scoped>\n",
       "    .dataframe tbody tr th:only-of-type {\n",
       "        vertical-align: middle;\n",
       "    }\n",
       "\n",
       "    .dataframe tbody tr th {\n",
       "        vertical-align: top;\n",
       "    }\n",
       "\n",
       "    .dataframe thead th {\n",
       "        text-align: right;\n",
       "    }\n",
       "</style>\n",
       "<table border=\"1\" class=\"dataframe\">\n",
       "  <thead>\n",
       "    <tr style=\"text-align: right;\">\n",
       "      <th></th>\n",
       "      <th>nthFloor</th>\n",
       "      <th>totalFloor</th>\n",
       "    </tr>\n",
       "  </thead>\n",
       "  <tbody>\n",
       "    <tr>\n",
       "      <th>1881</th>\n",
       "      <td>12nd</td>\n",
       "      <td>34 Floors</td>\n",
       "    </tr>\n",
       "    <tr>\n",
       "      <th>2769</th>\n",
       "      <td>27th</td>\n",
       "      <td>30 Floors</td>\n",
       "    </tr>\n",
       "    <tr>\n",
       "      <th>2633</th>\n",
       "      <td>23rd</td>\n",
       "      <td>23 Floors</td>\n",
       "    </tr>\n",
       "    <tr>\n",
       "      <th>1577</th>\n",
       "      <td>27th</td>\n",
       "      <td>29 Floors</td>\n",
       "    </tr>\n",
       "    <tr>\n",
       "      <th>2018</th>\n",
       "      <td>2nd</td>\n",
       "      <td>4 Floors</td>\n",
       "    </tr>\n",
       "    <tr>\n",
       "      <th>2619</th>\n",
       "      <td>5th</td>\n",
       "      <td>10 Floors</td>\n",
       "    </tr>\n",
       "    <tr>\n",
       "      <th>2452</th>\n",
       "      <td>17th</td>\n",
       "      <td>26 Floors</td>\n",
       "    </tr>\n",
       "  </tbody>\n",
       "</table>\n",
       "</div>"
      ],
      "text/plain": [
       "     nthFloor totalFloor\n",
       "1881   12nd    34 Floors\n",
       "2769   27th    30 Floors\n",
       "2633   23rd    23 Floors\n",
       "1577   27th    29 Floors\n",
       "2018    2nd     4 Floors\n",
       "2619    5th    10 Floors\n",
       "2452   17th    26 Floors"
      ]
     },
     "execution_count": 34,
     "metadata": {},
     "output_type": "execute_result"
    }
   ],
   "source": [
    "df[['nthFloor', 'totalFloor']] = df['floorNum'].str.split(' of ', expand=True)\n",
    "df[['nthFloor', 'totalFloor']].sample(7)"
   ]
  },
  {
   "cell_type": "code",
   "execution_count": 35,
   "metadata": {},
   "outputs": [],
   "source": [
    "def handle_nthFloor(x: str) -> float:\n",
    "    if x in ['Ground', 'Lower Ground', 'Basement']:\n",
    "        return 0\n",
    "    if isinstance(x, float):\n",
    "        return x\n",
    "    if len(x) > 2:\n",
    "        return int(x[:-2])\n",
    "    return int(x)"
   ]
  },
  {
   "cell_type": "code",
   "execution_count": 36,
   "metadata": {},
   "outputs": [],
   "source": [
    "# There is 1 nan which throw error\n",
    "df['nthFloor'] = df['nthFloor'].str.strip().apply(handle_nthFloor)"
   ]
  },
  {
   "cell_type": "code",
   "execution_count": 37,
   "metadata": {},
   "outputs": [],
   "source": [
    "df['totalFloor'] = df['totalFloor'].str.removesuffix(' Floors').astype(float)"
   ]
  },
  {
   "cell_type": "markdown",
   "metadata": {},
   "source": [
    "As the Sir suggests to merge the both dataset **flats and houses** we doesn't need `totalFloor` column because it is not present in **houses** dataset."
   ]
  },
  {
   "cell_type": "markdown",
   "metadata": {},
   "source": [
    "## facing"
   ]
  },
  {
   "cell_type": "code",
   "execution_count": 38,
   "metadata": {},
   "outputs": [
    {
     "data": {
      "text/plain": [
       "array(['West', nan, 'North-East', 'South-East', 'North', 'South-West',\n",
       "       'East', 'North-West', 'South'], dtype=object)"
      ]
     },
     "execution_count": 38,
     "metadata": {},
     "output_type": "execute_result"
    }
   ],
   "source": [
    "df.facing.unique()"
   ]
  },
  {
   "cell_type": "code",
   "execution_count": 39,
   "metadata": {},
   "outputs": [
    {
     "data": {
      "text/plain": [
       "0.26858168761220824"
      ]
     },
     "execution_count": 39,
     "metadata": {},
     "output_type": "execute_result"
    }
   ],
   "source": [
    "# Approx. 26% data is null\n",
    "df.facing.isnull().sum() / df.shape[0]"
   ]
  },
  {
   "cell_type": "markdown",
   "metadata": {},
   "source": [
    "**Facing** column is cleaned no need to worry about it. But it has 26% missing values."
   ]
  },
  {
   "cell_type": "code",
   "execution_count": 40,
   "metadata": {},
   "outputs": [],
   "source": [
    "df['facing'].fillna('NA', inplace=True)"
   ]
  },
  {
   "cell_type": "markdown",
   "metadata": {},
   "source": [
    "## agePossession"
   ]
  },
  {
   "cell_type": "code",
   "execution_count": 41,
   "metadata": {},
   "outputs": [
    {
     "data": {
      "text/plain": [
       "array(['1 to 5 Year Old', '10+ Year Old', '0 to 1 Year Old', 'Dec 2023',\n",
       "       'Under Construction', 'undefined', 'Jun 2024', 'Mar 2024',\n",
       "       'Dec 2025', 'By 2023', '5 to 10 Year Old', 'Sep 2025', 'Jan 2024',\n",
       "       'Within 6 months', 'Jan 2027', 'Dec 2024', 'Oct 2024', 'Nov 2023',\n",
       "       'Jul 2026', 'Feb 2024', 'Oct 2023', 'Jan 2025', 'Aug 2023', nan,\n",
       "       'By 2024', 'Apr 2024', 'Nov 2025', 'Dec 2026', 'Within 3 months',\n",
       "       'Apr 2026', 'By 2025', 'Jul 2027', 'Sep 2023', 'By 2027',\n",
       "       'Jan 2026', 'May 2024', 'Nov 2024', 'Aug 2024', 'Jun 2027',\n",
       "       'Mar 2025', 'Jul 2024', 'Jul 2025', 'Sep 2027', 'Jun 2025',\n",
       "       'Jan 2028', 'Aug 2026', 'Mar 2026', 'Aug 2025', 'Oct 2025'],\n",
       "      dtype=object)"
      ]
     },
     "execution_count": 41,
     "metadata": {},
     "output_type": "execute_result"
    }
   ],
   "source": [
    "df['agePossession'].unique()"
   ]
  },
  {
   "cell_type": "markdown",
   "metadata": {},
   "source": [
    "I perform feature extraction on `agePossession` column in [`1.1_FEAT_ENG.ipynb`](./1.1_FEAT_ENG.ipynb) notebook."
   ]
  },
  {
   "cell_type": "markdown",
   "metadata": {},
   "source": [
    "## nearbyLocations"
   ]
  },
  {
   "cell_type": "markdown",
   "metadata": {},
   "source": [
    "#### This data cleaning is done by me although Sir is also going to do but I already did the cleaning in my own way."
   ]
  },
  {
   "cell_type": "code",
   "execution_count": 42,
   "metadata": {},
   "outputs": [
    {
     "data": {
      "text/plain": [
       "0"
      ]
     },
     "execution_count": 42,
     "metadata": {},
     "output_type": "execute_result"
    }
   ],
   "source": [
    "df['nearbyLocations'].isnull().sum()"
   ]
  },
  {
   "cell_type": "code",
   "execution_count": 43,
   "metadata": {},
   "outputs": [
    {
     "data": {
      "text/plain": [
       "1863"
      ]
     },
     "execution_count": 43,
     "metadata": {},
     "output_type": "execute_result"
    }
   ],
   "source": [
    "df['nearbyLocations'].explode().nunique()"
   ]
  },
  {
   "cell_type": "code",
   "execution_count": 44,
   "metadata": {},
   "outputs": [
    {
     "data": {
      "text/plain": [
       "50"
      ]
     },
     "execution_count": 44,
     "metadata": {},
     "output_type": "execute_result"
    }
   ],
   "source": [
    "# Some flats has about 50 nearby locations\n",
    "df['nearbyLocations'].apply(len).max()"
   ]
  },
  {
   "cell_type": "code",
   "execution_count": 45,
   "metadata": {},
   "outputs": [
    {
     "data": {
      "text/plain": [
       "nearbyLocations\n",
       "Indira Gandhi International Airport    999\n",
       "Dwarka Expressway                      629\n",
       "SkyJumper Trampoline Park              476\n",
       "Indira Gandhi Intl Airport             407\n",
       "DPG Institute of Technology            386\n",
       "Hdfc bank                              386\n",
       "Garhi Harsaru Junction                 272\n",
       "Sapphire 83 Mall                       247\n",
       "The NorthCap University                239\n",
       "Gurgaon Railway Station                237\n",
       "Icici bank ATM                         233\n",
       "IMT Manesar                            212\n",
       "Icici bank                             209\n",
       "IGI Airport                            206\n",
       "Pizza Hut                              204\n",
       "Name: count, dtype: int64"
      ]
     },
     "execution_count": 45,
     "metadata": {},
     "output_type": "execute_result"
    }
   ],
   "source": [
    "df['nearbyLocations'].explode().value_counts()[:15]"
   ]
  },
  {
   "cell_type": "markdown",
   "metadata": {},
   "source": [
    "### Categorize Nearby Locations"
   ]
  },
  {
   "cell_type": "code",
   "execution_count": 46,
   "metadata": {},
   "outputs": [],
   "source": [
    "locations_category_map = [\n",
    "    {\n",
    "        'Transportation': [\n",
    "            'airport',\n",
    "            'expressway',\n",
    "            'metro',\n",
    "            'railway',\n",
    "            'road',\n",
    "            'junction',\n",
    "            'highway',\n",
    "            'cng',\n",
    "            'Hwy',\n",
    "            'rd',\n",
    "            'nh',\n",
    "            'expy',\n",
    "        ]\n",
    "    },\n",
    "    {'Education': ['school', 'college', 'university', 'academy', 'institute']},\n",
    "    {\n",
    "        'Healthcare': [\n",
    "            'hospital',\n",
    "            'clinic',\n",
    "            'health',\n",
    "            'medical',\n",
    "            'nursing',\n",
    "            'dr',\n",
    "            'Dental',\n",
    "            'Pharmacy',\n",
    "            'eye',\n",
    "            'patient',\n",
    "        ]\n",
    "    },\n",
    "    {'Shopping': ['mall', 'market', 'shopping centre', 'complex', 'plaza', 'retail', 'chowk']},\n",
    "    {\n",
    "        'Dining': [\n",
    "            'restaurant',\n",
    "            'cafe',\n",
    "            'food',\n",
    "            'pizza',\n",
    "            'burger',\n",
    "            'coffee',\n",
    "            'kfc',\n",
    "            'McDonald',\n",
    "            'dhaba',\n",
    "            'mess',\n",
    "            'Mithaas',\n",
    "            'Tastes',\n",
    "            'spice',\n",
    "            'kitchen',\n",
    "            'Haldiram',\n",
    "        ]\n",
    "    },\n",
    "    {'Accommodation': ['hotel', 'resort', 'inn', 'lodging']},\n",
    "    {\n",
    "        'Entertainment': [\n",
    "            'park',\n",
    "            'amusement',\n",
    "            'waterpark',\n",
    "            'theatre',\n",
    "            'cinema',\n",
    "            'pub',\n",
    "            'club',\n",
    "            'zoo',\n",
    "            'stadium',\n",
    "            'arena',\n",
    "            'gym',\n",
    "            'golf',\n",
    "            'cricket',\n",
    "            'tennis',\n",
    "        ]\n",
    "    },\n",
    "    {'Service': ['bank', 'pump', 'oil', 'atm']},\n",
    "]"
   ]
  },
  {
   "cell_type": "code",
   "execution_count": 47,
   "metadata": {},
   "outputs": [],
   "source": [
    "def categorize(value, category_map):\n",
    "    for category_dict in category_map:\n",
    "        for category, keywords in category_dict.items():\n",
    "            if isinstance(value, float):\n",
    "                return 'Other'\n",
    "\n",
    "            if any(keyword.lower() in value.lower() for keyword in keywords):\n",
    "                return category\n",
    "    return 'Other'"
   ]
  },
  {
   "cell_type": "code",
   "execution_count": 48,
   "metadata": {},
   "outputs": [
    {
     "data": {
      "text/plain": [
       "75"
      ]
     },
     "execution_count": 48,
     "metadata": {},
     "output_type": "execute_result"
    }
   ],
   "source": [
    "df['nearbyLocations'].explode().isnull().sum()"
   ]
  },
  {
   "cell_type": "code",
   "execution_count": 49,
   "metadata": {},
   "outputs": [
    {
     "data": {
      "text/plain": [
       "1864"
      ]
     },
     "execution_count": 49,
     "metadata": {},
     "output_type": "execute_result"
    }
   ],
   "source": [
    "all_nearby_locations = df['nearbyLocations'].explode().unique().tolist()\n",
    "len(all_nearby_locations)"
   ]
  },
  {
   "cell_type": "markdown",
   "metadata": {},
   "source": [
    "#### Categorized Locations DataFrame"
   ]
  },
  {
   "cell_type": "code",
   "execution_count": 50,
   "metadata": {},
   "outputs": [],
   "source": [
    "# Create a DataFrame with categorized locations\n",
    "categorized_locations = []\n",
    "for items in all_nearby_locations:\n",
    "    category = categorize(items, locations_category_map)\n",
    "    categorized_locations.append({'Location': items, 'Category': category})"
   ]
  },
  {
   "cell_type": "code",
   "execution_count": 51,
   "metadata": {},
   "outputs": [
    {
     "data": {
      "text/html": [
       "<div>\n",
       "<style scoped>\n",
       "    .dataframe tbody tr th:only-of-type {\n",
       "        vertical-align: middle;\n",
       "    }\n",
       "\n",
       "    .dataframe tbody tr th {\n",
       "        vertical-align: top;\n",
       "    }\n",
       "\n",
       "    .dataframe thead th {\n",
       "        text-align: right;\n",
       "    }\n",
       "</style>\n",
       "<table border=\"1\" class=\"dataframe\">\n",
       "  <thead>\n",
       "    <tr style=\"text-align: right;\">\n",
       "      <th></th>\n",
       "      <th>Location</th>\n",
       "      <th>Category</th>\n",
       "    </tr>\n",
       "  </thead>\n",
       "  <tbody>\n",
       "    <tr>\n",
       "      <th>0</th>\n",
       "      <td>Chintapurni Mandir</td>\n",
       "      <td>Other</td>\n",
       "    </tr>\n",
       "    <tr>\n",
       "      <th>1</th>\n",
       "      <td>State bank ATM</td>\n",
       "      <td>Service</td>\n",
       "    </tr>\n",
       "    <tr>\n",
       "      <th>2</th>\n",
       "      <td>Pearl Dental Clinic</td>\n",
       "      <td>Healthcare</td>\n",
       "    </tr>\n",
       "    <tr>\n",
       "      <th>3</th>\n",
       "      <td>Taneja Hospital</td>\n",
       "      <td>Healthcare</td>\n",
       "    </tr>\n",
       "    <tr>\n",
       "      <th>4</th>\n",
       "      <td>Dr. Ashok Jain</td>\n",
       "      <td>Healthcare</td>\n",
       "    </tr>\n",
       "  </tbody>\n",
       "</table>\n",
       "</div>"
      ],
      "text/plain": [
       "              Location    Category\n",
       "0   Chintapurni Mandir       Other\n",
       "1       State bank ATM     Service\n",
       "2  Pearl Dental Clinic  Healthcare\n",
       "3      Taneja Hospital  Healthcare\n",
       "4       Dr. Ashok Jain  Healthcare"
      ]
     },
     "execution_count": 51,
     "metadata": {},
     "output_type": "execute_result"
    }
   ],
   "source": [
    "cat_loc_df = pd.DataFrame(categorized_locations)\n",
    "cat_loc_df.head()"
   ]
  },
  {
   "cell_type": "code",
   "execution_count": 52,
   "metadata": {},
   "outputs": [
    {
     "data": {
      "text/plain": [
       "Category\n",
       "Other             450\n",
       "Healthcare        414\n",
       "Education         288\n",
       "Transportation    287\n",
       "Shopping          128\n",
       "Service           106\n",
       "Entertainment      96\n",
       "Accommodation      49\n",
       "Dining             46\n",
       "Name: count, dtype: int64"
      ]
     },
     "execution_count": 52,
     "metadata": {},
     "output_type": "execute_result"
    }
   ],
   "source": [
    "cat_loc_df['Category'].value_counts()"
   ]
  },
  {
   "cell_type": "code",
   "execution_count": 53,
   "metadata": {},
   "outputs": [
    {
     "data": {
      "text/plain": [
       "450"
      ]
     },
     "execution_count": 53,
     "metadata": {},
     "output_type": "execute_result"
    }
   ],
   "source": [
    "cat_loc_df['Location'][cat_loc_df['Category'] == 'Other'].shape[0]"
   ]
  },
  {
   "cell_type": "markdown",
   "metadata": {},
   "source": [
    "There are many locations which are not classified by this method but I will deal with this after watching the CampusX approach."
   ]
  },
  {
   "cell_type": "markdown",
   "metadata": {},
   "source": [
    "### Perform Feature Extraction"
   ]
  },
  {
   "cell_type": "code",
   "execution_count": 54,
   "metadata": {},
   "outputs": [],
   "source": [
    "def perform_feature_extraction(\n",
    "    df: DataFrame,\n",
    "    column_containing_locations: str,\n",
    "    category_map: list[dict[str, list[str]]],\n",
    ") -> DataFrame:\n",
    "    # Create new columns for each category\n",
    "    new_cols = []\n",
    "    for category_dict in category_map:\n",
    "        for category in category_dict.keys():\n",
    "            df[category] = 0\n",
    "            new_cols.append(category)\n",
    "\n",
    "    # Iterate through each row and update category counts\n",
    "    for index, row in df.iterrows():\n",
    "        location_counts = {category: 0 for category in new_cols}\n",
    "\n",
    "        for location in row[column_containing_locations]:\n",
    "            category = categorize(location, category_map)\n",
    "            if category != 'Other':\n",
    "                location_counts[category] += 1\n",
    "\n",
    "        df.loc[index, new_cols] = pd.Series(location_counts)  # type: ignore\n",
    "\n",
    "    return df"
   ]
  },
  {
   "cell_type": "code",
   "execution_count": 55,
   "metadata": {},
   "outputs": [
    {
     "data": {
      "text/plain": [
       "(2785, 30)"
      ]
     },
     "execution_count": 55,
     "metadata": {},
     "output_type": "execute_result"
    }
   ],
   "source": [
    "df = perform_feature_extraction(df, 'nearbyLocations', locations_category_map)\n",
    "df.shape"
   ]
  },
  {
   "cell_type": "markdown",
   "metadata": {},
   "source": [
    "## rating"
   ]
  },
  {
   "cell_type": "code",
   "execution_count": 56,
   "metadata": {},
   "outputs": [
    {
     "data": {
      "text/plain": [
       "[['Green Area5 out of 5',\n",
       "  'Construction4 out of 5',\n",
       "  'Management4 out of 5',\n",
       "  'Amenities5 out of 5',\n",
       "  'Connectivity4 out of 5'],\n",
       " ['Green Area4.5 out of 5',\n",
       "  'Construction4 out of 5',\n",
       "  'Management3 out of 5',\n",
       "  'Amenities4 out of 5',\n",
       "  'Connectivity4 out of 5'],\n",
       " ['Environment4 out of 5',\n",
       "  'Lifestyle4 out of 5',\n",
       "  'Connectivity4 out of 5',\n",
       "  'Safety4 out of 5'],\n",
       " ['Green Area5 out of 5',\n",
       "  'Construction4 out of 5',\n",
       "  'Management4.5 out of 5',\n",
       "  'Amenities5 out of 5',\n",
       "  'Connectivity4 out of 5'],\n",
       " []]"
      ]
     },
     "execution_count": 56,
     "metadata": {},
     "output_type": "execute_result"
    }
   ],
   "source": [
    "df['rating'].sample(5).tolist()"
   ]
  },
  {
   "cell_type": "code",
   "execution_count": 57,
   "metadata": {},
   "outputs": [
    {
     "data": {
      "text/plain": [
       "1155"
      ]
     },
     "execution_count": 57,
     "metadata": {},
     "output_type": "execute_result"
    }
   ],
   "source": [
    "df['rating'].astype(str).str.extract(r'Green Area(\\d)').isnull().sum()[0]"
   ]
  },
  {
   "cell_type": "code",
   "execution_count": 58,
   "metadata": {},
   "outputs": [
    {
     "data": {
      "text/plain": [
       "1954"
      ]
     },
     "execution_count": 58,
     "metadata": {},
     "output_type": "execute_result"
    }
   ],
   "source": [
    "df['rating'].astype(str).str.extract(r'Safety(\\d)').isnull().sum()[0]"
   ]
  },
  {
   "cell_type": "code",
   "execution_count": 59,
   "metadata": {},
   "outputs": [
    {
     "data": {
      "text/plain": [
       "324"
      ]
     },
     "execution_count": 59,
     "metadata": {},
     "output_type": "execute_result"
    }
   ],
   "source": [
    "df['rating'].astype(str).str.extract(r'Connectivity(\\d)').isnull().sum()[0]"
   ]
  },
  {
   "cell_type": "code",
   "execution_count": 60,
   "metadata": {},
   "outputs": [
    {
     "data": {
      "text/plain": [
       "4    1477\n",
       "5     622\n",
       "3     339\n",
       "2      23\n",
       "Name: count, dtype: int64"
      ]
     },
     "execution_count": 60,
     "metadata": {},
     "output_type": "execute_result"
    }
   ],
   "source": [
    "df['rating'].astype(str).str.extract(r'Connectivity(\\d)').value_counts()"
   ]
  },
  {
   "cell_type": "markdown",
   "metadata": {},
   "source": [
    "- In my opinion, rating column has no use because if you try to extract the feature like you get many null values.\n",
    "- If you filtered it then you get unblanced data.\n",
    "\n",
    "**That's why we are going to remove this column**"
   ]
  },
  {
   "cell_type": "markdown",
   "metadata": {},
   "source": [
    "## features\n",
    "\n",
    "There are 31 distinct features given in the dataset."
   ]
  },
  {
   "cell_type": "code",
   "execution_count": 61,
   "metadata": {},
   "outputs": [
    {
     "data": {
      "text/plain": [
       "array(['Feng Shui / Vaastu Compliant', 'Security / Fire Alarm', 'Lift(s)',\n",
       "       'Water Storage', 'Visitor Parking', 'Maintenance Staff', 'Park',\n",
       "       'Power Back-up', 'Intercom Facility', 'Swimming Pool',\n",
       "       'Fitness Centre / GYM', 'Club house / Community Center',\n",
       "       'Private Garden / Terrace', 'False Ceiling Lighting',\n",
       "       'Natural Light', 'Airy Rooms', 'Water softening plant', nan,\n",
       "       'Security Personnel', 'Internet/wi-fi connectivity',\n",
       "       'Rain Water Harvesting', 'Separate entry for servant room',\n",
       "       'Spacious Interiors', 'Waste Disposal', 'Piped-gas',\n",
       "       'Shopping Centre', 'Water purifier', 'No open drainage around',\n",
       "       'Low Density Society', 'Bank Attached Property',\n",
       "       'High Ceiling Height', 'Centrally Air Conditioned',\n",
       "       'Recently Renovated'], dtype=object)"
      ]
     },
     "execution_count": 61,
     "metadata": {},
     "output_type": "execute_result"
    }
   ],
   "source": [
    "df['features'].explode().unique()"
   ]
  },
  {
   "cell_type": "code",
   "execution_count": 62,
   "metadata": {},
   "outputs": [
    {
     "data": {
      "text/plain": [
       "features\n",
       "Lift(s)                          2321\n",
       "Park                             2299\n",
       "Maintenance Staff                2093\n",
       "Intercom Facility                1966\n",
       "Visitor Parking                  1864\n",
       "Security / Fire Alarm            1762\n",
       "Water Storage                    1744\n",
       "Fitness Centre / GYM             1638\n",
       "Feng Shui / Vaastu Compliant     1634\n",
       "Club house / Community Center    1611\n",
       "Name: count, dtype: int64"
      ]
     },
     "execution_count": 62,
     "metadata": {},
     "output_type": "execute_result"
    }
   ],
   "source": [
    "df['features'].explode().value_counts()[:10]"
   ]
  },
  {
   "cell_type": "markdown",
   "metadata": {},
   "source": [
    "SIR already perform some other method on this column which is more helpful for analysis."
   ]
  },
  {
   "cell_type": "markdown",
   "metadata": {},
   "source": [
    "## furnishDetails\n",
    "\n",
    "There are 132 distinct **furnishDetails** given in the dataset."
   ]
  },
  {
   "cell_type": "code",
   "execution_count": 63,
   "metadata": {},
   "outputs": [
    {
     "name": "stdout",
     "output_type": "stream",
     "text": [
      "nunique:  131\n"
     ]
    },
    {
     "data": {
      "text/plain": [
       "array(['3 Fan', '4 Light', '1 Wardrobe', 'No AC', 'No Bed', 'No Chimney',\n",
       "       'No Curtains', 'No Dining Table', 'No Exhaust Fan', 'No Geyser',\n",
       "       'No Modular Kitchen', 'No Microwave', 'No Fridge', 'No Sofa',\n",
       "       'No Stove', 'No TV', 'No Washing Machine', 'No Water Purifier',\n",
       "       '3 Wardrobe', '4 Fan', '1 Exhaust Fan', '1 Geyser', '3 Light',\n",
       "       '1 Curtains', '1 Chimney', '1 Modular Kitchen', nan,\n",
       "       '1 Water Purifier', '2 Fan', '2 AC', 'No Wardrobe', '1 Light',\n",
       "       'No Fan', '1 Fan', '5 AC', 'No Light', '5 Wardrobe', '8 Fan',\n",
       "       '20 Light', '6 Fan', '4 Geyser', '55 Light', '10 Wardrobe',\n",
       "       '7 Fan', '11 Light', '7 AC', '2 Wardrobe', '10 Light', '3 Bed',\n",
       "       '1 Sofa', '1 Dining Table', '3 Geyser', '2 TV', '2 Geyser',\n",
       "       '6 Light', '6 Geyser', '1 Stove', '7 Light', '3 AC', '1 Fridge',\n",
       "       '1 Washing Machine', '1 Microwave', '1 AC', '1 Bed', '5 Light',\n",
       "       '2 Bed', '4 Wardrobe', '2 Light', '1 TV', '4 Curtains', '12 Light',\n",
       "       '10 AC', '5 Fan', '33 Light', '4 AC', '9 Light', '15 Light',\n",
       "       '3 Curtains', '14 Light', '8 Light', '25 Light', '16 Light',\n",
       "       '6 AC', '30 Light', '99 Light', '6 Wardrobe', '10 Fan', '4 Bed',\n",
       "       '5 Geyser', '6 Curtains', '12 Fan', '50 Light', '18 Light', '8 AC',\n",
       "       '7 Wardrobe', '2 Microwave', '17 Light', '22 Light', '9 Fan',\n",
       "       '5 Curtains', '23 Light', '9 Wardrobe', '8 Curtains', '13 Light',\n",
       "       '15 Fan', '11 Fan', '7 Geyser', '7 Curtains', '9 Curtains',\n",
       "       '21 Light', '19 Light', '4 TV', '2 Curtains', '9 AC', '24 Light',\n",
       "       '3 Chimney', '26 Light', '3 TV', '12 AC', '2 Chimney', '29 Light',\n",
       "       '32 Light', '35 Light', '40 Light', '14 AC', '13 Wardrobe',\n",
       "       '10 Curtains', '70 Light', '11 Wardrobe', '15 Curtains',\n",
       "       '16 Curtains', '51 Light'], dtype=object)"
      ]
     },
     "execution_count": 63,
     "metadata": {},
     "output_type": "execute_result"
    }
   ],
   "source": [
    "print('nunique: ', df['furnishDetails'].explode().nunique())\n",
    "df['furnishDetails'].explode().unique()"
   ]
  },
  {
   "cell_type": "code",
   "execution_count": 64,
   "metadata": {},
   "outputs": [
    {
     "data": {
      "text/plain": [
       "furnishDetails\n",
       "No TV                 1661\n",
       "No Bed                1642\n",
       "No Dining Table       1641\n",
       "No Sofa               1626\n",
       "No Washing Machine    1609\n",
       "No Fridge             1601\n",
       "No Microwave          1581\n",
       "No Water Purifier     1493\n",
       "No Stove              1391\n",
       "No Curtains           1321\n",
       "Name: count, dtype: int64"
      ]
     },
     "execution_count": 64,
     "metadata": {},
     "output_type": "execute_result"
    }
   ],
   "source": [
    "df['furnishDetails'].explode().value_counts()[:10]"
   ]
  },
  {
   "cell_type": "markdown",
   "metadata": {},
   "source": [
    "SIR already perform some other method on this column which is more helpful for analysis."
   ]
  },
  {
   "cell_type": "markdown",
   "metadata": {},
   "source": [
    "# General Steps"
   ]
  },
  {
   "cell_type": "code",
   "execution_count": 65,
   "metadata": {},
   "outputs": [
    {
     "data": {
      "text/plain": [
       "(2785, 30)"
      ]
     },
     "execution_count": 65,
     "metadata": {},
     "output_type": "execute_result"
    }
   ],
   "source": [
    "df.shape"
   ]
  },
  {
   "cell_type": "code",
   "execution_count": 66,
   "metadata": {},
   "outputs": [
    {
     "data": {
      "text/html": [
       "<div>\n",
       "<style scoped>\n",
       "    .dataframe tbody tr th:only-of-type {\n",
       "        vertical-align: middle;\n",
       "    }\n",
       "\n",
       "    .dataframe tbody tr th {\n",
       "        vertical-align: top;\n",
       "    }\n",
       "\n",
       "    .dataframe thead th {\n",
       "        text-align: right;\n",
       "    }\n",
       "</style>\n",
       "<table border=\"1\" class=\"dataframe\">\n",
       "  <thead>\n",
       "    <tr style=\"text-align: right;\">\n",
       "      <th></th>\n",
       "      <th>2158</th>\n",
       "      <th>590</th>\n",
       "    </tr>\n",
       "  </thead>\n",
       "  <tbody>\n",
       "    <tr>\n",
       "      <th>property_name</th>\n",
       "      <td>4 BHK Flat in Cyber City</td>\n",
       "      <td>4 BHK Flat in Gwal Pahari</td>\n",
       "    </tr>\n",
       "    <tr>\n",
       "      <th>link</th>\n",
       "      <td>4-bhk-bedroom-apartment-flat-for-sale-in-dlf-3...</td>\n",
       "      <td>4-bhk-bedroom-apartment-flat-for-sale-in-krris...</td>\n",
       "    </tr>\n",
       "    <tr>\n",
       "      <th>society</th>\n",
       "      <td>Dlf 3 Apartment</td>\n",
       "      <td>Krrish Provence Estate</td>\n",
       "    </tr>\n",
       "    <tr>\n",
       "      <th>price</th>\n",
       "      <td>250.0</td>\n",
       "      <td>525.0</td>\n",
       "    </tr>\n",
       "    <tr>\n",
       "      <th>area</th>\n",
       "      <td>₹ 7,142/sq.ft.</td>\n",
       "      <td>₹ 9,051/sq.ft.</td>\n",
       "    </tr>\n",
       "    <tr>\n",
       "      <th>areaWithType</th>\n",
       "      <td>Super Built up area 3500(325.16 sq.m.)</td>\n",
       "      <td>Super Built up area 5800(538.84 sq.m.)</td>\n",
       "    </tr>\n",
       "    <tr>\n",
       "      <th>bedRoom</th>\n",
       "      <td>4</td>\n",
       "      <td>4</td>\n",
       "    </tr>\n",
       "    <tr>\n",
       "      <th>bathroom</th>\n",
       "      <td>4</td>\n",
       "      <td>5</td>\n",
       "    </tr>\n",
       "    <tr>\n",
       "      <th>balcony</th>\n",
       "      <td>-1</td>\n",
       "      <td>-1</td>\n",
       "    </tr>\n",
       "    <tr>\n",
       "      <th>additionalRoom</th>\n",
       "      <td>Pooja Room,Study Room,Servant Room</td>\n",
       "      <td>Pooja Room,Study Room,Servant Room</td>\n",
       "    </tr>\n",
       "    <tr>\n",
       "      <th>address</th>\n",
       "      <td>u 27/7, cyber city, gurgaon, haryana</td>\n",
       "      <td>gwal pahari, gurgaon, haryana</td>\n",
       "    </tr>\n",
       "    <tr>\n",
       "      <th>floorNum</th>\n",
       "      <td>2nd   of 2 Floors</td>\n",
       "      <td>2nd   of 26 Floors</td>\n",
       "    </tr>\n",
       "    <tr>\n",
       "      <th>facing</th>\n",
       "      <td>North-West</td>\n",
       "      <td>North-East</td>\n",
       "    </tr>\n",
       "    <tr>\n",
       "      <th>agePossession</th>\n",
       "      <td>10+ Year Old</td>\n",
       "      <td>0 to 1 Year Old</td>\n",
       "    </tr>\n",
       "    <tr>\n",
       "      <th>nearbyLocations</th>\n",
       "      <td>[Vodafone belvedere towers metro station, Indu...</td>\n",
       "      <td>[Tniy Toons School, Pathways School Gurgoan, M...</td>\n",
       "    </tr>\n",
       "    <tr>\n",
       "      <th>description</th>\n",
       "      <td>4 master bedroom attached washroom and balconi...</td>\n",
       "      <td>Luxury apartment for sale krrish provence loca...</td>\n",
       "    </tr>\n",
       "    <tr>\n",
       "      <th>furnishDetails</th>\n",
       "      <td>[4 Wardrobe, 6 Fan, 1 Exhaust Fan, 4 Geyser, 1...</td>\n",
       "      <td>[]</td>\n",
       "    </tr>\n",
       "    <tr>\n",
       "      <th>features</th>\n",
       "      <td>[Security Personnel, Internet/wi-fi connectivity]</td>\n",
       "      <td>[Feng Shui / Vaastu Compliant, Security / Fire...</td>\n",
       "    </tr>\n",
       "    <tr>\n",
       "      <th>rating</th>\n",
       "      <td>[Environment5 out of 5, Lifestyle5 out of 5, C...</td>\n",
       "      <td>[]</td>\n",
       "    </tr>\n",
       "    <tr>\n",
       "      <th>property_id</th>\n",
       "      <td>S69824660</td>\n",
       "      <td>I68212060</td>\n",
       "    </tr>\n",
       "    <tr>\n",
       "      <th>nthFloor</th>\n",
       "      <td>2.0</td>\n",
       "      <td>2.0</td>\n",
       "    </tr>\n",
       "    <tr>\n",
       "      <th>totalFloor</th>\n",
       "      <td>2.0</td>\n",
       "      <td>26.0</td>\n",
       "    </tr>\n",
       "    <tr>\n",
       "      <th>Transportation</th>\n",
       "      <td>7</td>\n",
       "      <td>0</td>\n",
       "    </tr>\n",
       "    <tr>\n",
       "      <th>Education</th>\n",
       "      <td>0</td>\n",
       "      <td>4</td>\n",
       "    </tr>\n",
       "    <tr>\n",
       "      <th>Healthcare</th>\n",
       "      <td>16</td>\n",
       "      <td>1</td>\n",
       "    </tr>\n",
       "    <tr>\n",
       "      <th>Shopping</th>\n",
       "      <td>0</td>\n",
       "      <td>0</td>\n",
       "    </tr>\n",
       "    <tr>\n",
       "      <th>Dining</th>\n",
       "      <td>3</td>\n",
       "      <td>2</td>\n",
       "    </tr>\n",
       "    <tr>\n",
       "      <th>Accommodation</th>\n",
       "      <td>0</td>\n",
       "      <td>0</td>\n",
       "    </tr>\n",
       "    <tr>\n",
       "      <th>Entertainment</th>\n",
       "      <td>1</td>\n",
       "      <td>0</td>\n",
       "    </tr>\n",
       "    <tr>\n",
       "      <th>Service</th>\n",
       "      <td>6</td>\n",
       "      <td>5</td>\n",
       "    </tr>\n",
       "  </tbody>\n",
       "</table>\n",
       "</div>"
      ],
      "text/plain": [
       "                                                              2158  \\\n",
       "property_name                             4 BHK Flat in Cyber City   \n",
       "link             4-bhk-bedroom-apartment-flat-for-sale-in-dlf-3...   \n",
       "society                                            Dlf 3 Apartment   \n",
       "price                                                        250.0   \n",
       "area                                                ₹ 7,142/sq.ft.   \n",
       "areaWithType                Super Built up area 3500(325.16 sq.m.)   \n",
       "bedRoom                                                          4   \n",
       "bathroom                                                         4   \n",
       "balcony                                                         -1   \n",
       "additionalRoom                  Pooja Room,Study Room,Servant Room   \n",
       "address                       u 27/7, cyber city, gurgaon, haryana   \n",
       "floorNum                                         2nd   of 2 Floors   \n",
       "facing                                                  North-West   \n",
       "agePossession                                         10+ Year Old   \n",
       "nearbyLocations  [Vodafone belvedere towers metro station, Indu...   \n",
       "description      4 master bedroom attached washroom and balconi...   \n",
       "furnishDetails   [4 Wardrobe, 6 Fan, 1 Exhaust Fan, 4 Geyser, 1...   \n",
       "features         [Security Personnel, Internet/wi-fi connectivity]   \n",
       "rating           [Environment5 out of 5, Lifestyle5 out of 5, C...   \n",
       "property_id                                              S69824660   \n",
       "nthFloor                                                       2.0   \n",
       "totalFloor                                                     2.0   \n",
       "Transportation                                                   7   \n",
       "Education                                                        0   \n",
       "Healthcare                                                      16   \n",
       "Shopping                                                         0   \n",
       "Dining                                                           3   \n",
       "Accommodation                                                    0   \n",
       "Entertainment                                                    1   \n",
       "Service                                                          6   \n",
       "\n",
       "                                                              590   \n",
       "property_name                            4 BHK Flat in Gwal Pahari  \n",
       "link             4-bhk-bedroom-apartment-flat-for-sale-in-krris...  \n",
       "society                                     Krrish Provence Estate  \n",
       "price                                                        525.0  \n",
       "area                                                ₹ 9,051/sq.ft.  \n",
       "areaWithType                Super Built up area 5800(538.84 sq.m.)  \n",
       "bedRoom                                                          4  \n",
       "bathroom                                                         5  \n",
       "balcony                                                         -1  \n",
       "additionalRoom                  Pooja Room,Study Room,Servant Room  \n",
       "address                              gwal pahari, gurgaon, haryana  \n",
       "floorNum                                        2nd   of 26 Floors  \n",
       "facing                                                  North-East  \n",
       "agePossession                                      0 to 1 Year Old  \n",
       "nearbyLocations  [Tniy Toons School, Pathways School Gurgoan, M...  \n",
       "description      Luxury apartment for sale krrish provence loca...  \n",
       "furnishDetails                                                  []  \n",
       "features         [Feng Shui / Vaastu Compliant, Security / Fire...  \n",
       "rating                                                          []  \n",
       "property_id                                              I68212060  \n",
       "nthFloor                                                       2.0  \n",
       "totalFloor                                                    26.0  \n",
       "Transportation                                                   0  \n",
       "Education                                                        4  \n",
       "Healthcare                                                       1  \n",
       "Shopping                                                         0  \n",
       "Dining                                                           2  \n",
       "Accommodation                                                    0  \n",
       "Entertainment                                                    0  \n",
       "Service                                                          5  "
      ]
     },
     "execution_count": 66,
     "metadata": {},
     "output_type": "execute_result"
    }
   ],
   "source": [
    "df.sample(2).T"
   ]
  },
  {
   "cell_type": "code",
   "execution_count": 67,
   "metadata": {},
   "outputs": [
    {
     "name": "stdout",
     "output_type": "stream",
     "text": [
      "<class 'pandas.core.frame.DataFrame'>\n",
      "Index: 2785 entries, 0 to 2793\n",
      "Data columns (total 30 columns):\n",
      " #   Column           Non-Null Count  Dtype  \n",
      "---  ------           --------------  -----  \n",
      " 0   property_name    2785 non-null   object \n",
      " 1   link             2785 non-null   object \n",
      " 2   society          2785 non-null   object \n",
      " 3   price            2785 non-null   float64\n",
      " 4   area             2785 non-null   object \n",
      " 5   areaWithType     2785 non-null   object \n",
      " 6   bedRoom          2785 non-null   object \n",
      " 7   bathroom         2785 non-null   object \n",
      " 8   balcony          2785 non-null   object \n",
      " 9   additionalRoom   2785 non-null   object \n",
      " 10  address          2782 non-null   object \n",
      " 11  floorNum         2784 non-null   object \n",
      " 12  facing           2785 non-null   object \n",
      " 13  agePossession    2784 non-null   object \n",
      " 14  nearbyLocations  2785 non-null   object \n",
      " 15  description      2785 non-null   object \n",
      " 16  furnishDetails   2785 non-null   object \n",
      " 17  features         2785 non-null   object \n",
      " 18  rating           2785 non-null   object \n",
      " 19  property_id      2785 non-null   object \n",
      " 20  nthFloor         2784 non-null   float64\n",
      " 21  totalFloor       2784 non-null   float64\n",
      " 22  Transportation   2785 non-null   int64  \n",
      " 23  Education        2785 non-null   int64  \n",
      " 24  Healthcare       2785 non-null   int64  \n",
      " 25  Shopping         2785 non-null   int64  \n",
      " 26  Dining           2785 non-null   int64  \n",
      " 27  Accommodation    2785 non-null   int64  \n",
      " 28  Entertainment    2785 non-null   int64  \n",
      " 29  Service          2785 non-null   int64  \n",
      "dtypes: float64(3), int64(8), object(19)\n",
      "memory usage: 739.0+ KB\n"
     ]
    }
   ],
   "source": [
    "df.info()"
   ]
  },
  {
   "cell_type": "markdown",
   "metadata": {},
   "source": [
    "### Genral Steps - End"
   ]
  },
  {
   "cell_type": "code",
   "execution_count": 68,
   "metadata": {},
   "outputs": [],
   "source": [
    "drop_cols = ['rating', 'floorNum']\n",
    "df.drop(columns=drop_cols, inplace=True)"
   ]
  },
  {
   "cell_type": "markdown",
   "metadata": {},
   "source": [
    "## Export Dataset"
   ]
  },
  {
   "cell_type": "code",
   "execution_count": 69,
   "metadata": {},
   "outputs": [],
   "source": [
    "df.to_csv('data/processed/flats.csv', index=False)"
   ]
  }
 ],
 "metadata": {
  "kernelspec": {
   "display_name": "Python 3",
   "language": "python",
   "name": "python3"
  },
  "language_info": {
   "codemirror_mode": {
    "name": "ipython",
    "version": 3
   },
   "file_extension": ".py",
   "mimetype": "text/x-python",
   "name": "python",
   "nbconvert_exporter": "python",
   "pygments_lexer": "ipython3",
   "version": "3.11.0"
  },
  "orig_nbformat": 4
 },
 "nbformat": 4,
 "nbformat_minor": 2
}
