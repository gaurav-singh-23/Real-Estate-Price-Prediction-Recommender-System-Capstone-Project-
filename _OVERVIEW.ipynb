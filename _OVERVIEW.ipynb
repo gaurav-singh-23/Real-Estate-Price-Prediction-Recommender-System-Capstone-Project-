{
 "cells": [
  {
   "cell_type": "code",
   "execution_count": 1,
   "metadata": {},
   "outputs": [],
   "source": [
    "from ast import literal_eval\n",
    "\n",
    "import pandas as pd\n",
    "import matplotlib.pyplot as plt"
   ]
  },
  {
   "cell_type": "code",
   "execution_count": 2,
   "metadata": {},
   "outputs": [],
   "source": [
    "plt.style.use('dark_background')\n",
    "pd.set_option('display.max_columns', None)"
   ]
  },
  {
   "cell_type": "code",
   "execution_count": 3,
   "metadata": {},
   "outputs": [
    {
     "name": "stdout",
     "output_type": "stream",
     "text": [
      "(10285, 30)\n"
     ]
    },
    {
     "data": {
      "text/html": [
       "<div>\n",
       "<style scoped>\n",
       "    .dataframe tbody tr th:only-of-type {\n",
       "        vertical-align: middle;\n",
       "    }\n",
       "\n",
       "    .dataframe tbody tr th {\n",
       "        vertical-align: top;\n",
       "    }\n",
       "\n",
       "    .dataframe thead th {\n",
       "        text-align: right;\n",
       "    }\n",
       "</style>\n",
       "<table border=\"1\" class=\"dataframe\">\n",
       "  <thead>\n",
       "    <tr style=\"text-align: right;\">\n",
       "      <th></th>\n",
       "      <th>SPID</th>\n",
       "      <th>PROP_ID</th>\n",
       "      <th>CITY</th>\n",
       "      <th>PRICE</th>\n",
       "      <th>MAX_PRICE</th>\n",
       "      <th>MIN_PRICE</th>\n",
       "      <th>PRICE_SQFT</th>\n",
       "      <th>AREA</th>\n",
       "      <th>SECONDARY_AREA</th>\n",
       "      <th>MAX_AREA_SQFT</th>\n",
       "      <th>MIN_AREA_SQFT</th>\n",
       "      <th>PRICE_PER_UNIT_AREA</th>\n",
       "      <th>SECONDARY_TAGS</th>\n",
       "      <th>TOTAL_LANDMARK_COUNT</th>\n",
       "      <th>FORMATTED_LANDMARK_DETAILS</th>\n",
       "      <th>MAP_DETAILS</th>\n",
       "      <th>PROP_HEADING</th>\n",
       "      <th>DESCRIPTION</th>\n",
       "      <th>PROPERTY_TYPE</th>\n",
       "      <th>location</th>\n",
       "      <th>FURNISH</th>\n",
       "      <th>FACING</th>\n",
       "      <th>AGE</th>\n",
       "      <th>TOTAL_FLOOR</th>\n",
       "      <th>FEATURES</th>\n",
       "      <th>BEDROOM_NUM</th>\n",
       "      <th>AMENITIES</th>\n",
       "      <th>PROP_NAME</th>\n",
       "      <th>BALCONY_NUM</th>\n",
       "      <th>FLOOR_NUM</th>\n",
       "    </tr>\n",
       "  </thead>\n",
       "  <tbody>\n",
       "    <tr>\n",
       "      <th>0</th>\n",
       "      <td>70597758</td>\n",
       "      <td>H70597758</td>\n",
       "      <td>Gurgaon</td>\n",
       "      <td>3.19 Cr</td>\n",
       "      <td>31900000</td>\n",
       "      <td>31900000</td>\n",
       "      <td>20202.0</td>\n",
       "      <td>1579 sq.ft.</td>\n",
       "      <td>146.69 sq.m.</td>\n",
       "      <td>146.693837</td>\n",
       "      <td>146.693837</td>\n",
       "      <td>20202.0</td>\n",
       "      <td>['UNDER CONSTRUCTION', 'NEW BOOKING', 'RERA']</td>\n",
       "      <td>9.0</td>\n",
       "      <td>[{'text': '1 Metro Station'}, {'text': '1 Shop...</td>\n",
       "      <td>{'LATITUDE': '28.532594', 'LONGITUDE': '77.020...</td>\n",
       "      <td>3 BHK Flat in Sector 113 Gurgaon</td>\n",
       "      <td>There is a 3 BHK apartment in Sector 113, Gurg...</td>\n",
       "      <td>Residential Apartment</td>\n",
       "      <td>{'CITY': '8', 'CITY_NAME': 'Gurgaon', 'BUILDIN...</td>\n",
       "      <td>0</td>\n",
       "      <td>0</td>\n",
       "      <td>5</td>\n",
       "      <td>25.0</td>\n",
       "      <td>N</td>\n",
       "      <td>3.0</td>\n",
       "      <td>NaN</td>\n",
       "      <td>La Vida by Tata Housing</td>\n",
       "      <td>NaN</td>\n",
       "      <td>1.0</td>\n",
       "    </tr>\n",
       "    <tr>\n",
       "      <th>1</th>\n",
       "      <td>70436188</td>\n",
       "      <td>H70436188</td>\n",
       "      <td>Gurgaon</td>\n",
       "      <td>1.85 Cr</td>\n",
       "      <td>18500000</td>\n",
       "      <td>18500000</td>\n",
       "      <td>9135.0</td>\n",
       "      <td>2025 sq.ft.</td>\n",
       "      <td>188.13 sq.m.</td>\n",
       "      <td>188.128575</td>\n",
       "      <td>188.128575</td>\n",
       "      <td>9135.0</td>\n",
       "      <td>['READY TO MOVE', 'NEW BOOKING', 'RERA']</td>\n",
       "      <td>12.0</td>\n",
       "      <td>[{'text': '1 Metro Station'}, {'text': '1 Shop...</td>\n",
       "      <td>{'LATITUDE': '28.3855771', 'LONGITUDE': '76.97...</td>\n",
       "      <td>3 BHK Flat in Sector 77 Gurgaon</td>\n",
       "      <td>Let your dream of owning a flat come true with...</td>\n",
       "      <td>Residential Apartment</td>\n",
       "      <td>{'CITY': '8', 'CITY_NAME': 'Gurgaon', 'BUILDIN...</td>\n",
       "      <td>0</td>\n",
       "      <td>0</td>\n",
       "      <td>6</td>\n",
       "      <td>24.0</td>\n",
       "      <td>N</td>\n",
       "      <td>3.0</td>\n",
       "      <td>NaN</td>\n",
       "      <td>Emaar Palm Heights</td>\n",
       "      <td>NaN</td>\n",
       "      <td>1.0</td>\n",
       "    </tr>\n",
       "    <tr>\n",
       "      <th>2</th>\n",
       "      <td>70217014</td>\n",
       "      <td>L70217014</td>\n",
       "      <td>Gurgaon</td>\n",
       "      <td>12.06 Cr</td>\n",
       "      <td>120600992</td>\n",
       "      <td>120600992</td>\n",
       "      <td>42736.0</td>\n",
       "      <td>2822 sq.ft.</td>\n",
       "      <td>262.17 sq.m.</td>\n",
       "      <td>262.172266</td>\n",
       "      <td>262.172266</td>\n",
       "      <td>42736.0</td>\n",
       "      <td>['UNDER CONSTRUCTION', 'NEW BOOKING', 'RERA']</td>\n",
       "      <td>9.0</td>\n",
       "      <td>[{'text': '1 Metro Station'}, {'text': '1 Shop...</td>\n",
       "      <td>{'LATITUDE': '28.4350568', 'LONGITUDE': '77.10...</td>\n",
       "      <td>5 BHK Flat in Sector 53 Gurgaon</td>\n",
       "      <td>Tulip Monsella offers 5 BHK flats in Sector 53...</td>\n",
       "      <td>Residential Apartment</td>\n",
       "      <td>{'CITY': '8', 'CITY_NAME': 'Gurgaon', 'BUILDIN...</td>\n",
       "      <td>0</td>\n",
       "      <td>0</td>\n",
       "      <td>5</td>\n",
       "      <td>20.0</td>\n",
       "      <td>N</td>\n",
       "      <td>5.0</td>\n",
       "      <td>NaN</td>\n",
       "      <td>Tulip Monsella</td>\n",
       "      <td>NaN</td>\n",
       "      <td>1.0</td>\n",
       "    </tr>\n",
       "    <tr>\n",
       "      <th>3</th>\n",
       "      <td>70217012</td>\n",
       "      <td>X70217012</td>\n",
       "      <td>Gurgaon</td>\n",
       "      <td>9.53 Cr</td>\n",
       "      <td>95258544</td>\n",
       "      <td>95258544</td>\n",
       "      <td>42736.0</td>\n",
       "      <td>2229 sq.ft.</td>\n",
       "      <td>207.08 sq.m.</td>\n",
       "      <td>207.080787</td>\n",
       "      <td>207.080787</td>\n",
       "      <td>42736.0</td>\n",
       "      <td>['UNDER CONSTRUCTION', 'NEW BOOKING', 'RERA']</td>\n",
       "      <td>9.0</td>\n",
       "      <td>[{'text': '1 Metro Station'}, {'text': '1 Shop...</td>\n",
       "      <td>{'LATITUDE': '28.4350568', 'LONGITUDE': '77.10...</td>\n",
       "      <td>4 BHK Flat in Sector 53 Gurgaon</td>\n",
       "      <td>Tulip Monsella offers 4 BHK flats in Sector 53...</td>\n",
       "      <td>Residential Apartment</td>\n",
       "      <td>{'CITY': '8', 'CITY_NAME': 'Gurgaon', 'BUILDIN...</td>\n",
       "      <td>0</td>\n",
       "      <td>0</td>\n",
       "      <td>5</td>\n",
       "      <td>20.0</td>\n",
       "      <td>N</td>\n",
       "      <td>4.0</td>\n",
       "      <td>NaN</td>\n",
       "      <td>Tulip Monsella</td>\n",
       "      <td>NaN</td>\n",
       "      <td>1.0</td>\n",
       "    </tr>\n",
       "    <tr>\n",
       "      <th>4</th>\n",
       "      <td>70217010</td>\n",
       "      <td>A70217010</td>\n",
       "      <td>Gurgaon</td>\n",
       "      <td>7.18  - 7.22 Cr</td>\n",
       "      <td>72150764</td>\n",
       "      <td>71800092</td>\n",
       "      <td>43834.0</td>\n",
       "      <td>1638-1646  sq.ft.</td>\n",
       "      <td>152.18-152.92  sq.m.</td>\n",
       "      <td>152.918338</td>\n",
       "      <td>152.175114</td>\n",
       "      <td>43834.0</td>\n",
       "      <td>['UNDER CONSTRUCTION', 'NEW BOOKING', 'RERA']</td>\n",
       "      <td>9.0</td>\n",
       "      <td>[{'text': '1 Metro Station'}, {'text': '1 Shop...</td>\n",
       "      <td>{'LATITUDE': '28.4350568', 'LONGITUDE': '77.10...</td>\n",
       "      <td>3 BHK Flat in Sector 53 Gurgaon</td>\n",
       "      <td>Tulip Monsella offers 3 BHK apartments in Sect...</td>\n",
       "      <td>Residential Apartment</td>\n",
       "      <td>{'CITY': '8', 'CITY_NAME': 'Gurgaon', 'BUILDIN...</td>\n",
       "      <td>0</td>\n",
       "      <td>0</td>\n",
       "      <td>5</td>\n",
       "      <td>20.0</td>\n",
       "      <td>N</td>\n",
       "      <td>3.0</td>\n",
       "      <td>NaN</td>\n",
       "      <td>Tulip Monsella</td>\n",
       "      <td>NaN</td>\n",
       "      <td>1.0</td>\n",
       "    </tr>\n",
       "  </tbody>\n",
       "</table>\n",
       "</div>"
      ],
      "text/plain": [
       "       SPID    PROP_ID     CITY            PRICE  MAX_PRICE  MIN_PRICE  \\\n",
       "0  70597758  H70597758  Gurgaon          3.19 Cr   31900000   31900000   \n",
       "1  70436188  H70436188  Gurgaon          1.85 Cr   18500000   18500000   \n",
       "2  70217014  L70217014  Gurgaon         12.06 Cr  120600992  120600992   \n",
       "3  70217012  X70217012  Gurgaon          9.53 Cr   95258544   95258544   \n",
       "4  70217010  A70217010  Gurgaon  7.18  - 7.22 Cr   72150764   71800092   \n",
       "\n",
       "   PRICE_SQFT               AREA        SECONDARY_AREA  MAX_AREA_SQFT  \\\n",
       "0     20202.0        1579 sq.ft.          146.69 sq.m.     146.693837   \n",
       "1      9135.0        2025 sq.ft.          188.13 sq.m.     188.128575   \n",
       "2     42736.0        2822 sq.ft.          262.17 sq.m.     262.172266   \n",
       "3     42736.0        2229 sq.ft.          207.08 sq.m.     207.080787   \n",
       "4     43834.0  1638-1646  sq.ft.  152.18-152.92  sq.m.     152.918338   \n",
       "\n",
       "   MIN_AREA_SQFT  PRICE_PER_UNIT_AREA  \\\n",
       "0     146.693837              20202.0   \n",
       "1     188.128575               9135.0   \n",
       "2     262.172266              42736.0   \n",
       "3     207.080787              42736.0   \n",
       "4     152.175114              43834.0   \n",
       "\n",
       "                                  SECONDARY_TAGS  TOTAL_LANDMARK_COUNT  \\\n",
       "0  ['UNDER CONSTRUCTION', 'NEW BOOKING', 'RERA']                   9.0   \n",
       "1       ['READY TO MOVE', 'NEW BOOKING', 'RERA']                  12.0   \n",
       "2  ['UNDER CONSTRUCTION', 'NEW BOOKING', 'RERA']                   9.0   \n",
       "3  ['UNDER CONSTRUCTION', 'NEW BOOKING', 'RERA']                   9.0   \n",
       "4  ['UNDER CONSTRUCTION', 'NEW BOOKING', 'RERA']                   9.0   \n",
       "\n",
       "                          FORMATTED_LANDMARK_DETAILS  \\\n",
       "0  [{'text': '1 Metro Station'}, {'text': '1 Shop...   \n",
       "1  [{'text': '1 Metro Station'}, {'text': '1 Shop...   \n",
       "2  [{'text': '1 Metro Station'}, {'text': '1 Shop...   \n",
       "3  [{'text': '1 Metro Station'}, {'text': '1 Shop...   \n",
       "4  [{'text': '1 Metro Station'}, {'text': '1 Shop...   \n",
       "\n",
       "                                         MAP_DETAILS  \\\n",
       "0  {'LATITUDE': '28.532594', 'LONGITUDE': '77.020...   \n",
       "1  {'LATITUDE': '28.3855771', 'LONGITUDE': '76.97...   \n",
       "2  {'LATITUDE': '28.4350568', 'LONGITUDE': '77.10...   \n",
       "3  {'LATITUDE': '28.4350568', 'LONGITUDE': '77.10...   \n",
       "4  {'LATITUDE': '28.4350568', 'LONGITUDE': '77.10...   \n",
       "\n",
       "                       PROP_HEADING  \\\n",
       "0  3 BHK Flat in Sector 113 Gurgaon   \n",
       "1   3 BHK Flat in Sector 77 Gurgaon   \n",
       "2   5 BHK Flat in Sector 53 Gurgaon   \n",
       "3   4 BHK Flat in Sector 53 Gurgaon   \n",
       "4   3 BHK Flat in Sector 53 Gurgaon   \n",
       "\n",
       "                                         DESCRIPTION          PROPERTY_TYPE  \\\n",
       "0  There is a 3 BHK apartment in Sector 113, Gurg...  Residential Apartment   \n",
       "1  Let your dream of owning a flat come true with...  Residential Apartment   \n",
       "2  Tulip Monsella offers 5 BHK flats in Sector 53...  Residential Apartment   \n",
       "3  Tulip Monsella offers 4 BHK flats in Sector 53...  Residential Apartment   \n",
       "4  Tulip Monsella offers 3 BHK apartments in Sect...  Residential Apartment   \n",
       "\n",
       "                                            location  FURNISH  FACING  AGE  \\\n",
       "0  {'CITY': '8', 'CITY_NAME': 'Gurgaon', 'BUILDIN...        0       0    5   \n",
       "1  {'CITY': '8', 'CITY_NAME': 'Gurgaon', 'BUILDIN...        0       0    6   \n",
       "2  {'CITY': '8', 'CITY_NAME': 'Gurgaon', 'BUILDIN...        0       0    5   \n",
       "3  {'CITY': '8', 'CITY_NAME': 'Gurgaon', 'BUILDIN...        0       0    5   \n",
       "4  {'CITY': '8', 'CITY_NAME': 'Gurgaon', 'BUILDIN...        0       0    5   \n",
       "\n",
       "   TOTAL_FLOOR FEATURES  BEDROOM_NUM AMENITIES                PROP_NAME  \\\n",
       "0         25.0        N          3.0       NaN  La Vida by Tata Housing   \n",
       "1         24.0        N          3.0       NaN       Emaar Palm Heights   \n",
       "2         20.0        N          5.0       NaN           Tulip Monsella   \n",
       "3         20.0        N          4.0       NaN           Tulip Monsella   \n",
       "4         20.0        N          3.0       NaN           Tulip Monsella   \n",
       "\n",
       "   BALCONY_NUM FLOOR_NUM  \n",
       "0          NaN       1.0  \n",
       "1          NaN       1.0  \n",
       "2          NaN       1.0  \n",
       "3          NaN       1.0  \n",
       "4          NaN       1.0  "
      ]
     },
     "execution_count": 3,
     "metadata": {},
     "output_type": "execute_result"
    }
   ],
   "source": [
    "df = pd.read_csv('data/processed/gurgaon_10k.csv')\n",
    "print(df.shape)\n",
    "df.head()"
   ]
  },
  {
   "cell_type": "code",
   "execution_count": 4,
   "metadata": {},
   "outputs": [
    {
     "data": {
      "text/plain": [
       "Index(['SPID', 'PROP_ID', 'CITY', 'PRICE', 'MAX_PRICE', 'MIN_PRICE',\n",
       "       'PRICE_SQFT', 'AREA', 'SECONDARY_AREA', 'MAX_AREA_SQFT',\n",
       "       'MIN_AREA_SQFT', 'PRICE_PER_UNIT_AREA', 'SECONDARY_TAGS',\n",
       "       'TOTAL_LANDMARK_COUNT', 'FORMATTED_LANDMARK_DETAILS', 'MAP_DETAILS',\n",
       "       'PROP_HEADING', 'DESCRIPTION', 'PROPERTY_TYPE', 'location', 'FURNISH',\n",
       "       'FACING', 'AGE', 'TOTAL_FLOOR', 'FEATURES', 'BEDROOM_NUM', 'AMENITIES',\n",
       "       'PROP_NAME', 'BALCONY_NUM', 'FLOOR_NUM'],\n",
       "      dtype='object')"
      ]
     },
     "execution_count": 4,
     "metadata": {},
     "output_type": "execute_result"
    }
   ],
   "source": [
    "df.columns"
   ]
  },
  {
   "cell_type": "code",
   "execution_count": 5,
   "metadata": {},
   "outputs": [
    {
     "data": {
      "text/plain": [
       "27"
      ]
     },
     "execution_count": 5,
     "metadata": {},
     "output_type": "execute_result"
    }
   ],
   "source": [
    "df['PROP_ID'].duplicated().sum()"
   ]
  },
  {
   "cell_type": "code",
   "execution_count": 6,
   "metadata": {},
   "outputs": [
    {
     "data": {
      "text/plain": [
       "CITY\n",
       "Gurgaon    10285\n",
       "Name: count, dtype: int64"
      ]
     },
     "execution_count": 6,
     "metadata": {},
     "output_type": "execute_result"
    }
   ],
   "source": [
    "df['CITY'].value_counts()"
   ]
  },
  {
   "cell_type": "code",
   "execution_count": 7,
   "metadata": {},
   "outputs": [
    {
     "data": {
      "text/plain": [
       "PROPERTY_TYPE\n",
       "Residential Apartment        5982\n",
       "Independent/Builder Floor    2488\n",
       "Residential Land              999\n",
       "Independent House/Villa       638\n",
       "Farm House                    120\n",
       "Studio Apartment               43\n",
       "Serviced Apartments            11\n",
       "Other                           4\n",
       "Name: count, dtype: int64"
      ]
     },
     "execution_count": 7,
     "metadata": {},
     "output_type": "execute_result"
    }
   ],
   "source": [
    "df['PROPERTY_TYPE'].value_counts()"
   ]
  },
  {
   "cell_type": "code",
   "execution_count": 8,
   "metadata": {},
   "outputs": [
    {
     "data": {
      "text/plain": [
       "<Axes: ylabel='Missing values (in %)'>"
      ]
     },
     "execution_count": 8,
     "metadata": {},
     "output_type": "execute_result"
    },
    {
     "data": {
      "image/png": "[encoded data removed]",
      "text/plain": [
       "<Figure size 1500x500 with 1 Axes>"
      ]
     },
     "metadata": {},
     "output_type": "display_data"
    }
   ],
   "source": [
    "(\n",
    "    df.isnull()\n",
    "    .sum()\n",
    "    .div(df.shape[0])\n",
    "    .plot(kind='bar', figsize=(15, 5), ylabel='Missing values (in %)')\n",
    ")"
   ]
  },
  {
   "cell_type": "markdown",
   "metadata": {},
   "source": [
    "## Price and Area"
   ]
  },
  {
   "cell_type": "code",
   "execution_count": 9,
   "metadata": {},
   "outputs": [
    {
     "data": {
      "text/plain": [
       "(['PRICE', 'MAX_PRICE', 'MIN_PRICE', 'PRICE_SQFT'],\n",
       " ['AREA',\n",
       "  'SECONDARY_AREA',\n",
       "  'MAX_AREA_SQFT',\n",
       "  'MIN_AREA_SQFT',\n",
       "  'PRICE_PER_UNIT_AREA'])"
      ]
     },
     "execution_count": 9,
     "metadata": {},
     "output_type": "execute_result"
    }
   ],
   "source": [
    "price_cols = ['PRICE', 'MAX_PRICE', 'MIN_PRICE', 'PRICE_SQFT']\n",
    "area_cols = ['AREA', 'SECONDARY_AREA', 'MAX_AREA_SQFT', 'MIN_AREA_SQFT', 'PRICE_PER_UNIT_AREA']\n",
    "\n",
    "price_cols, area_cols"
   ]
  },
  {
   "cell_type": "code",
   "execution_count": 10,
   "metadata": {},
   "outputs": [
    {
     "data": {
      "text/html": [
       "<div>\n",
       "<style scoped>\n",
       "    .dataframe tbody tr th:only-of-type {\n",
       "        vertical-align: middle;\n",
       "    }\n",
       "\n",
       "    .dataframe tbody tr th {\n",
       "        vertical-align: top;\n",
       "    }\n",
       "\n",
       "    .dataframe thead th {\n",
       "        text-align: right;\n",
       "    }\n",
       "</style>\n",
       "<table border=\"1\" class=\"dataframe\">\n",
       "  <thead>\n",
       "    <tr style=\"text-align: right;\">\n",
       "      <th></th>\n",
       "      <th>SPID</th>\n",
       "      <th>PROP_ID</th>\n",
       "      <th>CITY</th>\n",
       "      <th>PRICE</th>\n",
       "      <th>MAX_PRICE</th>\n",
       "      <th>MIN_PRICE</th>\n",
       "      <th>PRICE_SQFT</th>\n",
       "      <th>AREA</th>\n",
       "      <th>SECONDARY_AREA</th>\n",
       "      <th>MAX_AREA_SQFT</th>\n",
       "      <th>MIN_AREA_SQFT</th>\n",
       "      <th>PRICE_PER_UNIT_AREA</th>\n",
       "      <th>SECONDARY_TAGS</th>\n",
       "      <th>TOTAL_LANDMARK_COUNT</th>\n",
       "      <th>FORMATTED_LANDMARK_DETAILS</th>\n",
       "      <th>MAP_DETAILS</th>\n",
       "      <th>PROP_HEADING</th>\n",
       "      <th>DESCRIPTION</th>\n",
       "      <th>PROPERTY_TYPE</th>\n",
       "      <th>location</th>\n",
       "      <th>FURNISH</th>\n",
       "      <th>FACING</th>\n",
       "      <th>AGE</th>\n",
       "      <th>TOTAL_FLOOR</th>\n",
       "      <th>FEATURES</th>\n",
       "      <th>BEDROOM_NUM</th>\n",
       "      <th>AMENITIES</th>\n",
       "      <th>PROP_NAME</th>\n",
       "      <th>BALCONY_NUM</th>\n",
       "      <th>FLOOR_NUM</th>\n",
       "    </tr>\n",
       "  </thead>\n",
       "  <tbody>\n",
       "  </tbody>\n",
       "</table>\n",
       "</div>"
      ],
      "text/plain": [
       "Empty DataFrame\n",
       "Columns: [SPID, PROP_ID, CITY, PRICE, MAX_PRICE, MIN_PRICE, PRICE_SQFT, AREA, SECONDARY_AREA, MAX_AREA_SQFT, MIN_AREA_SQFT, PRICE_PER_UNIT_AREA, SECONDARY_TAGS, TOTAL_LANDMARK_COUNT, FORMATTED_LANDMARK_DETAILS, MAP_DETAILS, PROP_HEADING, DESCRIPTION, PROPERTY_TYPE, location, FURNISH, FACING, AGE, TOTAL_FLOOR, FEATURES, BEDROOM_NUM, AMENITIES, PROP_NAME, BALCONY_NUM, FLOOR_NUM]\n",
       "Index: []"
      ]
     },
     "execution_count": 10,
     "metadata": {},
     "output_type": "execute_result"
    }
   ],
   "source": [
    "df[(df['MIN_PRICE'].sub(df['MAX_PRICE']) > 0) | (df['MIN_AREA_SQFT'].sub(df['MAX_AREA_SQFT']) > 0)]"
   ]
  },
  {
   "cell_type": "markdown",
   "metadata": {},
   "source": [
    "If `('MAX_*' - 'MIN_*' == 0)` this means both features contains same values. You can use anyone of them."
   ]
  },
  {
   "cell_type": "code",
   "execution_count": 11,
   "metadata": {},
   "outputs": [
    {
     "data": {
      "text/html": [
       "<div>\n",
       "<style scoped>\n",
       "    .dataframe tbody tr th:only-of-type {\n",
       "        vertical-align: middle;\n",
       "    }\n",
       "\n",
       "    .dataframe tbody tr th {\n",
       "        vertical-align: top;\n",
       "    }\n",
       "\n",
       "    .dataframe thead th {\n",
       "        text-align: right;\n",
       "    }\n",
       "</style>\n",
       "<table border=\"1\" class=\"dataframe\">\n",
       "  <thead>\n",
       "    <tr style=\"text-align: right;\">\n",
       "      <th></th>\n",
       "      <th>SPID</th>\n",
       "      <th>PROP_ID</th>\n",
       "      <th>CITY</th>\n",
       "      <th>PRICE</th>\n",
       "      <th>MAX_PRICE</th>\n",
       "      <th>MIN_PRICE</th>\n",
       "      <th>PRICE_SQFT</th>\n",
       "      <th>AREA</th>\n",
       "      <th>SECONDARY_AREA</th>\n",
       "      <th>MAX_AREA_SQFT</th>\n",
       "      <th>MIN_AREA_SQFT</th>\n",
       "      <th>PRICE_PER_UNIT_AREA</th>\n",
       "      <th>SECONDARY_TAGS</th>\n",
       "      <th>TOTAL_LANDMARK_COUNT</th>\n",
       "      <th>FORMATTED_LANDMARK_DETAILS</th>\n",
       "      <th>MAP_DETAILS</th>\n",
       "      <th>PROP_HEADING</th>\n",
       "      <th>DESCRIPTION</th>\n",
       "      <th>PROPERTY_TYPE</th>\n",
       "      <th>location</th>\n",
       "      <th>FURNISH</th>\n",
       "      <th>FACING</th>\n",
       "      <th>AGE</th>\n",
       "      <th>TOTAL_FLOOR</th>\n",
       "      <th>FEATURES</th>\n",
       "      <th>BEDROOM_NUM</th>\n",
       "      <th>AMENITIES</th>\n",
       "      <th>PROP_NAME</th>\n",
       "      <th>BALCONY_NUM</th>\n",
       "      <th>FLOOR_NUM</th>\n",
       "    </tr>\n",
       "  </thead>\n",
       "  <tbody>\n",
       "  </tbody>\n",
       "</table>\n",
       "</div>"
      ],
      "text/plain": [
       "Empty DataFrame\n",
       "Columns: [SPID, PROP_ID, CITY, PRICE, MAX_PRICE, MIN_PRICE, PRICE_SQFT, AREA, SECONDARY_AREA, MAX_AREA_SQFT, MIN_AREA_SQFT, PRICE_PER_UNIT_AREA, SECONDARY_TAGS, TOTAL_LANDMARK_COUNT, FORMATTED_LANDMARK_DETAILS, MAP_DETAILS, PROP_HEADING, DESCRIPTION, PROPERTY_TYPE, location, FURNISH, FACING, AGE, TOTAL_FLOOR, FEATURES, BEDROOM_NUM, AMENITIES, PROP_NAME, BALCONY_NUM, FLOOR_NUM]\n",
       "Index: []"
      ]
     },
     "execution_count": 11,
     "metadata": {},
     "output_type": "execute_result"
    }
   ],
   "source": [
    "df[(df['PRICE_PER_UNIT_AREA'].sub(df['PRICE_SQFT']) > 0)]"
   ]
  },
  {
   "cell_type": "code",
   "execution_count": 12,
   "metadata": {},
   "outputs": [
    {
     "data": {
      "text/html": [
       "<div>\n",
       "<style scoped>\n",
       "    .dataframe tbody tr th:only-of-type {\n",
       "        vertical-align: middle;\n",
       "    }\n",
       "\n",
       "    .dataframe tbody tr th {\n",
       "        vertical-align: top;\n",
       "    }\n",
       "\n",
       "    .dataframe thead th {\n",
       "        text-align: right;\n",
       "    }\n",
       "</style>\n",
       "<table border=\"1\" class=\"dataframe\">\n",
       "  <thead>\n",
       "    <tr style=\"text-align: right;\">\n",
       "      <th></th>\n",
       "      <th>AREA</th>\n",
       "      <th>SECONDARY_AREA</th>\n",
       "    </tr>\n",
       "  </thead>\n",
       "  <tbody>\n",
       "    <tr>\n",
       "      <th>8740</th>\n",
       "      <td>2290 sq.ft.</td>\n",
       "      <td>212.75 sq.m.</td>\n",
       "    </tr>\n",
       "    <tr>\n",
       "      <th>421</th>\n",
       "      <td>2625 sq.ft.</td>\n",
       "      <td>243.87 sq.m.</td>\n",
       "    </tr>\n",
       "    <tr>\n",
       "      <th>3436</th>\n",
       "      <td>2606 sq.ft.</td>\n",
       "      <td>242.11 sq.m.</td>\n",
       "    </tr>\n",
       "    <tr>\n",
       "      <th>9970</th>\n",
       "      <td>1100 sq.ft.</td>\n",
       "      <td>102.19 sq.m.</td>\n",
       "    </tr>\n",
       "    <tr>\n",
       "      <th>7528</th>\n",
       "      <td>2410 sq.ft.</td>\n",
       "      <td>223.9 sq.m.</td>\n",
       "    </tr>\n",
       "    <tr>\n",
       "      <th>657</th>\n",
       "      <td>1935 sq.ft.</td>\n",
       "      <td>179.77 sq.m.</td>\n",
       "    </tr>\n",
       "    <tr>\n",
       "      <th>3555</th>\n",
       "      <td>2791 sq.ft.</td>\n",
       "      <td>259.29 sq.m.</td>\n",
       "    </tr>\n",
       "  </tbody>\n",
       "</table>\n",
       "</div>"
      ],
      "text/plain": [
       "             AREA SECONDARY_AREA\n",
       "8740  2290 sq.ft.   212.75 sq.m.\n",
       "421   2625 sq.ft.   243.87 sq.m.\n",
       "3436  2606 sq.ft.   242.11 sq.m.\n",
       "9970  1100 sq.ft.   102.19 sq.m.\n",
       "7528  2410 sq.ft.    223.9 sq.m.\n",
       "657   1935 sq.ft.   179.77 sq.m.\n",
       "3555  2791 sq.ft.   259.29 sq.m."
      ]
     },
     "execution_count": 12,
     "metadata": {},
     "output_type": "execute_result"
    }
   ],
   "source": [
    "df[['AREA', 'SECONDARY_AREA']].sample(7)"
   ]
  },
  {
   "cell_type": "code",
   "execution_count": 13,
   "metadata": {},
   "outputs": [
    {
     "data": {
      "text/html": [
       "<div>\n",
       "<style scoped>\n",
       "    .dataframe tbody tr th:only-of-type {\n",
       "        vertical-align: middle;\n",
       "    }\n",
       "\n",
       "    .dataframe tbody tr th {\n",
       "        vertical-align: top;\n",
       "    }\n",
       "\n",
       "    .dataframe thead th {\n",
       "        text-align: right;\n",
       "    }\n",
       "</style>\n",
       "<table border=\"1\" class=\"dataframe\">\n",
       "  <thead>\n",
       "    <tr style=\"text-align: right;\">\n",
       "      <th></th>\n",
       "      <th>SPID</th>\n",
       "      <th>PROP_ID</th>\n",
       "      <th>CITY</th>\n",
       "      <th>PRICE</th>\n",
       "      <th>MAX_PRICE</th>\n",
       "      <th>MIN_PRICE</th>\n",
       "      <th>PRICE_SQFT</th>\n",
       "      <th>AREA</th>\n",
       "      <th>SECONDARY_AREA</th>\n",
       "      <th>MAX_AREA_SQFT</th>\n",
       "      <th>MIN_AREA_SQFT</th>\n",
       "      <th>PRICE_PER_UNIT_AREA</th>\n",
       "      <th>SECONDARY_TAGS</th>\n",
       "      <th>TOTAL_LANDMARK_COUNT</th>\n",
       "      <th>FORMATTED_LANDMARK_DETAILS</th>\n",
       "      <th>MAP_DETAILS</th>\n",
       "      <th>PROP_HEADING</th>\n",
       "      <th>DESCRIPTION</th>\n",
       "      <th>PROPERTY_TYPE</th>\n",
       "      <th>location</th>\n",
       "      <th>FURNISH</th>\n",
       "      <th>FACING</th>\n",
       "      <th>AGE</th>\n",
       "      <th>TOTAL_FLOOR</th>\n",
       "      <th>FEATURES</th>\n",
       "      <th>BEDROOM_NUM</th>\n",
       "      <th>AMENITIES</th>\n",
       "      <th>PROP_NAME</th>\n",
       "      <th>BALCONY_NUM</th>\n",
       "      <th>FLOOR_NUM</th>\n",
       "    </tr>\n",
       "  </thead>\n",
       "  <tbody>\n",
       "  </tbody>\n",
       "</table>\n",
       "</div>"
      ],
      "text/plain": [
       "Empty DataFrame\n",
       "Columns: [SPID, PROP_ID, CITY, PRICE, MAX_PRICE, MIN_PRICE, PRICE_SQFT, AREA, SECONDARY_AREA, MAX_AREA_SQFT, MIN_AREA_SQFT, PRICE_PER_UNIT_AREA, SECONDARY_TAGS, TOTAL_LANDMARK_COUNT, FORMATTED_LANDMARK_DETAILS, MAP_DETAILS, PROP_HEADING, DESCRIPTION, PROPERTY_TYPE, location, FURNISH, FACING, AGE, TOTAL_FLOOR, FEATURES, BEDROOM_NUM, AMENITIES, PROP_NAME, BALCONY_NUM, FLOOR_NUM]\n",
       "Index: []"
      ]
     },
     "execution_count": 13,
     "metadata": {},
     "output_type": "execute_result"
    }
   ],
   "source": [
    "df[~df['AREA'].str.contains('sq.ft.')]"
   ]
  },
  {
   "cell_type": "code",
   "execution_count": 14,
   "metadata": {},
   "outputs": [
    {
     "data": {
      "text/html": [
       "<div>\n",
       "<style scoped>\n",
       "    .dataframe tbody tr th:only-of-type {\n",
       "        vertical-align: middle;\n",
       "    }\n",
       "\n",
       "    .dataframe tbody tr th {\n",
       "        vertical-align: top;\n",
       "    }\n",
       "\n",
       "    .dataframe thead th {\n",
       "        text-align: right;\n",
       "    }\n",
       "</style>\n",
       "<table border=\"1\" class=\"dataframe\">\n",
       "  <thead>\n",
       "    <tr style=\"text-align: right;\">\n",
       "      <th></th>\n",
       "      <th>SPID</th>\n",
       "      <th>PROP_ID</th>\n",
       "      <th>CITY</th>\n",
       "      <th>PRICE</th>\n",
       "      <th>MAX_PRICE</th>\n",
       "      <th>MIN_PRICE</th>\n",
       "      <th>PRICE_SQFT</th>\n",
       "      <th>AREA</th>\n",
       "      <th>SECONDARY_AREA</th>\n",
       "      <th>MAX_AREA_SQFT</th>\n",
       "      <th>MIN_AREA_SQFT</th>\n",
       "      <th>PRICE_PER_UNIT_AREA</th>\n",
       "      <th>SECONDARY_TAGS</th>\n",
       "      <th>TOTAL_LANDMARK_COUNT</th>\n",
       "      <th>FORMATTED_LANDMARK_DETAILS</th>\n",
       "      <th>MAP_DETAILS</th>\n",
       "      <th>PROP_HEADING</th>\n",
       "      <th>DESCRIPTION</th>\n",
       "      <th>PROPERTY_TYPE</th>\n",
       "      <th>location</th>\n",
       "      <th>FURNISH</th>\n",
       "      <th>FACING</th>\n",
       "      <th>AGE</th>\n",
       "      <th>TOTAL_FLOOR</th>\n",
       "      <th>FEATURES</th>\n",
       "      <th>BEDROOM_NUM</th>\n",
       "      <th>AMENITIES</th>\n",
       "      <th>PROP_NAME</th>\n",
       "      <th>BALCONY_NUM</th>\n",
       "      <th>FLOOR_NUM</th>\n",
       "    </tr>\n",
       "  </thead>\n",
       "  <tbody>\n",
       "  </tbody>\n",
       "</table>\n",
       "</div>"
      ],
      "text/plain": [
       "Empty DataFrame\n",
       "Columns: [SPID, PROP_ID, CITY, PRICE, MAX_PRICE, MIN_PRICE, PRICE_SQFT, AREA, SECONDARY_AREA, MAX_AREA_SQFT, MIN_AREA_SQFT, PRICE_PER_UNIT_AREA, SECONDARY_TAGS, TOTAL_LANDMARK_COUNT, FORMATTED_LANDMARK_DETAILS, MAP_DETAILS, PROP_HEADING, DESCRIPTION, PROPERTY_TYPE, location, FURNISH, FACING, AGE, TOTAL_FLOOR, FEATURES, BEDROOM_NUM, AMENITIES, PROP_NAME, BALCONY_NUM, FLOOR_NUM]\n",
       "Index: []"
      ]
     },
     "execution_count": 14,
     "metadata": {},
     "output_type": "execute_result"
    }
   ],
   "source": [
    "df[~df['SECONDARY_AREA'].str.contains('sq.m.')]"
   ]
  },
  {
   "cell_type": "code",
   "execution_count": 15,
   "metadata": {},
   "outputs": [
    {
     "data": {
      "text/html": [
       "<div>\n",
       "<style scoped>\n",
       "    .dataframe tbody tr th:only-of-type {\n",
       "        vertical-align: middle;\n",
       "    }\n",
       "\n",
       "    .dataframe tbody tr th {\n",
       "        vertical-align: top;\n",
       "    }\n",
       "\n",
       "    .dataframe thead th {\n",
       "        text-align: right;\n",
       "    }\n",
       "</style>\n",
       "<table border=\"1\" class=\"dataframe\">\n",
       "  <thead>\n",
       "    <tr style=\"text-align: right;\">\n",
       "      <th></th>\n",
       "      <th>PRICE</th>\n",
       "      <th>MIN_PRICE</th>\n",
       "    </tr>\n",
       "  </thead>\n",
       "  <tbody>\n",
       "    <tr>\n",
       "      <th>7234</th>\n",
       "      <td>1.53 Cr</td>\n",
       "      <td>15300000</td>\n",
       "    </tr>\n",
       "    <tr>\n",
       "      <th>3989</th>\n",
       "      <td>36,800</td>\n",
       "      <td>36800</td>\n",
       "    </tr>\n",
       "    <tr>\n",
       "      <th>3212</th>\n",
       "      <td>58 L</td>\n",
       "      <td>5800000</td>\n",
       "    </tr>\n",
       "    <tr>\n",
       "      <th>7523</th>\n",
       "      <td>83,000</td>\n",
       "      <td>83000</td>\n",
       "    </tr>\n",
       "    <tr>\n",
       "      <th>8811</th>\n",
       "      <td>1.39 Cr</td>\n",
       "      <td>13900003</td>\n",
       "    </tr>\n",
       "    <tr>\n",
       "      <th>5640</th>\n",
       "      <td>2 Cr</td>\n",
       "      <td>20000000</td>\n",
       "    </tr>\n",
       "    <tr>\n",
       "      <th>3301</th>\n",
       "      <td>65,000</td>\n",
       "      <td>65000</td>\n",
       "    </tr>\n",
       "  </tbody>\n",
       "</table>\n",
       "</div>"
      ],
      "text/plain": [
       "        PRICE  MIN_PRICE\n",
       "7234  1.53 Cr   15300000\n",
       "3989   36,800      36800\n",
       "3212     58 L    5800000\n",
       "7523   83,000      83000\n",
       "8811  1.39 Cr   13900003\n",
       "5640     2 Cr   20000000\n",
       "3301   65,000      65000"
      ]
     },
     "execution_count": 15,
     "metadata": {},
     "output_type": "execute_result"
    }
   ],
   "source": [
    "df[['PRICE', 'MIN_PRICE']].sample(7)"
   ]
  },
  {
   "cell_type": "markdown",
   "metadata": {},
   "source": [
    "Here, `MIN_PRICE` is integer value of `PRICE` column which is in string value."
   ]
  },
  {
   "cell_type": "code",
   "execution_count": 16,
   "metadata": {},
   "outputs": [
    {
     "data": {
      "text/plain": [
       "1313"
      ]
     },
     "execution_count": 16,
     "metadata": {},
     "output_type": "execute_result"
    }
   ],
   "source": [
    "df['PRICE'].nunique()"
   ]
  },
  {
   "cell_type": "code",
   "execution_count": 17,
   "metadata": {},
   "outputs": [
    {
     "data": {
      "text/plain": [
       "array(['Cr', 'Request', 'L', 'Onwards', '35,000', '65,000', '25,000',\n",
       "       '27,000', '70,000', '60,000', '15,000', '20,000', '52,000',\n",
       "       '45,000', '56,000', '85,000', '38,000', '40,000', '26,000',\n",
       "       '38,201', '50,000', '43,500', '43,000', '95,000', '63,500',\n",
       "       '80,000', '82,000', '32,000', '31,000', '60,500', '45,500',\n",
       "       '75,000', '62,000', '90,000', '42,000', '33,000', '12,100',\n",
       "       '40,500', '46,000', '40,100', '29,000', '30,000', '21,000',\n",
       "       '58,000', '59,500', '24,000', '48,000', '72,000', '34,000',\n",
       "       '54,500', '36,000', '53,000', '61,000', '77,000', '29,500',\n",
       "       '64,000', '55,000', '22,000', '97,000', '93,000', '44,000',\n",
       "       '59,000', '76,300', '78,000', '77,500', '75,500', '61,500',\n",
       "       '69,000', '51,000', '54,900', '74,500', '67,000', '41,000',\n",
       "       '52,500', '28,000', '12,800', '8,000', '84,000', '73,000', '9,000'],\n",
       "      dtype=object)"
      ]
     },
     "execution_count": 17,
     "metadata": {},
     "output_type": "execute_result"
    }
   ],
   "source": [
    "df['PRICE'].str.split().str.get(-1).unique()[:80]"
   ]
  },
  {
   "cell_type": "code",
   "execution_count": 18,
   "metadata": {},
   "outputs": [
    {
     "data": {
      "text/html": [
       "<div>\n",
       "<style scoped>\n",
       "    .dataframe tbody tr th:only-of-type {\n",
       "        vertical-align: middle;\n",
       "    }\n",
       "\n",
       "    .dataframe tbody tr th {\n",
       "        vertical-align: top;\n",
       "    }\n",
       "\n",
       "    .dataframe thead th {\n",
       "        text-align: right;\n",
       "    }\n",
       "</style>\n",
       "<table border=\"1\" class=\"dataframe\">\n",
       "  <thead>\n",
       "    <tr style=\"text-align: right;\">\n",
       "      <th></th>\n",
       "      <th>SPID</th>\n",
       "      <th>PROP_ID</th>\n",
       "      <th>CITY</th>\n",
       "      <th>PRICE</th>\n",
       "      <th>MAX_PRICE</th>\n",
       "      <th>MIN_PRICE</th>\n",
       "      <th>PRICE_SQFT</th>\n",
       "      <th>AREA</th>\n",
       "      <th>SECONDARY_AREA</th>\n",
       "      <th>MAX_AREA_SQFT</th>\n",
       "      <th>MIN_AREA_SQFT</th>\n",
       "      <th>PRICE_PER_UNIT_AREA</th>\n",
       "      <th>SECONDARY_TAGS</th>\n",
       "      <th>TOTAL_LANDMARK_COUNT</th>\n",
       "      <th>FORMATTED_LANDMARK_DETAILS</th>\n",
       "      <th>MAP_DETAILS</th>\n",
       "      <th>PROP_HEADING</th>\n",
       "      <th>DESCRIPTION</th>\n",
       "      <th>PROPERTY_TYPE</th>\n",
       "      <th>location</th>\n",
       "      <th>FURNISH</th>\n",
       "      <th>FACING</th>\n",
       "      <th>AGE</th>\n",
       "      <th>TOTAL_FLOOR</th>\n",
       "      <th>FEATURES</th>\n",
       "      <th>BEDROOM_NUM</th>\n",
       "      <th>AMENITIES</th>\n",
       "      <th>PROP_NAME</th>\n",
       "      <th>BALCONY_NUM</th>\n",
       "      <th>FLOOR_NUM</th>\n",
       "    </tr>\n",
       "  </thead>\n",
       "  <tbody>\n",
       "    <tr>\n",
       "      <th>21</th>\n",
       "      <td>70964926</td>\n",
       "      <td>I70964926</td>\n",
       "      <td>Gurgaon</td>\n",
       "      <td>Price on Request</td>\n",
       "      <td>0</td>\n",
       "      <td>0</td>\n",
       "      <td>0.0</td>\n",
       "      <td>2160-90000  sq.ft.</td>\n",
       "      <td>200.67-8361.27  sq.m.</td>\n",
       "      <td>8361.270000</td>\n",
       "      <td>200.670480</td>\n",
       "      <td>0.0</td>\n",
       "      <td>['READY TO MOVE', 'NEW BOOKING']</td>\n",
       "      <td>8.0</td>\n",
       "      <td>[{'text': '1 Metro Station'}, {'text': '1 Shop...</td>\n",
       "      <td>{'LATITUDE': '28.397809', 'LONGITUDE': '77.087...</td>\n",
       "      <td>Residential land / Plot in Sector 63 Gurgaon</td>\n",
       "      <td>Anant raj estate plots in sector-63, gurgaon b...</td>\n",
       "      <td>Residential Land</td>\n",
       "      <td>{'CITY': '8', 'CITY_NAME': 'Gurgaon', 'BUILDIN...</td>\n",
       "      <td>0</td>\n",
       "      <td>0</td>\n",
       "      <td>0</td>\n",
       "      <td>0.0</td>\n",
       "      <td>N</td>\n",
       "      <td>NaN</td>\n",
       "      <td>NaN</td>\n",
       "      <td>Anant Raj Estate Plots</td>\n",
       "      <td>NaN</td>\n",
       "      <td>NaN</td>\n",
       "    </tr>\n",
       "    <tr>\n",
       "      <th>205</th>\n",
       "      <td>70681942</td>\n",
       "      <td>L70681942</td>\n",
       "      <td>Gurgaon</td>\n",
       "      <td>Price on Request</td>\n",
       "      <td>0</td>\n",
       "      <td>0</td>\n",
       "      <td>0.0</td>\n",
       "      <td>2050 sq.ft.</td>\n",
       "      <td>190.45 sq.m.</td>\n",
       "      <td>190.451150</td>\n",
       "      <td>190.451150</td>\n",
       "      <td>0.0</td>\n",
       "      <td>['UNDER CONSTRUCTION', 'NEW BOOKING', 'RERA']</td>\n",
       "      <td>15.0</td>\n",
       "      <td>[{'text': '1 Metro Station'}, {'text': '1 Shop...</td>\n",
       "      <td>{'LATITUDE': '28.409433', 'LONGITUDE': '77.105...</td>\n",
       "      <td>4 BHK Flat in Sector 59 Gurgaon</td>\n",
       "      <td>Book your 4 BHK apartment in Conscient Elevate...</td>\n",
       "      <td>Residential Apartment</td>\n",
       "      <td>{'CITY': '8', 'CITY_NAME': 'Gurgaon', 'BUILDIN...</td>\n",
       "      <td>0</td>\n",
       "      <td>0</td>\n",
       "      <td>5</td>\n",
       "      <td>33.0</td>\n",
       "      <td>N</td>\n",
       "      <td>4.0</td>\n",
       "      <td>NaN</td>\n",
       "      <td>Conscient Elevate</td>\n",
       "      <td>NaN</td>\n",
       "      <td>1</td>\n",
       "    </tr>\n",
       "    <tr>\n",
       "      <th>206</th>\n",
       "      <td>70681940</td>\n",
       "      <td>S70681940</td>\n",
       "      <td>Gurgaon</td>\n",
       "      <td>Price on Request</td>\n",
       "      <td>0</td>\n",
       "      <td>0</td>\n",
       "      <td>0.0</td>\n",
       "      <td>1562 sq.ft.</td>\n",
       "      <td>145.11 sq.m.</td>\n",
       "      <td>145.114486</td>\n",
       "      <td>145.114486</td>\n",
       "      <td>0.0</td>\n",
       "      <td>['UNDER CONSTRUCTION', 'NEW BOOKING', 'RERA']</td>\n",
       "      <td>15.0</td>\n",
       "      <td>[{'text': '1 Metro Station'}, {'text': '1 Shop...</td>\n",
       "      <td>{'LATITUDE': '28.409433', 'LONGITUDE': '77.105...</td>\n",
       "      <td>3 BHK Flat in Sector 59 Gurgaon</td>\n",
       "      <td>Book your 3 BHK flat in Sector 59, Gurgaon wit...</td>\n",
       "      <td>Residential Apartment</td>\n",
       "      <td>{'CITY': '8', 'CITY_NAME': 'Gurgaon', 'BUILDIN...</td>\n",
       "      <td>0</td>\n",
       "      <td>0</td>\n",
       "      <td>5</td>\n",
       "      <td>33.0</td>\n",
       "      <td>N</td>\n",
       "      <td>3.0</td>\n",
       "      <td>NaN</td>\n",
       "      <td>Conscient Elevate</td>\n",
       "      <td>NaN</td>\n",
       "      <td>1</td>\n",
       "    </tr>\n",
       "    <tr>\n",
       "      <th>269</th>\n",
       "      <td>70831824</td>\n",
       "      <td>J70831824</td>\n",
       "      <td>Gurgaon</td>\n",
       "      <td>Price on Request</td>\n",
       "      <td>0</td>\n",
       "      <td>0</td>\n",
       "      <td>0.0</td>\n",
       "      <td>2160-90000  sq.ft.</td>\n",
       "      <td>200.67-8361.27  sq.m.</td>\n",
       "      <td>8361.270000</td>\n",
       "      <td>200.670480</td>\n",
       "      <td>0.0</td>\n",
       "      <td>['READY TO MOVE', 'NEW BOOKING']</td>\n",
       "      <td>8.0</td>\n",
       "      <td>[{'text': '1 Metro Station'}, {'text': '1 Shop...</td>\n",
       "      <td>{'LATITUDE': '28.397809', 'LONGITUDE': '77.087...</td>\n",
       "      <td>Residential land / Plot in Sector 63 Gurgaon</td>\n",
       "      <td>Anant raj estate plots in sector-63, gurgaon b...</td>\n",
       "      <td>Residential Land</td>\n",
       "      <td>{'CITY': '8', 'CITY_NAME': 'Gurgaon', 'BUILDIN...</td>\n",
       "      <td>0</td>\n",
       "      <td>0</td>\n",
       "      <td>0</td>\n",
       "      <td>0.0</td>\n",
       "      <td>N</td>\n",
       "      <td>NaN</td>\n",
       "      <td>NaN</td>\n",
       "      <td>Anant Raj Estate Plots</td>\n",
       "      <td>NaN</td>\n",
       "      <td>NaN</td>\n",
       "    </tr>\n",
       "    <tr>\n",
       "      <th>270</th>\n",
       "      <td>70830250</td>\n",
       "      <td>Z70830250</td>\n",
       "      <td>Gurgaon</td>\n",
       "      <td>Price on Request</td>\n",
       "      <td>0</td>\n",
       "      <td>0</td>\n",
       "      <td>0.0</td>\n",
       "      <td>2160-9000  sq.ft.</td>\n",
       "      <td>200.67-836.13  sq.m.</td>\n",
       "      <td>836.127000</td>\n",
       "      <td>200.670480</td>\n",
       "      <td>0.0</td>\n",
       "      <td>['READY TO MOVE', 'NEW BOOKING']</td>\n",
       "      <td>15.0</td>\n",
       "      <td>[{'text': '3 Educations'}, {'text': '3 Hospita...</td>\n",
       "      <td>{'LATITUDE': '28.410512', 'LONGITUDE': '77.111...</td>\n",
       "      <td>Residential land / Plot in Sector 60 Gurgaon</td>\n",
       "      <td>Ireo city plots in sector-60 gurgaon, gurgaon ...</td>\n",
       "      <td>Residential Land</td>\n",
       "      <td>{'CITY': '8', 'CITY_NAME': 'Gurgaon', 'BUILDIN...</td>\n",
       "      <td>0</td>\n",
       "      <td>0</td>\n",
       "      <td>0</td>\n",
       "      <td>0.0</td>\n",
       "      <td>N</td>\n",
       "      <td>NaN</td>\n",
       "      <td>NaN</td>\n",
       "      <td>Ireo City Plots</td>\n",
       "      <td>NaN</td>\n",
       "      <td>NaN</td>\n",
       "    </tr>\n",
       "  </tbody>\n",
       "</table>\n",
       "</div>"
      ],
      "text/plain": [
       "         SPID    PROP_ID     CITY             PRICE  MAX_PRICE  MIN_PRICE  \\\n",
       "21   70964926  I70964926  Gurgaon  Price on Request          0          0   \n",
       "205  70681942  L70681942  Gurgaon  Price on Request          0          0   \n",
       "206  70681940  S70681940  Gurgaon  Price on Request          0          0   \n",
       "269  70831824  J70831824  Gurgaon  Price on Request          0          0   \n",
       "270  70830250  Z70830250  Gurgaon  Price on Request          0          0   \n",
       "\n",
       "     PRICE_SQFT                AREA         SECONDARY_AREA  MAX_AREA_SQFT  \\\n",
       "21          0.0  2160-90000  sq.ft.  200.67-8361.27  sq.m.    8361.270000   \n",
       "205         0.0         2050 sq.ft.           190.45 sq.m.     190.451150   \n",
       "206         0.0         1562 sq.ft.           145.11 sq.m.     145.114486   \n",
       "269         0.0  2160-90000  sq.ft.  200.67-8361.27  sq.m.    8361.270000   \n",
       "270         0.0   2160-9000  sq.ft.   200.67-836.13  sq.m.     836.127000   \n",
       "\n",
       "     MIN_AREA_SQFT  PRICE_PER_UNIT_AREA  \\\n",
       "21      200.670480                  0.0   \n",
       "205     190.451150                  0.0   \n",
       "206     145.114486                  0.0   \n",
       "269     200.670480                  0.0   \n",
       "270     200.670480                  0.0   \n",
       "\n",
       "                                    SECONDARY_TAGS  TOTAL_LANDMARK_COUNT  \\\n",
       "21                ['READY TO MOVE', 'NEW BOOKING']                   8.0   \n",
       "205  ['UNDER CONSTRUCTION', 'NEW BOOKING', 'RERA']                  15.0   \n",
       "206  ['UNDER CONSTRUCTION', 'NEW BOOKING', 'RERA']                  15.0   \n",
       "269               ['READY TO MOVE', 'NEW BOOKING']                   8.0   \n",
       "270               ['READY TO MOVE', 'NEW BOOKING']                  15.0   \n",
       "\n",
       "                            FORMATTED_LANDMARK_DETAILS  \\\n",
       "21   [{'text': '1 Metro Station'}, {'text': '1 Shop...   \n",
       "205  [{'text': '1 Metro Station'}, {'text': '1 Shop...   \n",
       "206  [{'text': '1 Metro Station'}, {'text': '1 Shop...   \n",
       "269  [{'text': '1 Metro Station'}, {'text': '1 Shop...   \n",
       "270  [{'text': '3 Educations'}, {'text': '3 Hospita...   \n",
       "\n",
       "                                           MAP_DETAILS  \\\n",
       "21   {'LATITUDE': '28.397809', 'LONGITUDE': '77.087...   \n",
       "205  {'LATITUDE': '28.409433', 'LONGITUDE': '77.105...   \n",
       "206  {'LATITUDE': '28.409433', 'LONGITUDE': '77.105...   \n",
       "269  {'LATITUDE': '28.397809', 'LONGITUDE': '77.087...   \n",
       "270  {'LATITUDE': '28.410512', 'LONGITUDE': '77.111...   \n",
       "\n",
       "                                     PROP_HEADING  \\\n",
       "21   Residential land / Plot in Sector 63 Gurgaon   \n",
       "205               4 BHK Flat in Sector 59 Gurgaon   \n",
       "206               3 BHK Flat in Sector 59 Gurgaon   \n",
       "269  Residential land / Plot in Sector 63 Gurgaon   \n",
       "270  Residential land / Plot in Sector 60 Gurgaon   \n",
       "\n",
       "                                           DESCRIPTION          PROPERTY_TYPE  \\\n",
       "21   Anant raj estate plots in sector-63, gurgaon b...       Residential Land   \n",
       "205  Book your 4 BHK apartment in Conscient Elevate...  Residential Apartment   \n",
       "206  Book your 3 BHK flat in Sector 59, Gurgaon wit...  Residential Apartment   \n",
       "269  Anant raj estate plots in sector-63, gurgaon b...       Residential Land   \n",
       "270  Ireo city plots in sector-60 gurgaon, gurgaon ...       Residential Land   \n",
       "\n",
       "                                              location  FURNISH  FACING  AGE  \\\n",
       "21   {'CITY': '8', 'CITY_NAME': 'Gurgaon', 'BUILDIN...        0       0    0   \n",
       "205  {'CITY': '8', 'CITY_NAME': 'Gurgaon', 'BUILDIN...        0       0    5   \n",
       "206  {'CITY': '8', 'CITY_NAME': 'Gurgaon', 'BUILDIN...        0       0    5   \n",
       "269  {'CITY': '8', 'CITY_NAME': 'Gurgaon', 'BUILDIN...        0       0    0   \n",
       "270  {'CITY': '8', 'CITY_NAME': 'Gurgaon', 'BUILDIN...        0       0    0   \n",
       "\n",
       "     TOTAL_FLOOR FEATURES  BEDROOM_NUM AMENITIES               PROP_NAME  \\\n",
       "21           0.0        N          NaN       NaN  Anant Raj Estate Plots   \n",
       "205         33.0        N          4.0       NaN       Conscient Elevate   \n",
       "206         33.0        N          3.0       NaN       Conscient Elevate   \n",
       "269          0.0        N          NaN       NaN  Anant Raj Estate Plots   \n",
       "270          0.0        N          NaN       NaN         Ireo City Plots   \n",
       "\n",
       "     BALCONY_NUM FLOOR_NUM  \n",
       "21           NaN       NaN  \n",
       "205          NaN         1  \n",
       "206          NaN         1  \n",
       "269          NaN       NaN  \n",
       "270          NaN       NaN  "
      ]
     },
     "execution_count": 18,
     "metadata": {},
     "output_type": "execute_result"
    }
   ],
   "source": [
    "# These properties PRICE is not available\n",
    "df[df['PRICE'].str.contains(r'\\d') == False].head(5)"
   ]
  },
  {
   "cell_type": "code",
   "execution_count": 19,
   "metadata": {},
   "outputs": [
    {
     "data": {
      "text/html": [
       "<div>\n",
       "<style scoped>\n",
       "    .dataframe tbody tr th:only-of-type {\n",
       "        vertical-align: middle;\n",
       "    }\n",
       "\n",
       "    .dataframe tbody tr th {\n",
       "        vertical-align: top;\n",
       "    }\n",
       "\n",
       "    .dataframe thead th {\n",
       "        text-align: right;\n",
       "    }\n",
       "</style>\n",
       "<table border=\"1\" class=\"dataframe\">\n",
       "  <thead>\n",
       "    <tr style=\"text-align: right;\">\n",
       "      <th></th>\n",
       "      <th>AREA</th>\n",
       "      <th>SECONDARY_AREA</th>\n",
       "      <th>MIN_AREA_SQFT</th>\n",
       "    </tr>\n",
       "  </thead>\n",
       "  <tbody>\n",
       "    <tr>\n",
       "      <th>8526</th>\n",
       "      <td>1508 sq.ft.</td>\n",
       "      <td>140.1 sq.m.</td>\n",
       "      <td>140.097724</td>\n",
       "    </tr>\n",
       "    <tr>\n",
       "      <th>5415</th>\n",
       "      <td>4548 sq.ft.</td>\n",
       "      <td>422.52 sq.m.</td>\n",
       "      <td>422.522844</td>\n",
       "    </tr>\n",
       "    <tr>\n",
       "      <th>3160</th>\n",
       "      <td>1125 sq.ft.</td>\n",
       "      <td>104.52 sq.m.</td>\n",
       "      <td>104.515875</td>\n",
       "    </tr>\n",
       "    <tr>\n",
       "      <th>2608</th>\n",
       "      <td>43560 sq.ft.</td>\n",
       "      <td>4046.85 sq.m.</td>\n",
       "      <td>4046.854680</td>\n",
       "    </tr>\n",
       "    <tr>\n",
       "      <th>4383</th>\n",
       "      <td>3150 sq.ft.</td>\n",
       "      <td>292.64 sq.m.</td>\n",
       "      <td>292.644450</td>\n",
       "    </tr>\n",
       "    <tr>\n",
       "      <th>7636</th>\n",
       "      <td>3150 sq.ft.</td>\n",
       "      <td>292.64 sq.m.</td>\n",
       "      <td>292.644450</td>\n",
       "    </tr>\n",
       "    <tr>\n",
       "      <th>6124</th>\n",
       "      <td>4500 sq.ft.</td>\n",
       "      <td>418.06 sq.m.</td>\n",
       "      <td>418.063500</td>\n",
       "    </tr>\n",
       "  </tbody>\n",
       "</table>\n",
       "</div>"
      ],
      "text/plain": [
       "              AREA SECONDARY_AREA  MIN_AREA_SQFT\n",
       "8526   1508 sq.ft.    140.1 sq.m.     140.097724\n",
       "5415   4548 sq.ft.   422.52 sq.m.     422.522844\n",
       "3160   1125 sq.ft.   104.52 sq.m.     104.515875\n",
       "2608  43560 sq.ft.  4046.85 sq.m.    4046.854680\n",
       "4383   3150 sq.ft.   292.64 sq.m.     292.644450\n",
       "7636   3150 sq.ft.   292.64 sq.m.     292.644450\n",
       "6124   4500 sq.ft.   418.06 sq.m.     418.063500"
      ]
     },
     "execution_count": 19,
     "metadata": {},
     "output_type": "execute_result"
    }
   ],
   "source": [
    "df[['AREA', 'SECONDARY_AREA', 'MIN_AREA_SQFT']].sample(7)"
   ]
  },
  {
   "cell_type": "code",
   "execution_count": 20,
   "metadata": {},
   "outputs": [
    {
     "data": {
      "text/html": [
       "<div>\n",
       "<style scoped>\n",
       "    .dataframe tbody tr th:only-of-type {\n",
       "        vertical-align: middle;\n",
       "    }\n",
       "\n",
       "    .dataframe tbody tr th {\n",
       "        vertical-align: top;\n",
       "    }\n",
       "\n",
       "    .dataframe thead th {\n",
       "        text-align: right;\n",
       "    }\n",
       "</style>\n",
       "<table border=\"1\" class=\"dataframe\">\n",
       "  <thead>\n",
       "    <tr style=\"text-align: right;\">\n",
       "      <th></th>\n",
       "      <th>PRICE</th>\n",
       "      <th>PRICE_SQFT</th>\n",
       "      <th>PRICE_PER_UNIT_AREA</th>\n",
       "      <th>AREA</th>\n",
       "      <th>MAX_AREA_SQFT</th>\n",
       "      <th>SECONDARY_AREA</th>\n",
       "    </tr>\n",
       "  </thead>\n",
       "  <tbody>\n",
       "    <tr>\n",
       "      <th>8131</th>\n",
       "      <td>3.24 Cr</td>\n",
       "      <td>180000.0</td>\n",
       "      <td>180000.0</td>\n",
       "      <td>1620 sq.ft.</td>\n",
       "      <td>150.502860</td>\n",
       "      <td>150.5 sq.m.</td>\n",
       "    </tr>\n",
       "    <tr>\n",
       "      <th>3785</th>\n",
       "      <td>1.5 L</td>\n",
       "      <td>373.0</td>\n",
       "      <td>373.0</td>\n",
       "      <td>3618 sq.ft.</td>\n",
       "      <td>336.123054</td>\n",
       "      <td>336.12 sq.m.</td>\n",
       "    </tr>\n",
       "    <tr>\n",
       "      <th>3896</th>\n",
       "      <td>4.05 Cr</td>\n",
       "      <td>15644.0</td>\n",
       "      <td>15644.0</td>\n",
       "      <td>2588 sq.ft.</td>\n",
       "      <td>240.432964</td>\n",
       "      <td>240.43 sq.m.</td>\n",
       "    </tr>\n",
       "    <tr>\n",
       "      <th>8529</th>\n",
       "      <td>2 Cr</td>\n",
       "      <td>9876.0</td>\n",
       "      <td>9876.0</td>\n",
       "      <td>2025 sq.ft.</td>\n",
       "      <td>188.128575</td>\n",
       "      <td>188.13 sq.m.</td>\n",
       "    </tr>\n",
       "    <tr>\n",
       "      <th>7690</th>\n",
       "      <td>5.5 Cr</td>\n",
       "      <td>19203.0</td>\n",
       "      <td>19203.0</td>\n",
       "      <td>2864 sq.ft.</td>\n",
       "      <td>266.074192</td>\n",
       "      <td>266.07 sq.m.</td>\n",
       "    </tr>\n",
       "    <tr>\n",
       "      <th>9592</th>\n",
       "      <td>10 Cr</td>\n",
       "      <td>31746.0</td>\n",
       "      <td>31746.0</td>\n",
       "      <td>3150 sq.ft.</td>\n",
       "      <td>292.644450</td>\n",
       "      <td>292.64 sq.m.</td>\n",
       "    </tr>\n",
       "    <tr>\n",
       "      <th>9260</th>\n",
       "      <td>40,000</td>\n",
       "      <td>23.0</td>\n",
       "      <td>23.0</td>\n",
       "      <td>1727 sq.ft.</td>\n",
       "      <td>160.443481</td>\n",
       "      <td>160.44 sq.m.</td>\n",
       "    </tr>\n",
       "  </tbody>\n",
       "</table>\n",
       "</div>"
      ],
      "text/plain": [
       "        PRICE  PRICE_SQFT  PRICE_PER_UNIT_AREA         AREA  MAX_AREA_SQFT  \\\n",
       "8131  3.24 Cr    180000.0             180000.0  1620 sq.ft.     150.502860   \n",
       "3785    1.5 L       373.0                373.0  3618 sq.ft.     336.123054   \n",
       "3896  4.05 Cr     15644.0              15644.0  2588 sq.ft.     240.432964   \n",
       "8529     2 Cr      9876.0               9876.0  2025 sq.ft.     188.128575   \n",
       "7690   5.5 Cr     19203.0              19203.0  2864 sq.ft.     266.074192   \n",
       "9592    10 Cr     31746.0              31746.0  3150 sq.ft.     292.644450   \n",
       "9260   40,000        23.0                 23.0  1727 sq.ft.     160.443481   \n",
       "\n",
       "     SECONDARY_AREA  \n",
       "8131    150.5 sq.m.  \n",
       "3785   336.12 sq.m.  \n",
       "3896   240.43 sq.m.  \n",
       "8529   188.13 sq.m.  \n",
       "7690   266.07 sq.m.  \n",
       "9592   292.64 sq.m.  \n",
       "9260   160.44 sq.m.  "
      ]
     },
     "execution_count": 20,
     "metadata": {},
     "output_type": "execute_result"
    }
   ],
   "source": [
    "df[\n",
    "    ['PRICE', 'PRICE_SQFT', 'PRICE_PER_UNIT_AREA', 'AREA', 'MAX_AREA_SQFT', 'SECONDARY_AREA']\n",
    "].sample(7)"
   ]
  },
  {
   "cell_type": "markdown",
   "metadata": {},
   "source": [
    "## Extra"
   ]
  },
  {
   "cell_type": "code",
   "execution_count": 21,
   "metadata": {},
   "outputs": [
    {
     "data": {
      "text/html": [
       "<div>\n",
       "<style scoped>\n",
       "    .dataframe tbody tr th:only-of-type {\n",
       "        vertical-align: middle;\n",
       "    }\n",
       "\n",
       "    .dataframe tbody tr th {\n",
       "        vertical-align: top;\n",
       "    }\n",
       "\n",
       "    .dataframe thead th {\n",
       "        text-align: right;\n",
       "    }\n",
       "</style>\n",
       "<table border=\"1\" class=\"dataframe\">\n",
       "  <thead>\n",
       "    <tr style=\"text-align: right;\">\n",
       "      <th></th>\n",
       "      <th>TOTAL_LANDMARK_COUNT</th>\n",
       "      <th>FORMATTED_LANDMARK_DETAILS</th>\n",
       "    </tr>\n",
       "  </thead>\n",
       "  <tbody>\n",
       "    <tr>\n",
       "      <th>6750</th>\n",
       "      <td>13.0</td>\n",
       "      <td>[{'text': '1 Metro Station'}, {'text': '1 Shop...</td>\n",
       "    </tr>\n",
       "    <tr>\n",
       "      <th>6076</th>\n",
       "      <td>15.0</td>\n",
       "      <td>[{'text': '1 Metro Station'}, {'text': '3 Shop...</td>\n",
       "    </tr>\n",
       "    <tr>\n",
       "      <th>6633</th>\n",
       "      <td>48.0</td>\n",
       "      <td>[{'text': '2 Metro Stations'}, {'text': '2 Rel...</td>\n",
       "    </tr>\n",
       "    <tr>\n",
       "      <th>1867</th>\n",
       "      <td>10.0</td>\n",
       "      <td>[{'text': '1 Shopping'}, {'text': '1 Connectiv...</td>\n",
       "    </tr>\n",
       "    <tr>\n",
       "      <th>4065</th>\n",
       "      <td>7.0</td>\n",
       "      <td>[{'text': '1 Metro Station'}, {'text': '1 Conn...</td>\n",
       "    </tr>\n",
       "    <tr>\n",
       "      <th>1839</th>\n",
       "      <td>8.0</td>\n",
       "      <td>[{'text': '1 Metro Station'}, {'text': '1 Shop...</td>\n",
       "    </tr>\n",
       "    <tr>\n",
       "      <th>2418</th>\n",
       "      <td>50.0</td>\n",
       "      <td>[{'text': '48 Hospitals'}, {'text': '1 Miscell...</td>\n",
       "    </tr>\n",
       "  </tbody>\n",
       "</table>\n",
       "</div>"
      ],
      "text/plain": [
       "      TOTAL_LANDMARK_COUNT                         FORMATTED_LANDMARK_DETAILS\n",
       "6750                  13.0  [{'text': '1 Metro Station'}, {'text': '1 Shop...\n",
       "6076                  15.0  [{'text': '1 Metro Station'}, {'text': '3 Shop...\n",
       "6633                  48.0  [{'text': '2 Metro Stations'}, {'text': '2 Rel...\n",
       "1867                  10.0  [{'text': '1 Shopping'}, {'text': '1 Connectiv...\n",
       "4065                   7.0  [{'text': '1 Metro Station'}, {'text': '1 Conn...\n",
       "1839                   8.0  [{'text': '1 Metro Station'}, {'text': '1 Shop...\n",
       "2418                  50.0  [{'text': '48 Hospitals'}, {'text': '1 Miscell..."
      ]
     },
     "execution_count": 21,
     "metadata": {},
     "output_type": "execute_result"
    }
   ],
   "source": [
    "df[['TOTAL_LANDMARK_COUNT', 'FORMATTED_LANDMARK_DETAILS']].sample(7)"
   ]
  },
  {
   "cell_type": "code",
   "execution_count": 22,
   "metadata": {},
   "outputs": [
    {
     "data": {
      "text/plain": [
       "array(['UNDER CONSTRUCTION', 'NEW BOOKING', 'RERA', 'READY TO MOVE',\n",
       "       'RESALE', 'NEW LAUNCH', 'NORTH FACING', 'IN GATED COMMUNITY',\n",
       "       'HUDA APPROVED', 'HSIIDC APPROVED', 'HHB APPROVED',\n",
       "       'CORNER PROPERTY', 'FOR SINGLE MEN', 'FOR SINGLE WOMEN', nan,\n",
       "       'FURNISHED', 'EAST FACING', 'NORTH-EAST FACING',\n",
       "       'AUTHORITY APPROVED', 'SHARED BY 2', 'PRIVATE ROOM', 'SHARED BY 4',\n",
       "       'SHARED BY 5'], dtype=object)"
      ]
     },
     "execution_count": 22,
     "metadata": {},
     "output_type": "execute_result"
    }
   ],
   "source": [
    "df['SECONDARY_TAGS'].apply(literal_eval).explode().unique()"
   ]
  },
  {
   "cell_type": "code",
   "execution_count": 23,
   "metadata": {},
   "outputs": [
    {
     "data": {
      "text/plain": [
       "[{'LATITUDE': '28.4234414', 'LONGITUDE': '77.0765927'},\n",
       " {'LATITUDE': '28.392382', 'LONGITUDE': '77.089173'},\n",
       " {'LATITUDE': '28.401311', 'LONGITUDE': '76.9513432'},\n",
       " {'LATITUDE': '28.422235', 'LONGITUDE': '77.033496'},\n",
       " {'LATITUDE': '28.51417', 'LONGITUDE': '76.983935'},\n",
       " {'LATITUDE': '28.4595', 'LONGITUDE': '77.02664'},\n",
       " {'LATITUDE': '28.486212', 'LONGITUDE': '77.09372'}]"
      ]
     },
     "execution_count": 23,
     "metadata": {},
     "output_type": "execute_result"
    }
   ],
   "source": [
    "df['MAP_DETAILS'].sample(7).apply(literal_eval).tolist()"
   ]
  },
  {
   "cell_type": "code",
   "execution_count": 24,
   "metadata": {},
   "outputs": [
    {
     "data": {
      "text/plain": [
       "4317     17,5,20,21,44,23,45,24,46,47,19,1,6,30,12,25,2...\n",
       "1619     10,32,17,2,5,8,20,21,44,23,45,24,46,47,28,29,3...\n",
       "9657                                           20,21,6,103\n",
       "10230    17,2,5,20,21,23,24,46,47,28,29,19,1,6,9,30,43,...\n",
       "8759     5,32,10,44,23,45,24,46,47,28,29,19,1,6,9,30,43...\n",
       "5054     5,8,20,21,44,23,45,24,47,19,1,6,9,40,30,41,42,...\n",
       "7409          5,21,23,45,24,46,47,19,9,40,41,42,12,25,26,3\n",
       "Name: AMENITIES, dtype: object"
      ]
     },
     "execution_count": 24,
     "metadata": {},
     "output_type": "execute_result"
    }
   ],
   "source": [
    "df['AMENITIES'].sample(7)"
   ]
  },
  {
   "cell_type": "code",
   "execution_count": 25,
   "metadata": {},
   "outputs": [
    {
     "data": {
      "text/plain": [
       "7441     4\n",
       "4669    34\n",
       "4071    19\n",
       "2897    15\n",
       "5466    31\n",
       "5606    23\n",
       "3760    34\n",
       "Name: AMENITIES, dtype: int64"
      ]
     },
     "execution_count": 25,
     "metadata": {},
     "output_type": "execute_result"
    }
   ],
   "source": [
    "df['AMENITIES'].sample(7).str.split(',').str.len()"
   ]
  },
  {
   "cell_type": "code",
   "execution_count": 26,
   "metadata": {},
   "outputs": [
    {
     "data": {
      "text/plain": [
       "AGE\n",
       "1    3801\n",
       "6    2274\n",
       "2    1566\n",
       "5    1030\n",
       "0    1000\n",
       "3     614\n",
       "Name: count, dtype: int64"
      ]
     },
     "execution_count": 26,
     "metadata": {},
     "output_type": "execute_result"
    }
   ],
   "source": [
    "df['AGE'].value_counts()"
   ]
  },
  {
   "cell_type": "markdown",
   "metadata": {},
   "source": [
    "### FACING\n",
    "\n",
    "| id  | label      |\n",
    "| --- | ---------- |\n",
    "| 1   | North      |\n",
    "| 2   | South      |\n",
    "| 3   | East       |\n",
    "| 4   | West       |\n",
    "| 5   | North-East |\n",
    "| 6   | North-West |\n",
    "| 7   | South-East |\n",
    "| 8   | South-West |\n",
    "\n",
    "**Maybe `0` means `NaN | Undefined`**"
   ]
  },
  {
   "cell_type": "code",
   "execution_count": 27,
   "metadata": {},
   "outputs": [
    {
     "data": {
      "text/plain": [
       "FACING\n",
       "5    3591\n",
       "3    2335\n",
       "1    1379\n",
       "0    1076\n",
       "4     579\n",
       "7     429\n",
       "6     339\n",
       "2     318\n",
       "8     239\n",
       "Name: count, dtype: int64"
      ]
     },
     "execution_count": 27,
     "metadata": {},
     "output_type": "execute_result"
    }
   ],
   "source": [
    "df['FACING'].value_counts()"
   ]
  },
  {
   "cell_type": "code",
   "execution_count": 28,
   "metadata": {},
   "outputs": [
    {
     "data": {
      "text/plain": [
       "[{'CITY': '8',\n",
       "  'CITY_NAME': 'Gurgaon',\n",
       "  'BUILDING_ID': '33516',\n",
       "  'BUILDING_NAME': 'Vatika The Seven Lamps',\n",
       "  'SOCIETY_NAME': 'Vatika The Seven Lamps',\n",
       "  'LOCALITY_ID': '7490',\n",
       "  'LOCALITY_NAME': 'Sector 82 Gurgaon',\n",
       "  'ADDRESS': None},\n",
       " {'CITY': '8',\n",
       "  'CITY_NAME': 'Gurgaon',\n",
       "  'BUILDING_ID': '0',\n",
       "  'BUILDING_NAME': '',\n",
       "  'SOCIETY_NAME': '',\n",
       "  'LOCALITY_ID': '2473',\n",
       "  'LOCALITY_NAME': 'Sector 40 Gurgaon',\n",
       "  'ADDRESS': '001'},\n",
       " {'CITY': '8',\n",
       "  'CITY_NAME': 'Gurgaon',\n",
       "  'BUILDING_ID': '0',\n",
       "  'BUILDING_NAME': '',\n",
       "  'SOCIETY_NAME': '',\n",
       "  'LOCALITY_ID': '10452',\n",
       "  'LOCALITY_NAME': 'C Block Sushant Lok Phase 1',\n",
       "  'ADDRESS': None}]"
      ]
     },
     "execution_count": 28,
     "metadata": {},
     "output_type": "execute_result"
    }
   ],
   "source": [
    "df['location'].sample(3).apply(literal_eval).tolist()"
   ]
  },
  {
   "cell_type": "code",
   "execution_count": 29,
   "metadata": {},
   "outputs": [],
   "source": [
    "# df['SOCIETY_NAME'] = df['location'].apply(literal_eval).str.get('SOCIETY_NAME')\n",
    "# df['LOCALITY_NAME'] = df['location'].apply(literal_eval).str.get('LOCALITY_NAME')\n",
    "# df['CITY_NAME'] = df['location'].apply(literal_eval).str.get('CITY_NAME')"
   ]
  },
  {
   "cell_type": "code",
   "execution_count": 30,
   "metadata": {},
   "outputs": [
    {
     "data": {
      "text/plain": [
       "8338     3 BHK Independent Builder Floor in South City 1\n",
       "465       4 BHK Independent Builder Floor in Palam Vihar\n",
       "9702                    4 BHK Flat in Sector 37D Gurgaon\n",
       "6370                    4 BHK Flat in Sector 82A Gurgaon\n",
       "10125                     3 BHK Flat in Sector 2 Gurgaon\n",
       "867                            4 BHK Flat in DLF Phase 5\n",
       "115       3 BHK Independent Builder Floor in DLF Phase 1\n",
       "Name: PROP_HEADING, dtype: object"
      ]
     },
     "execution_count": 30,
     "metadata": {},
     "output_type": "execute_result"
    }
   ],
   "source": [
    "df['PROP_HEADING'].sample(7)"
   ]
  },
  {
   "cell_type": "code",
   "execution_count": 31,
   "metadata": {},
   "outputs": [
    {
     "data": {
      "text/plain": [
       "8932    Find this 3 bhk apartment for rent in sector 6...\n",
       "8360    Brand new builder floor apartment is available...\n",
       "4458    4 bhk newly built floor available for sale in ...\n",
       "3487    Located in the popular residential address of ...\n",
       "9588    This lovely 3 bhk apartment for rent in sector...\n",
       "2408    This beautiful 2 bhk flat in sector 108 gurgao...\n",
       "3140    Best project of gurgoan with alll modern ameni...\n",
       "Name: DESCRIPTION, dtype: object"
      ]
     },
     "execution_count": 31,
     "metadata": {},
     "output_type": "execute_result"
    }
   ],
   "source": [
    "df['DESCRIPTION'].sample(7)"
   ]
  },
  {
   "cell_type": "code",
   "execution_count": 32,
   "metadata": {},
   "outputs": [
    {
     "data": {
      "text/plain": [
       "PROPERTY_TYPE\n",
       "Residential Apartment        5982\n",
       "Independent/Builder Floor    2488\n",
       "Residential Land              999\n",
       "Independent House/Villa       638\n",
       "Farm House                    120\n",
       "Studio Apartment               43\n",
       "Serviced Apartments            11\n",
       "Other                           4\n",
       "Name: count, dtype: int64"
      ]
     },
     "execution_count": 32,
     "metadata": {},
     "output_type": "execute_result"
    }
   ],
   "source": [
    "df['PROPERTY_TYPE'].value_counts()"
   ]
  },
  {
   "cell_type": "code",
   "execution_count": 33,
   "metadata": {},
   "outputs": [
    {
     "data": {
      "text/plain": [
       "9508                          NaN\n",
       "7744    Signature Global City 63A\n",
       "4526                          NaN\n",
       "7394        private builder floor\n",
       "7364                          NaN\n",
       "387          Unitech South City 2\n",
       "4560                 Vipul Greens\n",
       "Name: PROP_NAME, dtype: object"
      ]
     },
     "execution_count": 33,
     "metadata": {},
     "output_type": "execute_result"
    }
   ],
   "source": [
    "df['PROP_NAME'].sample(7)"
   ]
  },
  {
   "cell_type": "code",
   "execution_count": 34,
   "metadata": {},
   "outputs": [
    {
     "data": {
      "text/plain": [
       "BALCONY_NUM\n",
       "4.0    2937\n",
       "3.0    2814\n",
       "2.0    2753\n",
       "1.0     535\n",
       "0.0      64\n",
       "Name: count, dtype: int64"
      ]
     },
     "execution_count": 34,
     "metadata": {},
     "output_type": "execute_result"
    }
   ],
   "source": [
    "df['BALCONY_NUM'].value_counts()"
   ]
  },
  {
   "cell_type": "code",
   "execution_count": 35,
   "metadata": {},
   "outputs": [
    {
     "data": {
      "text/plain": [
       "FLOOR_NUM\n",
       "2     1072\n",
       "1     1060\n",
       "3      677\n",
       "4      646\n",
       "7      490\n",
       "10     472\n",
       "6      468\n",
       "8      463\n",
       "5      456\n",
       "9      388\n",
       "Name: count, dtype: int64"
      ]
     },
     "execution_count": 35,
     "metadata": {},
     "output_type": "execute_result"
    }
   ],
   "source": [
    "df['FLOOR_NUM'].value_counts()[:10]"
   ]
  },
  {
   "cell_type": "code",
   "execution_count": 36,
   "metadata": {},
   "outputs": [
    {
     "data": {
      "text/plain": [
       "BEDROOM_NUM\n",
       "3.0     4580\n",
       "4.0     2634\n",
       "2.0     1402\n",
       "5.0      267\n",
       "1.0      214\n",
       "6.0       59\n",
       "9.0       27\n",
       "10.0      18\n",
       "8.0       16\n",
       "12.0      15\n",
       "7.0       14\n",
       "13.0       4\n",
       "16.0       4\n",
       "20.0       3\n",
       "18.0       3\n",
       "11.0       3\n",
       "35.0       3\n",
       "36.0       2\n",
       "15.0       1\n",
       "24.0       1\n",
       "55.0       1\n",
       "34.0       1\n",
       "14.0       1\n",
       "Name: count, dtype: int64"
      ]
     },
     "execution_count": 36,
     "metadata": {},
     "output_type": "execute_result"
    }
   ],
   "source": [
    "df['BEDROOM_NUM'].value_counts()"
   ]
  },
  {
   "cell_type": "code",
   "execution_count": 37,
   "metadata": {},
   "outputs": [
    {
     "data": {
      "text/plain": [
       "TOTAL_FLOOR\n",
       "4.0     2870\n",
       "3.0      757\n",
       "14.0     734\n",
       "2.0      586\n",
       "18.0     427\n",
       "19.0     414\n",
       "24.0     295\n",
       "20.0     259\n",
       "32.0     250\n",
       "26.0     247\n",
       "Name: count, dtype: int64"
      ]
     },
     "execution_count": 37,
     "metadata": {},
     "output_type": "execute_result"
    }
   ],
   "source": [
    "df['TOTAL_FLOOR'].value_counts().iloc[:10]"
   ]
  }
 ],
 "metadata": {
  "kernelspec": {
   "display_name": "Python 3",
   "language": "python",
   "name": "python3"
  },
  "language_info": {
   "codemirror_mode": {
    "name": "ipython",
    "version": 3
   },
   "file_extension": ".py",
   "mimetype": "text/x-python",
   "name": "python",
   "nbconvert_exporter": "python",
   "pygments_lexer": "ipython3",
   "version": "3.11.0"
  },
  "orig_nbformat": 4
 },
 "nbformat": 4,
 "nbformat_minor": 2
}
