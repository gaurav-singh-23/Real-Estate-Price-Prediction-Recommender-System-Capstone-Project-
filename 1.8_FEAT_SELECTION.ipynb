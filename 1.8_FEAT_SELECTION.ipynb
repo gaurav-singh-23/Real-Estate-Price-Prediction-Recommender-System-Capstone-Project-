{
 "cells": [
  {
   "cell_type": "markdown",
   "metadata": {},
   "source": [
    "# FEATURE SELECTION / IMPORTANCE"
   ]
  },
  {
   "cell_type": "code",
   "execution_count": 1,
   "metadata": {},
   "outputs": [],
   "source": [
    "from pathlib import Path\n",
    "\n",
    "import numpy as np\n",
    "from matplotlib import pyplot as plt\n",
    "import pandas as pd\n",
    "import seaborn as sns\n",
    "\n",
    "from sklearn.metrics import mean_absolute_error, mean_squared_error\n",
    "from sklearn.preprocessing import StandardScaler, OrdinalEncoder\n",
    "from sklearn.ensemble import RandomForestRegressor\n",
    "from sklearn.model_selection import train_test_split, cross_val_score\n",
    "from sklearn.linear_model import Lasso, LinearRegression, Ridge\n",
    "from sklearn.feature_selection import RFE\n",
    "from sklearn.inspection import permutation_importance\n",
    "from sklearn.pipeline import Pipeline\n",
    "from sklearn.compose import ColumnTransformer\n",
    "\n",
    "from helpers import constants as C"
   ]
  },
  {
   "cell_type": "markdown",
   "metadata": {},
   "source": [
    "### Import Datasets"
   ]
  },
  {
   "cell_type": "code",
   "execution_count": 2,
   "metadata": {},
   "outputs": [],
   "source": [
    "data_path = Path(\"data/processed/Gurgaon\")\n",
    "\n",
    "data_mapping = {\n",
    "    \"Res Apartment\": pd.read_csv(data_path / \"res_apartment.csv\"),\n",
    "    \"Rent Apartment\": pd.read_csv(data_path / \"rent_apartment.csv\"),\n",
    "    \"Ind Floor\": pd.read_csv(data_path / \"ind_floor.csv\"),\n",
    "    \"Rent Ind Floor\": pd.read_csv(data_path / \"rent_ind_floor.csv\"),\n",
    "    \"Ind House\": pd.read_csv(data_path / \"ind_house.csv\"),\n",
    "    \"Res Land\": pd.read_csv(data_path / \"res_land.csv\"),\n",
    "}"
   ]
  },
  {
   "cell_type": "code",
   "execution_count": 3,
   "metadata": {},
   "outputs": [
    {
     "data": {
      "text/plain": [
       "Index(['PROP_ID', 'CITY', 'PRICE', 'AREA', 'PROP_HEADING', 'DESCRIPTION',\n",
       "       'PROPERTY_TYPE', 'FURNISH', 'FACING', 'AGE', 'BEDROOM_NUM', 'PROP_NAME',\n",
       "       'BALCONY_NUM', 'FLOOR_NUM', 'LATITUDE', 'LONGITUDE', 'LOCALITY_NAME',\n",
       "       'SOCIETY_NAME', 'ADDRESS', 'LUXURY_CATEGORY'],\n",
       "      dtype='object')"
      ]
     },
     "execution_count": 3,
     "metadata": {},
     "output_type": "execute_result"
    }
   ],
   "source": [
    "data_mapping[\"Rent Apartment\"].columns"
   ]
  },
  {
   "cell_type": "code",
   "execution_count": 4,
   "metadata": {},
   "outputs": [
    {
     "name": "stdout",
     "output_type": "stream",
     "text": [
      "residential apartment (4049, 11)\n",
      "residential apartment (2060, 11)\n",
      "independent/builder floor (1816, 11)\n",
      "independent/builder floor (642, 11)\n",
      "independent house/villa (433, 9)\n",
      "residential land (987, 4)\n"
     ]
    }
   ],
   "source": [
    "# Drop unimportant columns\n",
    "drop_cols = \"PROP_ID CITY PROP_NAME PROP_HEADING DESCRIPTION LATITUDE LONGITUDE SOCIETY_NAME BUILDING_NAME ADDRESS\"\n",
    "\n",
    "for data in data_mapping.values():\n",
    "    data.drop(columns=drop_cols.split(), errors=\"ignore\", inplace=True)\n",
    "    print(data[\"PROPERTY_TYPE\"][0], data.shape)"
   ]
  },
  {
   "cell_type": "code",
   "execution_count": 5,
   "metadata": {},
   "outputs": [
    {
     "name": "stdout",
     "output_type": "stream",
     "text": [
      "(8567, 11)\n"
     ]
    },
    {
     "data": {
      "text/plain": [
       "PRICE              0\n",
       "AREA               0\n",
       "PROPERTY_TYPE      0\n",
       "FURNISH            0\n",
       "FACING             0\n",
       "AGE                0\n",
       "BEDROOM_NUM        0\n",
       "BALCONY_NUM        0\n",
       "FLOOR_NUM          0\n",
       "LOCALITY_NAME      0\n",
       "LUXURY_CATEGORY    0\n",
       "dtype: int64"
      ]
     },
     "execution_count": 5,
     "metadata": {},
     "output_type": "execute_result"
    }
   ],
   "source": [
    "# Combine res_apartment, rent_apartment, ind_floor, rent_ind_floor\n",
    "df = pd.concat(list(data_mapping.values())[:-2])\n",
    "print(df.shape)\n",
    "df.isnull().sum()"
   ]
  },
  {
   "cell_type": "markdown",
   "metadata": {},
   "source": [
    "## Encode and Scale the datasets"
   ]
  },
  {
   "cell_type": "code",
   "execution_count": 6,
   "metadata": {},
   "outputs": [],
   "source": [
    "df[\"BEDROOM_NUM\"] = df[\"BEDROOM_NUM\"].apply(lambda x: x if x <= 5 else 99)\n",
    "df[\"BALCONY_NUM\"] = df[\"BALCONY_NUM\"].apply(lambda x: x if x <= 4 else 99)"
   ]
  },
  {
   "cell_type": "code",
   "execution_count": 7,
   "metadata": {},
   "outputs": [],
   "source": [
    "target = \"PRICE\"\n",
    "cat_cols = [\n",
    "    \"PROPERTY_TYPE\",\n",
    "    \"FURNISH\",\n",
    "    \"FACING\",\n",
    "    \"AGE\",\n",
    "    \"FLOOR_NUM\",\n",
    "    \"BEDROOM_NUM\",\n",
    "    \"BALCONY_NUM\",\n",
    "    \"LOCALITY_NAME\",\n",
    "]"
   ]
  },
  {
   "cell_type": "code",
   "execution_count": 8,
   "metadata": {},
   "outputs": [
    {
     "data": {
      "text/html": [
       "<style>#sk-container-id-1 {color: black;}#sk-container-id-1 pre{padding: 0;}#sk-container-id-1 div.sk-toggleable {background-color: white;}#sk-container-id-1 label.sk-toggleable__label {cursor: pointer;display: block;width: 100%;margin-bottom: 0;padding: 0.3em;box-sizing: border-box;text-align: center;}#sk-container-id-1 label.sk-toggleable__label-arrow:before {content: \"▸\";float: left;margin-right: 0.25em;color: #696969;}#sk-container-id-1 label.sk-toggleable__label-arrow:hover:before {color: black;}#sk-container-id-1 div.sk-estimator:hover label.sk-toggleable__label-arrow:before {color: black;}#sk-container-id-1 div.sk-toggleable__content {max-height: 0;max-width: 0;overflow: hidden;text-align: left;background-color: #f0f8ff;}#sk-container-id-1 div.sk-toggleable__content pre {margin: 0.2em;color: black;border-radius: 0.25em;background-color: #f0f8ff;}#sk-container-id-1 input.sk-toggleable__control:checked~div.sk-toggleable__content {max-height: 200px;max-width: 100%;overflow: auto;}#sk-container-id-1 input.sk-toggleable__control:checked~label.sk-toggleable__label-arrow:before {content: \"▾\";}#sk-container-id-1 div.sk-estimator input.sk-toggleable__control:checked~label.sk-toggleable__label {background-color: #d4ebff;}#sk-container-id-1 div.sk-label input.sk-toggleable__control:checked~label.sk-toggleable__label {background-color: #d4ebff;}#sk-container-id-1 input.sk-hidden--visually {border: 0;clip: rect(1px 1px 1px 1px);clip: rect(1px, 1px, 1px, 1px);height: 1px;margin: -1px;overflow: hidden;padding: 0;position: absolute;width: 1px;}#sk-container-id-1 div.sk-estimator {font-family: monospace;background-color: #f0f8ff;border: 1px dotted black;border-radius: 0.25em;box-sizing: border-box;margin-bottom: 0.5em;}#sk-container-id-1 div.sk-estimator:hover {background-color: #d4ebff;}#sk-container-id-1 div.sk-parallel-item::after {content: \"\";width: 100%;border-bottom: 1px solid gray;flex-grow: 1;}#sk-container-id-1 div.sk-label:hover label.sk-toggleable__label {background-color: #d4ebff;}#sk-container-id-1 div.sk-serial::before {content: \"\";position: absolute;border-left: 1px solid gray;box-sizing: border-box;top: 0;bottom: 0;left: 50%;z-index: 0;}#sk-container-id-1 div.sk-serial {display: flex;flex-direction: column;align-items: center;background-color: white;padding-right: 0.2em;padding-left: 0.2em;position: relative;}#sk-container-id-1 div.sk-item {position: relative;z-index: 1;}#sk-container-id-1 div.sk-parallel {display: flex;align-items: stretch;justify-content: center;background-color: white;position: relative;}#sk-container-id-1 div.sk-item::before, #sk-container-id-1 div.sk-parallel-item::before {content: \"\";position: absolute;border-left: 1px solid gray;box-sizing: border-box;top: 0;bottom: 0;left: 50%;z-index: -1;}#sk-container-id-1 div.sk-parallel-item {display: flex;flex-direction: column;z-index: 1;position: relative;background-color: white;}#sk-container-id-1 div.sk-parallel-item:first-child::after {align-self: flex-end;width: 50%;}#sk-container-id-1 div.sk-parallel-item:last-child::after {align-self: flex-start;width: 50%;}#sk-container-id-1 div.sk-parallel-item:only-child::after {width: 0;}#sk-container-id-1 div.sk-dashed-wrapped {border: 1px dashed gray;margin: 0 0.4em 0.5em 0.4em;box-sizing: border-box;padding-bottom: 0.4em;background-color: white;}#sk-container-id-1 div.sk-label label {font-family: monospace;font-weight: bold;display: inline-block;line-height: 1.2em;}#sk-container-id-1 div.sk-label-container {text-align: center;}#sk-container-id-1 div.sk-container {/* jupyter's `normalize.less` sets `[hidden] { display: none; }` but bootstrap.min.css set `[hidden] { display: none !important; }` so we also need the `!important` here to be able to override the default hidden behavior on the sphinx rendered scikit-learn.org. See: https://github.com/scikit-learn/scikit-learn/issues/21755 */display: inline-block !important;position: relative;}#sk-container-id-1 div.sk-text-repr-fallback {display: none;}</style><div id=\"sk-container-id-1\" class=\"sk-top-container\"><div class=\"sk-text-repr-fallback\"><pre>Pipeline(steps=[(&#x27;encoder&#x27;,\n",
       "                 ColumnTransformer(remainder=&#x27;passthrough&#x27;,\n",
       "                                   transformers=[(&#x27;ord&#x27;, OrdinalEncoder(),\n",
       "                                                  [&#x27;PROPERTY_TYPE&#x27;, &#x27;FURNISH&#x27;,\n",
       "                                                   &#x27;FACING&#x27;, &#x27;AGE&#x27;, &#x27;FLOOR_NUM&#x27;,\n",
       "                                                   &#x27;BEDROOM_NUM&#x27;, &#x27;BALCONY_NUM&#x27;,\n",
       "                                                   &#x27;LOCALITY_NAME&#x27;])])),\n",
       "                (&#x27;scaler&#x27;, StandardScaler())])</pre><b>In a Jupyter environment, please rerun this cell to show the HTML representation or trust the notebook. <br />On GitHub, the HTML representation is unable to render, please try loading this page with nbviewer.org.</b></div><div class=\"sk-container\" hidden><div class=\"sk-item sk-dashed-wrapped\"><div class=\"sk-label-container\"><div class=\"sk-label sk-toggleable\"><input class=\"sk-toggleable__control sk-hidden--visually\" id=\"sk-estimator-id-1\" type=\"checkbox\" ><label for=\"sk-estimator-id-1\" class=\"sk-toggleable__label sk-toggleable__label-arrow\">Pipeline</label><div class=\"sk-toggleable__content\"><pre>Pipeline(steps=[(&#x27;encoder&#x27;,\n",
       "                 ColumnTransformer(remainder=&#x27;passthrough&#x27;,\n",
       "                                   transformers=[(&#x27;ord&#x27;, OrdinalEncoder(),\n",
       "                                                  [&#x27;PROPERTY_TYPE&#x27;, &#x27;FURNISH&#x27;,\n",
       "                                                   &#x27;FACING&#x27;, &#x27;AGE&#x27;, &#x27;FLOOR_NUM&#x27;,\n",
       "                                                   &#x27;BEDROOM_NUM&#x27;, &#x27;BALCONY_NUM&#x27;,\n",
       "                                                   &#x27;LOCALITY_NAME&#x27;])])),\n",
       "                (&#x27;scaler&#x27;, StandardScaler())])</pre></div></div></div><div class=\"sk-serial\"><div class=\"sk-item sk-dashed-wrapped\"><div class=\"sk-label-container\"><div class=\"sk-label sk-toggleable\"><input class=\"sk-toggleable__control sk-hidden--visually\" id=\"sk-estimator-id-2\" type=\"checkbox\" ><label for=\"sk-estimator-id-2\" class=\"sk-toggleable__label sk-toggleable__label-arrow\">encoder: ColumnTransformer</label><div class=\"sk-toggleable__content\"><pre>ColumnTransformer(remainder=&#x27;passthrough&#x27;,\n",
       "                  transformers=[(&#x27;ord&#x27;, OrdinalEncoder(),\n",
       "                                 [&#x27;PROPERTY_TYPE&#x27;, &#x27;FURNISH&#x27;, &#x27;FACING&#x27;, &#x27;AGE&#x27;,\n",
       "                                  &#x27;FLOOR_NUM&#x27;, &#x27;BEDROOM_NUM&#x27;, &#x27;BALCONY_NUM&#x27;,\n",
       "                                  &#x27;LOCALITY_NAME&#x27;])])</pre></div></div></div><div class=\"sk-parallel\"><div class=\"sk-parallel-item\"><div class=\"sk-item\"><div class=\"sk-label-container\"><div class=\"sk-label sk-toggleable\"><input class=\"sk-toggleable__control sk-hidden--visually\" id=\"sk-estimator-id-3\" type=\"checkbox\" ><label for=\"sk-estimator-id-3\" class=\"sk-toggleable__label sk-toggleable__label-arrow\">ord</label><div class=\"sk-toggleable__content\"><pre>[&#x27;PROPERTY_TYPE&#x27;, &#x27;FURNISH&#x27;, &#x27;FACING&#x27;, &#x27;AGE&#x27;, &#x27;FLOOR_NUM&#x27;, &#x27;BEDROOM_NUM&#x27;, &#x27;BALCONY_NUM&#x27;, &#x27;LOCALITY_NAME&#x27;]</pre></div></div></div><div class=\"sk-serial\"><div class=\"sk-item\"><div class=\"sk-estimator sk-toggleable\"><input class=\"sk-toggleable__control sk-hidden--visually\" id=\"sk-estimator-id-4\" type=\"checkbox\" ><label for=\"sk-estimator-id-4\" class=\"sk-toggleable__label sk-toggleable__label-arrow\">OrdinalEncoder</label><div class=\"sk-toggleable__content\"><pre>OrdinalEncoder()</pre></div></div></div></div></div></div><div class=\"sk-parallel-item\"><div class=\"sk-item\"><div class=\"sk-label-container\"><div class=\"sk-label sk-toggleable\"><input class=\"sk-toggleable__control sk-hidden--visually\" id=\"sk-estimator-id-5\" type=\"checkbox\" ><label for=\"sk-estimator-id-5\" class=\"sk-toggleable__label sk-toggleable__label-arrow\">remainder</label><div class=\"sk-toggleable__content\"><pre></pre></div></div></div><div class=\"sk-serial\"><div class=\"sk-item\"><div class=\"sk-estimator sk-toggleable\"><input class=\"sk-toggleable__control sk-hidden--visually\" id=\"sk-estimator-id-6\" type=\"checkbox\" ><label for=\"sk-estimator-id-6\" class=\"sk-toggleable__label sk-toggleable__label-arrow\">passthrough</label><div class=\"sk-toggleable__content\"><pre>passthrough</pre></div></div></div></div></div></div></div></div><div class=\"sk-item\"><div class=\"sk-estimator sk-toggleable\"><input class=\"sk-toggleable__control sk-hidden--visually\" id=\"sk-estimator-id-7\" type=\"checkbox\" ><label for=\"sk-estimator-id-7\" class=\"sk-toggleable__label sk-toggleable__label-arrow\">StandardScaler</label><div class=\"sk-toggleable__content\"><pre>StandardScaler()</pre></div></div></div></div></div></div></div>"
      ],
      "text/plain": [
       "Pipeline(steps=[('encoder',\n",
       "                 ColumnTransformer(remainder='passthrough',\n",
       "                                   transformers=[('ord', OrdinalEncoder(),\n",
       "                                                  ['PROPERTY_TYPE', 'FURNISH',\n",
       "                                                   'FACING', 'AGE', 'FLOOR_NUM',\n",
       "                                                   'BEDROOM_NUM', 'BALCONY_NUM',\n",
       "                                                   'LOCALITY_NAME'])])),\n",
       "                ('scaler', StandardScaler())])"
      ]
     },
     "execution_count": 8,
     "metadata": {},
     "output_type": "execute_result"
    }
   ],
   "source": [
    "encoder = ColumnTransformer(\n",
    "    transformers=[\n",
    "        (\"ord\", OrdinalEncoder(), cat_cols),\n",
    "    ],\n",
    "    remainder=\"passthrough\",\n",
    ")\n",
    "\n",
    "transformer = Pipeline(\n",
    "    steps=[\n",
    "        (\"encoder\", encoder),\n",
    "        (\"scaler\", StandardScaler()),\n",
    "    ]\n",
    ")\n",
    "\n",
    "transformer"
   ]
  },
  {
   "cell_type": "code",
   "execution_count": 9,
   "metadata": {},
   "outputs": [
    {
     "data": {
      "text/plain": [
       "((6853, 10), (1714, 10))"
      ]
     },
     "execution_count": 9,
     "metadata": {},
     "output_type": "execute_result"
    }
   ],
   "source": [
    "# train_test_split\n",
    "X = pd.DataFrame(\n",
    "    transformer.fit_transform(df.drop(columns=[target])),\n",
    "    columns=[i.split(\"__\")[-1] for i in transformer.get_feature_names_out()],\n",
    ")\n",
    "y = pd.Series(np.log1p(df[target]), name=target).reset_index(drop=True)\n",
    "\n",
    "X_train, X_test, y_train, y_test = train_test_split(X, y, test_size=0.2, random_state=42)\n",
    "X_train.shape, X_test.shape"
   ]
  },
  {
   "cell_type": "code",
   "execution_count": 10,
   "metadata": {},
   "outputs": [
    {
     "name": "stdout",
     "output_type": "stream",
     "text": [
      "<class 'pandas.core.frame.DataFrame'>\n",
      "Index: 6853 entries, 3620 to 7270\n",
      "Data columns (total 10 columns):\n",
      " #   Column           Non-Null Count  Dtype  \n",
      "---  ------           --------------  -----  \n",
      " 0   PROPERTY_TYPE    6853 non-null   float64\n",
      " 1   FURNISH          6853 non-null   float64\n",
      " 2   FACING           6853 non-null   float64\n",
      " 3   AGE              6853 non-null   float64\n",
      " 4   FLOOR_NUM        6853 non-null   float64\n",
      " 5   BEDROOM_NUM      6853 non-null   float64\n",
      " 6   BALCONY_NUM      6853 non-null   float64\n",
      " 7   LOCALITY_NAME    6853 non-null   float64\n",
      " 8   AREA             6853 non-null   float64\n",
      " 9   LUXURY_CATEGORY  6853 non-null   float64\n",
      "dtypes: float64(10)\n",
      "memory usage: 588.9 KB\n"
     ]
    }
   ],
   "source": [
    "X_train.info()"
   ]
  },
  {
   "cell_type": "markdown",
   "metadata": {},
   "source": [
    "# Calculate Features Importances"
   ]
  },
  {
   "cell_type": "code",
   "execution_count": 11,
   "metadata": {},
   "outputs": [],
   "source": [
    "features_imps = {}"
   ]
  },
  {
   "cell_type": "markdown",
   "metadata": {},
   "source": [
    "### 1. Co-relation"
   ]
  },
  {
   "cell_type": "code",
   "execution_count": 12,
   "metadata": {},
   "outputs": [
    {
     "data": {
      "text/plain": [
       "<Axes: >"
      ]
     },
     "execution_count": 12,
     "metadata": {},
     "output_type": "execute_result"
    },
    {
     "data": {
      "image/png": "[encoded data removed]",
      "text/plain": [
       "<Figure size 1200x500 with 2 Axes>"
      ]
     },
     "metadata": {},
     "output_type": "display_data"
    }
   ],
   "source": [
    "corr = pd.concat([X, y.to_frame()], axis=1).corr()\n",
    "\n",
    "plt.figure(figsize=(12, 5))\n",
    "sns.heatmap(corr, annot=True, fmt=\".2f\")"
   ]
  },
  {
   "cell_type": "code",
   "execution_count": 13,
   "metadata": {},
   "outputs": [],
   "source": [
    "features_imps.update({\"corr\": corr[\"PRICE\"].to_dict()})"
   ]
  },
  {
   "cell_type": "markdown",
   "metadata": {},
   "source": [
    "### 2. RandomForest"
   ]
  },
  {
   "cell_type": "code",
   "execution_count": 14,
   "metadata": {},
   "outputs": [
    {
     "data": {
      "text/html": [
       "<style>#sk-container-id-2 {color: black;}#sk-container-id-2 pre{padding: 0;}#sk-container-id-2 div.sk-toggleable {background-color: white;}#sk-container-id-2 label.sk-toggleable__label {cursor: pointer;display: block;width: 100%;margin-bottom: 0;padding: 0.3em;box-sizing: border-box;text-align: center;}#sk-container-id-2 label.sk-toggleable__label-arrow:before {content: \"▸\";float: left;margin-right: 0.25em;color: #696969;}#sk-container-id-2 label.sk-toggleable__label-arrow:hover:before {color: black;}#sk-container-id-2 div.sk-estimator:hover label.sk-toggleable__label-arrow:before {color: black;}#sk-container-id-2 div.sk-toggleable__content {max-height: 0;max-width: 0;overflow: hidden;text-align: left;background-color: #f0f8ff;}#sk-container-id-2 div.sk-toggleable__content pre {margin: 0.2em;color: black;border-radius: 0.25em;background-color: #f0f8ff;}#sk-container-id-2 input.sk-toggleable__control:checked~div.sk-toggleable__content {max-height: 200px;max-width: 100%;overflow: auto;}#sk-container-id-2 input.sk-toggleable__control:checked~label.sk-toggleable__label-arrow:before {content: \"▾\";}#sk-container-id-2 div.sk-estimator input.sk-toggleable__control:checked~label.sk-toggleable__label {background-color: #d4ebff;}#sk-container-id-2 div.sk-label input.sk-toggleable__control:checked~label.sk-toggleable__label {background-color: #d4ebff;}#sk-container-id-2 input.sk-hidden--visually {border: 0;clip: rect(1px 1px 1px 1px);clip: rect(1px, 1px, 1px, 1px);height: 1px;margin: -1px;overflow: hidden;padding: 0;position: absolute;width: 1px;}#sk-container-id-2 div.sk-estimator {font-family: monospace;background-color: #f0f8ff;border: 1px dotted black;border-radius: 0.25em;box-sizing: border-box;margin-bottom: 0.5em;}#sk-container-id-2 div.sk-estimator:hover {background-color: #d4ebff;}#sk-container-id-2 div.sk-parallel-item::after {content: \"\";width: 100%;border-bottom: 1px solid gray;flex-grow: 1;}#sk-container-id-2 div.sk-label:hover label.sk-toggleable__label {background-color: #d4ebff;}#sk-container-id-2 div.sk-serial::before {content: \"\";position: absolute;border-left: 1px solid gray;box-sizing: border-box;top: 0;bottom: 0;left: 50%;z-index: 0;}#sk-container-id-2 div.sk-serial {display: flex;flex-direction: column;align-items: center;background-color: white;padding-right: 0.2em;padding-left: 0.2em;position: relative;}#sk-container-id-2 div.sk-item {position: relative;z-index: 1;}#sk-container-id-2 div.sk-parallel {display: flex;align-items: stretch;justify-content: center;background-color: white;position: relative;}#sk-container-id-2 div.sk-item::before, #sk-container-id-2 div.sk-parallel-item::before {content: \"\";position: absolute;border-left: 1px solid gray;box-sizing: border-box;top: 0;bottom: 0;left: 50%;z-index: -1;}#sk-container-id-2 div.sk-parallel-item {display: flex;flex-direction: column;z-index: 1;position: relative;background-color: white;}#sk-container-id-2 div.sk-parallel-item:first-child::after {align-self: flex-end;width: 50%;}#sk-container-id-2 div.sk-parallel-item:last-child::after {align-self: flex-start;width: 50%;}#sk-container-id-2 div.sk-parallel-item:only-child::after {width: 0;}#sk-container-id-2 div.sk-dashed-wrapped {border: 1px dashed gray;margin: 0 0.4em 0.5em 0.4em;box-sizing: border-box;padding-bottom: 0.4em;background-color: white;}#sk-container-id-2 div.sk-label label {font-family: monospace;font-weight: bold;display: inline-block;line-height: 1.2em;}#sk-container-id-2 div.sk-label-container {text-align: center;}#sk-container-id-2 div.sk-container {/* jupyter's `normalize.less` sets `[hidden] { display: none; }` but bootstrap.min.css set `[hidden] { display: none !important; }` so we also need the `!important` here to be able to override the default hidden behavior on the sphinx rendered scikit-learn.org. See: https://github.com/scikit-learn/scikit-learn/issues/21755 */display: inline-block !important;position: relative;}#sk-container-id-2 div.sk-text-repr-fallback {display: none;}</style><div id=\"sk-container-id-2\" class=\"sk-top-container\"><div class=\"sk-text-repr-fallback\"><pre>RandomForestRegressor(random_state=42)</pre><b>In a Jupyter environment, please rerun this cell to show the HTML representation or trust the notebook. <br />On GitHub, the HTML representation is unable to render, please try loading this page with nbviewer.org.</b></div><div class=\"sk-container\" hidden><div class=\"sk-item\"><div class=\"sk-estimator sk-toggleable\"><input class=\"sk-toggleable__control sk-hidden--visually\" id=\"sk-estimator-id-8\" type=\"checkbox\" checked><label for=\"sk-estimator-id-8\" class=\"sk-toggleable__label sk-toggleable__label-arrow\">RandomForestRegressor</label><div class=\"sk-toggleable__content\"><pre>RandomForestRegressor(random_state=42)</pre></div></div></div></div></div>"
      ],
      "text/plain": [
       "RandomForestRegressor(random_state=42)"
      ]
     },
     "execution_count": 14,
     "metadata": {},
     "output_type": "execute_result"
    }
   ],
   "source": [
    "rf = RandomForestRegressor(random_state=42)\n",
    "rf.fit(X, y)"
   ]
  },
  {
   "cell_type": "code",
   "execution_count": 15,
   "metadata": {},
   "outputs": [
    {
     "data": {
      "text/plain": [
       "{'RandomForestRegressor': {'PROPERTY_TYPE': 0.049817016151245654,\n",
       "  'FURNISH': 0.04761845426239186,\n",
       "  'FACING': 0.09332592612221594,\n",
       "  'AGE': 0.10855751885355705,\n",
       "  'FLOOR_NUM': 0.051152203804522865,\n",
       "  'BEDROOM_NUM': 0.04009048923062638,\n",
       "  'BALCONY_NUM': 0.06317205235375467,\n",
       "  'LOCALITY_NAME': 0.19798700127812188,\n",
       "  'AREA': 0.3082416906870465,\n",
       "  'LUXURY_CATEGORY': 0.04003764725651729}}"
      ]
     },
     "execution_count": 15,
     "metadata": {},
     "output_type": "execute_result"
    }
   ],
   "source": [
    "imps = {rf.__class__.__name__: dict(zip(X.columns, rf.feature_importances_))}\n",
    "features_imps.update(imps)\n",
    "imps"
   ]
  },
  {
   "cell_type": "markdown",
   "metadata": {},
   "source": [
    "### 3. Permutaion Importance"
   ]
  },
  {
   "cell_type": "code",
   "execution_count": 16,
   "metadata": {},
   "outputs": [],
   "source": [
    "rf = RandomForestRegressor(n_estimators=100, random_state=42)\n",
    "rf.fit(X_train, y_train)\n",
    "\n",
    "permutation_imp = permutation_importance(rf, X_test, y_test, n_repeats=30, random_state=42)"
   ]
  },
  {
   "cell_type": "code",
   "execution_count": 17,
   "metadata": {},
   "outputs": [
    {
     "data": {
      "text/plain": [
       "{'permutation_importance': {'PROPERTY_TYPE': 0.06832346108705405,\n",
       "  'FURNISH': 0.12975433334361097,\n",
       "  'FACING': 0.047125228993813405,\n",
       "  'AGE': 0.1392532092196376,\n",
       "  'FLOOR_NUM': 0.0024509808704813157,\n",
       "  'BEDROOM_NUM': 0.05654643709364578,\n",
       "  'BALCONY_NUM': 0.009653163252302806,\n",
       "  'LOCALITY_NAME': 0.0761542066541892,\n",
       "  'AREA': 0.1410124237709758,\n",
       "  'LUXURY_CATEGORY': 0.024161154118647644}}"
      ]
     },
     "execution_count": 17,
     "metadata": {},
     "output_type": "execute_result"
    }
   ],
   "source": [
    "imps = {\"permutation_importance\": dict(zip(X.columns, permutation_imp[\"importances_mean\"]))}\n",
    "features_imps.update(imps)\n",
    "imps"
   ]
  },
  {
   "cell_type": "markdown",
   "metadata": {},
   "source": [
    "### 4. Linear Models: **LinearRegression · Ridge · Lasso**"
   ]
  },
  {
   "cell_type": "code",
   "execution_count": 18,
   "metadata": {},
   "outputs": [
    {
     "name": "stdout",
     "output_type": "stream",
     "text": [
      "{'LinearRegression': {'PROPERTY_TYPE': 0.050357360988047994, 'FURNISH': 0.5043109753604892, 'FACING': 0.11442821435849673, 'AGE': 0.299457587156514, 'FLOOR_NUM': -0.18188114855236676, 'BEDROOM_NUM': 0.4691413709947442, 'BALCONY_NUM': 0.02296667434807708, 'LOCALITY_NAME': -0.004607267646748476, 'AREA': 0.27987383994712617, 'LUXURY_CATEGORY': 0.17425733660114334}}\n",
      "\n",
      "{'Lasso': {'PROPERTY_TYPE': 0.04192877396874351, 'FURNISH': 0.4956304089804148, 'FACING': 0.10413159738703198, 'AGE': 0.29236473623310033, 'FLOOR_NUM': -0.1736861744109439, 'BEDROOM_NUM': 0.46260561240219805, 'BALCONY_NUM': 0.020991324115037804, 'LOCALITY_NAME': -0.0, 'AREA': 0.27502863509667347, 'LUXURY_CATEGORY': 0.16800164500701154}}\n",
      "\n",
      "{'Ridge': {'PROPERTY_TYPE': 0.050346493135028585, 'FURNISH': 0.5042509389707095, 'FACING': 0.11441904715435998, 'AGE': 0.29942639450878106, 'FLOOR_NUM': -0.18186391282982584, 'BEDROOM_NUM': 0.4690692140352606, 'BALCONY_NUM': 0.022999896452164284, 'LOCALITY_NAME': -0.004611489143073282, 'AREA': 0.2798757365621502, 'LUXURY_CATEGORY': 0.1742441938133043}}\n",
      "\n"
     ]
    }
   ],
   "source": [
    "for i in (LinearRegression(), Lasso(alpha=0.01, random_state=42), Ridge()):\n",
    "    i.fit(X, y)\n",
    "    imps = {i.__class__.__name__: dict(zip(X.columns, i.coef_))}\n",
    "\n",
    "    print(imps, end=\"\\n\\n\")\n",
    "    features_imps.update(imps)"
   ]
  },
  {
   "cell_type": "markdown",
   "metadata": {},
   "source": [
    "### 5. RFE"
   ]
  },
  {
   "cell_type": "code",
   "execution_count": 19,
   "metadata": {},
   "outputs": [],
   "source": [
    "# Apply RFE on the label-encoded and standardized training data\n",
    "rfe = RFE(RandomForestRegressor(), n_features_to_select=X.shape[1], step=1)\n",
    "rfe = rfe.fit(X, y)"
   ]
  },
  {
   "cell_type": "code",
   "execution_count": 20,
   "metadata": {},
   "outputs": [
    {
     "data": {
      "text/plain": [
       "Index(['PROPERTY_TYPE', 'FURNISH', 'FACING', 'AGE', 'FLOOR_NUM', 'BEDROOM_NUM',\n",
       "       'BALCONY_NUM', 'LOCALITY_NAME', 'AREA', 'LUXURY_CATEGORY'],\n",
       "      dtype='object')"
      ]
     },
     "execution_count": 20,
     "metadata": {},
     "output_type": "execute_result"
    }
   ],
   "source": [
    "# Get the selected features based on RFE\n",
    "selected_features = X.columns[rfe.support_]\n",
    "selected_features"
   ]
  },
  {
   "cell_type": "code",
   "execution_count": 21,
   "metadata": {},
   "outputs": [
    {
     "data": {
      "text/plain": [
       "array([0.04935382, 0.04776999, 0.09313848, 0.10817264, 0.05104782,\n",
       "       0.04209303, 0.06423547, 0.19680683, 0.30769031, 0.03969161])"
      ]
     },
     "execution_count": 21,
     "metadata": {},
     "output_type": "execute_result"
    }
   ],
   "source": [
    "# Extract the coefficients for the selected features from the underlying linear regression model\n",
    "selected_coefs = rfe.estimator_.feature_importances_  # type: ignore\n",
    "selected_coefs"
   ]
  },
  {
   "cell_type": "code",
   "execution_count": 22,
   "metadata": {},
   "outputs": [
    {
     "data": {
      "text/plain": [
       "{'RFE': {'PROPERTY_TYPE': 0.049353821635028286,\n",
       "  'FURNISH': 0.047769988827185285,\n",
       "  'FACING': 0.09313848266647358,\n",
       "  'AGE': 0.1081726419467593,\n",
       "  'FLOOR_NUM': 0.05104781724170913,\n",
       "  'BEDROOM_NUM': 0.04209303186906327,\n",
       "  'BALCONY_NUM': 0.06423547254772913,\n",
       "  'LOCALITY_NAME': 0.1968068255233831,\n",
       "  'AREA': 0.30769030807498665,\n",
       "  'LUXURY_CATEGORY': 0.03969160966768233}}"
      ]
     },
     "execution_count": 22,
     "metadata": {},
     "output_type": "execute_result"
    }
   ],
   "source": [
    "imps = {\"RFE\": dict(zip(selected_features, selected_coefs))}\n",
    "features_imps.update(imps)\n",
    "imps"
   ]
  },
  {
   "cell_type": "markdown",
   "metadata": {},
   "source": [
    "## Merge Importances"
   ]
  },
  {
   "cell_type": "code",
   "execution_count": 23,
   "metadata": {},
   "outputs": [
    {
     "data": {
      "text/html": [
       "<div>\n",
       "<style scoped>\n",
       "    .dataframe tbody tr th:only-of-type {\n",
       "        vertical-align: middle;\n",
       "    }\n",
       "\n",
       "    .dataframe tbody tr th {\n",
       "        vertical-align: top;\n",
       "    }\n",
       "\n",
       "    .dataframe thead th {\n",
       "        text-align: right;\n",
       "    }\n",
       "</style>\n",
       "<table border=\"1\" class=\"dataframe\">\n",
       "  <thead>\n",
       "    <tr style=\"text-align: right;\">\n",
       "      <th></th>\n",
       "      <th>corr</th>\n",
       "      <th>RandomForestRegressor</th>\n",
       "      <th>permutation_importance</th>\n",
       "      <th>LinearRegression</th>\n",
       "      <th>Lasso</th>\n",
       "      <th>Ridge</th>\n",
       "      <th>RFE</th>\n",
       "    </tr>\n",
       "  </thead>\n",
       "  <tbody>\n",
       "    <tr>\n",
       "      <th>AGE</th>\n",
       "      <td>0.125655</td>\n",
       "      <td>0.108558</td>\n",
       "      <td>0.139253</td>\n",
       "      <td>0.299458</td>\n",
       "      <td>0.292365</td>\n",
       "      <td>0.299426</td>\n",
       "      <td>0.108173</td>\n",
       "    </tr>\n",
       "    <tr>\n",
       "      <th>AREA</th>\n",
       "      <td>0.204403</td>\n",
       "      <td>0.308242</td>\n",
       "      <td>0.141012</td>\n",
       "      <td>0.279874</td>\n",
       "      <td>0.275029</td>\n",
       "      <td>0.279876</td>\n",
       "      <td>0.307690</td>\n",
       "    </tr>\n",
       "    <tr>\n",
       "      <th>BALCONY_NUM</th>\n",
       "      <td>0.129675</td>\n",
       "      <td>0.063172</td>\n",
       "      <td>0.009653</td>\n",
       "      <td>0.022967</td>\n",
       "      <td>0.020991</td>\n",
       "      <td>0.023000</td>\n",
       "      <td>0.064235</td>\n",
       "    </tr>\n",
       "    <tr>\n",
       "      <th>BEDROOM_NUM</th>\n",
       "      <td>0.225363</td>\n",
       "      <td>0.040090</td>\n",
       "      <td>0.056546</td>\n",
       "      <td>0.469141</td>\n",
       "      <td>0.462606</td>\n",
       "      <td>0.469069</td>\n",
       "      <td>0.042093</td>\n",
       "    </tr>\n",
       "    <tr>\n",
       "      <th>FACING</th>\n",
       "      <td>0.047327</td>\n",
       "      <td>0.093326</td>\n",
       "      <td>0.047125</td>\n",
       "      <td>0.114428</td>\n",
       "      <td>0.104132</td>\n",
       "      <td>0.114419</td>\n",
       "      <td>0.093138</td>\n",
       "    </tr>\n",
       "    <tr>\n",
       "      <th>FLOOR_NUM</th>\n",
       "      <td>-0.090057</td>\n",
       "      <td>0.051152</td>\n",
       "      <td>0.002451</td>\n",
       "      <td>-0.181881</td>\n",
       "      <td>-0.173686</td>\n",
       "      <td>-0.181864</td>\n",
       "      <td>0.051048</td>\n",
       "    </tr>\n",
       "    <tr>\n",
       "      <th>FURNISH</th>\n",
       "      <td>0.174389</td>\n",
       "      <td>0.047618</td>\n",
       "      <td>0.129754</td>\n",
       "      <td>0.504311</td>\n",
       "      <td>0.495630</td>\n",
       "      <td>0.504251</td>\n",
       "      <td>0.047770</td>\n",
       "    </tr>\n",
       "    <tr>\n",
       "      <th>LOCALITY_NAME</th>\n",
       "      <td>-0.016763</td>\n",
       "      <td>0.197987</td>\n",
       "      <td>0.076154</td>\n",
       "      <td>-0.004607</td>\n",
       "      <td>-0.000000</td>\n",
       "      <td>-0.004611</td>\n",
       "      <td>0.196807</td>\n",
       "    </tr>\n",
       "    <tr>\n",
       "      <th>LUXURY_CATEGORY</th>\n",
       "      <td>0.101934</td>\n",
       "      <td>0.040038</td>\n",
       "      <td>0.024161</td>\n",
       "      <td>0.174257</td>\n",
       "      <td>0.168002</td>\n",
       "      <td>0.174244</td>\n",
       "      <td>0.039692</td>\n",
       "    </tr>\n",
       "    <tr>\n",
       "      <th>PROPERTY_TYPE</th>\n",
       "      <td>0.035870</td>\n",
       "      <td>0.049817</td>\n",
       "      <td>0.068323</td>\n",
       "      <td>0.050357</td>\n",
       "      <td>0.041929</td>\n",
       "      <td>0.050346</td>\n",
       "      <td>0.049354</td>\n",
       "    </tr>\n",
       "  </tbody>\n",
       "</table>\n",
       "</div>"
      ],
      "text/plain": [
       "                     corr  RandomForestRegressor  permutation_importance  \\\n",
       "AGE              0.125655               0.108558                0.139253   \n",
       "AREA             0.204403               0.308242                0.141012   \n",
       "BALCONY_NUM      0.129675               0.063172                0.009653   \n",
       "BEDROOM_NUM      0.225363               0.040090                0.056546   \n",
       "FACING           0.047327               0.093326                0.047125   \n",
       "FLOOR_NUM       -0.090057               0.051152                0.002451   \n",
       "FURNISH          0.174389               0.047618                0.129754   \n",
       "LOCALITY_NAME   -0.016763               0.197987                0.076154   \n",
       "LUXURY_CATEGORY  0.101934               0.040038                0.024161   \n",
       "PROPERTY_TYPE    0.035870               0.049817                0.068323   \n",
       "\n",
       "                 LinearRegression     Lasso     Ridge       RFE  \n",
       "AGE                      0.299458  0.292365  0.299426  0.108173  \n",
       "AREA                     0.279874  0.275029  0.279876  0.307690  \n",
       "BALCONY_NUM              0.022967  0.020991  0.023000  0.064235  \n",
       "BEDROOM_NUM              0.469141  0.462606  0.469069  0.042093  \n",
       "FACING                   0.114428  0.104132  0.114419  0.093138  \n",
       "FLOOR_NUM               -0.181881 -0.173686 -0.181864  0.051048  \n",
       "FURNISH                  0.504311  0.495630  0.504251  0.047770  \n",
       "LOCALITY_NAME           -0.004607 -0.000000 -0.004611  0.196807  \n",
       "LUXURY_CATEGORY          0.174257  0.168002  0.174244  0.039692  \n",
       "PROPERTY_TYPE            0.050357  0.041929  0.050346  0.049354  "
      ]
     },
     "execution_count": 23,
     "metadata": {},
     "output_type": "execute_result"
    }
   ],
   "source": [
    "imps_df = pd.DataFrame.from_dict(features_imps).drop(index=[target]).sort_index()\n",
    "imps_df"
   ]
  },
  {
   "cell_type": "code",
   "execution_count": 24,
   "metadata": {},
   "outputs": [
    {
     "data": {
      "text/html": [
       "<div>\n",
       "<style scoped>\n",
       "    .dataframe tbody tr th:only-of-type {\n",
       "        vertical-align: middle;\n",
       "    }\n",
       "\n",
       "    .dataframe tbody tr th {\n",
       "        vertical-align: top;\n",
       "    }\n",
       "\n",
       "    .dataframe thead th {\n",
       "        text-align: right;\n",
       "    }\n",
       "</style>\n",
       "<table border=\"1\" class=\"dataframe\">\n",
       "  <thead>\n",
       "    <tr style=\"text-align: right;\">\n",
       "      <th></th>\n",
       "      <th>corr</th>\n",
       "      <th>RandomForestRegressor</th>\n",
       "      <th>permutation_importance</th>\n",
       "      <th>LinearRegression</th>\n",
       "      <th>Lasso</th>\n",
       "      <th>Ridge</th>\n",
       "      <th>RFE</th>\n",
       "    </tr>\n",
       "  </thead>\n",
       "  <tbody>\n",
       "    <tr>\n",
       "      <th>AGE</th>\n",
       "      <td>0.133990</td>\n",
       "      <td>0.108558</td>\n",
       "      <td>0.200527</td>\n",
       "      <td>0.173267</td>\n",
       "      <td>0.173305</td>\n",
       "      <td>0.173263</td>\n",
       "      <td>0.108173</td>\n",
       "    </tr>\n",
       "    <tr>\n",
       "      <th>AREA</th>\n",
       "      <td>0.217962</td>\n",
       "      <td>0.308242</td>\n",
       "      <td>0.203061</td>\n",
       "      <td>0.161935</td>\n",
       "      <td>0.163029</td>\n",
       "      <td>0.161950</td>\n",
       "      <td>0.307690</td>\n",
       "    </tr>\n",
       "    <tr>\n",
       "      <th>BALCONY_NUM</th>\n",
       "      <td>0.138276</td>\n",
       "      <td>0.063172</td>\n",
       "      <td>0.013901</td>\n",
       "      <td>0.013289</td>\n",
       "      <td>0.012443</td>\n",
       "      <td>0.013309</td>\n",
       "      <td>0.064235</td>\n",
       "    </tr>\n",
       "    <tr>\n",
       "      <th>BEDROOM_NUM</th>\n",
       "      <td>0.240311</td>\n",
       "      <td>0.040090</td>\n",
       "      <td>0.081428</td>\n",
       "      <td>0.271446</td>\n",
       "      <td>0.274218</td>\n",
       "      <td>0.271428</td>\n",
       "      <td>0.042093</td>\n",
       "    </tr>\n",
       "    <tr>\n",
       "      <th>FACING</th>\n",
       "      <td>0.050466</td>\n",
       "      <td>0.093326</td>\n",
       "      <td>0.067861</td>\n",
       "      <td>0.066208</td>\n",
       "      <td>0.061726</td>\n",
       "      <td>0.066209</td>\n",
       "      <td>0.093138</td>\n",
       "    </tr>\n",
       "    <tr>\n",
       "      <th>FLOOR_NUM</th>\n",
       "      <td>-0.096030</td>\n",
       "      <td>0.051152</td>\n",
       "      <td>0.003529</td>\n",
       "      <td>-0.105237</td>\n",
       "      <td>-0.102956</td>\n",
       "      <td>-0.105236</td>\n",
       "      <td>0.051048</td>\n",
       "    </tr>\n",
       "    <tr>\n",
       "      <th>FURNISH</th>\n",
       "      <td>0.185956</td>\n",
       "      <td>0.047618</td>\n",
       "      <td>0.186849</td>\n",
       "      <td>0.291795</td>\n",
       "      <td>0.293795</td>\n",
       "      <td>0.291785</td>\n",
       "      <td>0.047770</td>\n",
       "    </tr>\n",
       "    <tr>\n",
       "      <th>LOCALITY_NAME</th>\n",
       "      <td>-0.017875</td>\n",
       "      <td>0.197987</td>\n",
       "      <td>0.109664</td>\n",
       "      <td>-0.002666</td>\n",
       "      <td>-0.000000</td>\n",
       "      <td>-0.002668</td>\n",
       "      <td>0.196807</td>\n",
       "    </tr>\n",
       "    <tr>\n",
       "      <th>LUXURY_CATEGORY</th>\n",
       "      <td>0.108696</td>\n",
       "      <td>0.040038</td>\n",
       "      <td>0.034793</td>\n",
       "      <td>0.100826</td>\n",
       "      <td>0.099586</td>\n",
       "      <td>0.100827</td>\n",
       "      <td>0.039692</td>\n",
       "    </tr>\n",
       "    <tr>\n",
       "      <th>PROPERTY_TYPE</th>\n",
       "      <td>0.038249</td>\n",
       "      <td>0.049817</td>\n",
       "      <td>0.098387</td>\n",
       "      <td>0.029137</td>\n",
       "      <td>0.024854</td>\n",
       "      <td>0.029133</td>\n",
       "      <td>0.049354</td>\n",
       "    </tr>\n",
       "  </tbody>\n",
       "</table>\n",
       "</div>"
      ],
      "text/plain": [
       "                     corr  RandomForestRegressor  permutation_importance  \\\n",
       "AGE              0.133990               0.108558                0.200527   \n",
       "AREA             0.217962               0.308242                0.203061   \n",
       "BALCONY_NUM      0.138276               0.063172                0.013901   \n",
       "BEDROOM_NUM      0.240311               0.040090                0.081428   \n",
       "FACING           0.050466               0.093326                0.067861   \n",
       "FLOOR_NUM       -0.096030               0.051152                0.003529   \n",
       "FURNISH          0.185956               0.047618                0.186849   \n",
       "LOCALITY_NAME   -0.017875               0.197987                0.109664   \n",
       "LUXURY_CATEGORY  0.108696               0.040038                0.034793   \n",
       "PROPERTY_TYPE    0.038249               0.049817                0.098387   \n",
       "\n",
       "                 LinearRegression     Lasso     Ridge       RFE  \n",
       "AGE                      0.173267  0.173305  0.173263  0.108173  \n",
       "AREA                     0.161935  0.163029  0.161950  0.307690  \n",
       "BALCONY_NUM              0.013289  0.012443  0.013309  0.064235  \n",
       "BEDROOM_NUM              0.271446  0.274218  0.271428  0.042093  \n",
       "FACING                   0.066208  0.061726  0.066209  0.093138  \n",
       "FLOOR_NUM               -0.105237 -0.102956 -0.105236  0.051048  \n",
       "FURNISH                  0.291795  0.293795  0.291785  0.047770  \n",
       "LOCALITY_NAME           -0.002666 -0.000000 -0.002668  0.196807  \n",
       "LUXURY_CATEGORY          0.100826  0.099586  0.100827  0.039692  \n",
       "PROPERTY_TYPE            0.029137  0.024854  0.029133  0.049354  "
      ]
     },
     "execution_count": 24,
     "metadata": {},
     "output_type": "execute_result"
    }
   ],
   "source": [
    "# Normalize the values\n",
    "imps_df = imps_df.div(imps_df.sum(0), 1)\n",
    "imps_df"
   ]
  },
  {
   "cell_type": "code",
   "execution_count": 25,
   "metadata": {},
   "outputs": [
    {
     "data": {
      "text/plain": [
       "AREA               0.272998\n",
       "LOCALITY_NAME      0.168152\n",
       "AGE                0.139086\n",
       "FURNISH            0.094079\n",
       "FACING             0.084775\n",
       "PROPERTY_TYPE      0.065853\n",
       "BEDROOM_NUM        0.054537\n",
       "BALCONY_NUM        0.047103\n",
       "LUXURY_CATEGORY    0.038174\n",
       "FLOOR_NUM          0.035243\n",
       "dtype: float64"
      ]
     },
     "execution_count": 25,
     "metadata": {},
     "output_type": "execute_result"
    }
   ],
   "source": [
    "similar_imps_df = (\n",
    "    imps_df[[\"RFE\", \"RandomForestRegressor\", \"permutation_importance\"]]\n",
    "    .mean(1)\n",
    "    .sort_values(ascending=False)\n",
    ")\n",
    "similar_imps_df"
   ]
  },
  {
   "cell_type": "markdown",
   "metadata": {},
   "source": [
    "# Baseline Model"
   ]
  },
  {
   "cell_type": "code",
   "execution_count": 26,
   "metadata": {},
   "outputs": [],
   "source": [
    "def calc_scores(y_true, y_pred):\n",
    "    print(f\"mean_squared_error: {mean_squared_error(y_true, y_pred)}\")\n",
    "    print(f\"root_mean_squared_error: {round(np.sqrt(mean_squared_error(y_true, y_pred) / C.LAKH))} Lac\")  # type: ignore\n",
    "    print(f\"mean_absolute_error: {round(mean_absolute_error(y_true, y_pred) / C.LAKH)} Lac\")  # type: ignore"
   ]
  },
  {
   "cell_type": "code",
   "execution_count": 27,
   "metadata": {},
   "outputs": [
    {
     "data": {
      "text/plain": [
       "0.2536536752474068"
      ]
     },
     "execution_count": 27,
     "metadata": {},
     "output_type": "execute_result"
    }
   ],
   "source": [
    "rf = RandomForestRegressor(n_estimators=100, random_state=42)\n",
    "scores = cross_val_score(rf, X_train, y_train, cv=5, scoring=\"r2\")\n",
    "scores.mean()"
   ]
  },
  {
   "cell_type": "code",
   "execution_count": 28,
   "metadata": {},
   "outputs": [
    {
     "name": "stdout",
     "output_type": "stream",
     "text": [
      "mean_squared_error: 235360222505477.62\n",
      "root_mean_squared_error: 48514 Lac\n",
      "mean_absolute_error: 89 Lac\n"
     ]
    }
   ],
   "source": [
    "rf.fit(X_train, y_train)\n",
    "\n",
    "y_pred = np.expm1(rf.predict(X_test))\n",
    "calc_scores(y_test, y_pred)"
   ]
  },
  {
   "cell_type": "code",
   "execution_count": 29,
   "metadata": {},
   "outputs": [
    {
     "data": {
      "text/plain": [
       "0.23133913917093096"
      ]
     },
     "execution_count": 29,
     "metadata": {},
     "output_type": "execute_result"
    }
   ],
   "source": [
    "# After dropping worst\n",
    "worst_n = 2\n",
    "better_cols = similar_imps_df.index.tolist()[:-(worst_n)]\n",
    "\n",
    "rf = RandomForestRegressor(n_estimators=100, random_state=42)\n",
    "\n",
    "scores = cross_val_score(rf, X_train[better_cols], y_train, cv=5, scoring=\"r2\")\n",
    "scores.mean()"
   ]
  },
  {
   "cell_type": "code",
   "execution_count": 30,
   "metadata": {},
   "outputs": [
    {
     "data": {
      "text/plain": [
       "['AREA',\n",
       " 'LOCALITY_NAME',\n",
       " 'AGE',\n",
       " 'FURNISH',\n",
       " 'FACING',\n",
       " 'PROPERTY_TYPE',\n",
       " 'BEDROOM_NUM',\n",
       " 'BALCONY_NUM']"
      ]
     },
     "execution_count": 30,
     "metadata": {},
     "output_type": "execute_result"
    }
   ],
   "source": [
    "better_cols"
   ]
  },
  {
   "cell_type": "code",
   "execution_count": 31,
   "metadata": {},
   "outputs": [
    {
     "name": "stdout",
     "output_type": "stream",
     "text": [
      "mean_squared_error: 252697260109322.0\n",
      "root_mean_squared_error: 50269 Lac\n",
      "mean_absolute_error: 94 Lac\n"
     ]
    }
   ],
   "source": [
    "rf.fit(X_train[better_cols], y_train)\n",
    "\n",
    "y_pred = np.expm1(rf.predict(X_test[better_cols]))\n",
    "calc_scores(y_test, y_pred)"
   ]
  },
  {
   "cell_type": "markdown",
   "metadata": {},
   "source": [
    "## Ridge Model"
   ]
  },
  {
   "cell_type": "code",
   "execution_count": 32,
   "metadata": {},
   "outputs": [
    {
     "data": {
      "text/plain": [
       "0.11289562540063999"
      ]
     },
     "execution_count": 32,
     "metadata": {},
     "output_type": "execute_result"
    }
   ],
   "source": [
    "ridge = Ridge()\n",
    "scores = cross_val_score(ridge, X_train, y_train, cv=5, scoring=\"r2\")\n",
    "scores.mean()"
   ]
  },
  {
   "cell_type": "code",
   "execution_count": 33,
   "metadata": {},
   "outputs": [
    {
     "name": "stdout",
     "output_type": "stream",
     "text": [
      "mean_squared_error: 97765532316118.97\n",
      "root_mean_squared_error: 31267 Lac\n",
      "mean_absolute_error: 53 Lac\n"
     ]
    }
   ],
   "source": [
    "ridge.fit(X_train, y_train)\n",
    "y_pred = np.expm1(ridge.predict(X_test))\n",
    "calc_scores(y_test, y_pred)"
   ]
  },
  {
   "cell_type": "markdown",
   "metadata": {},
   "source": [
    "# Observation & Suggestions\n",
    "\n",
    "After calculating feature importances and then creating ML model by eleminating the worst features doesn't help me at all.\n",
    "\n",
    "- Although maybe I can try to encode with `OneHotEncoder` the **LOCALITY_NAME** feature and then try to improve the model scores.\n",
    "- When I did this in [notebook](./MODEL_BUILDING/res_apartment.ipynb). Certainly, I got better results than this.\n",
    "\n",
    "### 🫣 Ridge Model\n",
    "\n",
    "When I train `Ridge` model I got less **r2_score** than `RandomForest` but I got better `mean_absoluet_error` score with `Ridge` model."
   ]
  }
 ],
 "metadata": {
  "kernelspec": {
   "display_name": "Python 3",
   "language": "python",
   "name": "python3"
  },
  "language_info": {
   "codemirror_mode": {
    "name": "ipython",
    "version": 3
   },
   "file_extension": ".py",
   "mimetype": "text/x-python",
   "name": "python",
   "nbconvert_exporter": "python",
   "pygments_lexer": "ipython3",
   "version": "3.11.0"
  },
  "orig_nbformat": 4
 },
 "nbformat": 4,
 "nbformat_minor": 2
}
